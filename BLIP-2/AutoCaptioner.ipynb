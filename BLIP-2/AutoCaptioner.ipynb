{
  "cells": [
    {
      "cell_type": "markdown",
      "metadata": {
        "colab_type": "text",
        "id": "view-in-github"
      },
      "source": [
        "<a href=\"https://colab.research.google.com/github/steinhaug/stable-diffusion/blob/main/BLIP-2/AutoCaptioner.ipynb\" target=\"_parent\"><img src=\"https://colab.research.google.com/assets/colab-badge.svg\" alt=\"Open In Colab\"/></a>"
      ]
    },
    {
      "cell_type": "markdown",
      "metadata": {
        "id": "dNWNvy2xwjbE"
      },
      "source": [
        "# BLIP-2 CAPTIONING SERVICE\n",
        "\n",
        "Auto-captioning service using latest Blip-2. Requires high ram.  \n",
        "\n",
        "[![Buy me a beer](https://raw.githubusercontent.com/steinhaug/stable-diffusion/main/assets/buy-me-a-beer.png ) ](https://steinhaug.com/donate/)\n",
        "\n",
        "__NB!__  \n",
        "This Notebook is not made for \"people in a hurry\", so you need to make sure to download your imnages and make sure the inference loop is targeting your images.  \n",
        "That being said, the notebook was used by me for creating captions but ask me and I'll put together a 1,2,3 GO notebook.  "
      ]
    },
    {
      "cell_type": "code",
      "execution_count": 1,
      "metadata": {
        "colab": {
          "base_uri": "https://localhost:8080/"
        },
        "id": "5FN-Xk8REEGk",
        "outputId": "f2b3c0b7-b296-442d-80ac-fc172e438f75"
      },
      "outputs": [
        {
          "name": "stdout",
          "output_type": "stream",
          "text": [
            "Tesla V100-SXM2-16GB, 16384 MiB, 16150 MiB\n",
            "Drive already mounted at /content/drive; to attempt to forcibly remount, call drive.mount(\"/content/drive\", force_remount=True).\n"
          ]
        }
      ],
      "source": [
        "from IPython.display import clear_output\n",
        "#@title Connect runtime and mount Google Drive\n",
        "#@markdown Check type of GPU and VRAM available.\n",
        "!nvidia-smi --query-gpu=name,memory.total,memory.free --format=csv,noheader\n",
        "\n",
        "from google.colab import drive\n",
        "drive.mount('/content/drive')"
      ]
    },
    {
      "cell_type": "code",
      "execution_count": 30,
      "metadata": {
        "id": "RLswQHUNzF83"
      },
      "outputs": [],
      "source": [
        "IMAGE_FOLDERS = '/content/drive/MyDrive/datasets/metart'"
      ]
    },
    {
      "cell_type": "markdown",
      "metadata": {
        "id": "d156OILH4uHl"
      },
      "source": [
        "## Captioning pipeline"
      ]
    },
    {
      "cell_type": "code",
      "execution_count": 2,
      "metadata": {
        "colab": {
          "base_uri": "https://localhost:8080/"
        },
        "id": "6u_F-ybpBUex",
        "outputId": "765e09ac-3b4a-44c0-c454-dcb0731e1c14"
      },
      "outputs": [
        {
          "name": "stdout",
          "output_type": "stream",
          "text": [
            "[1;32mDone! ✓\n"
          ]
        }
      ],
      "source": [
        "#@markdown Install blip-2\n",
        "from IPython.display import clear_output\n",
        "import sys\n",
        "if 'google.colab' in sys.modules:\n",
        "    !pip3 install salesforce-lavis\n",
        "clear_output()\n",
        "print('[1;32mDone! ✓')"
      ]
    },
    {
      "cell_type": "code",
      "execution_count": 3,
      "metadata": {
        "cellView": "form",
        "id": "xMN2jZFABhtK"
      },
      "outputs": [],
      "source": [
        "#@markdown Init blip-2\n",
        "import torch\n",
        "from PIL import Image\n",
        "import requests\n",
        "from lavis.models import load_model_and_preprocess\n",
        "device = torch.device(\"cuda\") if torch.cuda.is_available() else \"cpu\""
      ]
    },
    {
      "cell_type": "code",
      "execution_count": null,
      "metadata": {
        "id": "7YyFmmXRBt9F"
      },
      "outputs": [],
      "source": [
        "#@title Load the blip-2 model\n",
        "model, vis_processors, _ = load_model_and_preprocess(\n",
        "    name=\"blip2_opt\", model_type=\"pretrain_opt2.7b\", is_eval=True, device=device\n",
        ")\n",
        "#model, vis_processors, _ = load_model_and_preprocess(\n",
        "#    name=\"blip2_opt\", model_type=\"caption_coco_opt2.7b\", is_eval=True, device=device\n",
        "#)\n",
        "vis_processors.keys()\n",
        "clear_output(); print('[1;32mDone! ✓')"
      ]
    },
    {
      "cell_type": "code",
      "execution_count": 48,
      "metadata": {
        "cellView": "form",
        "id": "DrbuXVgmCT1q"
      },
      "outputs": [],
      "source": [
        "#@markdown Functions\n",
        "import os; import random; import json; import time;\n",
        "from os.path import normpath, basename; import zipfile;\n",
        "\n",
        "def create_zip_from_directory(zip_filename, directory_path, use_directory_inside_zip=True):\n",
        "    if use_directory_inside_zip:\n",
        "        curr_directory = basename(normpath(directory_path))\n",
        "    with zipfile.ZipFile(zip_filename, 'w') as zip_file:\n",
        "        for root, _, files in os.walk(directory_path):\n",
        "            for file in files:\n",
        "                file_path = os.path.join(root, file)\n",
        "                archive_path = os.path.relpath(file_path, directory_path)\n",
        "                if use_directory_inside_zip:\n",
        "                    zip_file.write(file_path, os.path.join(curr_directory, archive_path))\n",
        "                else:\n",
        "                    zip_file.write(file_path, archive_path)\n",
        "    return ret_zipFileCount(zip_filename);\n",
        "\n",
        "def ret_zipFileCount(zip_filename):\n",
        "    with zipfile.ZipFile(zip_filename, 'r') as zip_file:\n",
        "        file_count = len(zip_file.namelist())\n",
        "        return file_count\n",
        "        #print(f\"Number of files in '{zip_filename}': {file_count}\")\n",
        "\n",
        "def ret_directoryFileCount(dir_path):\n",
        "    file_count = 0\n",
        "    for path in os.listdir(dir_path):\n",
        "        if os.path.isfile(os.path.join(dir_path, path)):\n",
        "            file_count += 1\n",
        "    return file_count\n",
        "\n",
        "def load_image(image_path, sizeDiv=8):\n",
        "    raw_image = Image.open(f'{image_path}').convert('RGB')\n",
        "    h, w = raw_image.size\n",
        "    display(raw_image.resize(( int(h / sizeDiv) , int(w / sizeDiv) )))\n",
        "    image = vis_processors[\"eval\"](raw_image).unsqueeze(0).to(device)\n",
        "    return image\n",
        "\n",
        "def wrap_query(query):\n",
        "    return \"Question: \" + query + \" Answer:\"\n",
        "\n",
        "def write__logfile(file, msg):\n",
        "    with open(file, 'a') as fa:\n",
        "        fa.write(msg)\n",
        "    return ''\n",
        "\n",
        "def write_the_file(path, data_string):\n",
        "    if len(str(data_string)):\n",
        "        with open(path, 'w+') as fw:\n",
        "            fw.write(str(data_string))\n",
        "    else:\n",
        "        if os.path.exists(path):\n",
        "            os.remove(path)\n",
        "    return '';\n",
        "\n",
        "def ret__longest_val(arr):\n",
        "    curr_v = ''\n",
        "    curr_x = 0\n",
        "    while arr:\n",
        "        val = arr.pop(0)\n",
        "        if len(val) >= curr_x:\n",
        "            curr_x = len(val)\n",
        "            curr_v = val\n",
        "    return curr_v\n",
        "\n",
        "def auto__get_AI_caption(IMG_SRC):\n",
        "    image = load_image(IMG_SRC)\n",
        "    cap1 = ret__longest_val( model.generate({\"image\": image}, use_nucleus_sampling=False, num_captions=4) )\n",
        "    cap2 = ret__longest_val( model.generate({\"image\": image}, use_nucleus_sampling=True, num_captions=4) )\n",
        "    cap3 = model.generate({\"image\": image, \"prompt\": wrap_query('What is out of the ordinary with this image?')}).pop(0)\n",
        "    return [cap1, cap2, cap3]\n",
        "\n",
        "def auto__create_caption(IMG_SRC, CAPTION_SRC):\n",
        "    if os.path.isfile(CAPTION_SRC):\n",
        "        return 1\n",
        "    caption_array = auto__get_AI_caption(IMG_SRC)\n",
        "    write_the_file(CAPTION_SRC, json.dumps(caption_array))\n",
        "    return json.dumps(caption_array)\n",
        "\n",
        "#caption = auto__get_AI_caption('/content/drive/MyDrive/datasets/PinupFiles/Beth-Lily/beth-lily-vol-1-set-1-1.jpg')\n",
        "#write_the_file('/content/test.txt', caption)\n",
        "#print(caption)\n",
        "#image = vis_processors[\"eval\"](raw_image).unsqueeze(0).to(device)"
      ]
    },
    {
      "cell_type": "code",
      "execution_count": null,
      "metadata": {
        "cellView": "form",
        "id": "crCt80sPxBH_"
      },
      "outputs": [],
      "source": [
        "#@title Optional: Unzipping all ZIP files in IMAGE_FOLDERS\n",
        "#@markdown Unzip all folders in IMAGE_FOLDERS\n",
        "from zipfile import ZipFile\n",
        "import os\n",
        "\n",
        "for item in os.listdir(IMAGE_FOLDERS):\n",
        "    zips = os.path.join(IMAGE_FOLDERS, item)\n",
        "    print(f'Extracting: {item}')\n",
        "    with ZipFile(zips, 'r') as zObject:\n",
        "        zObject.extractall(path=IMAGE_FOLDERS)"
      ]
    },
    {
      "cell_type": "code",
      "execution_count": null,
      "metadata": {
        "cellView": "form",
        "id": "wPumjHpEzL9T"
      },
      "outputs": [],
      "source": [
        "#@title List directories and image count\n",
        "import os\n",
        "for item_name in os.listdir(IMAGE_FOLDERS):\n",
        "    item = os.path.join(IMAGE_FOLDERS, item_name)\n",
        "    if os.path.isdir(item):\n",
        "        if \"_captions\" in item_name:\n",
        "            continue;\n",
        "        print( f'{item_name}: {ret_directoryFileCount(item)}' )"
      ]
    },
    {
      "cell_type": "code",
      "execution_count": 12,
      "metadata": {
        "cellView": "form",
        "id": "YHlBxsTF0l-y"
      },
      "outputs": [],
      "source": [
        "#@title CREATE LOOP - Captioning loop for all folders within IMAGE_FOLDERS\n",
        "import os; import random; import json; import time; from IPython.display import clear_output;\n",
        "\n",
        "LOGFILE_NAME = '/' + time.strftime(\"%Y%m%d-%H%M%S\") + '.log'\n",
        "\n",
        "iteration = 0;\n",
        "for IMAGE_FOLDER in os.listdir(IMAGE_FOLDERS):\n",
        "    FOLDER = os.path.join(IMAGE_FOLDERS, IMAGE_FOLDER)\n",
        "    if os.path.isdir(FOLDER):\n",
        "        if \"_captions\" in FOLDER:\n",
        "            continue;\n",
        "        os.makedirs(FOLDER + '_captions', exist_ok=True)\n",
        "        for FILE_NAME in os.listdir(FOLDER):\n",
        "            IMG_SRC = os.path.join(FOLDER, FILE_NAME)\n",
        "            if os.path.isfile(IMG_SRC):\n",
        "                f_name, f_ext = os.path.splitext(FILE_NAME)\n",
        "                if f_ext == '.txt':\n",
        "                    write__logfile(IMAGE_FOLDERS + LOGFILE_NAME, f'{f_name}: not an image file, skipping')\n",
        "                    continue;\n",
        "                CAPTION_SRC = FOLDER + f'_captions/{f_name}.txt'\n",
        "                caption = auto__create_caption(IMG_SRC, CAPTION_SRC)\n",
        "                if caption == 1:\n",
        "                    write__logfile(IMAGE_FOLDERS + LOGFILE_NAME, f'{f_name}: {caption}')\n",
        "                else:\n",
        "                    print(f'{f_name}: {caption}')\n",
        "    iteration += 1\n",
        "    if iteration == 100:\n",
        "        iteration = 0\n",
        "        clear_output()\n",
        "\n",
        "#    if IMAGE_FOLDER == 'Holly-Peers':\n",
        "#        print('Found Holly-Peers')\n",
        "#        break"
      ]
    },
    {
      "cell_type": "code",
      "execution_count": 56,
      "metadata": {
        "cellView": "form",
        "colab": {
          "base_uri": "https://localhost:8080/"
        },
        "id": "ao1JemusZul1",
        "outputId": "b55f8db9-1287-432c-c000-c5d7eeca5e6a"
      },
      "outputs": [
        {
          "name": "stdout",
          "output_type": "stream",
          "text": [
            "/content/drive/MyDrive/datasets/metart\n",
            "Zip created, 130 files in /content/drive/MyDrive/datasets/metart/MetArt_2022-11-15_PRESENTING-ANNA-SUGAR-ANNA-SUGAR-by-CECELIA_high_captions.zip\n",
            "Zip created, 115 files in /content/drive/MyDrive/datasets/metart/MetArt_2022-11-02_VELVET-TOUCH-ALICE-KELLY-by-NUDERO_high_captions.zip\n",
            "Zip created, 121 files in /content/drive/MyDrive/datasets/metart/MetArt_2022-11-18_BEAUTY-REGIME-NINA-SPHINX-by-TORA-NESS_high_captions.zip\n",
            "Zip created, 121 files in /content/drive/MyDrive/datasets/metart/MetArt_2022-11-30_IN-STYLE-KIERE-by-TORA-NESS_high_captions.zip\n",
            "Zip created, 91 files in /content/drive/MyDrive/datasets/metart/MetArt_2022-11-30_SAUCY-SMILE-POLLY-WHITE-by-CECELIA_high_captions.zip\n",
            "Zip created, 122 files in /content/drive/MyDrive/datasets/metart/MetArt_2022-11-30_SHORE-STROLL-LENI-DOLL-by-LUCA-HELIOS_high_captions.zip\n",
            "Zip created, 102 files in /content/drive/MyDrive/datasets/metart/MetArt_2022-08-17_HALTER-MILA-AZUL-by-ALEX-LYNN_0a2fb_high_captions.zip\n",
            "Zip created, 123 files in /content/drive/MyDrive/datasets/metart/MetArt_2022-08-12_PERFECT-GENES-ALEKSANDRINA-by-MATISS_22f47_high_captions.zip\n",
            "Zip created, 98 files in /content/drive/MyDrive/datasets/metart/MetArt_2022-08-19_PRESENTING-SONEA-SONEA-by-ROBERT-GRAHAM_e47b5_high_captions.zip\n",
            "Zip created, 86 files in /content/drive/MyDrive/datasets/metart/MetArt_2022-08-20_SELFIES-FOR-YOU-SAVANA-by-ROBERT-GRAHAM_11495_high_captions.zip\n",
            "Zip created, 85 files in /content/drive/MyDrive/datasets/metart/MetArt_2022-08-24_SOFT-LIGHT-EMILIA-HOPS-by-LEONARDO_311bf_high_captions.zip\n",
            "Zip created, 143 files in /content/drive/MyDrive/datasets/metart/MetArt_2022-08-23_LUXE-PASSION-TARYN-by-NATASHA-SCHON_1d56d_high_captions.zip\n",
            "Zip created, 113 files in /content/drive/MyDrive/datasets/metart/MetArt_2022-08-27_ROSY-PINK-ARCADIA-by-ALBERT-VARIN_583d9_high_captions.zip\n",
            "Zip created, 95 files in /content/drive/MyDrive/datasets/metart/MetArt_2022-08-26_FRENCH-DOOR-CHRISTINE-CARDO-by-NUDERO_1ae2b_high_captions.zip\n",
            "Zip created, 107 files in /content/drive/MyDrive/datasets/metart/MetArt_2022-08-04_COLOR-POP-ISABELE-by-ALBERT-VARIN_d7c66_high_captions.zip\n",
            "Zip created, 128 files in /content/drive/MyDrive/datasets/metart/MetArt_2022-08-29_MY-STORY-LILLY-BELLA-by-ERRO_77052_high_captions.zip\n",
            "Zip created, 136 files in /content/drive/MyDrive/datasets/metart/MetArt_2022-08-04_SPICE-UP-STELLA-CARDO-by-ERRO_e3962_high_captions.zip\n",
            "Zip created, 101 files in /content/drive/MyDrive/datasets/metart/MetArt_2022-08-06_GARDEN-LIGHT-IVORY-by-TORA-NESS_81b32_high_captions.zip\n",
            "Zip created, 121 files in /content/drive/MyDrive/datasets/metart/MetArt_2022-08-08_CITRUS-SCENT-WIL-by-TORA-NESS_50a32_high_captions.zip\n",
            "Zip created, 123 files in /content/drive/MyDrive/datasets/metart/MetArt_2022-08-06_OPEN-PLEASURE-AVEIRA-by-ARKISI_ce327_high_captions.zip\n",
            "Zip created, 82 files in /content/drive/MyDrive/datasets/metart/MetArt_2022-08-11_ECLECTIC-CARE-KALISY-by-ALEX-LYNN_65f90_high_captions.zip\n",
            "Zip created, 114 files in /content/drive/MyDrive/datasets/metart/MetArt_2022-08-10_ENTHRALL-LOLLI-SPRING-by-ALBERT-VARIN_aea99_high_captions.zip\n",
            "Zip created, 22 files in /content/drive/MyDrive/datasets/metart/_captions.zip\n",
            "All caption folders are zipped\n",
            "All caption zips are located in ./_captions\n"
          ]
        }
      ],
      "source": [
        "#@title ZIP Captioning folders, move them into _captions folder\n",
        "import os\n",
        "%cd {IMAGE_FOLDERS}\n",
        "\n",
        "cap_folders = []\n",
        "for item_name in os.listdir(IMAGE_FOLDERS):\n",
        "    item = os.path.join(IMAGE_FOLDERS, item_name)\n",
        "    if \"_captions\" in item_name:\n",
        "        if os.path.isdir(item):\n",
        "            cap_folders.append(item_name)\n",
        "            continue;\n",
        "\n",
        "for cap_folder_name in cap_folders:\n",
        "    cap_folder_name_zip = os.path.join(IMAGE_FOLDERS, cap_folder_name) + '.zip'\n",
        "    cap_folder          = os.path.join(IMAGE_FOLDERS, cap_folder_name)\n",
        "    zipCount = create_zip_from_directory(cap_folder_name_zip, cap_folder)\n",
        "    print( f'Zip created, {zipCount} files in {cap_folder_name_zip}' )\n",
        "\n",
        "print('All caption folders are zipped')\n",
        "\n",
        "import shutil\n",
        "destDir = IMAGE_FOLDERS + '/_captions';\n",
        "os.makedirs(destDir, exist_ok=True)\n",
        "for cap_folder_name in cap_folders:\n",
        "    zipFile = os.path.join(IMAGE_FOLDERS, cap_folder_name + \".zip\")\n",
        "    destFile = os.path.join(destDir, cap_folder_name + \".zip\")\n",
        "    shutil.move(zipFile, destFile)\n",
        "\n",
        "print('All caption zips are located in ./_captions')"
      ]
    }
  ],
  "metadata": {
    "accelerator": "GPU",
    "colab": {
      "authorship_tag": "ABX9TyMtrU67Ed+yoxePuAuzzNSt",
      "gpuType": "V100",
      "include_colab_link": true,
      "machine_shape": "hm",
      "mount_file_id": "1-Q4MJ_JBCoecptXozarrJzVTt3VCoV1E",
      "provenance": []
    },
    "kernelspec": {
      "display_name": "Python 3",
      "name": "python3"
    },
    "language_info": {
      "name": "python"
    }
  },
  "nbformat": 4,
  "nbformat_minor": 0
}
