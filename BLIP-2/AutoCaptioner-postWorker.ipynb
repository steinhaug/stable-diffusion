{
  "cells": [
    {
      "cell_type": "markdown",
      "metadata": {
        "colab_type": "text",
        "id": "view-in-github"
      },
      "source": [
        "<a href=\"https://colab.research.google.com/github/steinhaug/stable-diffusion/blob/main/BLIP-2/AutoCaptioner-postWorker.ipynb\" target=\"_parent\"><img src=\"https://colab.research.google.com/assets/colab-badge.svg\" alt=\"Open In Colab\"/></a>"
      ]
    },
    {
      "cell_type": "markdown",
      "metadata": {
        "id": "iW5pWRNz59Uj"
      },
      "source": [
        "Download .txt files created by BLIP-2 notebook, create the caption files and parquet file."
      ]
    },
    {
      "cell_type": "markdown",
      "metadata": {},
      "source": [
        "## AutoCaptioner using LLaVA - Post Work\n",
        "\n",
        "After running first part, run this one to put together the captions.\n",
        "\n",
        "[![Buy me a beer](https://raw.githubusercontent.com/steinhaug/stable-diffusion/main/assets/buy-me-a-beer.png ) ](https://steinhaug.com/donate/)"
      ]
    },
    {
      "cell_type": "code",
      "execution_count": 15,
      "metadata": {
        "cellView": "form",
        "id": "5x9lh8uVl-0K"
      },
      "outputs": [],
      "source": [
        "#@markdown 1.0 load notebook functions\n",
        "import tarfile\n",
        "import os\n",
        "import glob\n",
        "\n",
        "def compress_tar(directory_path, output_tar_file, inclusion_pattern=None):\n",
        "    if output_tar_file is None:\n",
        "        output_tar_file = f\"{directory_path}/{return__folderName(directory_path)}.tar\"\n",
        "    if not output_tar_file.endswith('.gz'):\n",
        "        output_tar_file += '.gz'\n",
        "    with tarfile.open(output_tar_file, 'w:gz') as tar:\n",
        "        for root, dirs, files in os.walk(directory_path):\n",
        "            if inclusion_pattern:\n",
        "                files_to_include = glob.glob(os.path.join(root, inclusion_pattern))\n",
        "            else:\n",
        "                files_to_include = [os.path.join(root, file) for file in files]\n",
        "            for file_path in files_to_include:\n",
        "                arcname = os.path.relpath(file_path, directory_path)\n",
        "                print(f\"{arcname}\")\n",
        "                tar.add(file_path, arcname=arcname)\n",
        "\n",
        "def decompress_tar_(file_path, output_dir='.', tar_params='r:gz'):\n",
        "    os.makedirs(output_dir, exist_ok=True)\n",
        "    try:\n",
        "        with tarfile.open(file_path, tar_params) as tar:\n",
        "            tar.extractall(output_dir)\n",
        "        print(f\"Successfully decompressed '{file_path}' to '{output_dir}'.\")\n",
        "    except tarfile.TarError as e:\n",
        "        print(f\"Error decompressing '{file_path}': {e}\")\n",
        "\n",
        "def decompress_tar_gz(file_path, output_dir='.'):\n",
        "    decompress_tar_(file_path, output_dir, 'r:gz')\n",
        "def decompress_tar(file_path, output_dir='.'):\n",
        "    decompress_tar_(file_path, output_dir, 'r')\n",
        "\n",
        "def __decompress_tar(tar_file, destination=None, flatten_structure=False):\n",
        "    with tarfile.open(tar_file, 'r') as tar:\n",
        "        if destination is not None:\n",
        "            os.makedirs(destination, exist_ok=True)\n",
        "\n",
        "        for member in tar.getmembers():\n",
        "            if flatten_structure:\n",
        "                # Use just the filename without directories\n",
        "                member.name = os.path.basename(member.name)\n",
        "            if destination is not None:\n",
        "                # Join the destination directory with the member's name\n",
        "                member_path = os.path.join(destination, os.path.dirname(member.name))\n",
        "            else:\n",
        "                member_path = os.path.dirname(member.name)\n",
        "\n",
        "            if flatten_structure and destination==None:\n",
        "                member_path = os.path.dirname(tar_file)\n",
        "\n",
        "            tar.extract(member, path=member_path)\n",
        "\n",
        "def ensure_array(input_var):\n",
        "    if isinstance(input_var, list):\n",
        "        return input_var\n",
        "    elif isinstance(input_var, str):\n",
        "        return [input_var]\n",
        "    else:\n",
        "        raise ValueError(\"Input must be a string or a list\")\n",
        "\n",
        "def array__prefix_with(filter_extensions, prefix='.'):\n",
        "    return [ext if ext.startswith(prefix) else prefix + ext for ext in filter_extensions]\n",
        "\n",
        "def return__fileCount(directory_path, extensions=None):\n",
        "    matching_files_count = 0\n",
        "\n",
        "    if extensions is not None:\n",
        "        extensions = array__prefix_with(ensure_array(extensions)) #['.jpg', '.jpeg', '.png', '.gif', '.bmp', '.webp']\n",
        "\n",
        "    for root, dirs, files in os.walk(directory_path):\n",
        "        for file in files:\n",
        "            if extensions is None:\n",
        "                matching_files_count += 1\n",
        "            elif any(file.lower().endswith(extension.lower()) for extension in extensions):\n",
        "                matching_files_count += 1\n",
        "\n",
        "    return matching_files_count\n",
        "\n",
        "def write_the_file(path, data_string):\n",
        "    if len(str(data_string)):\n",
        "        with open(path, 'w+') as fw:\n",
        "            fw.write(str(data_string))\n",
        "    else:\n",
        "        if os.path.exists(path):\n",
        "            os.remove(path)\n",
        "    return '';\n",
        "\n",
        "def fill_array_length(arr, length=10):\n",
        "    length = length + 1\n",
        "    if len(arr) < length:\n",
        "        arr += [''] * (length - len(arr))\n",
        "    return arr\n",
        "\n",
        "def contains_any_substring(input_string, substrings, force_lowercase=True):\n",
        "    for substring in substrings:\n",
        "        if substring in input_string.lower():\n",
        "            return True\n",
        "    return False\n",
        "\n",
        "def extract_first_string_in_quotes(input_string):\n",
        "    start_quote = input_string.find('\"')\n",
        "    end_quote = input_string.find('\"', start_quote + 1)\n",
        "\n",
        "    if start_quote != -1 and end_quote != -1:\n",
        "        contents_in_quotes = input_string[start_quote + 1:end_quote]\n",
        "        return contents_in_quotes\n",
        "    else:\n",
        "        return None\n",
        "\n",
        "def string__return_left_from_match(input_string, array_of_strings, replacement=''):\n",
        "    for match in array_of_strings:\n",
        "        if match in input_string:\n",
        "            left_part = input_string.split(match)[0]\n",
        "            return left_part + replacement\n",
        "    return input_string\n",
        "\n",
        "def remove_prefix(input_string, prefixes):\n",
        "    for prefix in prefixes:\n",
        "        if input_string.startswith(prefix):\n",
        "            input_string = input_string[len(prefix):]\n",
        "\n",
        "    return input_string\n",
        "\n",
        "def remove_matches(main_string, substrings_to_remove):\n",
        "    for substring in substrings_to_remove:\n",
        "        main_string = main_string.replace(substring, '')\n",
        "    return main_string\n",
        "\n",
        "# Strip ordered list, number - prefix\n",
        "def strip_ol(input_string):\n",
        "    index_of_space = input_string.find('-')\n",
        "    if index_of_space != -1:\n",
        "        result_string = input_string[index_of_space + 1:]\n",
        "        return result_string.strip()\n",
        "    else:\n",
        "        return input_string\n",
        "\n",
        "def true_or_false(string, matches=[\"yes\"]):\n",
        "    if contains_any_substring(string, matches):\n",
        "        return True\n",
        "    else:\n",
        "        return False\n"
      ]
    },
    {
      "cell_type": "code",
      "execution_count": 2,
      "metadata": {
        "cellView": "form",
        "id": "FpRNorGUkise"
      },
      "outputs": [],
      "source": [
        "#@markdown 1.1 Caption generator from questionaire\n",
        "def generate_caption(text):\n",
        "\n",
        "    caption = ''\n",
        "\n",
        "    text = text.strip()\n",
        "    lines = fill_array_length( text.split('\\n') )\n",
        "    lineout = fill_array_length([])\n",
        "\n",
        "    lineout[0] = extract_first_string_in_quotes(lines[0])\n",
        "    caption += lineout[0] + '. '\n",
        "\n",
        "    lineout[1] = remove_prefix(lines[1][4:], [\"The subject is \"]).capitalize()\n",
        "    caption += lineout[1] + ' '\n",
        "\n",
        "    result = remove_prefix(lines[2][4:], [\"The subject is \"])\n",
        "    if contains_any_substring(result, [\"completely naked\"]):\n",
        "        lineout[2] = 'NSWF, totally naked.'.capitalize()\n",
        "    else:\n",
        "        lineout[2] = remove_matches(result, [\" as she is\",\", which are visible in the image\"]).capitalize()\n",
        "    caption += lineout[2] + ' '\n",
        "\n",
        "    if contains_any_substring(strip_ol(lines[3]), [\"not possible\"]):\n",
        "        result = ''\n",
        "    elif contains_any_substring(strip_ol(lines[3]), [\"shaved\", \"shaven\"]):\n",
        "        result = 'Shaved pussy.'\n",
        "    elif contains_any_substring(strip_ol(lines[3]), [\"trimmed\"]):\n",
        "        result = 'Trimmed pussy.'\n",
        "    elif contains_any_substring(strip_ol(lines[3]), [\"hairy\"]):\n",
        "        result = 'Hairy pussy.'\n",
        "    else:\n",
        "        result = ''\n",
        "    lineout[3] = result\n",
        "    caption += lineout[3] + ' '\n",
        "\n",
        "    if contains_any_substring(strip_ol(lines[4]), [\"not possible\"]):\n",
        "        result = ''\n",
        "    elif contains_any_substring(strip_ol(lines[4]), [\"tiny\"]):\n",
        "        result = 'Tiny tits, tiny breasts.'\n",
        "    elif contains_any_substring(strip_ol(lines[4]), [\"small\"]):\n",
        "        result = 'Small tits, small breasts.'\n",
        "    elif contains_any_substring(strip_ol(lines[4]), [\"normal\"]):\n",
        "        result = 'Normal tits, normal breasts.'\n",
        "    elif contains_any_substring(strip_ol(lines[4]), [\"large\"]):\n",
        "        result = 'Large tits, large breasts.'\n",
        "    elif contains_any_substring(strip_ol(lines[4]), [\"huge\",\"big\"]):\n",
        "        result = 'Big tits, big breasts.'\n",
        "    else:\n",
        "        result = ''\n",
        "    lineout[4] = result\n",
        "    caption += lineout[4] + ' '\n",
        "\n",
        "    if contains_any_substring(strip_ol(lines[5]), [\"slender and slim\"]):\n",
        "        result = 'Slim figure.'\n",
        "    elif contains_any_substring(strip_ol(lines[5]), [\"appears to be normal\",\"normal body\"]):\n",
        "        result = 'Normal figure.'\n",
        "    elif contains_any_substring(strip_ol(lines[5]), [\"thin\"]):\n",
        "        result = 'Thin figure.'\n",
        "    elif contains_any_substring(strip_ol(lines[5]), [\"skinny\"]):\n",
        "        result = 'Skinny figure.'\n",
        "    elif contains_any_substring(strip_ol(lines[5]), [\"large\", \"overweight\", \"fat\", \"fuller figure\"]):\n",
        "        result = 'Large figure.'\n",
        "    else:\n",
        "        result = ''\n",
        "    lineout[5] = result\n",
        "    caption += lineout[5] + ' '\n",
        "\n",
        "    if not contains_any_substring(strip_ol(lines[10]), ['not visible']):\n",
        "        result = remove_matches(strip_ol(lines[10]), [\"The woman's \",\"The woman is \",\"The woman \", \"likely engaging in \"])\n",
        "        result = string__return_left_from_match(result, [', possibly',', exposing it to',', adding to the'], '.').capitalize()\n",
        "    else:\n",
        "        result = ''\n",
        "    lineout[10] = result\n",
        "    caption += lineout[10]\n",
        "\n",
        "    return caption\n"
      ]
    },
    {
      "cell_type": "code",
      "execution_count": 3,
      "metadata": {
        "colab": {
          "base_uri": "https://localhost:8080/"
        },
        "id": "GyCtohcghWTu",
        "outputId": "5beca850-277d-4c22-8323-8640a4092edd"
      },
      "outputs": [
        {
          "name": "stdout",
          "output_type": "stream",
          "text": [
            "Mounted at /content/drive\n"
          ]
        }
      ],
      "source": [
        "from google.colab import drive\n",
        "drive.mount('/content/drive')"
      ]
    },
    {
      "cell_type": "code",
      "execution_count": 4,
      "metadata": {
        "id": "1ZDUcTSVhuvm"
      },
      "outputs": [],
      "source": [
        "captions_file = '/content/drive/MyDrive/datasets/SkinnyHotGirls/skinny_hot_girls_captions2.tar.gz'"
      ]
    },
    {
      "cell_type": "code",
      "execution_count": 5,
      "metadata": {
        "colab": {
          "base_uri": "https://localhost:8080/"
        },
        "id": "i6eZtEBhhNcX",
        "outputId": "b2b73ef3-a7bb-40c5-eb85-e979728997e9"
      },
      "outputs": [
        {
          "name": "stdout",
          "output_type": "stream",
          "text": [
            "Successfully decompressed '/content/drive/MyDrive/datasets/SkinnyHotGirls/skinny_hot_girls_captions2.tar.gz' to '/content/datasets'.\n"
          ]
        }
      ],
      "source": [
        "output_dir = '/content/datasets'\n",
        "os.makedirs(output_dir, exist_ok=True)\n",
        "decompress_tar_gz(captions_file, output_dir)"
      ]
    },
    {
      "cell_type": "code",
      "execution_count": 12,
      "metadata": {
        "id": "UVnXrDXupkDu"
      },
      "outputs": [],
      "source": [
        "!rm -Rf /content/datasets/slim-camel-toe-girl-jemma-8.txt\n",
        "!rm -Rf /content/datasets/slim-camel-toe-girl-jemma-8.png"
      ]
    },
    {
      "cell_type": "code",
      "execution_count": null,
      "metadata": {
        "cellView": "form",
        "id": "h9HVp5KIiM3Z"
      },
      "outputs": [],
      "source": [
        "#@markdown Create .caption from .txt files\n",
        "extensions = ['.txt']\n",
        "total_count = return__fileCount(output_dir, extensions)\n",
        "caption_count = 0\n",
        "for root, dirs, files in os.walk(output_dir):\n",
        "    for file in files:\n",
        "        #print( f\"{root}/{file}\" )\n",
        "        file_path = os.path.join(root, file)\n",
        "        file_root, file_ext = os.path.splitext(file_path)\n",
        "        if file_ext.lower() in extensions:\n",
        "            caption_count = caption_count + 1\n",
        "            #print( f\"{caption_count}/{total_count} {root}/{file}\" )\n",
        "\n",
        "            caption_file = f\"{file_root}.caption\"\n",
        "            if not os.path.isfile(caption_file):\n",
        "\n",
        "                with open(file_path, 'r') as file:\n",
        "                    file_content = file.read()\n",
        "                print( file_path )\n",
        "                caption_result = generate_caption(file_content)\n",
        "\n",
        "                write_the_file(caption_file, caption_result)\n",
        "\n",
        "                print( caption_result )\n",
        "                #print( file_content )\n",
        "#            else:\n",
        "#                print ( 'skip' )\n",
        "            #break\n"
      ]
    },
    {
      "cell_type": "code",
      "execution_count": 8,
      "metadata": {
        "cellView": "form",
        "colab": {
          "base_uri": "https://localhost:8080/"
        },
        "id": "HVQySJG-p3Ib",
        "outputId": "1d71d407-fb8f-46ca-c905-906c00cb3363"
      },
      "outputs": [
        {
          "name": "stdout",
          "output_type": "stream",
          "text": [
            "Token will not been saved to git credential helper. Pass `add_to_git_credential=True` if you want to set the git credential as well.\n",
            "Token is valid (permission: write).\n",
            "Your token has been saved to /root/.cache/huggingface/token\n",
            "Login successful\n"
          ]
        }
      ],
      "source": [
        "#@markdown Login to Huggingface hub\n",
        "from google.colab import userdata\n",
        "HF_TOKEN = userdata.get('HF_TOKEN')\n",
        "\n",
        "!huggingface-cli login --token {HF_TOKEN}\n",
        "from huggingface_hub import snapshot_download"
      ]
    },
    {
      "cell_type": "code",
      "execution_count": 9,
      "metadata": {
        "cellView": "form",
        "colab": {
          "base_uri": "https://localhost:8080/",
          "height": 113,
          "referenced_widgets": [
            "33db13caa90e4e25957ca92ee22999dc",
            "a693d6ad7a0847a0a6d3cf4c3790af2a",
            "1243bc1013da4329bfbbdade79b2fe9e",
            "3259a251c5094f388e2a777397b80dba",
            "8d3404e1cac643068ca47b4ce7e12b7f",
            "3a467fac246d482a8b6385d7bb5128f6",
            "ff2b8900680a4ce1920f17556ba01e0c",
            "112d86315b8e4f2c8e2522f2c7bae657",
            "bec8a782beef4481aade133d8671c8b5",
            "2a39c610058742f395c32b8c003fc3ad",
            "f4fbc98a71504e559f9d5ed8e46d1063",
            "7413094047c64511a0f012f64838326b",
            "890dd27a6fe7402c94282799e0a73d3c",
            "26c3b38a0d9a45c7a215ce9a2eddd3c6",
            "1be914f3eb814dc0a9ed37fd8e2f6656",
            "52b1afd0b93d4260a3b0f2910afe8568",
            "c4796a760c124c40b99eeb3514ae07ba",
            "5819e11f5e2d47c4bb3557ff232c0f2d",
            "235a2f2bdc7748609c97320c8981ab52",
            "21f52054e017441e8a2793151f484692",
            "cca72edb7b944174ad602f13d069fad9",
            "05b37ce5320745a58e6b16b9d671e826",
            "72e7a55cee1c4910af253d65b69db802",
            "9265c33a68c44a30933adbdc051dfa15",
            "16726b70c3fe49ab860157eba3c10cbc",
            "af77985cb053423fb7a255430cc2b59b",
            "cda85a676b2848c8bd8ef192a1e64666",
            "9f7ca6f45acf4d89af542eff4250b760",
            "833545da07d84d6396f5ed7eb75bf582",
            "c23d5ccc0a5744e4af823822454389ff",
            "98ab7c6fee014081974379201d9a8e1e",
            "8cf32b1593c643fda2ff2c56d92a4f80",
            "4f168ed25e6d4bfb9268ae7c421bcdbe"
          ]
        },
        "id": "OJ8FB-crp5j2",
        "outputId": "a54772fb-bdab-496a-a001-963d18a168e6"
      },
      "outputs": [
        {
          "data": {
            "application/vnd.jupyter.widget-view+json": {
              "model_id": "33db13caa90e4e25957ca92ee22999dc",
              "version_major": 2,
              "version_minor": 0
            },
            "text/plain": [
              "Fetching 2 files:   0%|          | 0/2 [00:00<?, ?it/s]"
            ]
          },
          "metadata": {},
          "output_type": "display_data"
        },
        {
          "data": {
            "application/vnd.jupyter.widget-view+json": {
              "model_id": "7413094047c64511a0f012f64838326b",
              "version_major": 2,
              "version_minor": 0
            },
            "text/plain": [
              "SkinnyHotGirls/README.md:   0%|          | 0.00/19.0 [00:00<?, ?B/s]"
            ]
          },
          "metadata": {},
          "output_type": "display_data"
        },
        {
          "data": {
            "application/vnd.jupyter.widget-view+json": {
              "model_id": "72e7a55cee1c4910af253d65b69db802",
              "version_major": 2,
              "version_minor": 0
            },
            "text/plain": [
              "skinny_hot_girls.tar:   0%|          | 0.00/723M [00:00<?, ?B/s]"
            ]
          },
          "metadata": {},
          "output_type": "display_data"
        }
      ],
      "source": [
        "#@markdown Download image sets\n",
        "import os\n",
        "SAVE_PATH = '/content/datasets'\n",
        "REPO_ID = 'steinhaug/onceUponAtimeInPornVille'\n",
        "os.makedirs(f\"{SAVE_PATH}/{REPO_ID}\", exist_ok=True)\n",
        "path = snapshot_download(repo_id=REPO_ID, repo_type=\"dataset\", revision=\"main\", allow_patterns=\"SkinnyHotGirls/*\", local_dir=f\"{SAVE_PATH}/{REPO_ID}\", local_dir_use_symlinks=False)"
      ]
    },
    {
      "cell_type": "code",
      "execution_count": 10,
      "metadata": {
        "colab": {
          "base_uri": "https://localhost:8080/"
        },
        "id": "48Abb7VqrmEw",
        "outputId": "5af8a4fb-34c7-4575-a965-ebb75b15d2e7"
      },
      "outputs": [
        {
          "name": "stdout",
          "output_type": "stream",
          "text": [
            "Successfully decompressed '/content/datasets/steinhaug/onceUponAtimeInPornVille/SkinnyHotGirls/skinny_hot_girls.tar' to '.'.\n"
          ]
        }
      ],
      "source": [
        "image_file = '/content/datasets/steinhaug/onceUponAtimeInPornVille/SkinnyHotGirls/skinny_hot_girls.tar'\n",
        "decompress_tar(image_file)"
      ]
    },
    {
      "cell_type": "code",
      "execution_count": 11,
      "metadata": {
        "id": "zeDA-RMnsQpM"
      },
      "outputs": [],
      "source": [
        "image_folder = '/content/skinny_hot_girls'\n",
        "!cp $output_dir/*.caption $image_folder\n",
        "# remove missing file\n",
        "!rm -Rf /content/skinny_hot_girls/slim-camel-toe-girl-jemma-8.txt\n",
        "!rm -Rf /content/skinny_hot_girls/slim-camel-toe-girl-jemma-8.caption\n",
        "!rm -Rf /content/skinny_hot_girls/slim-camel-toe-girl-jemma-8.png"
      ]
    },
    {
      "cell_type": "code",
      "execution_count": 13,
      "metadata": {
        "cellView": "form",
        "id": "VFLJergUuOGC"
      },
      "outputs": [],
      "source": [
        "#@markdown Create .parquet file: /content/skinny_hot_girls.parquet\n",
        "# Needs High-RAM to complete\n",
        "\n",
        "import pandas as pd\n",
        "import pyarrow as pa\n",
        "import pyarrow.parquet as pq\n",
        "from PIL import Image\n",
        "import numpy as np\n",
        "import os\n",
        "\n",
        "dataset_folder = \"/content/skinny_hot_girls\"\n",
        "\n",
        "# Function to read caption from text file\n",
        "def read_caption(file_path):\n",
        "    with open(file_path, 'r') as file:\n",
        "        caption = file.read().strip()\n",
        "    return caption\n",
        "\n",
        "# Function to process each image and caption\n",
        "def process_image(image_path):\n",
        "    image = np.array(Image.open(image_path))  # Convert PIL Image to NumPy array\n",
        "    flattened_image = image.flatten()  # Flatten the 2D array to 1D\n",
        "    caption_path = os.path.splitext(image_path)[0] + '.caption'\n",
        "    caption = read_caption(caption_path)\n",
        "    return {'image': flattened_image, 'caption': caption}\n",
        "\n",
        "# List to store processed data\n",
        "data_list = []\n",
        "\n",
        "# Iterate through the dataset folder\n",
        "for filename in os.listdir(dataset_folder):\n",
        "    if filename.endswith(\".png\"):\n",
        "        image_path = os.path.join(dataset_folder, filename)\n",
        "        data = process_image(image_path)\n",
        "        data_list.append(data)\n",
        "\n",
        "# Create a Pandas DataFrame from the list\n",
        "df = pd.DataFrame(data_list)\n",
        "\n",
        "# Convert the DataFrame to a PyArrow Table\n",
        "table = pa.Table.from_pandas(df)\n",
        "\n",
        "# Save the PyArrow Table to a Parquet file\n",
        "parquet_file_path = \"/content/skinny_hot_girls.parquet\"\n",
        "pq.write_table(table, parquet_file_path)"
      ]
    },
    {
      "cell_type": "code",
      "execution_count": null,
      "metadata": {
        "id": "vvwsiQWl1a_5"
      },
      "outputs": [],
      "source": [
        "# Create .tar.gz file for captions\n",
        "compress_tar('/content/skinny_hot_girls', '/content/skinny_hot_girls.captions.tar', '*.caption')"
      ]
    },
    {
      "cell_type": "code",
      "execution_count": 17,
      "metadata": {
        "cellView": "form",
        "colab": {
          "base_uri": "https://localhost:8080/",
          "height": 66,
          "referenced_widgets": [
            "2b525487af984af2b8332eb2f1f179b2",
            "6d4ac4fd40284abdaa6686220f93ef17",
            "3d2c05a0d3374e2580447eadeba732fc",
            "9174174aa1e94d46bd28c5d47569f842",
            "159bd4bd51ec4200b40d97c42ec32820",
            "1f84d39f58e8451fa1c58c6042c0db0e",
            "0e64fc0786574cbbbace5e618b46af25",
            "4f38d970ef384cdaade64a66b2154bda",
            "52a1135ed16740e2990c6d9aeee8bc62",
            "528f3a211fe74acb8389fb83664d0631",
            "8959a264a07b4b2a954d04c94a48744e"
          ]
        },
        "id": "XWn84zq7xC3H",
        "outputId": "34d134a6-79f0-4341-cc90-32b0624730d5"
      },
      "outputs": [
        {
          "data": {
            "application/vnd.jupyter.widget-view+json": {
              "model_id": "2b525487af984af2b8332eb2f1f179b2",
              "version_major": 2,
              "version_minor": 0
            },
            "text/plain": [
              "skinny_hot_girls.captions.tar.gz:   0%|          | 0.00/45.9k [00:00<?, ?B/s]"
            ]
          },
          "metadata": {},
          "output_type": "display_data"
        },
        {
          "name": "stdout",
          "output_type": "stream",
          "text": [
            "ok\n"
          ]
        }
      ],
      "source": [
        "#@markdown Upload .parquet and .tar.gz file to Huggingface dataset\n",
        "from huggingface_hub import HfApi, HfFolder, CommitOperationAdd\n",
        "from huggingface_hub import create_repo\n",
        "\n",
        "hf_token = userdata.get('HF_TOKEN')\n",
        "\n",
        "api = HfApi()\n",
        "your_username = api.whoami(token=hf_token)[\"name\"]\n",
        "repo_id = f\"{your_username}/onceUponAtimeInPornVille\"\n",
        "\n",
        "operations = [\n",
        "    CommitOperationAdd(path_in_repo=\"SkinnyHotGirls/skinny_hot_girls.parquet\",path_or_fileobj=\"/content/skinny_hot_girls.parquet\"),\n",
        "    CommitOperationAdd(path_in_repo=\"SkinnyHotGirls/skinny_hot_girls.captions.tar.gz\",path_or_fileobj=\"/content/skinny_hot_girls.captions.tar.gz\"),\n",
        "]\n",
        "\n",
        "api.create_commit(\n",
        "    repo_id=repo_id,\n",
        "    repo_type=\"dataset\",\n",
        "    operations=operations,\n",
        "    commit_message=f\"Adding skinny_hot_girls.parquet\",\n",
        "    token=hf_token\n",
        ")\n"
      ]
    },
    {
      "cell_type": "markdown",
      "metadata": {
        "id": "W3mHRsB154y0"
      },
      "source": [
        "Complete."
      ]
    },
    {
      "cell_type": "markdown",
      "metadata": {
        "id": "jSwsgOMc5Xbx"
      },
      "source": [
        "### String work for \"Caption generator from questionaire\""
      ]
    },
    {
      "cell_type": "code",
      "execution_count": null,
      "metadata": {
        "id": "L9iQ_956lEtR"
      },
      "outputs": [],
      "source": [
        "text = '''1 - If this was a photo for an adult movie, the title would be \"Sultry Seduction.\"\n",
        "2 - The subject is a beautiful, blonde woman with a captivating gaze.\n",
        "3 - The woman is wearing a black bra and panties, which are visible in the image.\n",
        "4 - The woman's pussy is shaved, giving her a clean and polished appearance.\n",
        "5 - The woman has large breasts, which are prominently displayed in the photo.\n",
        "6 - The woman has a normal body build, with a healthy and attractive physique.\n",
        "7 - Yes\n",
        "8 - Yes\n",
        "9 - No\n",
        "10 - Lying on her back\n",
        "11 - The woman's hands are resting on her thighs, adding to the sensual and alluring atmosphere of the image.'''"
      ]
    },
    {
      "cell_type": "code",
      "execution_count": null,
      "metadata": {
        "id": "hPlLC5JHljl2"
      },
      "outputs": [],
      "source": [
        "text = text.strip()\n",
        "lines = fill_array_length( text.split('\\n') )\n",
        "lineout = fill_array_length([])"
      ]
    },
    {
      "cell_type": "code",
      "execution_count": null,
      "metadata": {
        "colab": {
          "base_uri": "https://localhost:8080/"
        },
        "id": "Honve6vUPxTB",
        "outputId": "68f46e2e-213f-4c1f-fae1-3a47dac4fa6f"
      },
      "outputs": [
        {
          "name": "stdout",
          "output_type": "stream",
          "text": [
            "Sultry Seduction.\n"
          ]
        }
      ],
      "source": [
        "lineout[0] = extract_first_string_in_quotes(lines[0])\n",
        "print(lineout[0])"
      ]
    },
    {
      "cell_type": "code",
      "execution_count": null,
      "metadata": {
        "colab": {
          "base_uri": "https://localhost:8080/"
        },
        "id": "ZgcdsMCZnYrn",
        "outputId": "a44a26dc-3551-40f8-9dcb-ffbb33dd78da"
      },
      "outputs": [
        {
          "name": "stdout",
          "output_type": "stream",
          "text": [
            "A beautiful, blonde woman with a captivating gaze.\n"
          ]
        }
      ],
      "source": [
        "lineout[1] = remove_prefix(lines[1][4:], [\"The subject is \"]).capitalize()\n",
        "print( lineout[1] )"
      ]
    },
    {
      "cell_type": "code",
      "execution_count": null,
      "metadata": {
        "colab": {
          "base_uri": "https://localhost:8080/"
        },
        "id": "nsok7Zxon9YV",
        "outputId": "2ad376a5-a18a-45f9-dfda-c64765d46e9a"
      },
      "outputs": [
        {
          "name": "stdout",
          "output_type": "stream",
          "text": [
            "The woman is wearing a black bra and panties.\n"
          ]
        }
      ],
      "source": [
        "result = remove_prefix(lines[2][4:], [\"The subject is \"])\n",
        "if contains_any_substring(result, [\"completely naked\"]):\n",
        "    lineout[2] = 'NSWF, totally naked.'.capitalize()\n",
        "else:\n",
        "    lineout[2] = remove_matches(result, [\" as she is\",\", which are visible in the image\"]).capitalize()\n",
        "\n",
        "print( lineout[2] )"
      ]
    },
    {
      "cell_type": "code",
      "execution_count": null,
      "metadata": {
        "colab": {
          "base_uri": "https://localhost:8080/"
        },
        "id": "gdVi_r2DoTQF",
        "outputId": "843e71a4-b07a-4682-fe37-790bccccdf9b"
      },
      "outputs": [
        {
          "name": "stdout",
          "output_type": "stream",
          "text": [
            "Shaved pussy.\n"
          ]
        }
      ],
      "source": [
        "if contains_any_substring(strip_ol(lines[3]), [\"not possible\"]):\n",
        "    result = '-'\n",
        "elif contains_any_substring(strip_ol(lines[3]), [\"shaved\", \"shaven\"]):\n",
        "    result = 'Shaved pussy.'\n",
        "elif contains_any_substring(strip_ol(lines[3]), [\"trimmed\"]):\n",
        "    result = 'Trimmed pussy.'\n",
        "elif contains_any_substring(strip_ol(lines[3]), [\"hairy\"]):\n",
        "    result = 'Hairy pussy.'\n",
        "else:\n",
        "    result = '-'\n",
        "\n",
        "lineout[3] = result\n",
        "print( lineout[3] )"
      ]
    },
    {
      "cell_type": "code",
      "execution_count": null,
      "metadata": {
        "colab": {
          "base_uri": "https://localhost:8080/"
        },
        "id": "hUae4iL-o_Yp",
        "outputId": "dbbd90ff-0c5c-44a0-c13f-9bdc3e15099d"
      },
      "outputs": [
        {
          "name": "stdout",
          "output_type": "stream",
          "text": [
            "Large tits, large breasts.\n"
          ]
        }
      ],
      "source": [
        "if contains_any_substring(strip_ol(lines[4]), [\"not possible\"]):\n",
        "    result = '-'\n",
        "elif contains_any_substring(strip_ol(lines[4]), [\"tiny\"]):\n",
        "    result = 'Tiny tits, tiny breasts.'\n",
        "elif contains_any_substring(strip_ol(lines[4]), [\"small\"]):\n",
        "    result = 'Small tits, small breasts.'\n",
        "elif contains_any_substring(strip_ol(lines[4]), [\"normal\"]):\n",
        "    result = 'Normal tits, normal breasts.'\n",
        "elif contains_any_substring(strip_ol(lines[4]), [\"large\"]):\n",
        "    result = 'Large tits, large breasts.'\n",
        "elif contains_any_substring(strip_ol(lines[4]), [\"huge\",\"big\"]):\n",
        "    result = 'Big tits, big breasts.'\n",
        "else:\n",
        "    result = '-'\n",
        "\n",
        "lineout[4] = result\n",
        "print( lineout[4] )"
      ]
    },
    {
      "cell_type": "code",
      "execution_count": null,
      "metadata": {
        "colab": {
          "base_uri": "https://localhost:8080/"
        },
        "id": "YRPYNXPVqcIc",
        "outputId": "9328aac5-d581-4478-de57-60f6c8dc7b33"
      },
      "outputs": [
        {
          "name": "stdout",
          "output_type": "stream",
          "text": [
            "Normal figure.\n"
          ]
        }
      ],
      "source": [
        "if contains_any_substring(strip_ol(lines[5]), [\"slender and slim\"]):\n",
        "    result = 'Slim figure.'\n",
        "elif contains_any_substring(strip_ol(lines[5]), [\"appears to be normal\",\"normal body\"]):\n",
        "    result = 'Normal figure.'\n",
        "elif contains_any_substring(strip_ol(lines[5]), [\"thin\"]):\n",
        "    result = 'Thin figure.'\n",
        "elif contains_any_substring(strip_ol(lines[5]), [\"skinny\"]):\n",
        "    result = 'Skinny figure.'\n",
        "elif contains_any_substring(strip_ol(lines[5]), [\"large\", \"overweight\", \"fat\", \"fuller figure\"]):\n",
        "    result = 'Large figure.'\n",
        "else:\n",
        "    result = '-'\n",
        "\n",
        "lineout[5] = result\n",
        "print( lineout[5] )"
      ]
    },
    {
      "cell_type": "code",
      "execution_count": null,
      "metadata": {
        "colab": {
          "base_uri": "https://localhost:8080/"
        },
        "id": "zMqUo3OJA5oP",
        "outputId": "1e5ccbae-0180-4b3f-8b48-c48e617b9c9e"
      },
      "outputs": [
        {
          "name": "stdout",
          "output_type": "stream",
          "text": [
            "True True False\n"
          ]
        }
      ],
      "source": [
        "x1 = true_or_false(strip_ol(lines[6]))\n",
        "x2 = true_or_false(strip_ol(lines[7]), [\"hands are visible\",\"yes\"])\n",
        "x3 = true_or_false(strip_ol(lines[8]))\n",
        "\n",
        "print(f\"{x1} {x2} {x3}\")"
      ]
    },
    {
      "cell_type": "code",
      "execution_count": null,
      "metadata": {
        "colab": {
          "base_uri": "https://localhost:8080/"
        },
        "id": "plwTzidJQotd",
        "outputId": "b56eb560-0129-4b1f-fb4c-a110ea0cef2c"
      },
      "outputs": [
        {
          "name": "stdout",
          "output_type": "stream",
          "text": [
            "Lying on her back\n"
          ]
        }
      ],
      "source": [
        "result = remove_matches(strip_ol(lines[9]), [\"The woman's \",\"The woman is \",\"The woman \"]).capitalize()\n",
        "lineout[9] = result\n",
        "print( lineout[9] )"
      ]
    },
    {
      "cell_type": "code",
      "execution_count": null,
      "metadata": {
        "colab": {
          "base_uri": "https://localhost:8080/"
        },
        "id": "afv4SlFVRJQC",
        "outputId": "c430d79b-7a86-4ed6-e51d-7bf17c3ad4ed"
      },
      "outputs": [
        {
          "name": "stdout",
          "output_type": "stream",
          "text": [
            "Hands are resting on her thighs, adding to the sensual and alluring atmosphere of the image.\n"
          ]
        }
      ],
      "source": [
        "#print( lines[10] )\n",
        "if not contains_any_substring(strip_ol(lines[10]), ['not visible']):\n",
        "    result = remove_matches(strip_ol(lines[10]), [\"The woman's \",\"The woman is \",\"The woman \", \"likely engaging in \"])\n",
        "    result = string__return_left_from_match(result, [', possibly',', exposing it to',', adding to the'], '.').capitalize()\n",
        "else:\n",
        "    result = '-'\n",
        "\n",
        "\n",
        "lineout[10] = result\n",
        "print( lineout[10] )"
      ]
    }
  ],
  "metadata": {
    "colab": {
      "authorship_tag": "ABX9TyPPS5FWKyE+MsHVS8JxWzYl",
      "include_colab_link": true,
      "machine_shape": "hm",
      "provenance": []
    },
    "kernelspec": {
      "display_name": "Python 3",
      "name": "python3"
    },
    "language_info": {
      "name": "python"
    },
    "widgets": {
      "application/vnd.jupyter.widget-state+json": {
        "05b37ce5320745a58e6b16b9d671e826": {
          "model_module": "@jupyter-widgets/controls",
          "model_module_version": "1.5.0",
          "model_name": "DescriptionStyleModel",
          "state": {
            "_model_module": "@jupyter-widgets/controls",
            "_model_module_version": "1.5.0",
            "_model_name": "DescriptionStyleModel",
            "_view_count": null,
            "_view_module": "@jupyter-widgets/base",
            "_view_module_version": "1.2.0",
            "_view_name": "StyleView",
            "description_width": ""
          }
        },
        "0e64fc0786574cbbbace5e618b46af25": {
          "model_module": "@jupyter-widgets/controls",
          "model_module_version": "1.5.0",
          "model_name": "DescriptionStyleModel",
          "state": {
            "_model_module": "@jupyter-widgets/controls",
            "_model_module_version": "1.5.0",
            "_model_name": "DescriptionStyleModel",
            "_view_count": null,
            "_view_module": "@jupyter-widgets/base",
            "_view_module_version": "1.2.0",
            "_view_name": "StyleView",
            "description_width": ""
          }
        },
        "112d86315b8e4f2c8e2522f2c7bae657": {
          "model_module": "@jupyter-widgets/base",
          "model_module_version": "1.2.0",
          "model_name": "LayoutModel",
          "state": {
            "_model_module": "@jupyter-widgets/base",
            "_model_module_version": "1.2.0",
            "_model_name": "LayoutModel",
            "_view_count": null,
            "_view_module": "@jupyter-widgets/base",
            "_view_module_version": "1.2.0",
            "_view_name": "LayoutView",
            "align_content": null,
            "align_items": null,
            "align_self": null,
            "border": null,
            "bottom": null,
            "display": null,
            "flex": null,
            "flex_flow": null,
            "grid_area": null,
            "grid_auto_columns": null,
            "grid_auto_flow": null,
            "grid_auto_rows": null,
            "grid_column": null,
            "grid_gap": null,
            "grid_row": null,
            "grid_template_areas": null,
            "grid_template_columns": null,
            "grid_template_rows": null,
            "height": null,
            "justify_content": null,
            "justify_items": null,
            "left": null,
            "margin": null,
            "max_height": null,
            "max_width": null,
            "min_height": null,
            "min_width": null,
            "object_fit": null,
            "object_position": null,
            "order": null,
            "overflow": null,
            "overflow_x": null,
            "overflow_y": null,
            "padding": null,
            "right": null,
            "top": null,
            "visibility": null,
            "width": null
          }
        },
        "1243bc1013da4329bfbbdade79b2fe9e": {
          "model_module": "@jupyter-widgets/controls",
          "model_module_version": "1.5.0",
          "model_name": "FloatProgressModel",
          "state": {
            "_dom_classes": [],
            "_model_module": "@jupyter-widgets/controls",
            "_model_module_version": "1.5.0",
            "_model_name": "FloatProgressModel",
            "_view_count": null,
            "_view_module": "@jupyter-widgets/controls",
            "_view_module_version": "1.5.0",
            "_view_name": "ProgressView",
            "bar_style": "success",
            "description": "",
            "description_tooltip": null,
            "layout": "IPY_MODEL_112d86315b8e4f2c8e2522f2c7bae657",
            "max": 2,
            "min": 0,
            "orientation": "horizontal",
            "style": "IPY_MODEL_bec8a782beef4481aade133d8671c8b5",
            "value": 2
          }
        },
        "159bd4bd51ec4200b40d97c42ec32820": {
          "model_module": "@jupyter-widgets/base",
          "model_module_version": "1.2.0",
          "model_name": "LayoutModel",
          "state": {
            "_model_module": "@jupyter-widgets/base",
            "_model_module_version": "1.2.0",
            "_model_name": "LayoutModel",
            "_view_count": null,
            "_view_module": "@jupyter-widgets/base",
            "_view_module_version": "1.2.0",
            "_view_name": "LayoutView",
            "align_content": null,
            "align_items": null,
            "align_self": null,
            "border": null,
            "bottom": null,
            "display": null,
            "flex": null,
            "flex_flow": null,
            "grid_area": null,
            "grid_auto_columns": null,
            "grid_auto_flow": null,
            "grid_auto_rows": null,
            "grid_column": null,
            "grid_gap": null,
            "grid_row": null,
            "grid_template_areas": null,
            "grid_template_columns": null,
            "grid_template_rows": null,
            "height": null,
            "justify_content": null,
            "justify_items": null,
            "left": null,
            "margin": null,
            "max_height": null,
            "max_width": null,
            "min_height": null,
            "min_width": null,
            "object_fit": null,
            "object_position": null,
            "order": null,
            "overflow": null,
            "overflow_x": null,
            "overflow_y": null,
            "padding": null,
            "right": null,
            "top": null,
            "visibility": null,
            "width": null
          }
        },
        "16726b70c3fe49ab860157eba3c10cbc": {
          "model_module": "@jupyter-widgets/controls",
          "model_module_version": "1.5.0",
          "model_name": "FloatProgressModel",
          "state": {
            "_dom_classes": [],
            "_model_module": "@jupyter-widgets/controls",
            "_model_module_version": "1.5.0",
            "_model_name": "FloatProgressModel",
            "_view_count": null,
            "_view_module": "@jupyter-widgets/controls",
            "_view_module_version": "1.5.0",
            "_view_name": "ProgressView",
            "bar_style": "success",
            "description": "",
            "description_tooltip": null,
            "layout": "IPY_MODEL_c23d5ccc0a5744e4af823822454389ff",
            "max": 723454464,
            "min": 0,
            "orientation": "horizontal",
            "style": "IPY_MODEL_98ab7c6fee014081974379201d9a8e1e",
            "value": 723454464
          }
        },
        "1be914f3eb814dc0a9ed37fd8e2f6656": {
          "model_module": "@jupyter-widgets/controls",
          "model_module_version": "1.5.0",
          "model_name": "HTMLModel",
          "state": {
            "_dom_classes": [],
            "_model_module": "@jupyter-widgets/controls",
            "_model_module_version": "1.5.0",
            "_model_name": "HTMLModel",
            "_view_count": null,
            "_view_module": "@jupyter-widgets/controls",
            "_view_module_version": "1.5.0",
            "_view_name": "HTMLView",
            "description": "",
            "description_tooltip": null,
            "layout": "IPY_MODEL_cca72edb7b944174ad602f13d069fad9",
            "placeholder": "​",
            "style": "IPY_MODEL_05b37ce5320745a58e6b16b9d671e826",
            "value": " 19.0/19.0 [00:00&lt;00:00, 908B/s]"
          }
        },
        "1f84d39f58e8451fa1c58c6042c0db0e": {
          "model_module": "@jupyter-widgets/base",
          "model_module_version": "1.2.0",
          "model_name": "LayoutModel",
          "state": {
            "_model_module": "@jupyter-widgets/base",
            "_model_module_version": "1.2.0",
            "_model_name": "LayoutModel",
            "_view_count": null,
            "_view_module": "@jupyter-widgets/base",
            "_view_module_version": "1.2.0",
            "_view_name": "LayoutView",
            "align_content": null,
            "align_items": null,
            "align_self": null,
            "border": null,
            "bottom": null,
            "display": null,
            "flex": null,
            "flex_flow": null,
            "grid_area": null,
            "grid_auto_columns": null,
            "grid_auto_flow": null,
            "grid_auto_rows": null,
            "grid_column": null,
            "grid_gap": null,
            "grid_row": null,
            "grid_template_areas": null,
            "grid_template_columns": null,
            "grid_template_rows": null,
            "height": null,
            "justify_content": null,
            "justify_items": null,
            "left": null,
            "margin": null,
            "max_height": null,
            "max_width": null,
            "min_height": null,
            "min_width": null,
            "object_fit": null,
            "object_position": null,
            "order": null,
            "overflow": null,
            "overflow_x": null,
            "overflow_y": null,
            "padding": null,
            "right": null,
            "top": null,
            "visibility": null,
            "width": null
          }
        },
        "21f52054e017441e8a2793151f484692": {
          "model_module": "@jupyter-widgets/controls",
          "model_module_version": "1.5.0",
          "model_name": "ProgressStyleModel",
          "state": {
            "_model_module": "@jupyter-widgets/controls",
            "_model_module_version": "1.5.0",
            "_model_name": "ProgressStyleModel",
            "_view_count": null,
            "_view_module": "@jupyter-widgets/base",
            "_view_module_version": "1.2.0",
            "_view_name": "StyleView",
            "bar_color": null,
            "description_width": ""
          }
        },
        "235a2f2bdc7748609c97320c8981ab52": {
          "model_module": "@jupyter-widgets/base",
          "model_module_version": "1.2.0",
          "model_name": "LayoutModel",
          "state": {
            "_model_module": "@jupyter-widgets/base",
            "_model_module_version": "1.2.0",
            "_model_name": "LayoutModel",
            "_view_count": null,
            "_view_module": "@jupyter-widgets/base",
            "_view_module_version": "1.2.0",
            "_view_name": "LayoutView",
            "align_content": null,
            "align_items": null,
            "align_self": null,
            "border": null,
            "bottom": null,
            "display": null,
            "flex": null,
            "flex_flow": null,
            "grid_area": null,
            "grid_auto_columns": null,
            "grid_auto_flow": null,
            "grid_auto_rows": null,
            "grid_column": null,
            "grid_gap": null,
            "grid_row": null,
            "grid_template_areas": null,
            "grid_template_columns": null,
            "grid_template_rows": null,
            "height": null,
            "justify_content": null,
            "justify_items": null,
            "left": null,
            "margin": null,
            "max_height": null,
            "max_width": null,
            "min_height": null,
            "min_width": null,
            "object_fit": null,
            "object_position": null,
            "order": null,
            "overflow": null,
            "overflow_x": null,
            "overflow_y": null,
            "padding": null,
            "right": null,
            "top": null,
            "visibility": null,
            "width": null
          }
        },
        "26c3b38a0d9a45c7a215ce9a2eddd3c6": {
          "model_module": "@jupyter-widgets/controls",
          "model_module_version": "1.5.0",
          "model_name": "FloatProgressModel",
          "state": {
            "_dom_classes": [],
            "_model_module": "@jupyter-widgets/controls",
            "_model_module_version": "1.5.0",
            "_model_name": "FloatProgressModel",
            "_view_count": null,
            "_view_module": "@jupyter-widgets/controls",
            "_view_module_version": "1.5.0",
            "_view_name": "ProgressView",
            "bar_style": "success",
            "description": "",
            "description_tooltip": null,
            "layout": "IPY_MODEL_235a2f2bdc7748609c97320c8981ab52",
            "max": 19,
            "min": 0,
            "orientation": "horizontal",
            "style": "IPY_MODEL_21f52054e017441e8a2793151f484692",
            "value": 19
          }
        },
        "2a39c610058742f395c32b8c003fc3ad": {
          "model_module": "@jupyter-widgets/base",
          "model_module_version": "1.2.0",
          "model_name": "LayoutModel",
          "state": {
            "_model_module": "@jupyter-widgets/base",
            "_model_module_version": "1.2.0",
            "_model_name": "LayoutModel",
            "_view_count": null,
            "_view_module": "@jupyter-widgets/base",
            "_view_module_version": "1.2.0",
            "_view_name": "LayoutView",
            "align_content": null,
            "align_items": null,
            "align_self": null,
            "border": null,
            "bottom": null,
            "display": null,
            "flex": null,
            "flex_flow": null,
            "grid_area": null,
            "grid_auto_columns": null,
            "grid_auto_flow": null,
            "grid_auto_rows": null,
            "grid_column": null,
            "grid_gap": null,
            "grid_row": null,
            "grid_template_areas": null,
            "grid_template_columns": null,
            "grid_template_rows": null,
            "height": null,
            "justify_content": null,
            "justify_items": null,
            "left": null,
            "margin": null,
            "max_height": null,
            "max_width": null,
            "min_height": null,
            "min_width": null,
            "object_fit": null,
            "object_position": null,
            "order": null,
            "overflow": null,
            "overflow_x": null,
            "overflow_y": null,
            "padding": null,
            "right": null,
            "top": null,
            "visibility": null,
            "width": null
          }
        },
        "2b525487af984af2b8332eb2f1f179b2": {
          "model_module": "@jupyter-widgets/controls",
          "model_module_version": "1.5.0",
          "model_name": "HBoxModel",
          "state": {
            "_dom_classes": [],
            "_model_module": "@jupyter-widgets/controls",
            "_model_module_version": "1.5.0",
            "_model_name": "HBoxModel",
            "_view_count": null,
            "_view_module": "@jupyter-widgets/controls",
            "_view_module_version": "1.5.0",
            "_view_name": "HBoxView",
            "box_style": "",
            "children": [
              "IPY_MODEL_6d4ac4fd40284abdaa6686220f93ef17",
              "IPY_MODEL_3d2c05a0d3374e2580447eadeba732fc",
              "IPY_MODEL_9174174aa1e94d46bd28c5d47569f842"
            ],
            "layout": "IPY_MODEL_159bd4bd51ec4200b40d97c42ec32820"
          }
        },
        "3259a251c5094f388e2a777397b80dba": {
          "model_module": "@jupyter-widgets/controls",
          "model_module_version": "1.5.0",
          "model_name": "HTMLModel",
          "state": {
            "_dom_classes": [],
            "_model_module": "@jupyter-widgets/controls",
            "_model_module_version": "1.5.0",
            "_model_name": "HTMLModel",
            "_view_count": null,
            "_view_module": "@jupyter-widgets/controls",
            "_view_module_version": "1.5.0",
            "_view_name": "HTMLView",
            "description": "",
            "description_tooltip": null,
            "layout": "IPY_MODEL_2a39c610058742f395c32b8c003fc3ad",
            "placeholder": "​",
            "style": "IPY_MODEL_f4fbc98a71504e559f9d5ed8e46d1063",
            "value": " 2/2 [00:15&lt;00:00,  8.82s/it]"
          }
        },
        "33db13caa90e4e25957ca92ee22999dc": {
          "model_module": "@jupyter-widgets/controls",
          "model_module_version": "1.5.0",
          "model_name": "HBoxModel",
          "state": {
            "_dom_classes": [],
            "_model_module": "@jupyter-widgets/controls",
            "_model_module_version": "1.5.0",
            "_model_name": "HBoxModel",
            "_view_count": null,
            "_view_module": "@jupyter-widgets/controls",
            "_view_module_version": "1.5.0",
            "_view_name": "HBoxView",
            "box_style": "",
            "children": [
              "IPY_MODEL_a693d6ad7a0847a0a6d3cf4c3790af2a",
              "IPY_MODEL_1243bc1013da4329bfbbdade79b2fe9e",
              "IPY_MODEL_3259a251c5094f388e2a777397b80dba"
            ],
            "layout": "IPY_MODEL_8d3404e1cac643068ca47b4ce7e12b7f"
          }
        },
        "3a467fac246d482a8b6385d7bb5128f6": {
          "model_module": "@jupyter-widgets/base",
          "model_module_version": "1.2.0",
          "model_name": "LayoutModel",
          "state": {
            "_model_module": "@jupyter-widgets/base",
            "_model_module_version": "1.2.0",
            "_model_name": "LayoutModel",
            "_view_count": null,
            "_view_module": "@jupyter-widgets/base",
            "_view_module_version": "1.2.0",
            "_view_name": "LayoutView",
            "align_content": null,
            "align_items": null,
            "align_self": null,
            "border": null,
            "bottom": null,
            "display": null,
            "flex": null,
            "flex_flow": null,
            "grid_area": null,
            "grid_auto_columns": null,
            "grid_auto_flow": null,
            "grid_auto_rows": null,
            "grid_column": null,
            "grid_gap": null,
            "grid_row": null,
            "grid_template_areas": null,
            "grid_template_columns": null,
            "grid_template_rows": null,
            "height": null,
            "justify_content": null,
            "justify_items": null,
            "left": null,
            "margin": null,
            "max_height": null,
            "max_width": null,
            "min_height": null,
            "min_width": null,
            "object_fit": null,
            "object_position": null,
            "order": null,
            "overflow": null,
            "overflow_x": null,
            "overflow_y": null,
            "padding": null,
            "right": null,
            "top": null,
            "visibility": null,
            "width": null
          }
        },
        "3d2c05a0d3374e2580447eadeba732fc": {
          "model_module": "@jupyter-widgets/controls",
          "model_module_version": "1.5.0",
          "model_name": "FloatProgressModel",
          "state": {
            "_dom_classes": [],
            "_model_module": "@jupyter-widgets/controls",
            "_model_module_version": "1.5.0",
            "_model_name": "FloatProgressModel",
            "_view_count": null,
            "_view_module": "@jupyter-widgets/controls",
            "_view_module_version": "1.5.0",
            "_view_name": "ProgressView",
            "bar_style": "success",
            "description": "",
            "description_tooltip": null,
            "layout": "IPY_MODEL_4f38d970ef384cdaade64a66b2154bda",
            "max": 45862,
            "min": 0,
            "orientation": "horizontal",
            "style": "IPY_MODEL_52a1135ed16740e2990c6d9aeee8bc62",
            "value": 45862
          }
        },
        "4f168ed25e6d4bfb9268ae7c421bcdbe": {
          "model_module": "@jupyter-widgets/controls",
          "model_module_version": "1.5.0",
          "model_name": "DescriptionStyleModel",
          "state": {
            "_model_module": "@jupyter-widgets/controls",
            "_model_module_version": "1.5.0",
            "_model_name": "DescriptionStyleModel",
            "_view_count": null,
            "_view_module": "@jupyter-widgets/base",
            "_view_module_version": "1.2.0",
            "_view_name": "StyleView",
            "description_width": ""
          }
        },
        "4f38d970ef384cdaade64a66b2154bda": {
          "model_module": "@jupyter-widgets/base",
          "model_module_version": "1.2.0",
          "model_name": "LayoutModel",
          "state": {
            "_model_module": "@jupyter-widgets/base",
            "_model_module_version": "1.2.0",
            "_model_name": "LayoutModel",
            "_view_count": null,
            "_view_module": "@jupyter-widgets/base",
            "_view_module_version": "1.2.0",
            "_view_name": "LayoutView",
            "align_content": null,
            "align_items": null,
            "align_self": null,
            "border": null,
            "bottom": null,
            "display": null,
            "flex": null,
            "flex_flow": null,
            "grid_area": null,
            "grid_auto_columns": null,
            "grid_auto_flow": null,
            "grid_auto_rows": null,
            "grid_column": null,
            "grid_gap": null,
            "grid_row": null,
            "grid_template_areas": null,
            "grid_template_columns": null,
            "grid_template_rows": null,
            "height": null,
            "justify_content": null,
            "justify_items": null,
            "left": null,
            "margin": null,
            "max_height": null,
            "max_width": null,
            "min_height": null,
            "min_width": null,
            "object_fit": null,
            "object_position": null,
            "order": null,
            "overflow": null,
            "overflow_x": null,
            "overflow_y": null,
            "padding": null,
            "right": null,
            "top": null,
            "visibility": null,
            "width": null
          }
        },
        "528f3a211fe74acb8389fb83664d0631": {
          "model_module": "@jupyter-widgets/base",
          "model_module_version": "1.2.0",
          "model_name": "LayoutModel",
          "state": {
            "_model_module": "@jupyter-widgets/base",
            "_model_module_version": "1.2.0",
            "_model_name": "LayoutModel",
            "_view_count": null,
            "_view_module": "@jupyter-widgets/base",
            "_view_module_version": "1.2.0",
            "_view_name": "LayoutView",
            "align_content": null,
            "align_items": null,
            "align_self": null,
            "border": null,
            "bottom": null,
            "display": null,
            "flex": null,
            "flex_flow": null,
            "grid_area": null,
            "grid_auto_columns": null,
            "grid_auto_flow": null,
            "grid_auto_rows": null,
            "grid_column": null,
            "grid_gap": null,
            "grid_row": null,
            "grid_template_areas": null,
            "grid_template_columns": null,
            "grid_template_rows": null,
            "height": null,
            "justify_content": null,
            "justify_items": null,
            "left": null,
            "margin": null,
            "max_height": null,
            "max_width": null,
            "min_height": null,
            "min_width": null,
            "object_fit": null,
            "object_position": null,
            "order": null,
            "overflow": null,
            "overflow_x": null,
            "overflow_y": null,
            "padding": null,
            "right": null,
            "top": null,
            "visibility": null,
            "width": null
          }
        },
        "52a1135ed16740e2990c6d9aeee8bc62": {
          "model_module": "@jupyter-widgets/controls",
          "model_module_version": "1.5.0",
          "model_name": "ProgressStyleModel",
          "state": {
            "_model_module": "@jupyter-widgets/controls",
            "_model_module_version": "1.5.0",
            "_model_name": "ProgressStyleModel",
            "_view_count": null,
            "_view_module": "@jupyter-widgets/base",
            "_view_module_version": "1.2.0",
            "_view_name": "StyleView",
            "bar_color": null,
            "description_width": ""
          }
        },
        "52b1afd0b93d4260a3b0f2910afe8568": {
          "model_module": "@jupyter-widgets/base",
          "model_module_version": "1.2.0",
          "model_name": "LayoutModel",
          "state": {
            "_model_module": "@jupyter-widgets/base",
            "_model_module_version": "1.2.0",
            "_model_name": "LayoutModel",
            "_view_count": null,
            "_view_module": "@jupyter-widgets/base",
            "_view_module_version": "1.2.0",
            "_view_name": "LayoutView",
            "align_content": null,
            "align_items": null,
            "align_self": null,
            "border": null,
            "bottom": null,
            "display": null,
            "flex": null,
            "flex_flow": null,
            "grid_area": null,
            "grid_auto_columns": null,
            "grid_auto_flow": null,
            "grid_auto_rows": null,
            "grid_column": null,
            "grid_gap": null,
            "grid_row": null,
            "grid_template_areas": null,
            "grid_template_columns": null,
            "grid_template_rows": null,
            "height": null,
            "justify_content": null,
            "justify_items": null,
            "left": null,
            "margin": null,
            "max_height": null,
            "max_width": null,
            "min_height": null,
            "min_width": null,
            "object_fit": null,
            "object_position": null,
            "order": null,
            "overflow": null,
            "overflow_x": null,
            "overflow_y": null,
            "padding": null,
            "right": null,
            "top": null,
            "visibility": null,
            "width": null
          }
        },
        "5819e11f5e2d47c4bb3557ff232c0f2d": {
          "model_module": "@jupyter-widgets/controls",
          "model_module_version": "1.5.0",
          "model_name": "DescriptionStyleModel",
          "state": {
            "_model_module": "@jupyter-widgets/controls",
            "_model_module_version": "1.5.0",
            "_model_name": "DescriptionStyleModel",
            "_view_count": null,
            "_view_module": "@jupyter-widgets/base",
            "_view_module_version": "1.2.0",
            "_view_name": "StyleView",
            "description_width": ""
          }
        },
        "6d4ac4fd40284abdaa6686220f93ef17": {
          "model_module": "@jupyter-widgets/controls",
          "model_module_version": "1.5.0",
          "model_name": "HTMLModel",
          "state": {
            "_dom_classes": [],
            "_model_module": "@jupyter-widgets/controls",
            "_model_module_version": "1.5.0",
            "_model_name": "HTMLModel",
            "_view_count": null,
            "_view_module": "@jupyter-widgets/controls",
            "_view_module_version": "1.5.0",
            "_view_name": "HTMLView",
            "description": "",
            "description_tooltip": null,
            "layout": "IPY_MODEL_1f84d39f58e8451fa1c58c6042c0db0e",
            "placeholder": "​",
            "style": "IPY_MODEL_0e64fc0786574cbbbace5e618b46af25",
            "value": "skinny_hot_girls.captions.tar.gz: 100%"
          }
        },
        "72e7a55cee1c4910af253d65b69db802": {
          "model_module": "@jupyter-widgets/controls",
          "model_module_version": "1.5.0",
          "model_name": "HBoxModel",
          "state": {
            "_dom_classes": [],
            "_model_module": "@jupyter-widgets/controls",
            "_model_module_version": "1.5.0",
            "_model_name": "HBoxModel",
            "_view_count": null,
            "_view_module": "@jupyter-widgets/controls",
            "_view_module_version": "1.5.0",
            "_view_name": "HBoxView",
            "box_style": "",
            "children": [
              "IPY_MODEL_9265c33a68c44a30933adbdc051dfa15",
              "IPY_MODEL_16726b70c3fe49ab860157eba3c10cbc",
              "IPY_MODEL_af77985cb053423fb7a255430cc2b59b"
            ],
            "layout": "IPY_MODEL_cda85a676b2848c8bd8ef192a1e64666"
          }
        },
        "7413094047c64511a0f012f64838326b": {
          "model_module": "@jupyter-widgets/controls",
          "model_module_version": "1.5.0",
          "model_name": "HBoxModel",
          "state": {
            "_dom_classes": [],
            "_model_module": "@jupyter-widgets/controls",
            "_model_module_version": "1.5.0",
            "_model_name": "HBoxModel",
            "_view_count": null,
            "_view_module": "@jupyter-widgets/controls",
            "_view_module_version": "1.5.0",
            "_view_name": "HBoxView",
            "box_style": "",
            "children": [
              "IPY_MODEL_890dd27a6fe7402c94282799e0a73d3c",
              "IPY_MODEL_26c3b38a0d9a45c7a215ce9a2eddd3c6",
              "IPY_MODEL_1be914f3eb814dc0a9ed37fd8e2f6656"
            ],
            "layout": "IPY_MODEL_52b1afd0b93d4260a3b0f2910afe8568"
          }
        },
        "833545da07d84d6396f5ed7eb75bf582": {
          "model_module": "@jupyter-widgets/controls",
          "model_module_version": "1.5.0",
          "model_name": "DescriptionStyleModel",
          "state": {
            "_model_module": "@jupyter-widgets/controls",
            "_model_module_version": "1.5.0",
            "_model_name": "DescriptionStyleModel",
            "_view_count": null,
            "_view_module": "@jupyter-widgets/base",
            "_view_module_version": "1.2.0",
            "_view_name": "StyleView",
            "description_width": ""
          }
        },
        "890dd27a6fe7402c94282799e0a73d3c": {
          "model_module": "@jupyter-widgets/controls",
          "model_module_version": "1.5.0",
          "model_name": "HTMLModel",
          "state": {
            "_dom_classes": [],
            "_model_module": "@jupyter-widgets/controls",
            "_model_module_version": "1.5.0",
            "_model_name": "HTMLModel",
            "_view_count": null,
            "_view_module": "@jupyter-widgets/controls",
            "_view_module_version": "1.5.0",
            "_view_name": "HTMLView",
            "description": "",
            "description_tooltip": null,
            "layout": "IPY_MODEL_c4796a760c124c40b99eeb3514ae07ba",
            "placeholder": "​",
            "style": "IPY_MODEL_5819e11f5e2d47c4bb3557ff232c0f2d",
            "value": "SkinnyHotGirls/README.md: 100%"
          }
        },
        "8959a264a07b4b2a954d04c94a48744e": {
          "model_module": "@jupyter-widgets/controls",
          "model_module_version": "1.5.0",
          "model_name": "DescriptionStyleModel",
          "state": {
            "_model_module": "@jupyter-widgets/controls",
            "_model_module_version": "1.5.0",
            "_model_name": "DescriptionStyleModel",
            "_view_count": null,
            "_view_module": "@jupyter-widgets/base",
            "_view_module_version": "1.2.0",
            "_view_name": "StyleView",
            "description_width": ""
          }
        },
        "8cf32b1593c643fda2ff2c56d92a4f80": {
          "model_module": "@jupyter-widgets/base",
          "model_module_version": "1.2.0",
          "model_name": "LayoutModel",
          "state": {
            "_model_module": "@jupyter-widgets/base",
            "_model_module_version": "1.2.0",
            "_model_name": "LayoutModel",
            "_view_count": null,
            "_view_module": "@jupyter-widgets/base",
            "_view_module_version": "1.2.0",
            "_view_name": "LayoutView",
            "align_content": null,
            "align_items": null,
            "align_self": null,
            "border": null,
            "bottom": null,
            "display": null,
            "flex": null,
            "flex_flow": null,
            "grid_area": null,
            "grid_auto_columns": null,
            "grid_auto_flow": null,
            "grid_auto_rows": null,
            "grid_column": null,
            "grid_gap": null,
            "grid_row": null,
            "grid_template_areas": null,
            "grid_template_columns": null,
            "grid_template_rows": null,
            "height": null,
            "justify_content": null,
            "justify_items": null,
            "left": null,
            "margin": null,
            "max_height": null,
            "max_width": null,
            "min_height": null,
            "min_width": null,
            "object_fit": null,
            "object_position": null,
            "order": null,
            "overflow": null,
            "overflow_x": null,
            "overflow_y": null,
            "padding": null,
            "right": null,
            "top": null,
            "visibility": null,
            "width": null
          }
        },
        "8d3404e1cac643068ca47b4ce7e12b7f": {
          "model_module": "@jupyter-widgets/base",
          "model_module_version": "1.2.0",
          "model_name": "LayoutModel",
          "state": {
            "_model_module": "@jupyter-widgets/base",
            "_model_module_version": "1.2.0",
            "_model_name": "LayoutModel",
            "_view_count": null,
            "_view_module": "@jupyter-widgets/base",
            "_view_module_version": "1.2.0",
            "_view_name": "LayoutView",
            "align_content": null,
            "align_items": null,
            "align_self": null,
            "border": null,
            "bottom": null,
            "display": null,
            "flex": null,
            "flex_flow": null,
            "grid_area": null,
            "grid_auto_columns": null,
            "grid_auto_flow": null,
            "grid_auto_rows": null,
            "grid_column": null,
            "grid_gap": null,
            "grid_row": null,
            "grid_template_areas": null,
            "grid_template_columns": null,
            "grid_template_rows": null,
            "height": null,
            "justify_content": null,
            "justify_items": null,
            "left": null,
            "margin": null,
            "max_height": null,
            "max_width": null,
            "min_height": null,
            "min_width": null,
            "object_fit": null,
            "object_position": null,
            "order": null,
            "overflow": null,
            "overflow_x": null,
            "overflow_y": null,
            "padding": null,
            "right": null,
            "top": null,
            "visibility": null,
            "width": null
          }
        },
        "9174174aa1e94d46bd28c5d47569f842": {
          "model_module": "@jupyter-widgets/controls",
          "model_module_version": "1.5.0",
          "model_name": "HTMLModel",
          "state": {
            "_dom_classes": [],
            "_model_module": "@jupyter-widgets/controls",
            "_model_module_version": "1.5.0",
            "_model_name": "HTMLModel",
            "_view_count": null,
            "_view_module": "@jupyter-widgets/controls",
            "_view_module_version": "1.5.0",
            "_view_name": "HTMLView",
            "description": "",
            "description_tooltip": null,
            "layout": "IPY_MODEL_528f3a211fe74acb8389fb83664d0631",
            "placeholder": "​",
            "style": "IPY_MODEL_8959a264a07b4b2a954d04c94a48744e",
            "value": " 45.9k/45.9k [00:00&lt;00:00, 89.8kB/s]"
          }
        },
        "9265c33a68c44a30933adbdc051dfa15": {
          "model_module": "@jupyter-widgets/controls",
          "model_module_version": "1.5.0",
          "model_name": "HTMLModel",
          "state": {
            "_dom_classes": [],
            "_model_module": "@jupyter-widgets/controls",
            "_model_module_version": "1.5.0",
            "_model_name": "HTMLModel",
            "_view_count": null,
            "_view_module": "@jupyter-widgets/controls",
            "_view_module_version": "1.5.0",
            "_view_name": "HTMLView",
            "description": "",
            "description_tooltip": null,
            "layout": "IPY_MODEL_9f7ca6f45acf4d89af542eff4250b760",
            "placeholder": "​",
            "style": "IPY_MODEL_833545da07d84d6396f5ed7eb75bf582",
            "value": "skinny_hot_girls.tar: 100%"
          }
        },
        "98ab7c6fee014081974379201d9a8e1e": {
          "model_module": "@jupyter-widgets/controls",
          "model_module_version": "1.5.0",
          "model_name": "ProgressStyleModel",
          "state": {
            "_model_module": "@jupyter-widgets/controls",
            "_model_module_version": "1.5.0",
            "_model_name": "ProgressStyleModel",
            "_view_count": null,
            "_view_module": "@jupyter-widgets/base",
            "_view_module_version": "1.2.0",
            "_view_name": "StyleView",
            "bar_color": null,
            "description_width": ""
          }
        },
        "9f7ca6f45acf4d89af542eff4250b760": {
          "model_module": "@jupyter-widgets/base",
          "model_module_version": "1.2.0",
          "model_name": "LayoutModel",
          "state": {
            "_model_module": "@jupyter-widgets/base",
            "_model_module_version": "1.2.0",
            "_model_name": "LayoutModel",
            "_view_count": null,
            "_view_module": "@jupyter-widgets/base",
            "_view_module_version": "1.2.0",
            "_view_name": "LayoutView",
            "align_content": null,
            "align_items": null,
            "align_self": null,
            "border": null,
            "bottom": null,
            "display": null,
            "flex": null,
            "flex_flow": null,
            "grid_area": null,
            "grid_auto_columns": null,
            "grid_auto_flow": null,
            "grid_auto_rows": null,
            "grid_column": null,
            "grid_gap": null,
            "grid_row": null,
            "grid_template_areas": null,
            "grid_template_columns": null,
            "grid_template_rows": null,
            "height": null,
            "justify_content": null,
            "justify_items": null,
            "left": null,
            "margin": null,
            "max_height": null,
            "max_width": null,
            "min_height": null,
            "min_width": null,
            "object_fit": null,
            "object_position": null,
            "order": null,
            "overflow": null,
            "overflow_x": null,
            "overflow_y": null,
            "padding": null,
            "right": null,
            "top": null,
            "visibility": null,
            "width": null
          }
        },
        "a693d6ad7a0847a0a6d3cf4c3790af2a": {
          "model_module": "@jupyter-widgets/controls",
          "model_module_version": "1.5.0",
          "model_name": "HTMLModel",
          "state": {
            "_dom_classes": [],
            "_model_module": "@jupyter-widgets/controls",
            "_model_module_version": "1.5.0",
            "_model_name": "HTMLModel",
            "_view_count": null,
            "_view_module": "@jupyter-widgets/controls",
            "_view_module_version": "1.5.0",
            "_view_name": "HTMLView",
            "description": "",
            "description_tooltip": null,
            "layout": "IPY_MODEL_3a467fac246d482a8b6385d7bb5128f6",
            "placeholder": "​",
            "style": "IPY_MODEL_ff2b8900680a4ce1920f17556ba01e0c",
            "value": "Fetching 2 files: 100%"
          }
        },
        "af77985cb053423fb7a255430cc2b59b": {
          "model_module": "@jupyter-widgets/controls",
          "model_module_version": "1.5.0",
          "model_name": "HTMLModel",
          "state": {
            "_dom_classes": [],
            "_model_module": "@jupyter-widgets/controls",
            "_model_module_version": "1.5.0",
            "_model_name": "HTMLModel",
            "_view_count": null,
            "_view_module": "@jupyter-widgets/controls",
            "_view_module_version": "1.5.0",
            "_view_name": "HTMLView",
            "description": "",
            "description_tooltip": null,
            "layout": "IPY_MODEL_8cf32b1593c643fda2ff2c56d92a4f80",
            "placeholder": "​",
            "style": "IPY_MODEL_4f168ed25e6d4bfb9268ae7c421bcdbe",
            "value": " 723M/723M [00:14&lt;00:00, 39.6MB/s]"
          }
        },
        "bec8a782beef4481aade133d8671c8b5": {
          "model_module": "@jupyter-widgets/controls",
          "model_module_version": "1.5.0",
          "model_name": "ProgressStyleModel",
          "state": {
            "_model_module": "@jupyter-widgets/controls",
            "_model_module_version": "1.5.0",
            "_model_name": "ProgressStyleModel",
            "_view_count": null,
            "_view_module": "@jupyter-widgets/base",
            "_view_module_version": "1.2.0",
            "_view_name": "StyleView",
            "bar_color": null,
            "description_width": ""
          }
        },
        "c23d5ccc0a5744e4af823822454389ff": {
          "model_module": "@jupyter-widgets/base",
          "model_module_version": "1.2.0",
          "model_name": "LayoutModel",
          "state": {
            "_model_module": "@jupyter-widgets/base",
            "_model_module_version": "1.2.0",
            "_model_name": "LayoutModel",
            "_view_count": null,
            "_view_module": "@jupyter-widgets/base",
            "_view_module_version": "1.2.0",
            "_view_name": "LayoutView",
            "align_content": null,
            "align_items": null,
            "align_self": null,
            "border": null,
            "bottom": null,
            "display": null,
            "flex": null,
            "flex_flow": null,
            "grid_area": null,
            "grid_auto_columns": null,
            "grid_auto_flow": null,
            "grid_auto_rows": null,
            "grid_column": null,
            "grid_gap": null,
            "grid_row": null,
            "grid_template_areas": null,
            "grid_template_columns": null,
            "grid_template_rows": null,
            "height": null,
            "justify_content": null,
            "justify_items": null,
            "left": null,
            "margin": null,
            "max_height": null,
            "max_width": null,
            "min_height": null,
            "min_width": null,
            "object_fit": null,
            "object_position": null,
            "order": null,
            "overflow": null,
            "overflow_x": null,
            "overflow_y": null,
            "padding": null,
            "right": null,
            "top": null,
            "visibility": null,
            "width": null
          }
        },
        "c4796a760c124c40b99eeb3514ae07ba": {
          "model_module": "@jupyter-widgets/base",
          "model_module_version": "1.2.0",
          "model_name": "LayoutModel",
          "state": {
            "_model_module": "@jupyter-widgets/base",
            "_model_module_version": "1.2.0",
            "_model_name": "LayoutModel",
            "_view_count": null,
            "_view_module": "@jupyter-widgets/base",
            "_view_module_version": "1.2.0",
            "_view_name": "LayoutView",
            "align_content": null,
            "align_items": null,
            "align_self": null,
            "border": null,
            "bottom": null,
            "display": null,
            "flex": null,
            "flex_flow": null,
            "grid_area": null,
            "grid_auto_columns": null,
            "grid_auto_flow": null,
            "grid_auto_rows": null,
            "grid_column": null,
            "grid_gap": null,
            "grid_row": null,
            "grid_template_areas": null,
            "grid_template_columns": null,
            "grid_template_rows": null,
            "height": null,
            "justify_content": null,
            "justify_items": null,
            "left": null,
            "margin": null,
            "max_height": null,
            "max_width": null,
            "min_height": null,
            "min_width": null,
            "object_fit": null,
            "object_position": null,
            "order": null,
            "overflow": null,
            "overflow_x": null,
            "overflow_y": null,
            "padding": null,
            "right": null,
            "top": null,
            "visibility": null,
            "width": null
          }
        },
        "cca72edb7b944174ad602f13d069fad9": {
          "model_module": "@jupyter-widgets/base",
          "model_module_version": "1.2.0",
          "model_name": "LayoutModel",
          "state": {
            "_model_module": "@jupyter-widgets/base",
            "_model_module_version": "1.2.0",
            "_model_name": "LayoutModel",
            "_view_count": null,
            "_view_module": "@jupyter-widgets/base",
            "_view_module_version": "1.2.0",
            "_view_name": "LayoutView",
            "align_content": null,
            "align_items": null,
            "align_self": null,
            "border": null,
            "bottom": null,
            "display": null,
            "flex": null,
            "flex_flow": null,
            "grid_area": null,
            "grid_auto_columns": null,
            "grid_auto_flow": null,
            "grid_auto_rows": null,
            "grid_column": null,
            "grid_gap": null,
            "grid_row": null,
            "grid_template_areas": null,
            "grid_template_columns": null,
            "grid_template_rows": null,
            "height": null,
            "justify_content": null,
            "justify_items": null,
            "left": null,
            "margin": null,
            "max_height": null,
            "max_width": null,
            "min_height": null,
            "min_width": null,
            "object_fit": null,
            "object_position": null,
            "order": null,
            "overflow": null,
            "overflow_x": null,
            "overflow_y": null,
            "padding": null,
            "right": null,
            "top": null,
            "visibility": null,
            "width": null
          }
        },
        "cda85a676b2848c8bd8ef192a1e64666": {
          "model_module": "@jupyter-widgets/base",
          "model_module_version": "1.2.0",
          "model_name": "LayoutModel",
          "state": {
            "_model_module": "@jupyter-widgets/base",
            "_model_module_version": "1.2.0",
            "_model_name": "LayoutModel",
            "_view_count": null,
            "_view_module": "@jupyter-widgets/base",
            "_view_module_version": "1.2.0",
            "_view_name": "LayoutView",
            "align_content": null,
            "align_items": null,
            "align_self": null,
            "border": null,
            "bottom": null,
            "display": null,
            "flex": null,
            "flex_flow": null,
            "grid_area": null,
            "grid_auto_columns": null,
            "grid_auto_flow": null,
            "grid_auto_rows": null,
            "grid_column": null,
            "grid_gap": null,
            "grid_row": null,
            "grid_template_areas": null,
            "grid_template_columns": null,
            "grid_template_rows": null,
            "height": null,
            "justify_content": null,
            "justify_items": null,
            "left": null,
            "margin": null,
            "max_height": null,
            "max_width": null,
            "min_height": null,
            "min_width": null,
            "object_fit": null,
            "object_position": null,
            "order": null,
            "overflow": null,
            "overflow_x": null,
            "overflow_y": null,
            "padding": null,
            "right": null,
            "top": null,
            "visibility": null,
            "width": null
          }
        },
        "f4fbc98a71504e559f9d5ed8e46d1063": {
          "model_module": "@jupyter-widgets/controls",
          "model_module_version": "1.5.0",
          "model_name": "DescriptionStyleModel",
          "state": {
            "_model_module": "@jupyter-widgets/controls",
            "_model_module_version": "1.5.0",
            "_model_name": "DescriptionStyleModel",
            "_view_count": null,
            "_view_module": "@jupyter-widgets/base",
            "_view_module_version": "1.2.0",
            "_view_name": "StyleView",
            "description_width": ""
          }
        },
        "ff2b8900680a4ce1920f17556ba01e0c": {
          "model_module": "@jupyter-widgets/controls",
          "model_module_version": "1.5.0",
          "model_name": "DescriptionStyleModel",
          "state": {
            "_model_module": "@jupyter-widgets/controls",
            "_model_module_version": "1.5.0",
            "_model_name": "DescriptionStyleModel",
            "_view_count": null,
            "_view_module": "@jupyter-widgets/base",
            "_view_module_version": "1.2.0",
            "_view_name": "StyleView",
            "description_width": ""
          }
        }
      }
    }
  },
  "nbformat": 4,
  "nbformat_minor": 0
}
