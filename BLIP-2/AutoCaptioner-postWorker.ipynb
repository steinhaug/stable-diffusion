{
  "nbformat": 4,
  "nbformat_minor": 0,
  "metadata": {
    "colab": {
      "provenance": [],
      "authorship_tag": "ABX9TyPwUbqIkqD/hZJzz7fhIaJF",
      "include_colab_link": true
    },
    "kernelspec": {
      "name": "python3",
      "display_name": "Python 3"
    },
    "language_info": {
      "name": "python"
    }
  },
  "cells": [
    {
      "cell_type": "markdown",
      "metadata": {
        "id": "view-in-github",
        "colab_type": "text"
      },
      "source": [
        "<a href=\"https://colab.research.google.com/github/steinhaug/stable-diffusion/blob/main/BLIP-2/AutoCaptioner-postWorker.ipynb\" target=\"_parent\"><img src=\"https://colab.research.google.com/assets/colab-badge.svg\" alt=\"Open In Colab\"/></a>"
      ]
    },
    {
      "cell_type": "code",
      "source": [
        "#@markdown load notebook functions\n",
        "def fill_array_length(arr, length=10):\n",
        "    length = length + 1\n",
        "    if len(arr) < length:\n",
        "        arr += [''] * (length - len(arr))\n",
        "    return arr\n",
        "\n",
        "def contains_any_substring(input_string, substrings, force_lowercase=True):\n",
        "    for substring in substrings:\n",
        "        if substring in input_string.lower():\n",
        "            return True\n",
        "    return False\n",
        "\n",
        "def extract_first_string_in_quotes(input_string):\n",
        "    start_quote = input_string.find('\"')\n",
        "    end_quote = input_string.find('\"', start_quote + 1)\n",
        "\n",
        "    if start_quote != -1 and end_quote != -1:\n",
        "        contents_in_quotes = input_string[start_quote + 1:end_quote]\n",
        "        return contents_in_quotes\n",
        "    else:\n",
        "        return None\n",
        "\n",
        "def string__return_left_from_match(input_string, array_of_strings, replacement=''):\n",
        "    for match in array_of_strings:\n",
        "        if match in input_string:\n",
        "            left_part = input_string.split(match)[0]\n",
        "            return left_part + replacement\n",
        "    return input_string\n",
        "\n",
        "def remove_prefix(input_string, prefixes):\n",
        "    for prefix in prefixes:\n",
        "        if input_string.startswith(prefix):\n",
        "            input_string = input_string[len(prefix):]\n",
        "\n",
        "    return input_string\n",
        "\n",
        "def remove_matches(main_string, substrings_to_remove):\n",
        "    for substring in substrings_to_remove:\n",
        "        main_string = main_string.replace(substring, '')\n",
        "    return main_string\n",
        "\n",
        "# Strip ordered list, number - prefix\n",
        "def strip_ol(input_string):\n",
        "    index_of_space = input_string.find('-')\n",
        "    if index_of_space != -1:\n",
        "        result_string = input_string[index_of_space + 1:]\n",
        "        return result_string.strip()\n",
        "    else:\n",
        "        return input_string\n",
        "\n",
        "def true_or_false(string, matches=[\"yes\"]):\n",
        "    if contains_any_substring(string, matches):\n",
        "        return True\n",
        "    else:\n",
        "        return False\n"
      ],
      "metadata": {
        "cellView": "form",
        "id": "5x9lh8uVl-0K"
      },
      "execution_count": 142,
      "outputs": []
    },
    {
      "cell_type": "code",
      "execution_count": 143,
      "metadata": {
        "id": "L9iQ_956lEtR"
      },
      "outputs": [],
      "source": [
        "text = '''1 - If this was a photo for an adult movie, the title would be \"Sultry Seduction.\"\n",
        "2 - The subject is a beautiful, blonde woman with a captivating gaze.\n",
        "3 - The woman is wearing a black bra and panties, which are visible in the image.\n",
        "4 - The woman's pussy is shaved, giving her a clean and polished appearance.\n",
        "5 - The woman has large breasts, which are prominently displayed in the photo.\n",
        "6 - The woman has a normal body build, with a healthy and attractive physique.\n",
        "7 - Yes\n",
        "8 - Yes\n",
        "9 - No\n",
        "10 - Lying on her back\n",
        "11 - The woman's hands are resting on her thighs, adding to the sensual and alluring atmosphere of the image.'''"
      ]
    },
    {
      "cell_type": "code",
      "source": [
        "text = text.strip()\n",
        "lines = fill_array_length( text.split('\\n') )\n",
        "lineout = fill_array_length([])"
      ],
      "metadata": {
        "id": "hPlLC5JHljl2"
      },
      "execution_count": 144,
      "outputs": []
    },
    {
      "cell_type": "code",
      "source": [
        "lineout[0] = extract_first_string_in_quotes(lines[0])\n",
        "print(lineout[0])"
      ],
      "metadata": {
        "colab": {
          "base_uri": "https://localhost:8080/"
        },
        "id": "Honve6vUPxTB",
        "outputId": "68f46e2e-213f-4c1f-fae1-3a47dac4fa6f"
      },
      "execution_count": 145,
      "outputs": [
        {
          "output_type": "stream",
          "name": "stdout",
          "text": [
            "Sultry Seduction.\n"
          ]
        }
      ]
    },
    {
      "cell_type": "code",
      "source": [
        "lineout[1] = remove_prefix(lines[1][4:], [\"The subject is \"]).capitalize()\n",
        "print( lineout[1] )"
      ],
      "metadata": {
        "colab": {
          "base_uri": "https://localhost:8080/"
        },
        "id": "ZgcdsMCZnYrn",
        "outputId": "a44a26dc-3551-40f8-9dcb-ffbb33dd78da"
      },
      "execution_count": 134,
      "outputs": [
        {
          "output_type": "stream",
          "name": "stdout",
          "text": [
            "A beautiful, blonde woman with a captivating gaze.\n"
          ]
        }
      ]
    },
    {
      "cell_type": "code",
      "source": [
        "lineout[2] = remove_prefix(lines[2][4:], [\"The subject is \"])\n",
        "if contains_any_substring(result, [\"completely naked\"]):\n",
        "    lineout[2] = 'NSWF, totally naked.'.capitalize()\n",
        "else:\n",
        "    lineout[2] = remove_matches(result, [\" as she is\",\", which are visible in the image\"]).capitalize()\n",
        "\n",
        "print( lineout[2] )"
      ],
      "metadata": {
        "colab": {
          "base_uri": "https://localhost:8080/"
        },
        "id": "nsok7Zxon9YV",
        "outputId": "2ad376a5-a18a-45f9-dfda-c64765d46e9a"
      },
      "execution_count": 135,
      "outputs": [
        {
          "output_type": "stream",
          "name": "stdout",
          "text": [
            "The woman is wearing a black bra and panties.\n"
          ]
        }
      ]
    },
    {
      "cell_type": "code",
      "source": [
        "if contains_any_substring(strip_ol(lines[3]), [\"not possible\"]):\n",
        "    result = '-'\n",
        "elif contains_any_substring(strip_ol(lines[3]), [\"shaved\", \"shaven\"]):\n",
        "    result = 'Shaved pussy.'\n",
        "elif contains_any_substring(strip_ol(lines[3]), [\"trimmed\"]):\n",
        "    result = 'Trimmed pussy.'\n",
        "elif contains_any_substring(strip_ol(lines[3]), [\"hairy\"]):\n",
        "    result = 'Hairy pussy.'\n",
        "else:\n",
        "    result = '-'\n",
        "\n",
        "lineout[3] = result\n",
        "print( lineout[3] )"
      ],
      "metadata": {
        "colab": {
          "base_uri": "https://localhost:8080/"
        },
        "id": "gdVi_r2DoTQF",
        "outputId": "843e71a4-b07a-4682-fe37-790bccccdf9b"
      },
      "execution_count": 137,
      "outputs": [
        {
          "output_type": "stream",
          "name": "stdout",
          "text": [
            "Shaved pussy.\n"
          ]
        }
      ]
    },
    {
      "cell_type": "code",
      "source": [
        "if contains_any_substring(strip_ol(lines[4]), [\"not possible\"]):\n",
        "    result = '-'\n",
        "elif contains_any_substring(strip_ol(lines[4]), [\"tiny\"]):\n",
        "    result = 'Tiny tits, tiny breasts.'\n",
        "elif contains_any_substring(strip_ol(lines[4]), [\"small\"]):\n",
        "    result = 'Small tits, small breasts.'\n",
        "elif contains_any_substring(strip_ol(lines[4]), [\"normal\"]):\n",
        "    result = 'Normal tits, normal breasts.'\n",
        "elif contains_any_substring(strip_ol(lines[4]), [\"large\"]):\n",
        "    result = 'Large tits, large breasts.'\n",
        "elif contains_any_substring(strip_ol(lines[4]), [\"huge\",\"big\"]):\n",
        "    result = 'Big tits, big breasts.'\n",
        "else:\n",
        "    result = '-'\n",
        "\n",
        "lineout[4] = result\n",
        "print( lineout[4] )"
      ],
      "metadata": {
        "colab": {
          "base_uri": "https://localhost:8080/"
        },
        "id": "hUae4iL-o_Yp",
        "outputId": "dbbd90ff-0c5c-44a0-c13f-9bdc3e15099d"
      },
      "execution_count": 138,
      "outputs": [
        {
          "output_type": "stream",
          "name": "stdout",
          "text": [
            "Large tits, large breasts.\n"
          ]
        }
      ]
    },
    {
      "cell_type": "code",
      "source": [
        "if contains_any_substring(strip_ol(lines[5]), [\"slender and slim\"]):\n",
        "    result = 'Slim figure.'\n",
        "elif contains_any_substring(strip_ol(lines[5]), [\"appears to be normal\",\"normal body\"]):\n",
        "    result = 'Normal figure.'\n",
        "elif contains_any_substring(strip_ol(lines[5]), [\"thin\"]):\n",
        "    result = 'Thin figure.'\n",
        "elif contains_any_substring(strip_ol(lines[5]), [\"skinny\"]):\n",
        "    result = 'Skinny figure.'\n",
        "elif contains_any_substring(strip_ol(lines[5]), [\"large\", \"overweight\", \"fat\", \"fuller figure\"]):\n",
        "    result = 'Large figure.'\n",
        "else:\n",
        "    result = '-'\n",
        "\n",
        "lineout[5] = result\n",
        "print( lineout[5] )"
      ],
      "metadata": {
        "colab": {
          "base_uri": "https://localhost:8080/"
        },
        "id": "YRPYNXPVqcIc",
        "outputId": "9328aac5-d581-4478-de57-60f6c8dc7b33"
      },
      "execution_count": 139,
      "outputs": [
        {
          "output_type": "stream",
          "name": "stdout",
          "text": [
            "Normal figure.\n"
          ]
        }
      ]
    },
    {
      "cell_type": "code",
      "source": [
        "x1 = true_or_false(strip_ol(lines[6]))\n",
        "x2 = true_or_false(strip_ol(lines[7]), [\"hands are visible\",\"yes\"])\n",
        "x3 = true_or_false(strip_ol(lines[8]))\n",
        "\n",
        "print(f\"{x1} {x2} {x3}\")"
      ],
      "metadata": {
        "colab": {
          "base_uri": "https://localhost:8080/"
        },
        "id": "zMqUo3OJA5oP",
        "outputId": "1e5ccbae-0180-4b3f-8b48-c48e617b9c9e"
      },
      "execution_count": 148,
      "outputs": [
        {
          "output_type": "stream",
          "name": "stdout",
          "text": [
            "True True False\n"
          ]
        }
      ]
    },
    {
      "cell_type": "code",
      "source": [
        "result = remove_matches(strip_ol(lines[9]), [\"The woman's \",\"The woman is \",\"The woman \"]).capitalize()\n",
        "lineout[9] = result\n",
        "print( lineout[9] )"
      ],
      "metadata": {
        "colab": {
          "base_uri": "https://localhost:8080/"
        },
        "id": "plwTzidJQotd",
        "outputId": "b56eb560-0129-4b1f-fb4c-a110ea0cef2c"
      },
      "execution_count": 147,
      "outputs": [
        {
          "output_type": "stream",
          "name": "stdout",
          "text": [
            "Lying on her back\n"
          ]
        }
      ]
    },
    {
      "cell_type": "code",
      "source": [
        "#print( lines[10] )\n",
        "if not contains_any_substring(strip_ol(lines[10]), ['not visible']):\n",
        "    result = remove_matches(strip_ol(lines[10]), [\"The woman's \",\"The woman is \",\"The woman \", \"likely engaging in \"])\n",
        "    result = string__return_left_from_match(result, [', possibly',', exposing it to'], '.').capitalize()\n",
        "else:\n",
        "    result = '-'\n",
        "\n",
        "\n",
        "lineout[10] = result\n",
        "print( lineout[10] )"
      ],
      "metadata": {
        "colab": {
          "base_uri": "https://localhost:8080/"
        },
        "id": "afv4SlFVRJQC",
        "outputId": "c430d79b-7a86-4ed6-e51d-7bf17c3ad4ed"
      },
      "execution_count": 146,
      "outputs": [
        {
          "output_type": "stream",
          "name": "stdout",
          "text": [
            "Hands are resting on her thighs, adding to the sensual and alluring atmosphere of the image.\n"
          ]
        }
      ]
    }
  ]
}