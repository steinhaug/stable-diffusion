{
  "cells": [
    {
      "cell_type": "code",
      "source": [
        "# install\n",
        "!pip install git+https://github.com/huggingface/transformers\n",
        "!pip install git+https://github.com/huggingface/accelerate.git\n",
        "!pip install -i https://pypi.org/simple/ bitsandbytes\n",
        "\n",
        "# restart instance"
      ],
      "metadata": {
        "id": "Sc0KibFQPfmm"
      },
      "execution_count": null,
      "outputs": []
    },
    {
      "cell_type": "code",
      "source": [
        "from transformers import InstructBlipProcessor, InstructBlipForConditionalGeneration, BitsAndBytesConfig\n",
        "import torch\n",
        "from PIL import Image\n",
        "import requests\n",
        "\n",
        "model_config = BitsAndBytesConfig(\n",
        "    load_in_8bit=True\n",
        ")\n",
        "\n",
        "model = InstructBlipForConditionalGeneration.from_pretrained(\"Salesforce/instructblip-vicuna-7b\", quantization_config=model_config, torch_dtype=torch.bfloat16)\n",
        "processor = InstructBlipProcessor.from_pretrained(\"Salesforce/instructblip-vicuna-7b\", quantization_config=model_config, torch_dtype=torch.bfloat16)\n",
        "\n",
        "device = \"cuda\" if torch.cuda.is_available() else \"cpu\""
      ],
      "metadata": {
        "id": "ZbrP0wQmxQCL"
      },
      "execution_count": null,
      "outputs": []
    },
    {
      "cell_type": "code",
      "source": [
        "url = \"https://raw.githubusercontent.com/salesforce/LAVIS/main/docs/_static/Confusing-Pictures.jpg\"\n",
        "image = Image.open(requests.get(url, stream=True).raw).convert(\"RGB\")\n",
        "prompt = \"What is unusual about this image?\"\n",
        "inputs = processor(images=image, text=prompt, return_tensors=\"pt\").to(device, torch.bfloat16)\n",
        "\n",
        "outputs = model.generate(\n",
        "        **inputs,\n",
        "        do_sample=False,\n",
        "        num_beams=5,\n",
        "        max_length=256,\n",
        "        min_length=1,\n",
        "        top_p=0.9,\n",
        "        repetition_penalty=1.5,\n",
        "        length_penalty=1.0,\n",
        "        temperature=1,\n",
        ")\n",
        "generated_text = processor.batch_decode(outputs, skip_special_tokens=True)[0].strip()\n",
        "print(generated_text)"
      ],
      "metadata": {
        "id": "Y99MSuwhUc1h"
      },
      "execution_count": null,
      "outputs": []
    },
    {
      "cell_type": "code",
      "source": [
        "https://drive.usercontent.google.com/download?id=1-dI1jvW4CVs7MbakO9MxrSsmBuUKKzo1&export=view\n",
        "https://drive.usercontent.google.com/download?id=1-bap6nbmBfHmTMyd3vCeXZYish1VymWC&export=view\n",
        "https://drive.usercontent.google.com/download?id=1-Sl6Wur03NSIyVMl5mYbeegeoOtabZT6&export=view\n",
        "https://drive.usercontent.google.com/download?id=1-SWBB9LgDC602K6T5KS25mNm7cIBnY09&export=view\n",
        "https://drive.usercontent.google.com/download?id=1-P2pUoNQTydPjtQv9x1ykbhlu53Kf5c0&export=view"
      ],
      "metadata": {
        "id": "W4nu-Ey12cjm"
      },
      "execution_count": null,
      "outputs": []
    }
  ],
  "metadata": {
    "kernelspec": {
      "display_name": "Python 3",
      "name": "python3"
    },
    "language_info": {
      "codemirror_mode": {
        "name": "ipython",
        "version": 3
      },
      "file_extension": ".py",
      "mimetype": "text/x-python",
      "name": "python",
      "nbconvert_exporter": "python",
      "pygments_lexer": "ipython3",
      "version": "3.8.13"
    },
    "vscode": {
      "interpreter": {
        "hash": "d4d1e4263499bec80672ea0156c357c1ee493ec2b1c70f0acce89fc37c4a6abe"
      }
    },
    "colab": {
      "provenance": [],
      "machine_shape": "hm",
      "gpuType": "V100"
    },
    "accelerator": "GPU"
  },
  "nbformat": 4,
  "nbformat_minor": 0
}