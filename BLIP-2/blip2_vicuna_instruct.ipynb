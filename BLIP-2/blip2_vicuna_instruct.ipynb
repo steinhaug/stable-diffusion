{
  "nbformat": 4,
  "nbformat_minor": 0,
  "metadata": {
    "colab": {
      "provenance": [],
      "machine_shape": "hm",
      "gpuType": "A100",
      "authorship_tag": "ABX9TyNdt6pDfmOE3KQE6tiaVdTG",
      "include_colab_link": true
    },
    "kernelspec": {
      "name": "python3",
      "display_name": "Python 3"
    },
    "language_info": {
      "name": "python"
    },
    "accelerator": "GPU"
  },
  "cells": [
    {
      "cell_type": "markdown",
      "metadata": {
        "id": "view-in-github",
        "colab_type": "text"
      },
      "source": [
        "<a href=\"https://colab.research.google.com/github/steinhaug/stable-diffusion/blob/main/BLIP-2/blip2_vicuna_instruct.ipynb\" target=\"_parent\"><img src=\"https://colab.research.google.com/assets/colab-badge.svg\" alt=\"Open In Colab\"/></a>"
      ]
    },
    {
      "cell_type": "markdown",
      "source": [
        "### Setup - install and prepare models"
      ],
      "metadata": {
        "id": "BBS5e01zyp-L"
      }
    },
    {
      "cell_type": "code",
      "execution_count": null,
      "metadata": {
        "cellView": "form",
        "id": "mJK5bYsZwU27"
      },
      "outputs": [],
      "source": [
        "#@markdown Clone LAVIS, install dependencies\n",
        "%cd /content\n",
        "!git clone https://github.com/salesforce/LAVIS.git\n",
        "%cd LAVIS\n",
        "!wget https://raw.githubusercontent.com/steinhaug/stable-diffusion/main/pyscripts/file_manipulation.py -O fmnip.py\n",
        "!pip install -e .\n",
        "!mkdir model"
      ]
    },
    {
      "cell_type": "code",
      "source": [
        "#@markdown Download vicuna13b weights used in replicate app\n",
        "%cd /content/LAVIS/model\n",
        "!wget https://storage.googleapis.com/replicate-weights/blip2-instruct-vicuna13b/pretrained_checkpoint.pt\n",
        "!wget https://storage.googleapis.com/replicate-weights/blip2-instruct-vicuna13b/vicuna-13b-16fp.tensors\n",
        "%cd /content/LAVIS"
      ],
      "metadata": {
        "cellView": "form",
        "id": "ZAACl2-7yMCh"
      },
      "execution_count": null,
      "outputs": []
    },
    {
      "cell_type": "code",
      "source": [
        "#@markdown patch the yaml file\n",
        "from IPython.display import clear_output\n",
        "from fmnip import commentOutLinesStartingWith, insertInfrontWhenMatched\n",
        "filename = \"/content/LAVIS/lavis/configs/models/blip2/blip2_instruct_vicuna13b.yaml\"\n",
        "commentOutLinesStartingWith(filename, ['pretrained:','llm_model:'], '  # ')\n",
        "insertInfrontWhenMatched(filename, [('#   pretrained','  pretrained: \"./model/pretrained_checkpoint.pt\"' + \"\\n\",-1), ('#   llm_model','  llm_model: \"./model/vicuna-13b-16fp.tensors\"' + \"\\n\",-1)] )\n",
        "clear_output(); print('Patched!')"
      ],
      "metadata": {
        "cellView": "form",
        "id": "3WtsYE_PwihI"
      },
      "execution_count": null,
      "outputs": []
    },
    {
      "cell_type": "markdown",
      "source": [
        "### Inference - Load model\n",
        "\n",
        "This is not working, anyone have any idea how to make this work ?"
      ],
      "metadata": {
        "id": "Z6RGsskdym7g"
      }
    },
    {
      "cell_type": "code",
      "source": [
        "import torch\n",
        "from PIL import Image\n",
        "# setup device to use\n",
        "device = torch.device(\"cuda\") if torch.cuda.is_available() else \"cpu\"\n",
        "# load sample image\n",
        "raw_image = Image.open(\"./docs/_static/Confusing-Pictures.jpg\").convert(\"RGB\")\n",
        "display(raw_image.resize((596, 437)))"
      ],
      "metadata": {
        "id": "4ALwwCkkxQyn"
      },
      "execution_count": null,
      "outputs": []
    },
    {
      "cell_type": "code",
      "source": [
        "from lavis.models import load_model_and_preprocess\n",
        "# loads InstructBLIP model\n",
        "model, vis_processors, _ = load_model_and_preprocess(name=\"blip2_vicuna_instruct\", model_type=\"vicuna13b\", is_eval=True, device=device)\n",
        "# prepare the image\n",
        "image = vis_processors[\"eval\"](raw_image).unsqueeze(0).to(device)"
      ],
      "metadata": {
        "id": "O5CLr0N9xcgu"
      },
      "execution_count": null,
      "outputs": []
    },
    {
      "cell_type": "code",
      "source": [
        "model.generate({\"image\": image, \"prompt\": \"What is unusual about this image?\"})"
      ],
      "metadata": {
        "id": "NgMgwhzcxiQr"
      },
      "execution_count": null,
      "outputs": []
    },
    {
      "cell_type": "code",
      "source": [
        "model.generate({\"image\": image, \"prompt\": \"Write a short description for the image.\"})"
      ],
      "metadata": {
        "id": "iBUUZq0Ixj7s"
      },
      "execution_count": null,
      "outputs": []
    },
    {
      "cell_type": "code",
      "source": [
        "model.generate({\"image\": image, \"prompt\": \"Write a detailed description.\"})"
      ],
      "metadata": {
        "id": "Aex7INLDxlIl"
      },
      "execution_count": null,
      "outputs": []
    },
    {
      "cell_type": "code",
      "source": [
        "model.generate({\"image\": image, \"prompt\":\"Describe the image in details.\"}, use_nucleus_sampling=True, top_p=0.9, temperature=1)"
      ],
      "metadata": {
        "id": "dZFK_vt5xm5U"
      },
      "execution_count": null,
      "outputs": []
    }
  ]
}