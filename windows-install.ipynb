{
 "cells": [
  {
   "cell_type": "markdown",
   "metadata": {},
   "source": [
    "Getting .ipynb files running inside Visual Studio Code, more or less just a logfile for my usecase."
   ]
  },
  {
   "cell_type": "code",
   "execution_count": null,
   "metadata": {},
   "outputs": [],
   "source": [
    "# Installed Visual Studio 2022 Community, Installed CUDA from Nvidia\n",
    "# Previously run installs to run: import torch\n",
    "!pip3 install Pillow tqdm\n",
    "!pip3 install huggingface-hub requests numpy\n",
    "# Correcting above installs\n",
    "!pip3 install numpy==1.24\n",
    "!pip3 install requests==2.25.1\n",
    "!pip3 install Pillow==9.5.0\n",
    "# Continuing missing installs\n",
    "!pip3 install markdown werkzeug sentencepiece pandas\n",
    "# Correcting version\n",
    "!pip3 install protobuf==3.20.0\n",
    "# Upgrading to mach dependency\n",
    "!pip3 install tensorflow-intel==2.12.0\n",
    "!pip3 install typing_extensions\n",
    "!python.exe -m pip install --upgrade pip\n",
    "# Correcting errors, Missing deps\n",
    "!pip3 install Cython\n",
    "!pip3 install ipywidgets"
   ]
  },
  {
   "cell_type": "code",
   "execution_count": null,
   "metadata": {},
   "outputs": [
    {
     "name": "stdout",
     "output_type": "stream",
     "text": [
      "Torch version: 1.13.1+cu116\n",
      "Cuda version: 11.6\n",
      "Torchaudio version: 0.13.1+cu116\n"
     ]
    },
    {
     "name": "stderr",
     "output_type": "stream",
     "text": [
      "C:\\Users\\steinhaug\\AppData\\Roaming\\Python\\Python310\\site-packages\\torchaudio\\backend\\utils.py:62: UserWarning: No audio backend is available.\n",
      "  warnings.warn(\"No audio backend is available.\")\n"
     ]
    }
   ],
   "source": [
    "import torch\n",
    "print(f\"Torch version: {torch.__version__}\")\n",
    "import torch\n",
    "print(f\"Cuda version: {torch.version.cuda}\")\n",
    "import torchaudio\n",
    "print(f\"Torchaudio version: {torchaudio.__version__}\")"
   ]
  },
  {
   "cell_type": "code",
   "execution_count": 2,
   "metadata": {},
   "outputs": [
    {
     "name": "stdout",
     "output_type": "stream",
     "text": [
      "^C\n"
     ]
    }
   ],
   "source": [
    "!pip uninstall PySoundFile && pip install PySoundFile"
   ]
  },
  {
   "cell_type": "code",
   "execution_count": null,
   "metadata": {},
   "outputs": [],
   "source": [
    "# Above cell never completed\n",
    "# Ran this from elevated windows terminal instead\n",
    "pip3 uninstall PySoundFile\n",
    "pip3 install transformers"
   ]
  },
  {
   "cell_type": "code",
   "execution_count": 4,
   "metadata": {},
   "outputs": [
    {
     "name": "stdout",
     "output_type": "stream",
     "text": [
      "Torchaudio version: 0.13.1+cu116\n"
     ]
    }
   ],
   "source": [
    "import torchaudio\n",
    "print(f\"Torchaudio version: {torchaudio.__version__}\")"
   ]
  },
  {
   "cell_type": "code",
   "execution_count": 6,
   "metadata": {},
   "outputs": [
    {
     "name": "stdout",
     "output_type": "stream",
     "text": [
      "Transformers version: 4.37.2\n",
      "Xformers version: 0.0.16\n"
     ]
    }
   ],
   "source": [
    "from transformers import __version__\n",
    "print(f\"Transformers version: {__version__}\")\n",
    "import xformers\n",
    "print(f\"Xformers version: {xformers.__version__}\")\n"
   ]
  },
  {
   "cell_type": "markdown",
   "metadata": {},
   "source": [
    "# DONE!"
   ]
  },
  {
   "cell_type": "code",
   "execution_count": 7,
   "metadata": {},
   "outputs": [
    {
     "name": "stdout",
     "output_type": "stream",
     "text": [
      "2.2.0\n"
     ]
    }
   ],
   "source": [
    "import pandas as pd\n",
    "\n",
    "print(pd.__version__)"
   ]
  },
  {
   "cell_type": "code",
   "execution_count": 8,
   "metadata": {},
   "outputs": [
    {
     "name": "stdout",
     "output_type": "stream",
     "text": [
      "Torch version: 1.13.1+cu116\n",
      "Cuda version: 11.6\n",
      "Torchaudio version: 0.13.1+cu116\n",
      "Transformers version: 4.37.2\n",
      "Xformers version: 0.0.16\n",
      "Pandas version: 2.2.0\n"
     ]
    }
   ],
   "source": [
    "import torch\n",
    "print(f\"Torch version: {torch.__version__}\")\n",
    "import torch\n",
    "print(f\"Cuda version: {torch.version.cuda}\")\n",
    "import torchaudio\n",
    "print(f\"Torchaudio version: {torchaudio.__version__}\")\n",
    "from transformers import __version__\n",
    "print(f\"Transformers version: {__version__}\")\n",
    "import xformers\n",
    "print(f\"Xformers version: {xformers.__version__}\")\n",
    "import pandas as pd\n",
    "print(f\"Pandas version: {pd.__version__}\")"
   ]
  },
  {
   "cell_type": "code",
   "execution_count": 1,
   "metadata": {},
   "outputs": [
    {
     "name": "stdout",
     "output_type": "stream",
     "text": [
      "ipykernel version: 5.5.6\n",
      "jupyter_client version: 7.4.9\n"
     ]
    }
   ],
   "source": [
    "import ipykernel\n",
    "print(f\"ipykernel version: {ipykernel.__version__}\")\n",
    "import jupyter_client\n",
    "print(f\"jupyter_client version: {jupyter_client.__version__}\")\n",
    "\n"
   ]
  },
  {
   "cell_type": "code",
   "execution_count": 5,
   "metadata": {},
   "outputs": [
    {
     "ename": "ModuleNotFoundError",
     "evalue": "No module named 'ipython'",
     "output_type": "error",
     "traceback": [
      "\u001b[1;31m---------------------------------------------------------------------------\u001b[0m",
      "\u001b[1;31mModuleNotFoundError\u001b[0m                       Traceback (most recent call last)",
      "\u001b[1;32m<ipython-input-5-582126a45fe2>\u001b[0m in \u001b[0;36m<cell line: 1>\u001b[1;34m()\u001b[0m\n\u001b[1;32m----> 1\u001b[1;33m \u001b[1;32mimport\u001b[0m \u001b[0mipython\u001b[0m\u001b[1;33m\u001b[0m\u001b[1;33m\u001b[0m\u001b[0m\n\u001b[0m\u001b[0;32m      2\u001b[0m \u001b[0mprint\u001b[0m\u001b[1;33m(\u001b[0m\u001b[1;34mf\"ipython version: {ipython.__version__}\"\u001b[0m\u001b[1;33m)\u001b[0m\u001b[1;33m\u001b[0m\u001b[1;33m\u001b[0m\u001b[0m\n\u001b[0;32m      3\u001b[0m \u001b[1;32mimport\u001b[0m \u001b[0mgoogle\u001b[0m\u001b[1;33m.\u001b[0m\u001b[0mauth\u001b[0m\u001b[1;33m\u001b[0m\u001b[1;33m\u001b[0m\u001b[0m\n\u001b[0;32m      4\u001b[0m \u001b[0mprint\u001b[0m\u001b[1;33m(\u001b[0m\u001b[1;34mf\"google-auth version: {google.auth.__version__}\"\u001b[0m\u001b[1;33m)\u001b[0m\u001b[1;33m\u001b[0m\u001b[1;33m\u001b[0m\u001b[0m\n",
      "\u001b[1;31mModuleNotFoundError\u001b[0m: No module named 'ipython'"
     ]
    }
   ],
   "source": [
    "import ipython\n",
    "print(f\"ipython version: {ipython.__version__}\")\n",
    "import google.auth\n",
    "print(f\"google-auth version: {google.auth.__version__}\")"
   ]
  },
  {
   "cell_type": "code",
   "execution_count": null,
   "metadata": {},
   "outputs": [],
   "source": [
    "pip show ipykernel | grep Version\n",
    "pip show jupyter_client | grep Version\n",
    "pip show ipython | grep Version\n",
    "pip show google.auth | grep Version\n",
    "\n",
    "requests\n",
    "pip show requests | grep Version\n",
    "pip show protobuf | grep Version\n",
    "\n",
    "pip install tb-nightly==2.13.0a20230401\n",
    "pip install google-auth-oauthlib==1.0.0\n"
   ]
  },
  {
   "cell_type": "code",
   "execution_count": 11,
   "metadata": {},
   "outputs": [
    {
     "name": "stdout",
     "output_type": "stream",
     "text": [
      "Version: 7.34.0\n"
     ]
    }
   ],
   "source": [
    "!pip show ipython | grep Version"
   ]
  },
  {
   "cell_type": "code",
   "execution_count": 6,
   "metadata": {},
   "outputs": [
    {
     "name": "stdout",
     "output_type": "stream",
     "text": [
      "Defaulting to user installation because normal site-packages is not writeable\n",
      "Requirement already satisfied: ipython in c:\\program files\\python310\\lib\\site-packages (7.34.0)\n",
      "Requirement already satisfied: setuptools>=18.5 in c:\\program files\\python310\\lib\\site-packages (from ipython) (65.5.0)\n",
      "Requirement already satisfied: jedi>=0.16 in c:\\users\\steinhaug\\appdata\\roaming\\python\\python310\\site-packages (from ipython) (0.19.1)\n",
      "Requirement already satisfied: decorator in c:\\users\\steinhaug\\appdata\\roaming\\python\\python310\\site-packages (from ipython) (5.1.1)\n",
      "Requirement already satisfied: pickleshare in c:\\program files\\python310\\lib\\site-packages (from ipython) (0.7.5)\n",
      "Requirement already satisfied: traitlets>=4.2 in c:\\users\\steinhaug\\appdata\\roaming\\python\\python310\\site-packages (from ipython) (5.14.1)\n",
      "Requirement already satisfied: prompt-toolkit!=3.0.0,!=3.0.1,<3.1.0,>=2.0.0 in c:\\users\\steinhaug\\appdata\\roaming\\python\\python310\\site-packages (from ipython) (3.0.43)\n",
      "Requirement already satisfied: pygments in c:\\users\\steinhaug\\appdata\\roaming\\python\\python310\\site-packages (from ipython) (2.17.2)\n",
      "Requirement already satisfied: backcall in c:\\program files\\python310\\lib\\site-packages (from ipython) (0.2.0)\n",
      "Requirement already satisfied: matplotlib-inline in c:\\users\\steinhaug\\appdata\\roaming\\python\\python310\\site-packages (from ipython) (0.1.6)\n",
      "Requirement already satisfied: colorama in c:\\users\\steinhaug\\appdata\\roaming\\python\\python310\\site-packages (from ipython) (0.4.6)\n",
      "Requirement already satisfied: parso<0.9.0,>=0.8.3 in c:\\users\\steinhaug\\appdata\\roaming\\python\\python310\\site-packages (from jedi>=0.16->ipython) (0.8.3)\n",
      "Requirement already satisfied: wcwidth in c:\\users\\steinhaug\\appdata\\roaming\\python\\python310\\site-packages (from prompt-toolkit!=3.0.0,!=3.0.1,<3.1.0,>=2.0.0->ipython) (0.2.6)\n"
     ]
    },
    {
     "name": "stderr",
     "output_type": "stream",
     "text": [
      "DEPRECATION: pytorch-lightning 1.7.6 has a non-standard dependency specifier torch>=1.9.*. pip 24.1 will enforce this behaviour change. A possible replacement is to upgrade to a newer version of pytorch-lightning or contact the author to suggest that they release a version with a conforming dependency specifiers. Discussion can be found at https://github.com/pypa/pip/issues/12063\n",
      "DEPRECATION: torchsde 0.2.5 has a non-standard dependency specifier numpy>=1.19.*; python_version >= \"3.7\". pip 24.1 will enforce this behaviour change. A possible replacement is to upgrade to a newer version of torchsde or contact the author to suggest that they release a version with a conforming dependency specifiers. Discussion can be found at https://github.com/pypa/pip/issues/12063\n"
     ]
    }
   ],
   "source": [
    "!pip3 install ipython"
   ]
  },
  {
   "cell_type": "code",
   "execution_count": null,
   "metadata": {},
   "outputs": [],
   "source": [
    "!pip3 install ipykernel jupyter_client"
   ]
  },
  {
   "cell_type": "code",
   "execution_count": 13,
   "metadata": {},
   "outputs": [
    {
     "name": "stdout",
     "output_type": "stream",
     "text": [
      "Version: 7.34.0\n",
      "Version: 2.27.0\n"
     ]
    }
   ],
   "source": [
    "!pip show ipython | grep Version\n",
    "!pip show google.auth | grep Version"
   ]
  },
  {
   "cell_type": "code",
   "execution_count": 14,
   "metadata": {},
   "outputs": [
    {
     "name": "stdout",
     "output_type": "stream",
     "text": [
      "Version: 1.0.0\n"
     ]
    }
   ],
   "source": [
    "!pip show google.colab | grep Version"
   ]
  },
  {
   "cell_type": "code",
   "execution_count": 19,
   "metadata": {},
   "outputs": [
    {
     "name": "stdout",
     "output_type": "stream",
     "text": [
      "i:\\content\n",
      " Volume in drive I is WINDOWS_10PRO"
     ]
    },
    {
     "name": "stderr",
     "output_type": "stream",
     "text": [
      "File Not Found\n"
     ]
    },
    {
     "name": "stdout",
     "output_type": "stream",
     "text": [
      "\n",
      " Volume Serial Number is 7449-6C55\n",
      "\n",
      " Directory of i:\\content\n",
      "\n"
     ]
    }
   ],
   "source": [
    "%cd /content\n",
    "%ls -la"
   ]
  },
  {
   "cell_type": "code",
   "execution_count": 21,
   "metadata": {},
   "outputs": [
    {
     "name": "stderr",
     "output_type": "stream",
     "text": [
      "WARNING: Package(s) not found: triton\n",
      "WARNING: Package(s) not found: accelerate\n"
     ]
    },
    {
     "name": "stdout",
     "output_type": "stream",
     "text": [
      "Version: 4.37.2\n",
      "Version: 6.1.1\n"
     ]
    },
    {
     "name": "stderr",
     "output_type": "stream",
     "text": [
      "WARNING: Package(s) not found: bitsandbytes\n",
      "WARNING: Package(s) not found: gradio\n",
      "WARNING: Package(s) not found: natsort\n"
     ]
    },
    {
     "name": "stdout",
     "output_type": "stream",
     "text": [
      "Version: 0.4.2\n",
      "Version: 0.0.16\n"
     ]
    },
    {
     "name": "stderr",
     "output_type": "stream",
     "text": [
      "WARNING: Package(s) not found: omegaconf\n"
     ]
    }
   ],
   "source": [
    "!pip show triton | grep Version\n",
    "!pip show accelerate | grep Version\n",
    "!pip show transformers | grep Version\n",
    "!pip show ftfy | grep Version\n",
    "!pip show bitsandbytes | grep Version\n",
    "!pip show gradio | grep Version\n",
    "!pip show natsort | grep Version\n",
    "!pip show safetensors | grep Version\n",
    "!pip show xformers | grep Version\n",
    "!pip show omegaconf | grep Version\n"
   ]
  },
  {
   "cell_type": "code",
   "execution_count": null,
   "metadata": {},
   "outputs": [],
   "source": [
    "pip install triton\n",
    "pip install accelerate\n",
    "pip install bitsandbytes\n",
    "pip install gradio\n",
    "pip install natsort\n",
    "pip install omegaconf\n",
    "\n",
    "pip install pytorch-lightning==2.0.0\n",
    "pip install lightning-lite==1.8.6\n"
   ]
  },
  {
   "cell_type": "code",
   "execution_count": 23,
   "metadata": {},
   "outputs": [
    {
     "name": "stdout",
     "output_type": "stream",
     "text": [
      "Version: 2.0.0\n",
      "Version: 1.23.5\n"
     ]
    },
    {
     "name": "stderr",
     "output_type": "stream",
     "text": [
      "WARNING: Package(s) not found: opencv-contrib-python\n",
      "WARNING: Package(s) not found: controlnet_aux\n",
      "WARNING: Package(s) not found: mediapipe\n"
     ]
    }
   ],
   "source": [
    "!pip show pytorch_lightning | grep Version\n",
    "!pip show numpy | grep Version\n",
    "!pip show opencv-contrib-python | grep Version\n",
    "!pip show controlnet_aux | grep Version\n",
    "!pip show mediapipe | grep Version"
   ]
  },
  {
   "cell_type": "code",
   "execution_count": null,
   "metadata": {},
   "outputs": [],
   "source": [
    "pip3 install opencv-contrib-python\n",
    "pip3 install openmim\n",
    "pip3 install controlnet_aux\n",
    "\n",
    "pip3 install mediapipe\n",
    "\n",
    "clean-fid 0.1.29 requires requests==2.25.1, but you have requests 2.28.2 which is incompatible.\n",
    "mdit-py-plugins 0.3.3 requires markdown-it-py<3.0.0,>=1.0.0, but you have markdown-it-py 3.0.0 which is incompatible.\n",
    "open-clip-torch 2.7.0 requires protobuf==3.20.0, but you have protobuf 4.25.2 which is incompatible.\n",
    "google-colab 1.0.0 requires requests==2.31.0, but you have requests 2.28.2 which is incompatible."
   ]
  },
  {
   "cell_type": "code",
   "execution_count": 24,
   "metadata": {},
   "outputs": [
    {
     "name": "stdout",
     "output_type": "stream",
     "text": [
      "Version: 0.1.29\n"
     ]
    }
   ],
   "source": [
    "pip show clean-fid | grep Version\n",
    "pip show mdit-py-plugins | grep Version\n",
    "\n",
    "pip install mdit-py-plugins==0.3.4\n",
    "\n",
    "pip show open-clip-torch | grep Version\n",
    "pip install open-clip-torch==2.10.0\n",
    "\n",
    "pip3 show requests | grep Version\n",
    "pip3 install requests==2.31.0\n",
    "\n",
    "pip install clean-fid==0.1.35\n",
    "\n",
    "openxlab 0.0.34 requires requests~=2.28.2, but you have requests 2.31.0 which is incompatible.\n",
    "\n"
   ]
  },
  {
   "cell_type": "code",
   "execution_count": 25,
   "metadata": {},
   "outputs": [
    {
     "name": "stderr",
     "output_type": "stream",
     "text": [
      "WARNING: Package(s) not found: kaleido\n",
      "WARNING: Package(s) not found: cohere\n",
      "WARNING: Package(s) not found: openai\n",
      "WARNING: Package(s) not found: tiktoken\n"
     ]
    },
    {
     "name": "stdout",
     "output_type": "stream",
     "text": [
      "Version: 0.87.0\n",
      "Version: 0.0.5\n",
      "Version: 0.20.0\n"
     ]
    }
   ],
   "source": [
    "!pip show kaleido | grep Version\n",
    "!pip show cohere | grep Version\n",
    "!pip show openai | grep Version\n",
    "!pip show tiktoken | grep Version\n",
    "!pip show fastapi | grep Version\n",
    "!pip show python-multipart | grep Version\n",
    "!pip show uvicorn | grep Version"
   ]
  }
 ],
 "metadata": {
  "kernelspec": {
   "display_name": "Python 3",
   "language": "python",
   "name": "python3"
  },
  "language_info": {
   "codemirror_mode": {
    "name": "ipython",
    "version": 3
   },
   "file_extension": ".py",
   "mimetype": "text/x-python",
   "name": "python",
   "nbconvert_exporter": "python",
   "pygments_lexer": "ipython3",
   "version": "3.10.9"
  }
 },
 "nbformat": 4,
 "nbformat_minor": 2
}
