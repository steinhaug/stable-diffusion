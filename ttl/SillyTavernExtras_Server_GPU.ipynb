{
  "nbformat": 4,
  "nbformat_minor": 0,
  "metadata": {
    "colab": {
      "provenance": [],
      "authorship_tag": "ABX9TyPMeOR9DC44MIzPGK53oYC7",
      "include_colab_link": true
    },
    "kernelspec": {
      "name": "python3",
      "display_name": "Python 3"
    },
    "language_info": {
      "name": "python"
    }
  },
  "cells": [
    {
      "cell_type": "markdown",
      "metadata": {
        "id": "view-in-github",
        "colab_type": "text"
      },
      "source": [
        "<a href=\"https://colab.research.google.com/github/steinhaug/stable-diffusion/blob/main/ttl/SillyTavernExtras_Server_GPU.ipynb\" target=\"_parent\"><img src=\"https://colab.research.google.com/assets/colab-badge.svg\" alt=\"Open In Colab\"/></a>"
      ]
    },
    {
      "cell_type": "markdown",
      "source": [
        "## SillyTavern Extras - server instance"
      ],
      "metadata": {
        "id": "VSNGQ6a-F0JY"
      }
    },
    {
      "cell_type": "code",
      "execution_count": null,
      "metadata": {
        "id": "crb6VmbIFnHQ"
      },
      "outputs": [],
      "source": [
        "#@title <-- Tap this if you run on Mobile { display-mode: \"form\" }\n",
        "#Taken from KoboldAI colab\n",
        "%%html\n",
        "<b>Press play on the audio player to keep the tab alive. (Uses only 13MB of data)</b><br/>\n",
        "<audio src=\"https://henk.tech/colabkobold/silence.m4a\" controls>"
      ]
    },
    {
      "cell_type": "code",
      "source": [
        "#@markdown Enables hosting of extensions backend for SillyTavern Extras\n",
        "use_cpu = False #@param {type:\"boolean\"}\n",
        "#@markdown Allows to run SillyTavern Extras on CPU (use if you're out of daily GPU allowance)\n",
        "use_sd_cpu = False #@param {type:\"boolean\"}\n",
        "#@markdown Allows to run Stable Diffusion pipeline on CPU (slow!)\n",
        "extras_enable_captioning = True #@param {type:\"boolean\"}\n",
        "#@markdown Loads the image captioning module\n",
        "Captions_Model = \"Salesforce/blip-image-captioning-base\" #@param [ \"Salesforce/blip-image-captioning-large\", \"Salesforce/blip-image-captioning-base\" ]\n",
        "#@markdown * Salesforce/blip-image-captioning-large - good base model\n",
        "#@markdown * Salesforce/blip-image-captioning-base - slightly faster but less accurate\n",
        "extras_enable_emotions = True #@param {type:\"boolean\"}\n",
        "#@markdown Loads the sentiment classification model\n",
        "Emotions_Model = \"nateraw/bert-base-uncased-emotion\" #@param [\"nateraw/bert-base-uncased-emotion\", \"joeddav/distilbert-base-uncased-go-emotions-student\"]\n",
        "#@markdown * nateraw/bert-base-uncased-emotion = 6 supported emotions<br>\n",
        "#@markdown * joeddav/distilbert-base-uncased-go-emotions-student = 28 supported emotions\n",
        "extras_enable_memory = True #@param {type:\"boolean\"}\n",
        "#@markdown Loads the story summarization module\n",
        "Memory_Model = \"slauw87/bart_summarisation\" #@param [ \"slauw87/bart_summarisation\", \"Qiliang/bart-large-cnn-samsum-ChatGPT_v3\", \"Qiliang/bart-large-cnn-samsum-ElectrifAi_v10\", \"distilbart-xsum-12-3\" ]\n",
        "#@markdown * slauw87/bart_summarisation - general purpose summarization model\n",
        "#@markdown * Qiliang/bart-large-cnn-samsum-ChatGPT_v3 - summarization model optimized for chats\n",
        "#@markdown * Qiliang/bart-large-cnn-samsum-ElectrifAi_v10 - nice results so far, but still being evaluated\n",
        "#@markdown * distilbart-xsum-12-3 - faster, but pretty basic alternative\n",
        "extras_enable_silero_tts = True #@param {type:\"boolean\"}\n",
        "#@markdown Enables Silero text-to-speech module\n",
        "extras_enable_edge_tts = True #@param {type:\"boolean\"}\n",
        "#@markdown Enables Microsoft Edge text-to-speech module\n",
        "extras_enable_sd = True #@param {type:\"boolean\"}\n",
        "#@markdown Enables SD picture generation\n",
        "SD_Model = \"ckpt/anything-v4.5-vae-swapped\" #@param [ \"ckpt/anything-v4.5-vae-swapped\", \"hakurei/waifu-diffusion\", \"philz1337/clarity\", \"prompthero/openjourney\", \"ckpt/sd15\", \"stabilityai/stable-diffusion-2-1-base\" ]\n",
        "#@markdown * ckpt/anything-v4.5-vae-swapped - anime style model\n",
        "#@markdown * hakurei/waifu-diffusion - anime style model\n",
        "#@markdown * philz1337/clarity - realistic style model\n",
        "#@markdown * prompthero/openjourney - midjourney style model\n",
        "#@markdown * ckpt/sd15 - base SD 1.5\n",
        "#@markdown * stabilityai/stable-diffusion-2-1-base - base SD 2.1\n",
        "extras_enable_chromadb = True #@param {type:\"boolean\"}\n",
        "#@markdown Enables ChromaDB for Infinity Context plugin\n",
        "\n",
        "import subprocess\n",
        "\n",
        "# ---\n",
        "# SillyTavern extras\n",
        "extras_url = '(disabled)'\n",
        "params = []\n",
        "if use_cpu:\n",
        "    params.append('--cpu')\n",
        "if use_sd_cpu:\n",
        "    params.append('--sd-cpu')\n",
        "params.append('--share')\n",
        "ExtrasModules = []\n",
        "\n",
        "if (extras_enable_captioning):\n",
        "  ExtrasModules.append('caption')\n",
        "if (extras_enable_memory):\n",
        "  ExtrasModules.append('summarize')\n",
        "if (extras_enable_emotions):\n",
        "  ExtrasModules.append('classify')\n",
        "if (extras_enable_sd):\n",
        "  ExtrasModules.append('sd')\n",
        "if (extras_enable_silero_tts):\n",
        "  ExtrasModules.append('silero-tts')\n",
        "if extras_enable_edge_tts:\n",
        "  ExtrasModules.append('edge-tts')\n",
        "if (extras_enable_chromadb):\n",
        "  ExtrasModules.append('chromadb')\n",
        "\n",
        "\n",
        "params.append(f'--secure')\n",
        "params.append(f'--classification-model={Emotions_Model}')\n",
        "params.append(f'--summarization-model={Memory_Model}')\n",
        "params.append(f'--captioning-model={Captions_Model}')\n",
        "params.append(f'--sd-model={SD_Model}')\n",
        "params.append(f'--enable-modules={\",\".join(ExtrasModules)}')\n",
        "\n",
        "\n",
        "%cd /\n",
        "!git clone https://github.com/SillyTavern/SillyTavern-extras\n",
        "%cd /SillyTavern-extras\n",
        "!git clone https://github.com/Cohee1207/tts_samples\n",
        "!npm install -g localtunnel\n",
        "!pip install -r requirements-complete.txt\n",
        "!pip install tensorflow==2.12\n",
        "!wget https://github.com/cloudflare/cloudflared/releases/download/2023.5.0/cloudflared-linux-amd64 -O /tmp/cloudflared-linux-amd64\n",
        "!chmod +x /tmp/cloudflared-linux-amd64\n",
        "\n",
        "\n",
        "cmd = f\"python server.py {' '.join(params)}\"\n",
        "print(cmd)\n",
        "extras_process = subprocess.Popen(\n",
        "    cmd, stdout=subprocess.PIPE, stderr=subprocess.STDOUT, cwd='/SillyTavern-extras', shell=True)\n",
        "print('processId:', extras_process.pid)\n",
        "while True:\n",
        "    line = extras_process.stdout.readline().decode().strip()\n",
        "    if line != None and line != '':\n",
        "        print(line)\n"
      ],
      "metadata": {
        "cellView": "form",
        "id": "CCbG8VUGFn1I"
      },
      "execution_count": null,
      "outputs": []
    }
  ]
}