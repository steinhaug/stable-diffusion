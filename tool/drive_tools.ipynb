{
  "cells": [
    {
      "cell_type": "markdown",
      "metadata": {
        "colab_type": "text",
        "id": "view-in-github"
      },
      "source": [
        "<a href=\"https://colab.research.google.com/github/steinhaug/stable-diffusion/blob/main/tool/drive_tools.ipynb\" target=\"_parent\"><img src=\"https://colab.research.google.com/assets/colab-badge.svg\" alt=\"Open In Colab\"/></a>"
      ]
    },
    {
      "cell_type": "code",
      "execution_count": null,
      "metadata": {
        "id": "zpVuWpQb8WSe"
      },
      "outputs": [],
      "source": [
        "# Quick colab for Drive related tasks, and tasks not requiring GPU typically. Loads config from drive so that notebook can be added to github."
      ]
    },
    {
      "cell_type": "code",
      "execution_count": null,
      "metadata": {},
      "outputs": [],
      "source": [
        "def parse_transcript(file_path, parse_mode, save_path):\n",
        "    with open(file_path, 'r') as file:\n",
        "        lines = file.readlines()\n",
        "\n",
        "    filtered_lines = []\n",
        "    for line in lines:\n",
        "        stripped_line = line.strip()\n",
        "        if parse_mode == \"text\":\n",
        "            if stripped_line and not stripped_line.replace(':', '').isdigit():\n",
        "                filtered_lines.append(stripped_line)\n",
        "        elif parse_mode == \"timecode\":\n",
        "            if stripped_line and stripped_line.replace(':', '').isdigit():\n",
        "                filtered_lines.append(stripped_line)\n",
        "\n",
        "    with open(save_path, 'w') as file:\n",
        "        for line in filtered_lines:\n",
        "            file.write(line + '\\n')\n",
        "\n",
        "# Example usage:\n",
        "\n",
        "#parse_transcript('2156.txt', 'text', '2156-txt.txt')\n",
        "# parse_transcript('file.txt', 'timecode', 'saved_timecodes.txt')\n"
      ]
    },
    {
      "cell_type": "code",
      "execution_count": 11,
      "metadata": {
        "cellView": "form",
        "id": "Hk0H0K4D83LX"
      },
      "outputs": [],
      "source": [
        "#@title Load settings from drive config file\n",
        "\n",
        "# Load config from drive\n",
        "KISTA_DRIVE_PATHS = \"/content/drive/MyDrive/docs\"\n",
        "INI_FILE_LOC = f\"{KISTA_DRIVE_PATHS}/config_SDTools.ini\"\n",
        "\n",
        "# Make sure gDrive is loaded\n",
        "inip = Path(\"/content/drive/MyDrive\")\n",
        "if not inip.is_dir():\n",
        "    from google.colab import drive\n",
        "    drive.mount('/content/drive')\n",
        "\n",
        "import os\n",
        "from pathlib import Path\n",
        "from IPython.display import display, Markdown, clear_output\n",
        "from ipywidgets import widgets, GridspecLayout, Layout\n",
        "from configparser import ConfigParser\n",
        "\n",
        "def return__isValidDir(directory):\n",
        "    if os.path.isdir(directory):\n",
        "        return True\n",
        "    else:\n",
        "        return False\n",
        "\n",
        "def strtobool (val):\n",
        "    \"\"\"Quick cast tro boolean\n",
        "    \"\"\"\n",
        "    val = val.lower()\n",
        "    if val in ('y', 'yes', 't', 'true', 'on', '1'):\n",
        "        return True\n",
        "    elif val in ('', 'n', 'no', 'f', 'false', 'off', '0'):\n",
        "        return False\n",
        "    else:\n",
        "        raise ValueError(\"invalid truth value %r\" % (val,))\n",
        "\n",
        "def getValue (savedconf, key, type):\n",
        "    try:\n",
        "        val = savedconf[key]\n",
        "    except KeyError:\n",
        "        val = \"\"\n",
        "    if type == 'bool':\n",
        "        return strtobool(val)\n",
        "    elif type == 'int':\n",
        "        return int(val)\n",
        "    else:\n",
        "        return val\n",
        "\n",
        "def update_KISTA_config():\n",
        "    config_object = ConfigParser()\n",
        "    config_object[\"CONF\"] = {\n",
        "        \"hf_read_token\": hf_read_token.value,\n",
        "        \"civitai_token\": civitai_token.value,\n",
        "        \"sd15_models\": sd15_models.value,\n",
        "        \"sdxl_models\": sdxl_models.value,\n",
        "    }\n",
        "    with open(INI_FILE_LOC, 'w') as conf:\n",
        "        config_object.write(conf)\n",
        "\n",
        "def btn_continue_event_handler(btn_object):\n",
        "    grid.close();\n",
        "    update_KISTA_config()\n",
        "    clear_output()\n",
        "    print('Settings saved! ✓')\n",
        "\n",
        "\n",
        "# Setup variables\n",
        "hf_read_token = widgets.Text( value=\"\", placeholder='Huggingface Read Token', disabled=False )\n",
        "civitai_token = widgets.Text( value=\"\", placeholder='civitai API Token', disabled=False )\n",
        "\n",
        "\n",
        "sd15_models = widgets.Text( value=\"\", placeholder='SD v1.5 models folder', disabled=False )\n",
        "sdxl_models = widgets.Text( value=\"\", placeholder='SDXL models folder', disabled=False )\n",
        "\n",
        "# Setup headers\n",
        "btn_continue = widgets.Button(description='Save configuration and continue', button_style='info', layout=Layout(width='auto', height='auto'))\n",
        "btn_continue.on_click(btn_continue_event_handler)\n",
        "btn1 = widgets.Button(description='KEYS', layout=Layout(width='auto', height='auto'))\n",
        "btn1.style.button_color='White'; btn1.style.font_weight='bold';\n",
        "btn2 = widgets.Button(description='GOOGLE DRIVE PATHS', layout=Layout(width='auto', height='auto'))\n",
        "btn2.style.button_color='White'; btn2.style.font_weight='bold';\n",
        "\n",
        "# Setup grid\n",
        "grid = GridspecLayout(4, 2)\n",
        "grid[0, 0] = btn1\n",
        "grid[1, 0] = hf_read_token\n",
        "grid[2, 0] = civitai_token\n",
        "grid[0, 1] = btn2\n",
        "grid[1, 1] = sd15_models\n",
        "grid[2, 1] = sdxl_models\n",
        "grid[3, :] = btn_continue\n",
        "display(grid)\n",
        "\n",
        "# Init config\n",
        "inip = Path(INI_FILE_LOC)\n",
        "if inip.is_file():\n",
        "    config_object = ConfigParser()\n",
        "    config_object.read(INI_FILE_LOC)\n",
        "    savedconf = config_object[\"CONF\"]\n",
        "    hf_read_token.value = getValue(savedconf, 'hf_read_token', 'string')\n",
        "    civitai_token.value = getValue(savedconf, 'civitai_token', 'string')\n",
        "    sd15_models.value = getValue(savedconf, 'sd15_models', 'string')\n",
        "    sdxl_models.value = getValue(savedconf, 'sdxl_models', 'string')\n",
        "else:\n",
        "    if not return__isValidDir(KISTA_DRIVE_PATHS):\n",
        "        os.makedirs(KISTA_DRIVE_PATHS)\n"
      ]
    },
    {
      "cell_type": "code",
      "execution_count": null,
      "metadata": {
        "id": "Ny3RyQSVCK80"
      },
      "outputs": [],
      "source": [
        "# misc system settings\n",
        "!lscpu\n",
        "!nvidia-smi -q\n",
        "!nvidia-smi -L"
      ]
    }
  ],
  "metadata": {
    "colab": {
      "authorship_tag": "ABX9TyMuh6/V/rK3gHjIzuOGBTQ7",
      "include_colab_link": true,
      "provenance": []
    },
    "kernelspec": {
      "display_name": "Python 3",
      "name": "python3"
    },
    "language_info": {
      "name": "python"
    }
  },
  "nbformat": 4,
  "nbformat_minor": 0
}
