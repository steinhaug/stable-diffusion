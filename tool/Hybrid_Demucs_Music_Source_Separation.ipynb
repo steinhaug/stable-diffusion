{
  "nbformat": 4,
  "nbformat_minor": 0,
  "metadata": {
    "colab": {
      "provenance": [],
      "gpuType": "T4",
      "include_colab_link": true
    },
    "kernelspec": {
      "name": "python3",
      "display_name": "Python 3"
    },
    "language_info": {
      "name": "python"
    },
    "accelerator": "GPU"
  },
  "cells": [
    {
      "cell_type": "markdown",
      "metadata": {
        "id": "view-in-github",
        "colab_type": "text"
      },
      "source": [
        "<a href=\"https://colab.research.google.com/github/steinhaug/stable-diffusion/blob/main/tool/Hybrid_Demucs_Music_Source_Separation.ipynb\" target=\"_parent\"><img src=\"https://colab.research.google.com/assets/colab-badge.svg\" alt=\"Open In Colab\"/></a>"
      ]
    },
    {
      "cell_type": "markdown",
      "metadata": {
        "id": "uLghRcAdqaph"
      },
      "source": [
        "# Hybrid Demucs from Colab\n",
        "\n",
        "This supports the Demucs source separation model (https://github.com/facebookresearch/demucs/)\n",
        "This is only for separation with pre-trained models, not training!\n",
        "\n",
        "You can either upload files manually (slow) or link your Google Drive account."
      ]
    },
    {
      "cell_type": "code",
      "metadata": {
        "id": "79JbZGcAqX3p",
        "outputId": "29e2eb74-98d1-4d6d-e138-a736d822bc8d",
        "colab": {
          "base_uri": "https://localhost:8080/"
        }
      },
      "source": [
        "!python3 -m pip install -U git+https://github.com/facebookresearch/demucs#egg=demucs"
      ],
      "execution_count": 1,
      "outputs": [
        {
          "output_type": "stream",
          "name": "stdout",
          "text": [
            "Collecting demucs\n",
            "  Cloning https://github.com/facebookresearch/demucs to /tmp/pip-install-k06xputw/demucs_2ee36b6930bf4becb51a320d9ff34f97\n",
            "  Running command git clone --filter=blob:none --quiet https://github.com/facebookresearch/demucs /tmp/pip-install-k06xputw/demucs_2ee36b6930bf4becb51a320d9ff34f97\n",
            "  Resolved https://github.com/facebookresearch/demucs to commit e976d93ecc3865e5757426930257e200846a520a\n",
            "  Preparing metadata (setup.py) ... \u001b[?25l\u001b[?25hdone\n",
            "Collecting dora-search (from demucs)\n",
            "  Downloading dora_search-0.1.12.tar.gz (87 kB)\n",
            "\u001b[2K     \u001b[90m━━━━━━━━━━━━━━━━━━━━━━━━━━━━━━━━━━━━━━━━\u001b[0m \u001b[32m87.1/87.1 kB\u001b[0m \u001b[31m1.9 MB/s\u001b[0m eta \u001b[36m0:00:00\u001b[0m\n",
            "\u001b[?25h  Installing build dependencies ... \u001b[?25l\u001b[?25hdone\n",
            "  Getting requirements to build wheel ... \u001b[?25l\u001b[?25hdone\n",
            "  Preparing metadata (pyproject.toml) ... \u001b[?25l\u001b[?25hdone\n",
            "Collecting einops (from demucs)\n",
            "  Downloading einops-0.8.0-py3-none-any.whl (43 kB)\n",
            "\u001b[2K     \u001b[90m━━━━━━━━━━━━━━━━━━━━━━━━━━━━━━━━━━━━━━━━\u001b[0m \u001b[32m43.2/43.2 kB\u001b[0m \u001b[31m5.0 MB/s\u001b[0m eta \u001b[36m0:00:00\u001b[0m\n",
            "\u001b[?25hCollecting julius>=0.2.3 (from demucs)\n",
            "  Downloading julius-0.2.7.tar.gz (59 kB)\n",
            "\u001b[2K     \u001b[90m━━━━━━━━━━━━━━━━━━━━━━━━━━━━━━━━━━━━━━━━\u001b[0m \u001b[32m59.6/59.6 kB\u001b[0m \u001b[31m9.0 MB/s\u001b[0m eta \u001b[36m0:00:00\u001b[0m\n",
            "\u001b[?25h  Preparing metadata (setup.py) ... \u001b[?25l\u001b[?25hdone\n",
            "Collecting lameenc>=1.2 (from demucs)\n",
            "  Downloading lameenc-1.7.0-cp310-cp310-manylinux_2_17_x86_64.manylinux2014_x86_64.manylinux_2_28_x86_64.whl (239 kB)\n",
            "\u001b[2K     \u001b[90m━━━━━━━━━━━━━━━━━━━━━━━━━━━━━━━━━━━━━━━━\u001b[0m \u001b[32m239.8/239.8 kB\u001b[0m \u001b[31m13.7 MB/s\u001b[0m eta \u001b[36m0:00:00\u001b[0m\n",
            "\u001b[?25hCollecting openunmix (from demucs)\n",
            "  Downloading openunmix-1.3.0-py3-none-any.whl (40 kB)\n",
            "\u001b[2K     \u001b[90m━━━━━━━━━━━━━━━━━━━━━━━━━━━━━━━━━━━━━━━━\u001b[0m \u001b[32m40.0/40.0 kB\u001b[0m \u001b[31m5.4 MB/s\u001b[0m eta \u001b[36m0:00:00\u001b[0m\n",
            "\u001b[?25hRequirement already satisfied: pyyaml in /usr/local/lib/python3.10/dist-packages (from demucs) (6.0.1)\n",
            "Requirement already satisfied: torch>=1.8.1 in /usr/local/lib/python3.10/dist-packages (from demucs) (2.3.0+cu121)\n",
            "Collecting torchaudio<2.1,>=0.8 (from demucs)\n",
            "  Downloading torchaudio-2.0.2-cp310-cp310-manylinux1_x86_64.whl (4.4 MB)\n",
            "\u001b[2K     \u001b[90m━━━━━━━━━━━━━━━━━━━━━━━━━━━━━━━━━━━━━━━━\u001b[0m \u001b[32m4.4/4.4 MB\u001b[0m \u001b[31m80.0 MB/s\u001b[0m eta \u001b[36m0:00:00\u001b[0m\n",
            "\u001b[?25hRequirement already satisfied: tqdm in /usr/local/lib/python3.10/dist-packages (from demucs) (4.66.4)\n",
            "Requirement already satisfied: filelock in /usr/local/lib/python3.10/dist-packages (from torch>=1.8.1->demucs) (3.14.0)\n",
            "Requirement already satisfied: typing-extensions>=4.8.0 in /usr/local/lib/python3.10/dist-packages (from torch>=1.8.1->demucs) (4.11.0)\n",
            "Requirement already satisfied: sympy in /usr/local/lib/python3.10/dist-packages (from torch>=1.8.1->demucs) (1.12)\n",
            "Requirement already satisfied: networkx in /usr/local/lib/python3.10/dist-packages (from torch>=1.8.1->demucs) (3.3)\n",
            "Requirement already satisfied: jinja2 in /usr/local/lib/python3.10/dist-packages (from torch>=1.8.1->demucs) (3.1.4)\n",
            "Requirement already satisfied: fsspec in /usr/local/lib/python3.10/dist-packages (from torch>=1.8.1->demucs) (2023.6.0)\n",
            "Collecting nvidia-cuda-nvrtc-cu12==12.1.105 (from torch>=1.8.1->demucs)\n",
            "  Using cached nvidia_cuda_nvrtc_cu12-12.1.105-py3-none-manylinux1_x86_64.whl (23.7 MB)\n",
            "Collecting nvidia-cuda-runtime-cu12==12.1.105 (from torch>=1.8.1->demucs)\n",
            "  Using cached nvidia_cuda_runtime_cu12-12.1.105-py3-none-manylinux1_x86_64.whl (823 kB)\n",
            "Collecting nvidia-cuda-cupti-cu12==12.1.105 (from torch>=1.8.1->demucs)\n",
            "  Using cached nvidia_cuda_cupti_cu12-12.1.105-py3-none-manylinux1_x86_64.whl (14.1 MB)\n",
            "Collecting nvidia-cudnn-cu12==8.9.2.26 (from torch>=1.8.1->demucs)\n",
            "  Using cached nvidia_cudnn_cu12-8.9.2.26-py3-none-manylinux1_x86_64.whl (731.7 MB)\n",
            "Collecting nvidia-cublas-cu12==12.1.3.1 (from torch>=1.8.1->demucs)\n",
            "  Using cached nvidia_cublas_cu12-12.1.3.1-py3-none-manylinux1_x86_64.whl (410.6 MB)\n",
            "Collecting nvidia-cufft-cu12==11.0.2.54 (from torch>=1.8.1->demucs)\n",
            "  Using cached nvidia_cufft_cu12-11.0.2.54-py3-none-manylinux1_x86_64.whl (121.6 MB)\n",
            "Collecting nvidia-curand-cu12==10.3.2.106 (from torch>=1.8.1->demucs)\n",
            "  Using cached nvidia_curand_cu12-10.3.2.106-py3-none-manylinux1_x86_64.whl (56.5 MB)\n",
            "Collecting nvidia-cusolver-cu12==11.4.5.107 (from torch>=1.8.1->demucs)\n",
            "  Using cached nvidia_cusolver_cu12-11.4.5.107-py3-none-manylinux1_x86_64.whl (124.2 MB)\n",
            "Collecting nvidia-cusparse-cu12==12.1.0.106 (from torch>=1.8.1->demucs)\n",
            "  Using cached nvidia_cusparse_cu12-12.1.0.106-py3-none-manylinux1_x86_64.whl (196.0 MB)\n",
            "Collecting nvidia-nccl-cu12==2.20.5 (from torch>=1.8.1->demucs)\n",
            "  Using cached nvidia_nccl_cu12-2.20.5-py3-none-manylinux2014_x86_64.whl (176.2 MB)\n",
            "Collecting nvidia-nvtx-cu12==12.1.105 (from torch>=1.8.1->demucs)\n",
            "  Using cached nvidia_nvtx_cu12-12.1.105-py3-none-manylinux1_x86_64.whl (99 kB)\n",
            "Requirement already satisfied: triton==2.3.0 in /usr/local/lib/python3.10/dist-packages (from torch>=1.8.1->demucs) (2.3.0)\n",
            "Collecting nvidia-nvjitlink-cu12 (from nvidia-cusolver-cu12==11.4.5.107->torch>=1.8.1->demucs)\n",
            "  Downloading nvidia_nvjitlink_cu12-12.5.40-py3-none-manylinux2014_x86_64.whl (21.3 MB)\n",
            "\u001b[2K     \u001b[90m━━━━━━━━━━━━━━━━━━━━━━━━━━━━━━━━━━━━━━━━\u001b[0m \u001b[32m21.3/21.3 MB\u001b[0m \u001b[31m57.4 MB/s\u001b[0m eta \u001b[36m0:00:00\u001b[0m\n",
            "\u001b[?25hCollecting torch>=1.8.1 (from demucs)\n",
            "  Downloading torch-2.0.1-cp310-cp310-manylinux1_x86_64.whl (619.9 MB)\n",
            "\u001b[2K     \u001b[90m━━━━━━━━━━━━━━━━━━━━━━━━━━━━━━━━━━━━━━━━\u001b[0m \u001b[32m619.9/619.9 MB\u001b[0m \u001b[31m1.8 MB/s\u001b[0m eta \u001b[36m0:00:00\u001b[0m\n",
            "\u001b[?25hCollecting nvidia-cuda-nvrtc-cu11==11.7.99 (from torch>=1.8.1->demucs)\n",
            "  Downloading nvidia_cuda_nvrtc_cu11-11.7.99-2-py3-none-manylinux1_x86_64.whl (21.0 MB)\n",
            "\u001b[2K     \u001b[90m━━━━━━━━━━━━━━━━━━━━━━━━━━━━━━━━━━━━━━━━\u001b[0m \u001b[32m21.0/21.0 MB\u001b[0m \u001b[31m62.4 MB/s\u001b[0m eta \u001b[36m0:00:00\u001b[0m\n",
            "\u001b[?25hCollecting nvidia-cuda-runtime-cu11==11.7.99 (from torch>=1.8.1->demucs)\n",
            "  Downloading nvidia_cuda_runtime_cu11-11.7.99-py3-none-manylinux1_x86_64.whl (849 kB)\n",
            "\u001b[2K     \u001b[90m━━━━━━━━━━━━━━━━━━━━━━━━━━━━━━━━━━━━━━━━\u001b[0m \u001b[32m849.3/849.3 kB\u001b[0m \u001b[31m64.6 MB/s\u001b[0m eta \u001b[36m0:00:00\u001b[0m\n",
            "\u001b[?25hCollecting nvidia-cuda-cupti-cu11==11.7.101 (from torch>=1.8.1->demucs)\n",
            "  Downloading nvidia_cuda_cupti_cu11-11.7.101-py3-none-manylinux1_x86_64.whl (11.8 MB)\n",
            "\u001b[2K     \u001b[90m━━━━━━━━━━━━━━━━━━━━━━━━━━━━━━━━━━━━━━━━\u001b[0m \u001b[32m11.8/11.8 MB\u001b[0m \u001b[31m94.0 MB/s\u001b[0m eta \u001b[36m0:00:00\u001b[0m\n",
            "\u001b[?25hCollecting nvidia-cudnn-cu11==8.5.0.96 (from torch>=1.8.1->demucs)\n",
            "  Downloading nvidia_cudnn_cu11-8.5.0.96-2-py3-none-manylinux1_x86_64.whl (557.1 MB)\n",
            "\u001b[2K     \u001b[90m━━━━━━━━━━━━━━━━━━━━━━━━━━━━━━━━━━━━━━━━\u001b[0m \u001b[32m557.1/557.1 MB\u001b[0m \u001b[31m2.8 MB/s\u001b[0m eta \u001b[36m0:00:00\u001b[0m\n",
            "\u001b[?25hCollecting nvidia-cublas-cu11==11.10.3.66 (from torch>=1.8.1->demucs)\n",
            "  Downloading nvidia_cublas_cu11-11.10.3.66-py3-none-manylinux1_x86_64.whl (317.1 MB)\n",
            "\u001b[2K     \u001b[90m━━━━━━━━━━━━━━━━━━━━━━━━━━━━━━━━━━━━━━━━\u001b[0m \u001b[32m317.1/317.1 MB\u001b[0m \u001b[31m2.5 MB/s\u001b[0m eta \u001b[36m0:00:00\u001b[0m\n",
            "\u001b[?25hCollecting nvidia-cufft-cu11==10.9.0.58 (from torch>=1.8.1->demucs)\n",
            "  Downloading nvidia_cufft_cu11-10.9.0.58-py3-none-manylinux1_x86_64.whl (168.4 MB)\n",
            "\u001b[2K     \u001b[90m━━━━━━━━━━━━━━━━━━━━━━━━━━━━━━━━━━━━━━━━\u001b[0m \u001b[32m168.4/168.4 MB\u001b[0m \u001b[31m2.4 MB/s\u001b[0m eta \u001b[36m0:00:00\u001b[0m\n",
            "\u001b[?25hCollecting nvidia-curand-cu11==10.2.10.91 (from torch>=1.8.1->demucs)\n",
            "  Downloading nvidia_curand_cu11-10.2.10.91-py3-none-manylinux1_x86_64.whl (54.6 MB)\n",
            "\u001b[2K     \u001b[90m━━━━━━━━━━━━━━━━━━━━━━━━━━━━━━━━━━━━━━━━\u001b[0m \u001b[32m54.6/54.6 MB\u001b[0m \u001b[31m12.3 MB/s\u001b[0m eta \u001b[36m0:00:00\u001b[0m\n",
            "\u001b[?25hCollecting nvidia-cusolver-cu11==11.4.0.1 (from torch>=1.8.1->demucs)\n",
            "  Downloading nvidia_cusolver_cu11-11.4.0.1-2-py3-none-manylinux1_x86_64.whl (102.6 MB)\n",
            "\u001b[2K     \u001b[90m━━━━━━━━━━━━━━━━━━━━━━━━━━━━━━━━━━━━━━━━\u001b[0m \u001b[32m102.6/102.6 MB\u001b[0m \u001b[31m8.8 MB/s\u001b[0m eta \u001b[36m0:00:00\u001b[0m\n",
            "\u001b[?25hCollecting nvidia-cusparse-cu11==11.7.4.91 (from torch>=1.8.1->demucs)\n",
            "  Downloading nvidia_cusparse_cu11-11.7.4.91-py3-none-manylinux1_x86_64.whl (173.2 MB)\n",
            "\u001b[2K     \u001b[90m━━━━━━━━━━━━━━━━━━━━━━━━━━━━━━━━━━━━━━━━\u001b[0m \u001b[32m173.2/173.2 MB\u001b[0m \u001b[31m7.2 MB/s\u001b[0m eta \u001b[36m0:00:00\u001b[0m\n",
            "\u001b[?25hCollecting nvidia-nccl-cu11==2.14.3 (from torch>=1.8.1->demucs)\n",
            "  Downloading nvidia_nccl_cu11-2.14.3-py3-none-manylinux1_x86_64.whl (177.1 MB)\n",
            "\u001b[2K     \u001b[90m━━━━━━━━━━━━━━━━━━━━━━━━━━━━━━━━━━━━━━━━\u001b[0m \u001b[32m177.1/177.1 MB\u001b[0m \u001b[31m2.3 MB/s\u001b[0m eta \u001b[36m0:00:00\u001b[0m\n",
            "\u001b[?25hCollecting nvidia-nvtx-cu11==11.7.91 (from torch>=1.8.1->demucs)\n",
            "  Downloading nvidia_nvtx_cu11-11.7.91-py3-none-manylinux1_x86_64.whl (98 kB)\n",
            "\u001b[2K     \u001b[90m━━━━━━━━━━━━━━━━━━━━━━━━━━━━━━━━━━━━━━━━\u001b[0m \u001b[32m98.6/98.6 kB\u001b[0m \u001b[31m9.0 MB/s\u001b[0m eta \u001b[36m0:00:00\u001b[0m\n",
            "\u001b[?25hCollecting triton==2.0.0 (from torch>=1.8.1->demucs)\n",
            "  Downloading triton-2.0.0-1-cp310-cp310-manylinux2014_x86_64.manylinux_2_17_x86_64.whl (63.3 MB)\n",
            "\u001b[2K     \u001b[90m━━━━━━━━━━━━━━━━━━━━━━━━━━━━━━━━━━━━━━━━\u001b[0m \u001b[32m63.3/63.3 MB\u001b[0m \u001b[31m10.2 MB/s\u001b[0m eta \u001b[36m0:00:00\u001b[0m\n",
            "\u001b[?25hRequirement already satisfied: setuptools in /usr/local/lib/python3.10/dist-packages (from nvidia-cublas-cu11==11.10.3.66->torch>=1.8.1->demucs) (67.7.2)\n",
            "Requirement already satisfied: wheel in /usr/local/lib/python3.10/dist-packages (from nvidia-cublas-cu11==11.10.3.66->torch>=1.8.1->demucs) (0.43.0)\n",
            "Requirement already satisfied: cmake in /usr/local/lib/python3.10/dist-packages (from triton==2.0.0->torch>=1.8.1->demucs) (3.27.9)\n",
            "Collecting lit (from triton==2.0.0->torch>=1.8.1->demucs)\n",
            "  Downloading lit-18.1.6-py3-none-any.whl (96 kB)\n",
            "\u001b[2K     \u001b[90m━━━━━━━━━━━━━━━━━━━━━━━━━━━━━━━━━━━━━━━━\u001b[0m \u001b[32m96.4/96.4 kB\u001b[0m \u001b[31m13.9 MB/s\u001b[0m eta \u001b[36m0:00:00\u001b[0m\n",
            "\u001b[?25hCollecting omegaconf (from dora-search->demucs)\n",
            "  Downloading omegaconf-2.3.0-py3-none-any.whl (79 kB)\n",
            "\u001b[2K     \u001b[90m━━━━━━━━━━━━━━━━━━━━━━━━━━━━━━━━━━━━━━━━\u001b[0m \u001b[32m79.5/79.5 kB\u001b[0m \u001b[31m11.8 MB/s\u001b[0m eta \u001b[36m0:00:00\u001b[0m\n",
            "\u001b[?25hCollecting retrying (from dora-search->demucs)\n",
            "  Downloading retrying-1.3.4-py3-none-any.whl (11 kB)\n",
            "Collecting submitit (from dora-search->demucs)\n",
            "  Downloading submitit-1.5.1-py3-none-any.whl (74 kB)\n",
            "\u001b[2K     \u001b[90m━━━━━━━━━━━━━━━━━━━━━━━━━━━━━━━━━━━━━━━━\u001b[0m \u001b[32m74.7/74.7 kB\u001b[0m \u001b[31m11.4 MB/s\u001b[0m eta \u001b[36m0:00:00\u001b[0m\n",
            "\u001b[?25hCollecting treetable (from dora-search->demucs)\n",
            "  Downloading treetable-0.2.5.tar.gz (10 kB)\n",
            "  Preparing metadata (setup.py) ... \u001b[?25l\u001b[?25hdone\n",
            "Requirement already satisfied: numpy in /usr/local/lib/python3.10/dist-packages (from openunmix->demucs) (1.25.2)\n",
            "Requirement already satisfied: MarkupSafe>=2.0 in /usr/local/lib/python3.10/dist-packages (from jinja2->torch>=1.8.1->demucs) (2.1.5)\n",
            "Collecting antlr4-python3-runtime==4.9.* (from omegaconf->dora-search->demucs)\n",
            "  Downloading antlr4-python3-runtime-4.9.3.tar.gz (117 kB)\n",
            "\u001b[2K     \u001b[90m━━━━━━━━━━━━━━━━━━━━━━━━━━━━━━━━━━━━━━━━\u001b[0m \u001b[32m117.0/117.0 kB\u001b[0m \u001b[31m19.2 MB/s\u001b[0m eta \u001b[36m0:00:00\u001b[0m\n",
            "\u001b[?25h  Preparing metadata (setup.py) ... \u001b[?25l\u001b[?25hdone\n",
            "Requirement already satisfied: six>=1.7.0 in /usr/local/lib/python3.10/dist-packages (from retrying->dora-search->demucs) (1.16.0)\n",
            "Requirement already satisfied: cloudpickle>=1.2.1 in /usr/local/lib/python3.10/dist-packages (from submitit->dora-search->demucs) (2.2.1)\n",
            "Requirement already satisfied: mpmath>=0.19 in /usr/local/lib/python3.10/dist-packages (from sympy->torch>=1.8.1->demucs) (1.3.0)\n",
            "Building wheels for collected packages: demucs, julius, dora-search, antlr4-python3-runtime, treetable\n",
            "  Building wheel for demucs (setup.py) ... \u001b[?25l\u001b[?25hdone\n",
            "  Created wheel for demucs: filename=demucs-4.1.0a2-py3-none-any.whl size=83544 sha256=232fd91d53308587fece1a9e85793d10efaae2b5a0ef2dcd9894137239712d93\n",
            "  Stored in directory: /tmp/pip-ephem-wheel-cache-vd7au3bp/wheels/45/e4/ca/7791f04b554e5433713e22900eaf11595e27c454fb65ac30ab\n",
            "  Building wheel for julius (setup.py) ... \u001b[?25l\u001b[?25hdone\n",
            "  Created wheel for julius: filename=julius-0.2.7-py3-none-any.whl size=21870 sha256=496a21b097eb21a67d6506ceaa90ec237368aed157c85ed6d695b9aa753f254a\n",
            "  Stored in directory: /root/.cache/pip/wheels/b9/b2/05/f883527ffcb7f2ead5438a2c23439aa0c881eaa9a4c80256f4\n",
            "  Building wheel for dora-search (pyproject.toml) ... \u001b[?25l\u001b[?25hdone\n",
            "  Created wheel for dora-search: filename=dora_search-0.1.12-py3-none-any.whl size=75093 sha256=bcbc6de35500c45f99f05e0ec27824e3c832b255a229f74f6d164955e9996f6c\n",
            "  Stored in directory: /root/.cache/pip/wheels/b1/c2/c0/bea5cc405497284d584b958f293ef32c23bad42ae5e44d973c\n",
            "  Building wheel for antlr4-python3-runtime (setup.py) ... \u001b[?25l\u001b[?25hdone\n",
            "  Created wheel for antlr4-python3-runtime: filename=antlr4_python3_runtime-4.9.3-py3-none-any.whl size=144554 sha256=3cf05e7ba3b165872c14155b8cbc6f19cdd4ec245ac0a3fcbf4c1a3e157beae6\n",
            "  Stored in directory: /root/.cache/pip/wheels/12/93/dd/1f6a127edc45659556564c5730f6d4e300888f4bca2d4c5a88\n",
            "  Building wheel for treetable (setup.py) ... \u001b[?25l\u001b[?25hdone\n",
            "  Created wheel for treetable: filename=treetable-0.2.5-py3-none-any.whl size=7333 sha256=e9af5af930c3ee61c8be34b343da5e994f41592c3da99730c94931399b6b5506\n",
            "  Stored in directory: /root/.cache/pip/wheels/72/55/0e/91c3655bdb162446f8a7cd477579397544454a63ae7c599c0c\n",
            "Successfully built demucs julius dora-search antlr4-python3-runtime treetable\n",
            "Installing collected packages: lit, lameenc, antlr4-python3-runtime, treetable, submitit, retrying, omegaconf, nvidia-nvtx-cu11, nvidia-nccl-cu11, nvidia-cusparse-cu11, nvidia-curand-cu11, nvidia-cufft-cu11, nvidia-cuda-runtime-cu11, nvidia-cuda-nvrtc-cu11, nvidia-cuda-cupti-cu11, nvidia-cublas-cu11, einops, nvidia-cusolver-cu11, nvidia-cudnn-cu11, triton, torch, torchaudio, openunmix, julius, dora-search, demucs\n",
            "  Attempting uninstall: triton\n",
            "    Found existing installation: triton 2.3.0\n",
            "    Uninstalling triton-2.3.0:\n",
            "      Successfully uninstalled triton-2.3.0\n",
            "  Attempting uninstall: torch\n",
            "    Found existing installation: torch 2.3.0+cu121\n",
            "    Uninstalling torch-2.3.0+cu121:\n",
            "      Successfully uninstalled torch-2.3.0+cu121\n",
            "  Attempting uninstall: torchaudio\n",
            "    Found existing installation: torchaudio 2.3.0+cu121\n",
            "    Uninstalling torchaudio-2.3.0+cu121:\n",
            "      Successfully uninstalled torchaudio-2.3.0+cu121\n",
            "\u001b[31mERROR: pip's dependency resolver does not currently take into account all the packages that are installed. This behaviour is the source of the following dependency conflicts.\n",
            "torchtext 0.18.0 requires torch>=2.3.0, but you have torch 2.0.1 which is incompatible.\n",
            "torchvision 0.18.0+cu121 requires torch==2.3.0, but you have torch 2.0.1 which is incompatible.\u001b[0m\u001b[31m\n",
            "\u001b[0mSuccessfully installed antlr4-python3-runtime-4.9.3 demucs-4.1.0a2 dora-search-0.1.12 einops-0.8.0 julius-0.2.7 lameenc-1.7.0 lit-18.1.6 nvidia-cublas-cu11-11.10.3.66 nvidia-cuda-cupti-cu11-11.7.101 nvidia-cuda-nvrtc-cu11-11.7.99 nvidia-cuda-runtime-cu11-11.7.99 nvidia-cudnn-cu11-8.5.0.96 nvidia-cufft-cu11-10.9.0.58 nvidia-curand-cu11-10.2.10.91 nvidia-cusolver-cu11-11.4.0.1 nvidia-cusparse-cu11-11.7.4.91 nvidia-nccl-cu11-2.14.3 nvidia-nvtx-cu11-11.7.91 omegaconf-2.3.0 openunmix-1.3.0 retrying-1.3.4 submitit-1.5.1 torch-2.0.1 torchaudio-2.0.2 treetable-0.2.5 triton-2.0.0\n"
          ]
        }
      ]
    },
    {
      "cell_type": "code",
      "source": [
        "from google.colab import drive\n",
        "drive.mount('/content/drive')"
      ],
      "metadata": {
        "id": "WdmgnE19jrJQ",
        "outputId": "49f91e2c-8e14-4bb8-bd8d-4c5338bbc7a2",
        "colab": {
          "base_uri": "https://localhost:8080/"
        }
      },
      "execution_count": 3,
      "outputs": [
        {
          "output_type": "stream",
          "name": "stdout",
          "text": [
            "Mounted at /content/drive\n"
          ]
        }
      ]
    },
    {
      "cell_type": "code",
      "metadata": {
        "id": "znCvBifRrO-b"
      },
      "source": [
        "# Customize the following options!\n",
        "model = \"htdemucs\"\n",
        "extensions = [\"mp3\", \"wav\", \"ogg\", \"flac\"]  # we will look for all those file types.\n",
        "two_stems = None   # only separate one stems from the rest, for instance\n",
        "# two_stems = \"vocals\"\n",
        "\n",
        "# Options for the output audio.\n",
        "mp3 = True\n",
        "mp3_rate = 320\n",
        "float32 = False  # output as float 32 wavs, unsused if 'mp3' is True.\n",
        "int24 = False    # output as int24 wavs, unused if 'mp3' is True.\n",
        "# You cannot set both `float32 = True` and `int24 = True` !!\n",
        "\n",
        "in_path = '/content/drive/MyDrive/demucs_start/'\n",
        "out_path = '/content/drive/MyDrive/demucs_done/'"
      ],
      "execution_count": 10,
      "outputs": []
    },
    {
      "cell_type": "code",
      "metadata": {
        "id": "kMKN9BN4r37E",
        "cellView": "form"
      },
      "source": [
        "#@title Useful functions, don't forget to execute\n",
        "import io\n",
        "from pathlib import Path\n",
        "import select\n",
        "from shutil import rmtree\n",
        "import subprocess as sp\n",
        "import sys\n",
        "from typing import Dict, Tuple, Optional, IO\n",
        "\n",
        "from google.colab import files\n",
        "\n",
        "def find_files(in_path):\n",
        "    out = []\n",
        "    for file in Path(in_path).iterdir():\n",
        "        if file.suffix.lower().lstrip(\".\") in extensions:\n",
        "            out.append(file)\n",
        "    return out\n",
        "\n",
        "def copy_process_streams(process: sp.Popen):\n",
        "    def raw(stream: Optional[IO[bytes]]) -> IO[bytes]:\n",
        "        assert stream is not None\n",
        "        if isinstance(stream, io.BufferedIOBase):\n",
        "            stream = stream.raw\n",
        "        return stream\n",
        "\n",
        "    p_stdout, p_stderr = raw(process.stdout), raw(process.stderr)\n",
        "    stream_by_fd: Dict[int, Tuple[IO[bytes], io.StringIO, IO[str]]] = {\n",
        "        p_stdout.fileno(): (p_stdout, sys.stdout),\n",
        "        p_stderr.fileno(): (p_stderr, sys.stderr),\n",
        "    }\n",
        "    fds = list(stream_by_fd.keys())\n",
        "\n",
        "    while fds:\n",
        "        # `select` syscall will wait until one of the file descriptors has content.\n",
        "        ready, _, _ = select.select(fds, [], [])\n",
        "        for fd in ready:\n",
        "            p_stream, std = stream_by_fd[fd]\n",
        "            raw_buf = p_stream.read(2 ** 16)\n",
        "            if not raw_buf:\n",
        "                fds.remove(fd)\n",
        "                continue\n",
        "            buf = raw_buf.decode()\n",
        "            std.write(buf)\n",
        "            std.flush()\n",
        "\n",
        "def separate(inp=None, outp=None):\n",
        "    inp = inp or in_path\n",
        "    outp = outp or out_path\n",
        "    cmd = [\"python3\", \"-m\", \"demucs.separate\", \"-o\", str(outp), \"-n\", model]\n",
        "    if mp3:\n",
        "        cmd += [\"--mp3\", f\"--mp3-bitrate={mp3_rate}\"]\n",
        "    if float32:\n",
        "        cmd += [\"--float32\"]\n",
        "    if int24:\n",
        "        cmd += [\"--int24\"]\n",
        "    if two_stems is not None:\n",
        "        cmd += [f\"--two-stems={two_stems}\"]\n",
        "    files = [str(f) for f in find_files(inp)]\n",
        "    if not files:\n",
        "        print(f\"No valid audio files in {in_path}\")\n",
        "        return\n",
        "    print(\"Going to separate the files:\")\n",
        "    print('\\n'.join(files))\n",
        "    print(\"With command: \", \" \".join(cmd))\n",
        "    p = sp.Popen(cmd + files, stdout=sp.PIPE, stderr=sp.PIPE)\n",
        "    copy_process_streams(p)\n",
        "    p.wait()\n",
        "    if p.returncode != 0:\n",
        "        print(\"Command failed, something went wrong.\")\n",
        "\n",
        "\n",
        "def from_upload():\n",
        "    out_path = Path('separated')\n",
        "    in_path = Path('tmp_in')\n",
        "\n",
        "    if in_path.exists():\n",
        "        rmtree(in_path)\n",
        "    in_path.mkdir()\n",
        "\n",
        "    if out_path.exists():\n",
        "        rmtree(out_path)\n",
        "    out_path.mkdir()\n",
        "\n",
        "    uploaded = files.upload()\n",
        "    for name, content in uploaded.items():\n",
        "        (in_path / name).write_bytes(content)\n",
        "    separate(in_path, out_path)\n"
      ],
      "execution_count": 8,
      "outputs": []
    },
    {
      "cell_type": "code",
      "metadata": {
        "id": "gr9OJvf-tYyt",
        "outputId": "6113545f-ab3d-49ef-f3af-94a574f94187",
        "colab": {
          "base_uri": "https://localhost:8080/"
        }
      },
      "source": [
        "# This can be quite slow, in particular the loading, and saving from GDrive. Please be patient!\n",
        "# This is from google drive! Also, this will separate all the files inside the MyDrive/demucs folder,\n",
        "# so when you are happy with the results, remove the songs from there.\n",
        "separate()"
      ],
      "execution_count": null,
      "outputs": [
        {
          "output_type": "stream",
          "name": "stdout",
          "text": [
            "Going to separate the files:\n",
            "/content/drive/MyDrive/demucs_start/Amphetamine Trails.mp3\n",
            "/content/drive/MyDrive/demucs_start/Årets-narkomann.mp3\n",
            "/content/drive/MyDrive/demucs_start/Ballad of Dirty Old Joe.mp3\n",
            "/content/drive/MyDrive/demucs_start/Banjo-Banani.mp3\n",
            "/content/drive/MyDrive/demucs_start/D&B Amfetamin.mp3\n",
            "/content/drive/MyDrive/demucs_start/D&B Robo Dance - Down.mp3\n",
            "/content/drive/MyDrive/demucs_start/D&B Robo Dance - Up.mp3\n",
            "/content/drive/MyDrive/demucs_start/Depth-charge-groove.mp3\n",
            "/content/drive/MyDrive/demucs_start/Downloading.mp3\n",
            "/content/drive/MyDrive/demucs_start/fysj.mp3\n",
            "/content/drive/MyDrive/demucs_start/Gamble-and-loss.mp3\n",
            "/content/drive/MyDrive/demucs_start/Glitch-amfetamin-mad-bassline-edit.mp3\n",
            "/content/drive/MyDrive/demucs_start/Glitch Amphetamine.mp3\n",
            "/content/drive/MyDrive/demucs_start/Grisehyl-test2.mp3\n",
            "/content/drive/MyDrive/demucs_start/Grisehyl-test3.mp3\n",
            "/content/drive/MyDrive/demucs_start/Grisehyl-test4.mp3\n",
            "/content/drive/MyDrive/demucs_start/Grisehyl-test.mp3\n",
            "/content/drive/MyDrive/demucs_start/Jeg-vil-se.mp3\n",
            "/content/drive/MyDrive/demucs_start/Little-Buffalo.mp3\n",
            "/content/drive/MyDrive/demucs_start/Mann-er-mann.mp3\n",
            "/content/drive/MyDrive/demucs_start/Me and me.mp3\n",
            "/content/drive/MyDrive/demucs_start/Me me me.mp3\n",
            "/content/drive/MyDrive/demucs_start/Min-Dessert.mp3\n",
            "/content/drive/MyDrive/demucs_start/Min Dessert (Musical).mp3\n",
            "/content/drive/MyDrive/demucs_start/Min Dessert (silent cut).mp3\n",
            "/content/drive/MyDrive/demucs_start/Min Dessert (special ending).mp3\n",
            "/content/drive/MyDrive/demucs_start/Only-me.mp3\n",
            "/content/drive/MyDrive/demucs_start/Seile-i-en-tresko.mp3\n",
            "/content/drive/MyDrive/demucs_start/The-black-hole.mp3\n",
            "/content/drive/MyDrive/demucs_start/The Darkest Night.mp3\n",
            "/content/drive/MyDrive/demucs_start/t.mp3\n",
            "/content/drive/MyDrive/demucs_start/Wired Love Connection.mp3\n",
            "/content/drive/MyDrive/demucs_start/Mørke faen v3.mp3\n",
            "/content/drive/MyDrive/demucs_start/Mørke faen v4.mp3\n",
            "/content/drive/MyDrive/demucs_start/Mørke faen v5.mp3\n",
            "/content/drive/MyDrive/demucs_start/Mørke faen v6.mp3\n",
            "With command:  python3 -m demucs.separate -o /content/drive/MyDrive/demucs_done/ -n htdemucs --mp3 --mp3-bitrate=320\n"
          ]
        },
        {
          "output_type": "stream",
          "name": "stderr",
          "text": [
            "Downloading: \"https://dl.fbaipublicfiles.com/demucs/hybrid_transformer/955717e8-8726e21a.th\" to /root/.cache/torch/hub/checkpoints/955717e8-8726e21a.th\n",
            "100%|██████████| 80.2M/80.2M [00:00<00:00, 154MB/s]\n"
          ]
        },
        {
          "output_type": "stream",
          "name": "stdout",
          "text": [
            "Selected model is a bag of 1 models. You will see that many progress bars per track.\n",
            "Separated tracks will be stored in /content/drive/MyDrive/demucs_done/htdemucs\n",
            "Separating track /content/drive/MyDrive/demucs_start/Amphetamine Trails.mp3\n"
          ]
        },
        {
          "output_type": "stream",
          "name": "stderr",
          "text": [
            "100%|██████████████████████████████████████████████| 397.79999999999995/397.79999999999995 [00:20<00:00, 19.33seconds/s]\n"
          ]
        },
        {
          "output_type": "stream",
          "name": "stdout",
          "text": [
            "Separating track /content/drive/MyDrive/demucs_start/Årets-narkomann.mp3\n"
          ]
        },
        {
          "output_type": "stream",
          "name": "stderr",
          "text": [
            "100%|████████████████████████████████████████████████████████████████████████| 234.0/234.0 [00:09<00:00, 25.71seconds/s]\n"
          ]
        },
        {
          "output_type": "stream",
          "name": "stdout",
          "text": [
            "Separating track /content/drive/MyDrive/demucs_start/Ballad of Dirty Old Joe.mp3\n"
          ]
        },
        {
          "output_type": "stream",
          "name": "stderr",
          "text": [
            "100%|██████████████████████████████████████████████| 198.89999999999998/198.89999999999998 [00:07<00:00, 25.64seconds/s]\n"
          ]
        }
      ]
    },
    {
      "cell_type": "code",
      "metadata": {
        "id": "v__3gMJawTD0"
      },
      "source": [
        "# This is manual upload and download :)\n",
        "from_upload()\n",
        "!zip -r separated.zip separated\n",
        "files.download('./separated.zip')"
      ],
      "execution_count": null,
      "outputs": []
    }
  ]
}