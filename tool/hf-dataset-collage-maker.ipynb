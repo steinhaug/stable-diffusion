{
  "nbformat": 4,
  "nbformat_minor": 0,
  "metadata": {
    "colab": {
      "provenance": [],
      "authorship_tag": "ABX9TyMqQrSHWL7uiiz2HrQY2a0Z",
      "include_colab_link": true
    },
    "kernelspec": {
      "name": "python3",
      "display_name": "Python 3"
    },
    "language_info": {
      "name": "python"
    }
  },
  "cells": [
    {
      "cell_type": "markdown",
      "metadata": {
        "id": "view-in-github",
        "colab_type": "text"
      },
      "source": [
        "<a href=\"https://colab.research.google.com/github/steinhaug/stable-diffusion/blob/main/tool/hf-dataset-collage-maker.ipynb\" target=\"_parent\"><img src=\"https://colab.research.google.com/assets/colab-badge.svg\" alt=\"Open In Colab\"/></a>"
      ]
    },
    {
      "cell_type": "markdown",
      "source": [
        "# Huggingface dataset collage maker\n",
        "\n",
        "This notebook is intended for downloading files from a dataset.\n",
        "Create a collage image from all images inside a folder.\n",
        "Upload the collage images to the huggingface dataset.\n",
        "\n",
        "**Requirements:** _writable token in secrets as HF_TOKEN_\n"
      ],
      "metadata": {
        "id": "mNrp7-sJJ6aX"
      }
    },
    {
      "cell_type": "code",
      "execution_count": 4,
      "metadata": {
        "colab": {
          "base_uri": "https://localhost:8080/"
        },
        "id": "gwOl-JYX951O",
        "outputId": "1ece15d4-ee4c-437d-e4ac-f54f5334fbc1"
      },
      "outputs": [
        {
          "output_type": "stream",
          "name": "stdout",
          "text": [
            "Token will not been saved to git credential helper. Pass `add_to_git_credential=True` if you want to set the git credential as well.\n",
            "Token is valid (permission: write).\n",
            "Your token has been saved to /root/.cache/huggingface/token\n",
            "Login successful\n"
          ]
        }
      ],
      "source": [
        "from google.colab import userdata\n",
        "HF_TOKEN = userdata.get('HF_TOKEN')\n",
        "\n",
        "!huggingface-cli login --token {HF_TOKEN}\n",
        "from huggingface_hub import snapshot_download"
      ]
    },
    {
      "cell_type": "code",
      "source": [
        "#@markdown load notebook functions\n",
        "import os\n",
        "import shutil\n",
        "import tarfile\n",
        "import glob\n",
        "from PIL import Image\n",
        "import cv2\n",
        "import random\n",
        "from IPython.display import clear_output\n",
        "\n",
        "def delete_dir(directory_path):\n",
        "    if os.path.exists(directory_path):\n",
        "        shutil.rmtree(directory_path)\n",
        "        print(f\"Directory and all contents deleted: {directory_path}\")\n",
        "    else:\n",
        "        print(\"The directory does not exist.\")\n",
        "\n",
        "def decompress_tar(tar_file, destination=None, flatten_structure=False):\n",
        "    with tarfile.open(tar_file, 'r') as tar:\n",
        "        if destination is not None:\n",
        "            os.makedirs(destination, exist_ok=True)\n",
        "\n",
        "        folder, extension = os.path.splitext(return__folderName(tar_file))\n",
        "\n",
        "        for member in tar.getmembers():\n",
        "            if flatten_structure:\n",
        "                # Use just the filename without directories\n",
        "                member.name = os.path.basename(member.name)\n",
        "            if destination is not None:\n",
        "                # Join the destination directory with the member's name\n",
        "                if flatten_structure:\n",
        "                    member_path = os.path.join(destination, folder, os.path.dirname(member.name))\n",
        "                else:\n",
        "                    member_path = destination\n",
        "            else:\n",
        "                member_path = os.path.dirname(member.name)\n",
        "\n",
        "            if flatten_structure and destination==None:\n",
        "                member_path = os.path.dirname(tar_file)\n",
        "\n",
        "            tar.extract(member, path=member_path)\n",
        "\n",
        "def return__folderName(directory_path, verify_folder=False):\n",
        "    if not verify_folder:\n",
        "        return os.path.basename(os.path.normpath(directory_path))\n",
        "    if os.path.isdir(directory_path):\n",
        "        last_folder_name = os.path.basename(os.path.normpath(directory_path))\n",
        "        return last_folder_name\n",
        "    else:\n",
        "        return None # Return None for invalid paths\n",
        "\n",
        "def get_image_dimensions(image_path):\n",
        "    try:\n",
        "        with Image.open(image_path) as img:\n",
        "            return img.size  # img.size is a tuple (width, height)\n",
        "    except IOError as e:\n",
        "        print(f\"Error opening image: {e}\")\n",
        "        return None\n",
        "\n",
        "def add_title_and_subtitle_opencv(directory_path, image_path):\n",
        "    \"\"\"\n",
        "    Opens an image, adds a title and a subtitle with shadows using OpenCV, and saves it as a JPG.\n",
        "\n",
        "    Args:\n",
        "    directory_path (str): The path to the directory containing images.\n",
        "    image_path (str): The path to the image to be modified.\n",
        "    \"\"\"\n",
        "    # Load the image\n",
        "    img = cv2.imread(image_path)\n",
        "    if img is None:\n",
        "        print(\"Image could not be read.\")\n",
        "        return\n",
        "\n",
        "    # Define the font\n",
        "    font = cv2.FONT_HERSHEY_SIMPLEX\n",
        "    font_scale = 2  # Increased font scale for larger text\n",
        "    font_color = (255, 255, 255)\n",
        "    shadow_color = (50, 50, 50)  # Dark gray shadow\n",
        "    font_thickness = 3\n",
        "    shadow_offset = 2  # Shadow offset\n",
        "\n",
        "    # Title text: Directory name\n",
        "    title = os.path.basename(directory_path)\n",
        "    # Subtitle text: Image count\n",
        "    image_count = len([name for name in os.listdir(directory_path) if os.path.isfile(os.path.join(directory_path, name))])\n",
        "    subtitle = f\"Total images: {image_count}\"\n",
        "\n",
        "    # Add text to the image\n",
        "    text_size, _ = cv2.getTextSize(title, font, font_scale, font_thickness)\n",
        "    text_x = 10\n",
        "    text_y = text_size[1] + 10\n",
        "\n",
        "    # Adding shadow first\n",
        "    cv2.putText(img, title, (text_x + shadow_offset, text_y + shadow_offset), font, font_scale, shadow_color, font_thickness, cv2.LINE_AA)\n",
        "    # Adding text\n",
        "    cv2.putText(img, title, (text_x, text_y), font, font_scale, font_color, font_thickness, cv2.LINE_AA)\n",
        "\n",
        "    # Add subtitle below the title\n",
        "    subtitle_size, _ = cv2.getTextSize(subtitle, font, font_scale, font_thickness)\n",
        "    subtitle_y = text_y + subtitle_size[1] + 10\n",
        "    # Adding shadow first for subtitle\n",
        "    cv2.putText(img, subtitle, (text_x + shadow_offset, subtitle_y + shadow_offset), font, font_scale, shadow_color, font_thickness, cv2.LINE_AA)\n",
        "    # Adding subtitle\n",
        "    cv2.putText(img, subtitle, (text_x, subtitle_y), font, font_scale, font_color, font_thickness, cv2.LINE_AA)\n",
        "\n",
        "    # Save the modified image\n",
        "    #save_path = os.path.join(os.path.dirname(image_path), os.path.basename(directory_path) + \".jpg\")\n",
        "    save_path = image_path[:-4] + \".jpg\"\n",
        "    cv2.imwrite(save_path, img)\n",
        "    print(f\"Modified image saved to {save_path}\")\n",
        "\n",
        "\n",
        "def make_collage(images, filename, width, init_height):\n",
        "    \"\"\"\n",
        "    Make a collage image with a width equal to `width` from `images` and save to `filename`.\n",
        "    \"\"\"\n",
        "    if not images:\n",
        "        print('No images for collage found!')\n",
        "        return False\n",
        "\n",
        "    margin_size = 2\n",
        "    # run until a suitable arrangement of images is found\n",
        "    while True:\n",
        "        # copy images to images_list\n",
        "        images_list = images[:]\n",
        "        coefs_lines = []\n",
        "        images_line = []\n",
        "        x = 0\n",
        "        while images_list:\n",
        "            # get first image and resize to `init_height`\n",
        "            img_path = images_list.pop(0)\n",
        "            img = Image.open(img_path)\n",
        "            img.thumbnail((width, init_height))\n",
        "            # when `x` will go beyond the `width`, start the next line\n",
        "            if x > width:\n",
        "                coefs_lines.append((float(x) / width, images_line))\n",
        "                images_line = []\n",
        "                x = 0\n",
        "            x += img.size[0] + margin_size\n",
        "            images_line.append(img_path)\n",
        "        # finally add the last line with images\n",
        "        coefs_lines.append((float(x) / width, images_line))\n",
        "\n",
        "        # compact the lines, by reducing the `init_height`, if any with one or less images\n",
        "        if len(coefs_lines) <= 1:\n",
        "            break\n",
        "        if any(map(lambda c: len(c[1]) <= 1, coefs_lines)):\n",
        "            # reduce `init_height`\n",
        "            init_height -= 10\n",
        "        else:\n",
        "            break\n",
        "\n",
        "    # get output height\n",
        "    out_height = 0\n",
        "    for coef, imgs_line in coefs_lines:\n",
        "        if imgs_line:\n",
        "            out_height += int(init_height / coef) + margin_size\n",
        "    if not out_height:\n",
        "        print('Height of collage could not be 0!')\n",
        "        return False\n",
        "\n",
        "    collage_image = Image.new('RGB', (width, int(out_height)), (35, 35, 35))\n",
        "    # put images to the collage\n",
        "    y = 0\n",
        "    for coef, imgs_line in coefs_lines:\n",
        "        if imgs_line:\n",
        "            x = 0\n",
        "            for img_path in imgs_line:\n",
        "                img = Image.open(img_path)\n",
        "                # if need to enlarge an image - use `resize`, otherwise use `thumbnail`, it's faster\n",
        "                k = (init_height / coef) / img.size[1]\n",
        "                if k > 1:\n",
        "                    img = img.resize((int(img.size[0] * k), int(img.size[1] * k)), Image.LANCZOS)\n",
        "                else:\n",
        "                    img.thumbnail((int(width / coef), int(init_height / coef)), Image.LANCZOS)\n",
        "                if collage_image:\n",
        "                    collage_image.paste(img, (int(x), int(y)))\n",
        "                x += img.size[0] + margin_size\n",
        "            y += int(init_height / coef) + margin_size\n",
        "    collage_image.save(filename)\n",
        "    return True\n",
        "\n",
        "\n",
        "def collage(image_directory):\n",
        "\n",
        "    class MyVariables:\n",
        "        def __init__(self):\n",
        "            self.width = 1600\n",
        "            self.height = 250\n",
        "            self.init_height = 250\n",
        "            self.folder = image_directory\n",
        "            self.output = f\"{image_directory}.coll.png\"\n",
        "            self.shuffle = True\n",
        "    args = MyVariables()\n",
        "\n",
        "    # get images\n",
        "    files = [os.path.join(args.folder, fn) for fn in os.listdir(args.folder)]\n",
        "    images = [fn for fn in files if os.path.splitext(fn)[1].lower() in ('.jpg', '.jpeg', '.png')]\n",
        "    if not images:\n",
        "        print('No images for making collage! Please select other directory with images!')\n",
        "        exit(1)\n",
        "\n",
        "    # shuffle images if needed\n",
        "    if args.shuffle:\n",
        "        random.shuffle(images)\n",
        "\n",
        "    print(f\"Making collage: {image_directory}\")\n",
        "    res = make_collage(images, args.output, args.width, args.init_height)\n",
        "    if not res:\n",
        "        print('Failed to create collage!')\n",
        "        exit(1)\n",
        "    print('-- Collage is ready!')\n"
      ],
      "metadata": {
        "cellView": "form",
        "id": "XRIYNXsHWtiI"
      },
      "execution_count": 71,
      "outputs": []
    },
    {
      "cell_type": "code",
      "source": [
        "delete_dir('/content/datasets')"
      ],
      "metadata": {
        "id": "ViF6_qWCGe9t",
        "outputId": "1c69310c-c97a-4a28-89d0-0c1c6b08fe1c",
        "colab": {
          "base_uri": "https://localhost:8080/"
        }
      },
      "execution_count": 75,
      "outputs": [
        {
          "output_type": "stream",
          "name": "stdout",
          "text": [
            "Directory and all contents deleted: /content/datasets\n"
          ]
        }
      ]
    },
    {
      "cell_type": "code",
      "source": [
        "#@markdown Download image sets\n",
        "sub_folder = \"MetArt\" # @param {type:\"string\"}\n",
        "allow_patterns = \"MetArt/*.tar\" # @param {type:\"string\"}\n",
        "\n",
        "import os\n",
        "SAVE_PATH = '/content/datasets'\n",
        "REPO_ID = 'steinhaug/onceUponAtimeInPornVille'\n",
        "os.makedirs(f\"{SAVE_PATH}/{REPO_ID}\", exist_ok=True)\n",
        "path = snapshot_download(repo_id=REPO_ID, repo_type=\"dataset\", revision=\"main\", allow_patterns=f\"{allow_patterns}\", local_dir=f\"{SAVE_PATH}/{REPO_ID}\", local_dir_use_symlinks=False)"
      ],
      "metadata": {
        "cellView": "form",
        "id": "6nnO7kaWWXeX"
      },
      "execution_count": null,
      "outputs": []
    },
    {
      "cell_type": "code",
      "source": [
        "#@title decompress folder\n",
        "\n",
        "IMAGE_FOLDER = os.path.join(SAVE_PATH, REPO_ID, sub_folder)\n",
        "output_directory = f\"/content/datasets/{sub_folder}\"\n",
        "\n",
        "for item_name in os.listdir(IMAGE_FOLDER):\n",
        "    file_path = os.path.join(IMAGE_FOLDER, item_name)\n",
        "    root, extension = os.path.splitext(file_path)\n",
        "    if extension == '.tar':\n",
        "        decompress_tar(file_path, output_directory, False)\n",
        "        os.remove(file_path)\n",
        "        print(f\"Decompressed: {file_path}\")\n",
        "\n",
        "#delete_dir(IMAGE_FOLDER)\n",
        "clear_output();\n",
        "print(f\"Done\")"
      ],
      "metadata": {
        "colab": {
          "base_uri": "https://localhost:8080/"
        },
        "cellView": "form",
        "id": "JXboazIyWuy_",
        "outputId": "8245e36b-de7b-4834-9839-c5b2ff4fb30f"
      },
      "execution_count": 64,
      "outputs": [
        {
          "output_type": "stream",
          "name": "stdout",
          "text": [
            "Done\n"
          ]
        }
      ]
    },
    {
      "cell_type": "code",
      "source": [
        "#@markdown Create the collage images\n",
        "directory = f\"/content/datasets/{sub_folder}\"\n",
        "\n",
        "for item in os.listdir(directory):\n",
        "    # os.path.join() constructs full path\n",
        "    image_folder = os.path.join(directory, item)\n",
        "    if item == '.ipynb_checkpoints':\n",
        "        continue\n",
        "    if os.path.isdir(image_folder):\n",
        "        if not os.path.isfile(f\"{image_folder}.coll.jpg\"):\n",
        "            collage(image_folder)\n",
        "            add_title_and_subtitle_opencv(image_folder, f\"{image_folder}.coll.png\")\n",
        "            os.remove( f\"{image_folder}.coll.png\" )\n",
        "            xy = get_image_dimensions(f\"{image_folder}.coll.jpg\")\n",
        "            print(f\"Collage created: {xy[0]} x {xy[1]}\")\n",
        "        else:\n",
        "            print(f\"Collage exists.\")\n",
        "\n",
        "clear_output();\n",
        "print(f\"Done\")"
      ],
      "metadata": {
        "cellView": "form",
        "id": "QNaqYFyVyuU8",
        "outputId": "f4d40c29-2b88-4de3-ccd9-8be12db9f617",
        "colab": {
          "base_uri": "https://localhost:8080/"
        }
      },
      "execution_count": 72,
      "outputs": [
        {
          "output_type": "stream",
          "name": "stdout",
          "text": [
            "Done\n"
          ]
        }
      ]
    },
    {
      "cell_type": "code",
      "source": [
        "#@markdown connect to huggingface\n",
        "from slugify import slugify\n",
        "from huggingface_hub import HfApi, HfFolder, CommitOperationAdd\n",
        "from huggingface_hub import create_repo\n",
        "from IPython.display import display_markdown\n",
        "from IPython.display import clear_output\n",
        "from IPython.utils import capture\n",
        "from google.colab import files\n",
        "import shutil\n",
        "import time\n",
        "import os\n",
        "\n",
        "Create_repo = False\n",
        "hf_token = HF_TOKEN = userdata.get('HF_TOKEN')\n",
        "your_repository = 'onceUponAtimeInPornVille'\n",
        "\n",
        "api = HfApi()\n",
        "your_username = api.whoami(token=hf_token)[\"name\"]\n",
        "repo_id = f\"{your_username}/{your_repository}\""
      ],
      "metadata": {
        "cellView": "form",
        "id": "lEInWBg76YL0"
      },
      "execution_count": 73,
      "outputs": []
    },
    {
      "cell_type": "code",
      "source": [
        "#@markdown Upload collage images\n",
        "print(f\"Uploading folder /content/datasets/{sub_folder}\")\n",
        "\n",
        "api.upload_folder(\n",
        "    folder_path=f\"/content/datasets/{sub_folder}\",\n",
        "    path_in_repo=f\"{sub_folder}\",\n",
        "    repo_type=\"dataset\",\n",
        "    repo_id=repo_id, token=hf_token,\n",
        "    allow_patterns=\"*.coll.jpg\",\n",
        "    ignore_patterns=\"**/*.coll.jpg\",\n",
        ")\n",
        "api.create_commit(\n",
        "    repo_id=repo_id,\n",
        "    operations=[],\n",
        "    commit_message=f\"Added {sub_folder} collages\",\n",
        "    token=hf_token\n",
        ")"
      ],
      "metadata": {
        "cellView": "form",
        "id": "8NAjVF3P7C4n"
      },
      "execution_count": null,
      "outputs": []
    }
  ]
}