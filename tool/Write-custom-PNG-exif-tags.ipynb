{
  "cells": [
    {
      "cell_type": "markdown",
      "metadata": {
        "colab_type": "text",
        "id": "view-in-github"
      },
      "source": [
        "<a href=\"https://colab.research.google.com/github/steinhaug/stable-diffusion/blob/main/tool/Write-custom-PNG-exif-tags.ipynb\" target=\"_parent\"><img src=\"https://colab.research.google.com/assets/colab-badge.svg\" alt=\"Open In Colab\"/></a>"
      ]
    },
    {
      "cell_type": "markdown",
      "metadata": {
        "id": "TePtFE1RNqL0"
      },
      "source": [
        "## Write custom PNG exif tags\n",
        "\n",
        "This will let you write some custom exif tags to your PNG file.  \n",
        "[![Buy me a beer](https://raw.githubusercontent.com/steinhaug/stable-diffusion/main/assets/buy-me-a-beer.png ) ](https://steinhaug.com/donate/)"
      ]
    },
    {
      "cell_type": "code",
      "execution_count": 37,
      "metadata": {
        "cellView": "form",
        "colab": {
          "base_uri": "https://localhost:8080/"
        },
        "id": "dpej8bRxkuEf",
        "outputId": "312b13b4-4c48-463a-ac89-cb8c3d7d28bf"
      },
      "outputs": [
        {
          "name": "stdout",
          "output_type": "stream",
          "text": [
            "Mounted at /content/drive\n"
          ]
        }
      ],
      "source": [
        "#@markdown Load google drive - not needed\n",
        "from IPython.display import clear_output\n",
        "from pathlib import Path\n",
        "inip = Path(\"/content/drive/MyDrive\")\n",
        "if not inip.is_dir():\n",
        "    from google.colab import drive\n",
        "    drive.mount('/content/drive')\n",
        "\n",
        "def emocicons_ref():\n",
        "    print(f\"\u001b[1;30mBlack ✓\")\n",
        "    print(f\"\u001b[1;31mRed ✓\")\n",
        "    print(f\"\u001b[1;32mGreen ✓\")\n",
        "    print(f\"\u001b[1;34mBlue ✓\")\n",
        "    print(f\"\u001b[1;35mPink ✓\")\n",
        "    print(f\"\u001b[1;36mCyan ✓\")\n",
        "    # https://emojicombos.com/\n",
        "    print(f\"📁🏷️⚙️🔑💾🖼️📊☁️📌🎞️📦✉️📸🎯🎨📋📍📎🎱🔮👍🏼🏁\")\n",
        "    print(f\"🤩🥰✨🙌💡\")\n",
        "    print(f\"⚠️⛔🚫💥❓❗✔️❌\")\n",
        "    print(f\"▶️⏩♾️#️⃣*️⃣0️⃣1️⃣2️⃣3️⃣4️⃣5️⃣6️⃣7️⃣8️⃣9️⃣🔟🆗✅☑️\")\n",
        "    print(f\"🗸✓🗹✔️✅☑️\")\n",
        "    print(f\"⋆ ♪ ♬💿♬ ♪ ⋆\")\n",
        "    print(f\"˗ˏˋ ★ ˎˊ˗\")"
      ]
    },
    {
      "cell_type": "code",
      "execution_count": null,
      "metadata": {
        "id": "6c9MXKJLdMT2"
      },
      "outputs": [],
      "source": [
        "# Install exiftool\n",
        "from IPython.display import clear_output\n",
        "!wget https://exiftool.org/Image-ExifTool-12.77.tar.gz\n",
        "!tar -xzvf /content/Image-ExifTool-12.77.tar.gz\n",
        "%cd Image-ExifTool-12.77\n",
        "!perl Makefile.PL\n",
        "!make test\n",
        "!sudo make install\n",
        "clear_output()\n",
        "print(f\"\u001b[1;32mExiftool Installed ✓\")"
      ]
    },
    {
      "cell_type": "code",
      "execution_count": 41,
      "metadata": {
        "colab": {
          "base_uri": "https://localhost:8080/"
        },
        "id": "Zplp6CzzuA80",
        "outputId": "873e0239-dbdd-44a5-c287-b994d39504e0"
      },
      "outputs": [
        {
          "name": "stdout",
          "output_type": "stream",
          "text": [
            "\u001b[1;32mExiftool PNG config written ✓\n"
          ]
        }
      ],
      "source": [
        "exiftool_config = '''%Image::ExifTool::UserDefined = (\n",
        "    'Image::ExifTool::PNG::TextualData' => {\n",
        "        workflow => { },\n",
        "        Parameters => { },\n",
        "        Prompt => { },\n",
        "        NegativePrompt => { }\n",
        "    }\n",
        ");'''\n",
        "with open('/content/exif.conf', 'w+') as fw:\n",
        "    fw.write(str(exiftool_config))\n",
        "print(f\"\u001b[1;32mExiftool PNG config written ✓\")"
      ]
    },
    {
      "cell_type": "code",
      "execution_count": 76,
      "metadata": {
        "colab": {
          "base_uri": "https://localhost:8080/"
        },
        "id": "gBbTxm3HM4QV",
        "outputId": "d4e6acc0-905b-4e39-94c0-028b20b5a1e3"
      },
      "outputs": [
        {
          "name": "stdout",
          "output_type": "stream",
          "text": [
            "\u001b[1;32mExample PNG file created ✓\n"
          ]
        }
      ],
      "source": [
        "from PIL import Image\n",
        "width, height = 512, 512\n",
        "background_color = (255, 255, 255)  # RGB values for white\n",
        "image = Image.new(\"RGB\", (width, height), background_color)\n",
        "image.save(\"/content/1.png\")\n",
        "print(f\"\u001b[1;32mExample PNG file created ✓\")"
      ]
    },
    {
      "cell_type": "code",
      "execution_count": 77,
      "metadata": {
        "colab": {
          "base_uri": "https://localhost:8080/"
        },
        "id": "_Ib4DoMneq6o",
        "outputId": "6cf8007b-8e25-452a-81df-87af37413f34"
      },
      "outputs": [
        {
          "name": "stdout",
          "output_type": "stream",
          "text": [
            "ExifTool Version Number         : 12.77\n",
            "File Name                       : 1.png\n",
            "Directory                       : /content\n",
            "File Size                       : 1878 bytes\n",
            "File Modification Date/Time     : 2024:02:21 05:47:07+00:00\n",
            "File Access Date/Time           : 2024:02:21 05:47:17+00:00\n",
            "File Inode Change Date/Time     : 2024:02:21 05:47:07+00:00\n",
            "File Permissions                : -rw-r--r--\n",
            "File Type                       : PNG\n",
            "File Type Extension             : png\n",
            "MIME Type                       : image/png\n",
            "Image Width                     : 512\n",
            "Image Height                    : 512\n",
            "Bit Depth                       : 8\n",
            "Color Type                      : RGB\n",
            "Compression                     : Deflate/Inflate\n",
            "Filter                          : Adaptive\n",
            "Interlace                       : Noninterlaced\n",
            "Image Size                      : 512x512\n",
            "Megapixels                      : 0.262\n"
          ]
        }
      ],
      "source": [
        "# read the exif data\n",
        "!exiftool /content/1.png"
      ]
    },
    {
      "cell_type": "code",
      "execution_count": 80,
      "metadata": {
        "colab": {
          "base_uri": "https://localhost:8080/"
        },
        "id": "4_DbLPEFgNAR",
        "outputId": "c41792fb-af06-444b-9aaf-40e5f0831bbc"
      },
      "outputs": [
        {
          "name": "stdout",
          "output_type": "stream",
          "text": [
            "    1 image files updated\n"
          ]
        }
      ],
      "source": [
        "# Write tags to PNG file\n",
        "Prompt = \"It's \\\"my\\\" prompt\"\n",
        "NegativePrompt = \"Negative prompt\"\n",
        "\n",
        "Prompt = Prompt.replace(\"\\\"\", \"\\\\\\\"\")\n",
        "NegativePrompt = NegativePrompt.replace(\"\\\"\", \"\\\\\\\"\")\n",
        "!exiftool -config /content/exif.conf \"-Prompt=$Prompt\" \"-NegativePrompt=$NegativePrompt\" /content/1.png\n",
        "!rm -Rf /content/1.png_original"
      ]
    },
    {
      "cell_type": "code",
      "execution_count": 81,
      "metadata": {
        "colab": {
          "base_uri": "https://localhost:8080/"
        },
        "id": "Xr6tjK6qNd9B",
        "outputId": "bb7b9be0-68f1-48a1-ccd8-8a68d61fb1ec"
      },
      "outputs": [
        {
          "name": "stdout",
          "output_type": "stream",
          "text": [
            "ExifTool Version Number         : 12.77\n",
            "File Name                       : 1.png\n",
            "Directory                       : /content\n",
            "File Size                       : 1955 bytes\n",
            "File Modification Date/Time     : 2024:02:21 05:49:31+00:00\n",
            "File Access Date/Time           : 2024:02:21 05:49:32+00:00\n",
            "File Inode Change Date/Time     : 2024:02:21 05:49:31+00:00\n",
            "File Permissions                : -rw-r--r--\n",
            "File Type                       : PNG\n",
            "File Type Extension             : png\n",
            "MIME Type                       : image/png\n",
            "Image Width                     : 512\n",
            "Image Height                    : 512\n",
            "Bit Depth                       : 8\n",
            "Color Type                      : RGB\n",
            "Compression                     : Deflate/Inflate\n",
            "Filter                          : Adaptive\n",
            "Interlace                       : Noninterlaced\n",
            "Negative Prompt                 : Negative prompt\n",
            "Prompt                          : It's \"my\" prompt\n",
            "Image Size                      : 512x512\n",
            "Megapixels                      : 0.262\n"
          ]
        }
      ],
      "source": [
        "# read the exif data\n",
        "!exiftool /content/1.png"
      ]
    }
  ],
  "metadata": {
    "colab": {
      "authorship_tag": "ABX9TyOTqruJCLK6j6YIjS3jpWHN",
      "include_colab_link": true,
      "provenance": []
    },
    "kernelspec": {
      "display_name": "Python 3",
      "name": "python3"
    },
    "language_info": {
      "name": "python"
    }
  },
  "nbformat": 4,
  "nbformat_minor": 0
}
