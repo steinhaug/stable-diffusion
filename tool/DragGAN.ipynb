{
  "nbformat": 4,
  "nbformat_minor": 0,
  "metadata": {
    "colab": {
      "provenance": [],
      "machine_shape": "hm",
      "gpuType": "T4",
      "authorship_tag": "ABX9TyMIGyRXioI/dM/W1m4EJ+f4",
      "include_colab_link": true
    },
    "kernelspec": {
      "name": "python3",
      "display_name": "Python 3"
    },
    "language_info": {
      "name": "python"
    },
    "accelerator": "GPU"
  },
  "cells": [
    {
      "cell_type": "markdown",
      "metadata": {
        "id": "view-in-github",
        "colab_type": "text"
      },
      "source": [
        "<a href=\"https://colab.research.google.com/github/steinhaug/stable-diffusion/blob/main/tool/DragGAN.ipynb\" target=\"_parent\"><img src=\"https://colab.research.google.com/assets/colab-badge.svg\" alt=\"Open In Colab\"/></a>"
      ]
    },
    {
      "cell_type": "markdown",
      "source": [
        "# demo 1: camenduru\n",
        "<a href=\"https://github.com/camenduru/DragGAN\" target=\"_parent\"><img src=\"https://img.shields.io/badge/camenduru-DragGAN-black?logo=github\"></a> <a href=\"https://colab.research.google.com/github/camenduru/DragGAN-colab/blob/main/draggan_colab.ipynb\" target=\"_parent\"><img src=\"https://img.shields.io/badge/camenduru-Open%20in%20Colab-blue?logo=google-colab\" alt=\"Open In Colab\"/></a>"
      ],
      "metadata": {
        "id": "5fGkf5VYGKV0"
      }
    },
    {
      "cell_type": "code",
      "source": [
        "# GIT: https://github.com/camenduru/DragGAN\n",
        "# Colab: https://colab.research.google.com/github/camenduru/DragGAN-colab/blob/main/draggan_colab.ipynb\n",
        "%cd /content\n",
        "!git clone -b dev https://github.com/camenduru/DragGAN\n",
        "%cd /content/DragGAN\n",
        "!pip install -r requirements.txt\n",
        "!python gradio_app.py"
      ],
      "metadata": {
        "id": "tvoWf1ndFnU9"
      },
      "execution_count": null,
      "outputs": []
    },
    {
      "cell_type": "markdown",
      "source": [
        "# demo 2: Zeqiang-Lai\n",
        "\n",
        "<a href=\"https://vcai.mpi-inf.mpg.de/projects/DragGAN/\" target=\"_parent\"><img src=\"https://img.shields.io/badge/project-Open-black\"></a> <a href=\"https://colab.research.google.com/github/Zeqiang-Lai/DragGAN/blob/master/colab.ipynb\" target=\"_parent\"><img src=\"https://img.shields.io/badge/Zeqiang--Lai-Open%20in%20Colab-blue?logo=google-colab\" alt=\"Open In Colab\"/></a>"
      ],
      "metadata": {
        "id": "sH0E48PJFp8H"
      }
    },
    {
      "cell_type": "markdown",
      "source": [
        "### DragGAN Colab Demo\n",
        "Colab source: https://colab.research.google.com/github/Zeqiang-Lai/DragGAN/blob/master/colab.ipynb\n",
        "Wild implementation of [Drag Your GAN: Interactive Point-based Manipulation on the Generative Image Manifold](https://vcai.mpi-inf.mpg.de/projects/DragGAN/)"
      ],
      "metadata": {
        "id": "S9hUipR6HkAA"
      }
    },
    {
      "cell_type": "code",
      "source": [
        "#@title Installation\n",
        "!git clone https://github.com/Zeqiang-Lai/DragGAN.git\n",
        "\n",
        "import sys\n",
        "sys.path.append(\".\")\n",
        "sys.path.append('./DragGAN')\n",
        "\n",
        "!pip install -r DragGAN/requirements.txt\n",
        "\n",
        "from gradio_app import main"
      ],
      "metadata": {
        "cellView": "form",
        "id": "WYN7k7O4FXoL"
      },
      "execution_count": null,
      "outputs": []
    },
    {
      "cell_type": "markdown",
      "source": [
        "**If you have problem in the following demo, such as the incorrected image, or facing errors. Please try to run the following block again.**\n",
        "\n",
        "If the errors still exist, you could fire an issue on [Github](https://github.com/Zeqiang-Lai/DragGAN)."
      ],
      "metadata": {
        "id": "Z7o-4M45FaRe"
      }
    },
    {
      "cell_type": "code",
      "source": [
        "demo = main()\n",
        "demo.queue(concurrency_count=1, max_size=20, share=True).launch()"
      ],
      "metadata": {
        "id": "-HvGpIWFFcd6"
      },
      "execution_count": null,
      "outputs": []
    }
  ]
}