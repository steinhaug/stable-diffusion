{
  "nbformat": 4,
  "nbformat_minor": 0,
  "metadata": {
    "colab": {
      "provenance": [],
      "mount_file_id": "1EbrEp3BIDhHKwvHtAys7QsNP0QtLkA6J",
      "authorship_tag": "ABX9TyNCU3o8H5DL2inEsa9aVqdm",
      "include_colab_link": true
    },
    "kernelspec": {
      "name": "python3",
      "display_name": "Python 3"
    },
    "language_info": {
      "name": "python"
    }
  },
  "cells": [
    {
      "cell_type": "markdown",
      "metadata": {
        "id": "view-in-github",
        "colab_type": "text"
      },
      "source": [
        "<a href=\"https://colab.research.google.com/github/steinhaug/stable-diffusion/blob/main/tool/GoogleDrive-InfiniteImageBrowsing.ipynb\" target=\"_parent\"><img src=\"https://colab.research.google.com/assets/colab-badge.svg\" alt=\"Open In Colab\"/></a>"
      ]
    },
    {
      "cell_type": "code",
      "source": [
        "KISTA_DRIVE_PATHS = \"/content/drive/MyDrive/docs\"\n",
        "DEFAULT_CHECKPOINTS_FOLDER = '/content/drive/MyDrive/models-checkpoints'\n",
        "DEFAULT_CONTROLNET_FOLDER  = '/content/drive/MyDrive/models-ControlNet-1.1'\n",
        "WEBUI_ROOT = '/content'\n",
        "WEBUI_FOLDER = 'stable-diffusion-webui'\n",
        "WEBUI_PATH = os.path.join(WEBUI_ROOT, WEBUI_FOLDER)\n",
        "CLONE_ARG = \"clone --depth 1\""
      ],
      "metadata": {
        "id": "I34_0FLSuAx3"
      },
      "execution_count": 2,
      "outputs": []
    },
    {
      "cell_type": "code",
      "source": [
        "#@title 2.0 Install infinite-image-browsing\n",
        "import os;from IPython.display import display, Markdown, clear_output;\n",
        "def return__isValidDir(directory):\n",
        "    if os.path.isdir(directory):\n",
        "        return True\n",
        "    else:\n",
        "        return False\n",
        "def createFile__ifNotExist(directory, filename_to_look_for, file_contents):\n",
        "    env_file_path = os.path.join(directory, filename_to_look_for)\n",
        "    if not os.path.isfile(env_file_path):\n",
        "        with open(env_file_path, 'w') as env_file:\n",
        "            env_file.write(file_contents)\n",
        "            print(f\"Created {filename_to_look_for} in {directory}\")\n",
        "def openReplaceStringMatch(file_path, match, replace):\n",
        "    if not os.path.isfile( file_path ):\n",
        "        print(f'Error opening file: {file_path}')\n",
        "    else:\n",
        "        modified_lines = []\n",
        "        with open(file_path, 'r', encoding='utf-8') as file:\n",
        "            for line in file:\n",
        "                if match in line:\n",
        "                    line = line.replace(match, replace)\n",
        "                modified_lines.append(line)\n",
        "        with open(file_path, 'w', encoding='utf-8') as file:\n",
        "            file.write(''.join(modified_lines))\n",
        "\n",
        "os.makedirs(f\"/content/{WEBUI_FOLDER}/extensions\", exist_ok=True)\n",
        "!git {CLONE_ARG} https://github.com/zanllp/sd-webui-infinite-image-browsing {WEBUI_PATH}/extensions/sd-webui-infinite-image-browsing\n",
        "EnvFileData = '''\n",
        "IIB_SECRET_KEY=\n",
        "IIB_SERVER_LANG=en\n",
        "IIB_ACCESS_CONTROL=disable\n",
        "'''\n",
        "createFile__ifNotExist(f'{WEBUI_PATH}/extensions/sd-webui-infinite-image-browsing', '.env', EnvFileData)\n",
        "openReplaceStringMatch(f'{WEBUI_PATH}/extensions/sd-webui-infinite-image-browsing/scripts/iib/db/datamodel.py','\"iib.db\"','\"/content/drive/MyDrive/docs/config_KISTA_WebUI.db\"')\n",
        "\n",
        "print('Installing Infinite image galleries')\n",
        "from google.colab import output; import sys; import os\n",
        "%cd $WEBUI_PATH/extensions/sd-webui-infinite-image-browsing\n",
        "!pip install -r requirements.txt\n",
        "sys.path.append( os.getcwd() )\n",
        "output.clear()\n",
        "print(f\"\u001b[1;32mInstalled ✓\")"
      ],
      "metadata": {
        "cellView": "form",
        "id": "kAsbYzwvt-qm"
      },
      "execution_count": null,
      "outputs": []
    },
    {
      "cell_type": "code",
      "source": [
        "#@title 2.1 Install and run ngrok tunnel\n",
        "ngrok_authtoken = '2MrDZfzZ6Kl1Hu3qjpNUEBvf4sF_38X9LbhY2oyf1ukBa3wWV' #@param {type: 'string'}\n",
        "\n",
        "continue_execute_block = False\n",
        "try:\n",
        "    if nrok_running == True:\n",
        "        continue_execute_block = False\n",
        "except:\n",
        "    cont = True\n",
        "if continue_execute_block:\n",
        "    !pip3 install pyngrok\n",
        "    !ngrok authtoken $ngrok_authtoken\n",
        "\n",
        "    from pyngrok import ngrok\n",
        "    public_url = ngrok.connect(port).public_url\n",
        "    nrok_running = True\n",
        "    output.clear()\n",
        "    print(f\"\u001b[1;32mTunnel ready ✓\")\n",
        "    #print(f\"ngrok server url: {public_url}.\")\n",
        "    #print(f\"Wait for 'Running on IP' links appear before clicking.\")\n",
        "else:\n",
        "    print(f\"\u001b[1;32mTunnel already running. ✓\")\n",
        "    print(f\"ngrok server url: {public_url}.\")"
      ],
      "metadata": {
        "cellView": "form",
        "id": "mSRLo71swrJ0"
      },
      "execution_count": null,
      "outputs": []
    },
    {
      "cell_type": "code",
      "source": [
        "#@title 2.2 Run the Infinite-image-browsing server\n",
        "import os;import app;from google.colab.output import serve_kernel_port_as_iframe, serve_kernel_port_as_window\n",
        "\n",
        "port = 9998\n",
        "extra_paths = [ \"/content/drive/MyDrive/output/templates\" ]\n",
        "sd_webui_config = f\"/content/drive/MyDrive/docs/config_infinite-image-browsing.json\"\n",
        "update_image_index = True\n",
        "serve_kernel_port_as_iframe(port)\n",
        "await app.async_launch_app(\n",
        "    port = port,\n",
        "    extra_paths = extra_paths,\n",
        "    update_image_index = update_image_index,\n",
        "    sd_webui_config = sd_webui_config,\n",
        ")\n",
        "%cd $WEBUI_PATH\n",
        "print('Done... continuing...')\n",
        "print(f\" \\n- - -\")\n",
        "print(f\"ngrok server url: {public_url}.\")"
      ],
      "metadata": {
        "cellView": "form",
        "id": "9tgaA_RgvcfX"
      },
      "execution_count": null,
      "outputs": []
    }
  ]
}