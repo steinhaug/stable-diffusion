{
  "nbformat": 4,
  "nbformat_minor": 0,
  "metadata": {
    "colab": {
      "provenance": [],
      "machine_shape": "hm",
      "gpuType": "T4",
      "authorship_tag": "ABX9TyNI35NyAkuEo1ZdsURd2gIE",
      "include_colab_link": true
    },
    "kernelspec": {
      "name": "python3",
      "display_name": "Python 3"
    },
    "language_info": {
      "name": "python"
    },
    "accelerator": "GPU"
  },
  "cells": [
    {
      "cell_type": "markdown",
      "metadata": {
        "id": "view-in-github",
        "colab_type": "text"
      },
      "source": [
        "<a href=\"https://colab.research.google.com/github/steinhaug/stable-diffusion/blob/main/tool/LoRA_Extraction_from_Checkpoints.ipynb\" target=\"_parent\"><img src=\"https://colab.research.google.com/assets/colab-badge.svg\" alt=\"Open In Colab\"/></a>"
      ]
    },
    {
      "cell_type": "code",
      "execution_count": 1,
      "metadata": {
        "colab": {
          "base_uri": "https://localhost:8080/"
        },
        "id": "-LJCR8LQJ3LL",
        "outputId": "825b7d1a-cfc1-4a2c-9c1c-35493c300180"
      },
      "outputs": [
        {
          "output_type": "stream",
          "name": "stdout",
          "text": [
            "Mounted at /content/drive\n"
          ]
        }
      ],
      "source": [
        "from google.colab import drive\n",
        "drive.mount('/content/drive')"
      ]
    },
    {
      "cell_type": "markdown",
      "source": [
        "## Download models"
      ],
      "metadata": {
        "id": "2_mYNu5VWHRO"
      }
    },
    {
      "cell_type": "code",
      "source": [
        "%cd /content/drive/MyDrive/models\n",
        "!wget --content-disposition https://huggingface.co/runwayml/stable-diffusion-v1-5/resolve/main/v1-5-pruned-emaonly.safetensors"
      ],
      "metadata": {
        "id": "wSvFMFb1LEyw"
      },
      "execution_count": null,
      "outputs": []
    },
    {
      "cell_type": "code",
      "source": [
        "!pip install --upgrade huggingface_hub"
      ],
      "metadata": {
        "id": "3MgG8xfsP11M"
      },
      "execution_count": null,
      "outputs": []
    },
    {
      "cell_type": "code",
      "source": [
        "from huggingface_hub import notebook_login\n",
        "notebook_login()"
      ],
      "metadata": {
        "id": "wa4M4K7zPrM4"
      },
      "execution_count": null,
      "outputs": []
    },
    {
      "cell_type": "code",
      "source": [
        "from huggingface_hub import hf_hub_download\n",
        "path = hf_hub_download(repo_id=\"steinhaug/xkista\", filename=\"xkista.ckpt\", revision=\"main\")\n",
        "print(path)"
      ],
      "metadata": {
        "id": "xv-paODTL-6f"
      },
      "execution_count": null,
      "outputs": []
    },
    {
      "cell_type": "code",
      "source": [
        "!cp /root/.cache/huggingface/hub/models--steinhaug--xkista/snapshots/98113e041145d8050e8fa0675f1ca5e550da1ded/xkista.ckpt /content/drive/MyDrive/models/xkista.ckpt"
      ],
      "metadata": {
        "id": "v_V_HeqaQ_Ct"
      },
      "execution_count": 17,
      "outputs": []
    },
    {
      "cell_type": "markdown",
      "source": [
        "## LoRA MAIN"
      ],
      "metadata": {
        "id": "wBBbjLznlKWq"
      }
    },
    {
      "cell_type": "markdown",
      "source": [
        "Extracted LoRA was same quality when using **v1-5-sp16-half.ckpt** or **v1-5-pruned-emaonly.ckpt**. Dim 192 vs 300 resulted in around 450mb vs 650mb LoRA checkpoint - however - both cases was bad.<br><br>\n",
        "__note to self__  \n",
        "Test lora again on v1.5 model.\n",
        "\n"
      ],
      "metadata": {
        "id": "cAbugLxO_Rf1"
      }
    },
    {
      "cell_type": "code",
      "source": [],
      "metadata": {
        "id": "8gIxmyWrlOSH"
      },
      "execution_count": null,
      "outputs": []
    },
    {
      "cell_type": "code",
      "source": [
        "%cd /content\n",
        "!git clone https://github.com/kohya-ss/sd-scripts\n",
        "%cd sd-scripts\n",
        "!pip install -r requirements.txt"
      ],
      "metadata": {
        "id": "YIHSCRbjlOWt"
      },
      "execution_count": null,
      "outputs": []
    },
    {
      "cell_type": "code",
      "source": [
        "%cd /content/sd-scripts\n",
        "model_org = '/content/drive/MyDrive/models/v1-5-sp16-half.ckpt' #@param {type:\"string\"}\n",
        "model_tuned = '/content/drive/MyDrive/models/zkiste3-5454.ckpt' #@param {type:\"string\"}\n",
        "save_to = '/content/drive/MyDrive/models-lora/v15sp16-192-zkiste3-5454.ckpt' #@param {type:\"string\"}\n",
        "is_v2 = False #@param {type:\"boolean\"}\n",
        "threshold = 0.9 #@param {type:\"slider\", min:0.0, max:1.0, step:0.01}\n",
        "dim = 192 #@param {type:\"integer\"}\n",
        "save_precision = 'fp16' #@param ['fp16', 'bf16', 'float']"
      ],
      "metadata": {
        "id": "NPIWXLBqlbFR"
      },
      "execution_count": null,
      "outputs": []
    },
    {
      "cell_type": "code",
      "source": [
        "dim = 300\n",
        "model_tuned = '/content/drive/MyDrive/models/xkista.ckpt'\n",
        "model_org = '/content/drive/MyDrive/models/v1-5-sp16-half.ckpt'\n",
        "save_to = '/content/drive/MyDrive/models-lora/v15sp16-' + str(dim) + '-xkista.ckpt'\n",
        "!python ./networks/extract_lora_from_models.py --model_org {model_org} --model_tuned {model_tuned} --save_to {save_to} --dim {dim}"
      ],
      "metadata": {
        "id": "sPgKxInTlMKt"
      },
      "execution_count": null,
      "outputs": []
    },
    {
      "cell_type": "code",
      "source": [
        "dim = 300\n",
        "model_tuned = '/content/drive/MyDrive/models/xkista.ckpt'\n",
        "model_org = '/content/drive/MyDrive/models/v1-5-pruned-emaonly.ckpt'\n",
        "save_to = '/content/drive/MyDrive/models-lora/v15-' + str(dim) + '-xkista.ckpt'\n",
        "!python ./networks/extract_lora_from_models.py --model_org {model_org} --model_tuned {model_tuned} --save_to {save_to} --dim {dim}"
      ],
      "metadata": {
        "id": "X-enMt4KqMvp"
      },
      "execution_count": null,
      "outputs": []
    },
    {
      "cell_type": "code",
      "source": [
        "dim = 192\n",
        "model_tuned = '/content/drive/MyDrive/models/xkista.ckpt'\n",
        "model_org = '/content/drive/MyDrive/models/v1-5-pruned-emaonly.ckpt'\n",
        "save_to = '/content/drive/MyDrive/models-lora/v15-' + str(dim) + '-xkista.ckpt'\n",
        "!python ./networks/extract_lora_from_models.py --model_org {model_org} --model_tuned {model_tuned} --save_to {save_to} --dim {dim}"
      ],
      "metadata": {
        "id": "ICyFH6z3rQix"
      },
      "execution_count": null,
      "outputs": []
    }
  ]
}