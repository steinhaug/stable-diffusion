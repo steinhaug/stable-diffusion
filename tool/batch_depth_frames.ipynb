{
  "nbformat": 4,
  "nbformat_minor": 0,
  "metadata": {
    "colab": {
      "provenance": [],
      "gpuType": "T4",
      "authorship_tag": "ABX9TyPlJdFHw7svqpnH8bqscet1",
      "include_colab_link": true
    },
    "kernelspec": {
      "name": "python3",
      "display_name": "Python 3"
    },
    "language_info": {
      "name": "python"
    },
    "accelerator": "GPU"
  },
  "cells": [
    {
      "cell_type": "markdown",
      "metadata": {
        "id": "view-in-github",
        "colab_type": "text"
      },
      "source": [
        "<a href=\"https://colab.research.google.com/github/steinhaug/stable-diffusion/blob/main/tool/batch_depth_frames.ipynb\" target=\"_parent\"><img src=\"https://colab.research.google.com/assets/colab-badge.svg\" alt=\"Open In Colab\"/></a>"
      ]
    },
    {
      "cell_type": "code",
      "source": [
        "#@title Batch Depth Frames\n",
        "#@markdown ![Visitors](https://api.visitorbadge.io/api/combined?path=https%3A%2F%2Fgithub.com%2Fsteinhaug%2Fstable-diffusion%2Fblob%2Fmain%2Fbatch_depth_frames.ipynb&countColor=%23263759&style=flat)\n",
        "#@markdown <a href=\"https://github.com/steinhaug/\" target=\"_blank\"><img alt=\"Open Github profile\" src=\"https://img.shields.io/badge/Steinhaug-Profile-black?logo=github\"></a>\n",
        "\n",
        "#@markdown [![Buy me a beer](https://raw.githubusercontent.com/steinhaug/stable-diffusion/main/assets/buy-me-a-beer.png ) ](https://steinhaug.com/donate/)\n"
      ],
      "metadata": {
        "cellView": "form",
        "id": "gC0lPaEZmerA"
      },
      "execution_count": null,
      "outputs": []
    },
    {
      "cell_type": "markdown",
      "source": [
        "1. Extract all frames from videofile,  \n",
        "2. crop frames to 768x512  \n",
        "3. create depth frames from frames"
      ],
      "metadata": {
        "id": "7NC9Fv5ZGIH5"
      }
    },
    {
      "cell_type": "code",
      "source": [
        "# Install\n",
        "from IPython.display import display, clear_output\n",
        "!apt -y update -qq\n",
        "!apt -y install -qq aria2\n",
        "!pip install timm\n",
        "clear_output();print('Done!')\n",
        "\n",
        "midas_init = False"
      ],
      "metadata": {
        "id": "6lpK29By2wST",
        "outputId": "62c1f4b4-bdfe-428f-e8b3-cb5e047ae826",
        "colab": {
          "base_uri": "https://localhost:8080/"
        }
      },
      "execution_count": null,
      "outputs": [
        {
          "output_type": "stream",
          "name": "stdout",
          "text": [
            "Done!\n"
          ]
        }
      ]
    },
    {
      "cell_type": "code",
      "source": [
        "# Mount gDrive\n",
        "from pathlib import Path\n",
        "inip = Path(\"/content/drive/MyDrive\")\n",
        "if not inip.is_dir():\n",
        "    from google.colab import drive\n",
        "    drive.mount('/content/drive')\n",
        "\n",
        "gdrive_save_folder = \"/content/drive/MyDrive/depth_frames\""
      ],
      "metadata": {
        "id": "0X8NWFqPSaEb",
        "outputId": "58047f91-8142-4b8b-9fb2-e33c809f364d",
        "colab": {
          "base_uri": "https://localhost:8080/"
        }
      },
      "execution_count": null,
      "outputs": [
        {
          "output_type": "stream",
          "name": "stdout",
          "text": [
            "Mounted at /content/drive\n"
          ]
        }
      ]
    },
    {
      "cell_type": "code",
      "source": [
        "#@title Notebook functions\n",
        "\n",
        "import os, sys\n",
        "from tqdm import tqdm\n",
        "\n",
        "_B=True\n",
        "_A=False\n",
        "def return__isValidDir(directory):\n",
        "    if os.path.isdir(directory):return _B\n",
        "    else:return _A\n",
        "\n",
        "def return__fileCount(directory_path):\n",
        "    file_count = 0\n",
        "\n",
        "    for root, dirs, files in os.walk(directory_path):\n",
        "        file_count += len(files)\n",
        "\n",
        "    return file_count\n",
        "\n",
        "def resettable_progress_meter(maximum, progress):\n",
        "    bar_length = 40\n",
        "    progress_ratio = progress / maximum\n",
        "    bar = int(bar_length * progress_ratio)\n",
        "\n",
        "    sys.stdout.write(\"\\r[{}{}] {}%\".format(\"=\" * bar, \" \" * (bar_length - bar), int(progress_ratio * 100)))\n",
        "    sys.stdout.flush()\n",
        "\n",
        "    if progress == maximum:\n",
        "        sys.stdout.write(\"\\n\")\n",
        "        sys.stdout.flush()\n",
        "\n",
        "def return__folderName(directory_path, verify_folder=False):\n",
        "\n",
        "    if not verify_folder:\n",
        "        return os.path.basename(os.path.normpath(directory_path))\n",
        "\n",
        "    # Ensure the path is a valid directory\n",
        "    if os.path.isdir(directory_path):\n",
        "        # Split the path into components and get the last one\n",
        "        last_folder_name = os.path.basename(os.path.normpath(directory_path))\n",
        "        return last_folder_name\n",
        "    else:\n",
        "        return None  # Return None for invalid paths\n",
        "\n",
        "def move_file(source_file, destination_file, copyOnly=False):\n",
        "    file_size = os.path.getsize(source_file)\n",
        "\n",
        "    with open(source_file, \"rb\") as src_file, \\\n",
        "         open(destination_file, \"wb\") as dest_file, \\\n",
        "         tqdm(total=file_size, unit=\"B\", unit_scale=True, desc=\"Moving file\", ncols=80) as progress:\n",
        "\n",
        "        chunk_size = 1024 * 1024  # 1 MB\n",
        "        bytes_copied = 0\n",
        "\n",
        "        while True:\n",
        "            chunk = src_file.read(chunk_size)\n",
        "\n",
        "            if not chunk:\n",
        "                break\n",
        "\n",
        "            dest_file.write(chunk)\n",
        "            bytes_copied += len(chunk)\n",
        "            progress.update(len(chunk))\n",
        "\n",
        "    if not copyOnly:\n",
        "        os.remove(source_file)\n",
        "        print(f\"File '{source_file}' moved to '{destination_file}'.\")\n",
        "    else:\n",
        "        print(f\"File '{source_file}' copied to '{destination_file}'.\")\n",
        "\n",
        "def copy_file(source_file, destination_file):\n",
        "    return move_file(source_file, destination_file, True)\n"
      ],
      "metadata": {
        "cellView": "form",
        "id": "9O8Wcn81Co9S"
      },
      "execution_count": null,
      "outputs": []
    },
    {
      "cell_type": "code",
      "source": [
        "video_file = \"/content/video1.mp4\"\n",
        "frames_directory = \"/content/frames/video1\""
      ],
      "metadata": {
        "id": "XdMWAaOmDoZE"
      },
      "execution_count": null,
      "outputs": []
    },
    {
      "cell_type": "markdown",
      "source": [
        "# Process video, copy ZIPs of frames and depth frames into gDrive\n",
        "Run all cells or do them manually"
      ],
      "metadata": {
        "id": "KhXHAipQN-Je"
      }
    },
    {
      "cell_type": "markdown",
      "source": [
        "## 1.0 Xtract frames and crop frames"
      ],
      "metadata": {
        "id": "wiYS3SSe-nBw"
      }
    },
    {
      "cell_type": "code",
      "source": [
        "#@title . 1.1 Extract frames\n",
        "if not return__isValidDir(frames_directory):\n",
        "    os.makedirs(frames_directory)\n",
        "\n",
        "!ffmpeg -i {video_file} -vf \"scale=910:512\" {frames_directory}/c01_%04d.png\n",
        "\n",
        "total_progress = return__fileCount(frames_directory)\n",
        "clear_output();print(f'{total_progress} frames extracted into {frames_directory}')"
      ],
      "metadata": {
        "cellView": "form",
        "id": "D-TbjaXT-qUT"
      },
      "execution_count": null,
      "outputs": []
    },
    {
      "cell_type": "code",
      "source": [
        "#@title . 1.2 Crop frames\n",
        "\n",
        "from PIL import Image\n",
        "import os\n",
        "import sys\n",
        "\n",
        "def process_images(input_directory, output_directory, target_width=768, target_height=512):\n",
        "\n",
        "    n_progress = 1\n",
        "\n",
        "    # Create the output directory if it doesn't exist\n",
        "    if not os.path.exists(output_directory):\n",
        "        os.makedirs(output_directory)\n",
        "\n",
        "    # Get a list of all files in the input directory\n",
        "    image_files = [f for f in os.listdir(input_directory) if f.lower().endswith(('.png', '.jpg', '.jpeg', '.gif', '.bmp'))]\n",
        "\n",
        "    for image_file in image_files:\n",
        "        input_path = os.path.join(input_directory, image_file)\n",
        "        output_path = os.path.join(output_directory, image_file)\n",
        "\n",
        "        # Open the image\n",
        "        with Image.open(input_path) as img:\n",
        "            # Get the original image dimensions\n",
        "            original_width, original_height = img.size\n",
        "\n",
        "            # Calculate cropping dimensions to maintain aspect ratio and center the crop\n",
        "            left = max(0, (original_width - target_width) // 2)\n",
        "            top = max(0, (original_height - target_height) // 2)\n",
        "            right = min(original_width, left + target_width)\n",
        "            bottom = min(original_height, top + target_height)\n",
        "\n",
        "            # Crop the image\n",
        "            cropped_img = img.crop((left, top, right, bottom))\n",
        "\n",
        "            # Save the cropped image\n",
        "            cropped_img.save(output_path)\n",
        "            resettable_progress_meter(total_progress, n_progress)\n",
        "            n_progress = n_progress + 1\n",
        "\n",
        "process_images(frames_directory, frames_directory)\n",
        "\n",
        "clear_output();print(f'Frames cropped into 768x512')"
      ],
      "metadata": {
        "cellView": "form",
        "id": "01P-n5a1DUgf"
      },
      "execution_count": null,
      "outputs": []
    },
    {
      "cell_type": "markdown",
      "source": [
        "## 2.0 Create depth maps"
      ],
      "metadata": {
        "id": "_ZA7R2RG-hMp"
      }
    },
    {
      "cell_type": "code",
      "source": [
        "#@title . 2.1 Initialise MiDaS depth model\n",
        "import torch\n",
        "\n",
        "if not midas_init:\n",
        "    model_type = \"DPT_Large\"     # MiDaS v3 - Large     (highest accuracy, slowest inference speed)\n",
        "    #model_type = \"DPT_Hybrid\"   # MiDaS v3 - Hybrid    (medium accuracy, medium inference speed)\n",
        "    #model_type = \"MiDaS_small\"  # MiDaS v2.1 - Small   (lowest accuracy, highest inference speed)\n",
        "\n",
        "    midas = torch.hub.load(\"intel-isl/MiDaS\", model_type)\n",
        "    clear_output();print('Depth model downloaded!')\n",
        "\n",
        "    from IPython.display import display, clear_output\n",
        "    device = torch.device(\"cuda\") if torch.cuda.is_available() else torch.device(\"cpu\")\n",
        "    midas.to(device)\n",
        "    midas.eval()\n",
        "\n",
        "    midas_transforms = torch.hub.load(\"intel-isl/MiDaS\", \"transforms\")\n",
        "    if model_type == \"DPT_Large\" or model_type == \"DPT_Hybrid\":\n",
        "        transform = midas_transforms.dpt_transform\n",
        "    else:\n",
        "        transform = midas_transforms.small_transform\n",
        "\n",
        "    midas_init = True\n",
        "\n",
        "    clear_output();print('Model loaded and ready...')\n",
        "else:\n",
        "    clear_output();print('Model already loaded...')"
      ],
      "metadata": {
        "cellView": "form",
        "id": "qPNnEWz341wk"
      },
      "execution_count": null,
      "outputs": []
    },
    {
      "cell_type": "code",
      "source": [
        "#@title . 2.2 Process frames\n",
        "import cv2, os\n",
        "import numpy as np\n",
        "from PIL import Image\n",
        "\n",
        "def process_images(input_directory, output_directory):\n",
        "\n",
        "    # Create the output directory if it doesn't exist\n",
        "    if not os.path.exists(output_directory):\n",
        "        os.makedirs(output_directory)\n",
        "\n",
        "    # Get a list of all files in the input directory\n",
        "    image_files = [f for f in os.listdir(input_directory) if f.lower().endswith(('.png', '.jpg', '.jpeg', '.gif', '.bmp'))]\n",
        "\n",
        "    n_progress = 1\n",
        "    for image_file in image_files:\n",
        "        input_path = os.path.join(input_directory, image_file)\n",
        "        output_path = os.path.join(output_directory, image_file)\n",
        "\n",
        "\n",
        "        img = cv2.imread(input_path)\n",
        "        img = cv2.cvtColor(img, cv2.COLOR_BGR2RGB)\n",
        "        input_batch = transform(img).to(device)\n",
        "        with torch.no_grad():\n",
        "            prediction = midas(input_batch)\n",
        "            prediction = torch.nn.functional.interpolate(\n",
        "                prediction.unsqueeze(1),\n",
        "                size=img.shape[:2],\n",
        "                mode=\"bicubic\",\n",
        "                align_corners=False,\n",
        "            ).squeeze()\n",
        "        output = prediction.cpu().numpy()\n",
        "        output_image = Image.fromarray(output.astype('uint8'))\n",
        "        output_image.save(output_path)\n",
        "        resettable_progress_meter(total_progress, n_progress)\n",
        "        n_progress = n_progress + 1\n",
        "\n",
        "process_images(frames_directory, f\"{frames_directory}_depth\")\n",
        "clear_output();print('Depth frames completed!')"
      ],
      "metadata": {
        "cellView": "form",
        "id": "qnIMWtpT89bs"
      },
      "execution_count": null,
      "outputs": []
    },
    {
      "cell_type": "markdown",
      "source": [
        "## 3.0 zip it up"
      ],
      "metadata": {
        "id": "-hn1mLeVLqL0"
      }
    },
    {
      "cell_type": "code",
      "source": [
        "#@title . 3.1 Create zip files of frames and frames_depth folders\n",
        "import os\n",
        "import zipfile\n",
        "\n",
        "def zip_directory(directory_path, zip_file_path):\n",
        "    with zipfile.ZipFile(zip_file_path, 'w') as zipf:\n",
        "        for root, dirs, files in os.walk(directory_path):\n",
        "            for file in files:\n",
        "                file_path = os.path.join(root, file)\n",
        "                arcname = os.path.relpath(file_path, directory_path)\n",
        "                zipf.write(file_path, arcname=arcname)\n",
        "\n",
        "batch_name = return__folderName(frames_directory)\n",
        "\n",
        "zip_directory(frames_directory, f\"/content/{batch_name}_frames.zip\")\n",
        "print(f\"Zip file '{batch_name}_frames.zip' created successfully.\")\n",
        "zip_directory(f\"{frames_directory}_depth\", f\"/content/{batch_name}_frames_depth.zip\")\n",
        "print(f\"Zip file '{batch_name}_frames_depth.zip' created successfully.\")"
      ],
      "metadata": {
        "cellView": "form",
        "id": "zein-h4VLtSu"
      },
      "execution_count": null,
      "outputs": []
    },
    {
      "cell_type": "code",
      "source": [
        "#@title . 3.2 Copy zips into gDrive\n",
        "copy_file(f\"/content/{batch_name}_frames.zip\", f\"{gdrive_save_folder}/{batch_name}_frames.zip\")\n",
        "copy_file(f\"/content/{batch_name}_frames_depth.zip\", f\"{gdrive_save_folder}/{batch_name}_frames_depth.zip\")"
      ],
      "metadata": {
        "cellView": "form",
        "id": "KJTyW6UxXvwH"
      },
      "execution_count": null,
      "outputs": []
    }
  ]
}