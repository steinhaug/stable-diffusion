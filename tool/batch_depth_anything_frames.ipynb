{
  "nbformat": 4,
  "nbformat_minor": 0,
  "metadata": {
    "colab": {
      "provenance": [],
      "gpuType": "T4",
      "authorship_tag": "ABX9TyNJRfQudRNmQ3s7pe8Hh5F7",
      "include_colab_link": true
    },
    "kernelspec": {
      "name": "python3",
      "display_name": "Python 3"
    },
    "language_info": {
      "name": "python"
    },
    "accelerator": "GPU"
  },
  "cells": [
    {
      "cell_type": "markdown",
      "metadata": {
        "id": "view-in-github",
        "colab_type": "text"
      },
      "source": [
        "<a href=\"https://colab.research.google.com/github/steinhaug/stable-diffusion/blob/main/tool/batch_depth_anything_frames.ipynb\" target=\"_parent\"><img src=\"https://colab.research.google.com/assets/colab-badge.svg\" alt=\"Open In Colab\"/></a>"
      ]
    },
    {
      "cell_type": "code",
      "execution_count": null,
      "metadata": {
        "id": "aIZ1aLhlPR5R"
      },
      "outputs": [],
      "source": [
        "!git clone https://github.com/LiheYoung/Depth-Anything\n",
        "%cd Depth-Anything\n",
        "!pip install -r requirements.txt\n",
        "depth_anything_init = False"
      ]
    },
    {
      "cell_type": "code",
      "source": [
        "# Mount gDrive\n",
        "from pathlib import Path\n",
        "inip = Path(\"/content/drive/MyDrive\")\n",
        "if not inip.is_dir():\n",
        "    from google.colab import drive\n",
        "    drive.mount('/content/drive')\n",
        "\n",
        "gdrive_save_folder = \"/content/drive/MyDrive/depth_frames\""
      ],
      "metadata": {
        "id": "UJ76cwHZp1El"
      },
      "execution_count": null,
      "outputs": []
    },
    {
      "cell_type": "code",
      "source": [
        "#@title Notebook functions\n",
        "\n",
        "import os, sys\n",
        "from tqdm import tqdm\n",
        "\n",
        "_B=True\n",
        "_A=False\n",
        "def return__isValidDir(directory):\n",
        "    if os.path.isdir(directory):return _B\n",
        "    else:return _A\n",
        "\n",
        "def return__fileCount(directory_path):\n",
        "    file_count = 0\n",
        "\n",
        "    for root, dirs, files in os.walk(directory_path):\n",
        "        file_count += len(files)\n",
        "\n",
        "    return file_count\n",
        "\n",
        "def resettable_progress_meter(maximum, progress):\n",
        "    bar_length = 40\n",
        "    progress_ratio = progress / maximum\n",
        "    bar = int(bar_length * progress_ratio)\n",
        "\n",
        "    sys.stdout.write(\"\\r[{}{}] {}%\".format(\"=\" * bar, \" \" * (bar_length - bar), int(progress_ratio * 100)))\n",
        "    sys.stdout.flush()\n",
        "\n",
        "    if progress == maximum:\n",
        "        sys.stdout.write(\"\\n\")\n",
        "        sys.stdout.flush()\n",
        "\n",
        "def return__folderName(directory_path, verify_folder=False):\n",
        "\n",
        "    if not verify_folder:\n",
        "        return os.path.basename(os.path.normpath(directory_path))\n",
        "\n",
        "    # Ensure the path is a valid directory\n",
        "    if os.path.isdir(directory_path):\n",
        "        # Split the path into components and get the last one\n",
        "        last_folder_name = os.path.basename(os.path.normpath(directory_path))\n",
        "        return last_folder_name\n",
        "    else:\n",
        "        return None  # Return None for invalid paths\n",
        "\n",
        "def move_file(source_file, destination_file, copyOnly=False):\n",
        "    file_size = os.path.getsize(source_file)\n",
        "\n",
        "    with open(source_file, \"rb\") as src_file, \\\n",
        "         open(destination_file, \"wb\") as dest_file, \\\n",
        "         tqdm(total=file_size, unit=\"B\", unit_scale=True, desc=\"Moving file\", ncols=80) as progress:\n",
        "\n",
        "        chunk_size = 1024 * 1024  # 1 MB\n",
        "        bytes_copied = 0\n",
        "\n",
        "        while True:\n",
        "            chunk = src_file.read(chunk_size)\n",
        "\n",
        "            if not chunk:\n",
        "                break\n",
        "\n",
        "            dest_file.write(chunk)\n",
        "            bytes_copied += len(chunk)\n",
        "            progress.update(len(chunk))\n",
        "\n",
        "    if not copyOnly:\n",
        "        os.remove(source_file)\n",
        "        print(f\"File '{source_file}' moved to '{destination_file}'.\")\n",
        "    else:\n",
        "        print(f\"File '{source_file}' copied to '{destination_file}'.\")\n",
        "\n",
        "def copy_file(source_file, destination_file):\n",
        "    return move_file(source_file, destination_file, True)"
      ],
      "metadata": {
        "cellView": "form",
        "id": "6mdztfodp56F"
      },
      "execution_count": null,
      "outputs": []
    },
    {
      "cell_type": "code",
      "source": [
        "video_file = \"/content/video1.mp4\"\n",
        "frames_directory = \"/content/frames/video1\""
      ],
      "metadata": {
        "id": "0raZq8Zsp8Kk"
      },
      "execution_count": null,
      "outputs": []
    },
    {
      "cell_type": "markdown",
      "source": [
        "# Process video, copy ZIPs of frames and depth frames into gDrive\n",
        "\n",
        "Run all cells or do them manually"
      ],
      "metadata": {
        "id": "jQcrAes_qBLR"
      }
    },
    {
      "cell_type": "markdown",
      "source": [
        "## 1.0 Xtract frames and crop frames"
      ],
      "metadata": {
        "id": "OTt4VmpXqMGm"
      }
    },
    {
      "cell_type": "code",
      "source": [
        "#@title . 1.1 Extract frames\n",
        "if not return__isValidDir(frames_directory):\n",
        "    os.makedirs(frames_directory)\n",
        "\n",
        "!ffmpeg -i {video_file} -vf \"scale=910:512\" {frames_directory}/c01_%04d.png\n",
        "\n",
        "total_progress = return__fileCount(frames_directory)\n",
        "clear_output();print(f'{total_progress} frames extracted into {frames_directory}')"
      ],
      "metadata": {
        "cellView": "form",
        "id": "CxqnuAvcqO7x"
      },
      "execution_count": null,
      "outputs": []
    },
    {
      "cell_type": "code",
      "source": [
        "#@title . 1.2 Crop frames\n",
        "\n",
        "from PIL import Image\n",
        "import os\n",
        "import sys\n",
        "\n",
        "def process_images(input_directory, output_directory, target_width=768, target_height=512):\n",
        "\n",
        "    n_progress = 1\n",
        "\n",
        "    # Create the output directory if it doesn't exist\n",
        "    if not os.path.exists(output_directory):\n",
        "        os.makedirs(output_directory)\n",
        "\n",
        "    # Get a list of all files in the input directory\n",
        "    image_files = [f for f in os.listdir(input_directory) if f.lower().endswith(('.png', '.jpg', '.jpeg', '.gif', '.bmp'))]\n",
        "\n",
        "    for image_file in image_files:\n",
        "        input_path = os.path.join(input_directory, image_file)\n",
        "        output_path = os.path.join(output_directory, image_file)\n",
        "\n",
        "        # Open the image\n",
        "        with Image.open(input_path) as img:\n",
        "            # Get the original image dimensions\n",
        "            original_width, original_height = img.size\n",
        "\n",
        "            # Calculate cropping dimensions to maintain aspect ratio and center the crop\n",
        "            left = max(0, (original_width - target_width) // 2)\n",
        "            top = max(0, (original_height - target_height) // 2)\n",
        "            right = min(original_width, left + target_width)\n",
        "            bottom = min(original_height, top + target_height)\n",
        "\n",
        "            # Crop the image\n",
        "            cropped_img = img.crop((left, top, right, bottom))\n",
        "\n",
        "            # Save the cropped image\n",
        "            cropped_img.save(output_path)\n",
        "            resettable_progress_meter(total_progress, n_progress)\n",
        "            n_progress = n_progress + 1\n",
        "\n",
        "process_images(frames_directory, frames_directory)\n",
        "\n",
        "clear_output();print(f'Frames cropped into 768x512')"
      ],
      "metadata": {
        "cellView": "form",
        "id": "cLBhjSDeqTWJ"
      },
      "execution_count": null,
      "outputs": []
    },
    {
      "cell_type": "markdown",
      "source": [
        "## 2.0 Create depth maps"
      ],
      "metadata": {
        "id": "868c7lZEqWVf"
      }
    },
    {
      "cell_type": "code",
      "source": [
        "#@title . 2.1 Initialise Depth Anything\n",
        "import matplotlib.pyplot as plt\n",
        "\n",
        "import cv2\n",
        "import numpy as np\n",
        "import os\n",
        "from PIL import Image\n",
        "import torch\n",
        "import torch.nn.functional as F\n",
        "from torchvision.transforms import Compose\n",
        "import tempfile\n",
        "from gradio_imageslider import ImageSlider\n",
        "\n",
        "from depth_anything.dpt import DepthAnything\n",
        "from depth_anything.util.transform import Resize, NormalizeImage, PrepareForNet\n",
        "\n",
        "if not depth_anything_init:\n",
        "    DEVICE = 'cuda' if torch.cuda.is_available() else 'cpu'\n",
        "    model = DepthAnything.from_pretrained('LiheYoung/depth_anything_vitl14').to(DEVICE)\n",
        "\n",
        "    transform = Compose([\n",
        "            Resize(\n",
        "                width=518,\n",
        "                height=518,\n",
        "                resize_target=False,\n",
        "                keep_aspect_ratio=True,\n",
        "                ensure_multiple_of=14,\n",
        "                resize_method='lower_bound',\n",
        "                image_interpolation_method=cv2.INTER_CUBIC,\n",
        "            ),\n",
        "            NormalizeImage(mean=[0.485, 0.456, 0.406], std=[0.229, 0.224, 0.225]),\n",
        "            PrepareForNet(),\n",
        "    ])\n",
        "\n",
        "    depth_anything_init = True\n",
        "\n",
        "\n",
        "def predict_depth(model, image):\n",
        "    return model(image)\n",
        "\n",
        "def create_depth_map(image):\n",
        "    original_image = image.copy()\n",
        "\n",
        "    h, w = image.shape[:2]\n",
        "\n",
        "    image = cv2.cvtColor(image, cv2.COLOR_BGR2RGB) / 255.0\n",
        "    image = transform({'image': image})['image']\n",
        "    image = torch.from_numpy(image).unsqueeze(0).to(DEVICE)\n",
        "\n",
        "    with torch.no_grad():\n",
        "        depth = predict_depth(model, image)\n",
        "\n",
        "    depth = F.interpolate(depth[None], (h, w), mode='bilinear', align_corners=False)[0, 0]\n",
        "\n",
        "    raw_depth = Image.fromarray(depth.cpu().numpy().astype('uint16'))\n",
        "    tmp = tempfile.NamedTemporaryFile(suffix='.png', delete=False)\n",
        "    raw_depth.save(tmp.name)\n",
        "\n",
        "    depth = (depth - depth.min()) / (depth.max() - depth.min()) * 255.0\n",
        "    depth = depth.cpu().numpy().astype(np.uint8)\n",
        "    colored_depth = cv2.applyColorMap(depth, cv2.COLORMAP_INFERNO)[:, :, ::-1]\n",
        "\n",
        "    return colored_depth\n",
        "    return [(original_image, colored_depth), tmp.name]\n",
        "\n",
        "# Load image as numpy.ndarray\n",
        "def load_image(image_path):\n",
        "    # Read the image using OpenCV\n",
        "    image = cv2.imread(image_path)\n",
        "\n",
        "    # Check if the image was successfully loaded\n",
        "    if image is None:\n",
        "        raise FileNotFoundError(f\"Image not found at path: {image_path}\")\n",
        "\n",
        "    # Convert the image to a NumPy array\n",
        "    image_array = np.array(image)\n",
        "\n",
        "    return image_array\n"
      ],
      "metadata": {
        "cellView": "form",
        "id": "ZMuulzWl_sW0"
      },
      "execution_count": 7,
      "outputs": []
    },
    {
      "cell_type": "code",
      "source": [
        "#@title . 2.2 Process frames\n",
        "import cv2, os\n",
        "import numpy as np\n",
        "from PIL import Image\n",
        "\n",
        "def process_images(input_directory, output_directory):\n",
        "\n",
        "    # Create the output directory if it doesn't exist\n",
        "    if not os.path.exists(output_directory):\n",
        "        os.makedirs(output_directory)\n",
        "\n",
        "    # Get a list of all files in the input directory\n",
        "    image_files = [f for f in os.listdir(input_directory) if f.lower().endswith(('.png', '.jpg', '.jpeg', '.gif', '.bmp'))]\n",
        "\n",
        "    n_progress = 1\n",
        "    for image_file in image_files:\n",
        "        input_path = os.path.join(input_directory, image_file)\n",
        "        output_path = os.path.join(output_directory, image_file)\n",
        "\n",
        "        image_data = load_image(input_path)\n",
        "        depth_data = create_depth_map(image_data)\n",
        "        final_image = Image.fromarray(depth_data)\n",
        "        final_image.save(output_path)\n",
        "\n",
        "        resettable_progress_meter(total_progress, n_progress)\n",
        "        n_progress = n_progress + 1\n",
        "\n",
        "process_images(frames_directory, f\"{frames_directory}_depth\")\n",
        "clear_output();print('Depth frames completed!')\n"
      ],
      "metadata": {
        "cellView": "form",
        "id": "RM1mkNgbqkFb"
      },
      "execution_count": null,
      "outputs": []
    },
    {
      "cell_type": "markdown",
      "source": [
        "## 3.0 zip it up"
      ],
      "metadata": {
        "id": "Ajm8ofDErKT4"
      }
    },
    {
      "cell_type": "code",
      "source": [
        "#@title . 3.1 Create zip files of frames and frames_depth folders\n",
        "import os\n",
        "import zipfile\n",
        "\n",
        "def zip_directory(directory_path, zip_file_path):\n",
        "    with zipfile.ZipFile(zip_file_path, 'w') as zipf:\n",
        "        for root, dirs, files in os.walk(directory_path):\n",
        "            for file in files:\n",
        "                file_path = os.path.join(root, file)\n",
        "                arcname = os.path.relpath(file_path, directory_path)\n",
        "                zipf.write(file_path, arcname=arcname)\n",
        "\n",
        "batch_name = return__folderName(frames_directory)\n",
        "\n",
        "zip_directory(frames_directory, f\"/content/{batch_name}_frames.zip\")\n",
        "print(f\"Zip file '{batch_name}_frames.zip' created successfully.\")\n",
        "zip_directory(f\"{frames_directory}_depth\", f\"/content/{batch_name}_frames_depth.zip\")\n",
        "print(f\"Zip file '{batch_name}_frames_depth.zip' created successfully.\")"
      ],
      "metadata": {
        "cellView": "form",
        "id": "onVtWz2srPI7"
      },
      "execution_count": null,
      "outputs": []
    },
    {
      "cell_type": "code",
      "source": [
        "#@title . 3.2 Copy zips into gDrive\n",
        "copy_file(f\"/content/{batch_name}_frames.zip\", f\"{gdrive_save_folder}/{batch_name}_frames.zip\")\n",
        "copy_file(f\"/content/{batch_name}_frames_depth.zip\", f\"{gdrive_save_folder}/{batch_name}_frames_depth.zip\")"
      ],
      "metadata": {
        "cellView": "form",
        "id": "BmOlOeDRrSEQ"
      },
      "execution_count": null,
      "outputs": []
    },
    {
      "cell_type": "markdown",
      "source": [
        "## END"
      ],
      "metadata": {
        "id": "mV2uJ_hzrTz1"
      }
    },
    {
      "cell_type": "code",
      "source": [
        "#@title Inference working\n",
        "\n",
        "image_data = load_image(\"/content/c01_0100.png\")\n",
        "depth_data = create_depth_map(image_data)\n",
        "final_image = Image.fromarray(depth_data)\n",
        "final_image.save(f\"/content/1.png\")\n",
        "\n",
        "plt.imshow(depth_data)"
      ],
      "metadata": {
        "id": "v_e--DE-_1gz"
      },
      "execution_count": 8,
      "outputs": []
    }
  ]
}