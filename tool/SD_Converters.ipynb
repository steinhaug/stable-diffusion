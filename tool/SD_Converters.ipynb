{
  "nbformat": 4,
  "nbformat_minor": 0,
  "metadata": {
    "colab": {
      "provenance": [],
      "authorship_tag": "ABX9TyP1eDJhFJd2YwjVQrDX0gyc",
      "include_colab_link": true
    },
    "kernelspec": {
      "name": "python3",
      "display_name": "Python 3"
    },
    "language_info": {
      "name": "python"
    },
    "gpuClass": "standard"
  },
  "cells": [
    {
      "cell_type": "markdown",
      "metadata": {
        "id": "view-in-github",
        "colab_type": "text"
      },
      "source": [
        "<a href=\"https://colab.research.google.com/github/steinhaug/stable-diffusion/blob/main/tool/SD_Converters.ipynb\" target=\"_parent\"><img src=\"https://colab.research.google.com/assets/colab-badge.svg\" alt=\"Open In Colab\"/></a>"
      ]
    },
    {
      "cell_type": "code",
      "source": [
        "#@title Connect and mount drive\n",
        "from google.colab import drive\n",
        "drive.mount('/content/drive')"
      ],
      "metadata": {
        "colab": {
          "base_uri": "https://localhost:8080/"
        },
        "id": "2zng0wUQNa4C",
        "outputId": "01686720-17ea-4f14-ab7e-11fa82d50ad1"
      },
      "execution_count": null,
      "outputs": [
        {
          "output_type": "stream",
          "name": "stdout",
          "text": [
            "Mounted at /content/drive\n"
          ]
        }
      ]
    },
    {
      "cell_type": "markdown",
      "source": [
        "## Loading files"
      ],
      "metadata": {
        "id": "5cvOuuy6QqbY"
      }
    },
    {
      "cell_type": "code",
      "execution_count": null,
      "metadata": {
        "colab": {
          "base_uri": "https://localhost:8080/"
        },
        "cellView": "form",
        "id": "Su8T0LaxH9-z",
        "outputId": "d0e49e28-935e-42bd-ba27-fc99ecd11908"
      },
      "outputs": [
        {
          "output_type": "stream",
          "name": "stdout",
          "text": [
            "\u001b[1;32mDone! ✓\n"
          ]
        }
      ],
      "source": [
        "#@title Install requirements\n",
        "from IPython.display import clear_output\n",
        "\n",
        "!wget -q https://github.com/steinhaug/diffusers/raw/main/scripts/convert_original_stable_diffusion_to_diffusers.py\n",
        "!wget -q https://github.com/steinhaug/diffusers/raw/main/scripts/convert_diffusers_to_original_stable_diffusion.py\n",
        "%pip install -qq git+https://github.com/steinhaug/diffusers\n",
        "%pip install -q -U --pre triton\n",
        "%pip install omegaconf\n",
        "%pip install -q accelerate ftfy bitsandbytes==0.35.0 natsort safetensors\n",
        "#%pip install -q accelerate transformers ftfy bitsandbytes==0.35.0 gradio natsort safetensors xformers\n",
        "\n",
        "!mkdir /content/download\n",
        "clear_output()\n",
        "print('\u001b[1;32mDone! ✓')"
      ]
    },
    {
      "cell_type": "code",
      "source": [
        "#@title huggingface_hub: Install and Connect (have API key ready)\n",
        "from IPython.display import clear_output\n",
        "!pip install --upgrade huggingface_hub\n",
        "!mkdir /content/huggface_cache\n",
        "clear_output()\n",
        "from huggingface_hub import notebook_login\n",
        "notebook_login()"
      ],
      "metadata": {
        "cellView": "form",
        "id": "i79zLImVIy63"
      },
      "execution_count": null,
      "outputs": []
    },
    {
      "cell_type": "code",
      "source": [
        "#@title huggingface_hub: Downloading private files from huggingface\n",
        "from huggingface_hub import hf_hub_download\n",
        "#hf_hub_download(repo_id=\"steinhaug/zkiste\", filename=\"zkiste3-5050.ckpt\", cache_dir=\"/content/huggface_cache\")\n",
        "\n",
        "\n",
        "# download a file\n",
        "#from huggingface_hub import hf_hub_download\n",
        "#path = hf_hub_download(repo_id=\"steinhaug/onceUponAtimeInPornVille\", repo_type=\"dataset\", local_dir=\"/content/drive/MyDrive/offload\")\n",
        "#print(path)\n",
        "\n",
        "# Download full repository\n",
        "#from huggingface_hub import snapshot_download\n",
        "#path = snapshot_download(repo_id=\"steinhaug/onceUponAtimeInPornVille\", repo_type=\"dataset\", local_dir=\"/content/drive/MyDrive/offload\")\n"
      ],
      "metadata": {
        "id": "Df01xBovI6gL"
      },
      "execution_count": null,
      "outputs": []
    },
    {
      "cell_type": "code",
      "source": [
        "%cd /content/download/\n",
        "!wget online_path -O filename"
      ],
      "metadata": {
        "id": "ykcJf0zQMOim"
      },
      "execution_count": null,
      "outputs": []
    },
    {
      "cell_type": "markdown",
      "source": [
        "## Converters"
      ],
      "metadata": {
        "id": "aKPqFPjQQuLS"
      }
    },
    {
      "cell_type": "code",
      "source": [
        "#@title Convert ckpt &gt; diffusers\n",
        "\n",
        "PATH_CKPT = \"/content/huggface_cache/models--steinhaug--zkiste/snapshots/af385428edf2f108a52b4a236ae14b4780a6d5e5/zkiste3-5050.ckpt\" #@param {type:\"string\"}\n",
        "PATH_DIFFUSERS = \"/content/diff_model\" #@param {type:\"string\"}\n",
        "\n",
        "#@markdown <em>path_ckpt:</em> path to the checkpoint file you want to convert to diffusers model<br>\n",
        "#@markdown <em>path_diffusers:</em> path to the folder you want the diffusers model to be saved in, if it doesnt exist it will be created for you.\n",
        "\n",
        "from pathlib import Path\n",
        "\n",
        "path = Path(PATH_CKPT)\n",
        "if not path.is_file():\n",
        "  raise Exception(f\"File not found! Path: {PATH_CKPT}\")\n",
        "\n",
        "path = Path(PATH_DIFFUSERS)\n",
        "if not path.exists():\n",
        "  print(f\"[*] Creating directory for diffuser model...\")\n",
        "  path.mkdir(parents = False, exist_ok = False)\n",
        "\n",
        "%cd /content/\n",
        "!python convert_original_stable_diffusion_to_diffusers.py --scheduler_type ddim --checkpoint_path $PATH_CKPT --image_size 512 --prediction_type epsilon --dump_path $PATH_DIFFUSERS --device cpu\n",
        "\n",
        "WEIGHTS_DIR = PATH_DIFFUSERS"
      ],
      "metadata": {
        "cellView": "form",
        "id": "0j8-lpQgINu8"
      },
      "execution_count": null,
      "outputs": []
    },
    {
      "cell_type": "code",
      "source": [
        "#@title Convert diffusers &gt; ckpt\n",
        "\n",
        "%cd /content/\n",
        "\n",
        "#@markdown Run conversion, saves .ckpt file in __weights_dir__\n",
        "WEIGHTS_DIR = \"/content/drive/MyDrive/stable_diffusion_weights/sd_helchr/2222\" #@param {type:\"string\"}\n",
        "CKPT_NAME = \"model.ckpt\" #@param {type:\"string\"}\n",
        "\n",
        "ckpt_path = WEIGHTS_DIR + \"/\" + CKPT_NAME\n",
        "\n",
        "from pathlib import Path\n",
        "path = Path(WEIGHTS_DIR)\n",
        "if not path.exists():\n",
        "  raise Exception(f\"Directory not found! Path: {WEIGHTS_DIR}\")\n",
        "\n",
        "half_arg = \"\"\n",
        "#@markdown  Whether to convert to fp16, takes half the space (2GB).\n",
        "fp16 = True #@param {type: \"boolean\"}\n",
        "if fp16:\n",
        "    half_arg = \"--half\"\n",
        "!python convert_diffusers_to_original_stable_diffusion.py --model_path $WEIGHTS_DIR  --checkpoint_path $ckpt_path $half_arg\n",
        "print(f\"[*] Converted ckpt saved at {ckpt_path}\")"
      ],
      "metadata": {
        "cellView": "form",
        "id": "OXHExnIjICn6"
      },
      "execution_count": null,
      "outputs": []
    },
    {
      "cell_type": "markdown",
      "source": [
        "## other tools..."
      ],
      "metadata": {
        "id": "uL0cgl3XN49U"
      }
    }
  ]
}