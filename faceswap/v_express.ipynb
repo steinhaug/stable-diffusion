{
  "nbformat": 4,
  "nbformat_minor": 0,
  "metadata": {
    "colab": {
      "provenance": [],
      "gpuType": "T4",
      "mount_file_id": "https://github.com/steinhaug/stable-diffusion/blob/main/faceswap/v_express.ipynb",
      "authorship_tag": "ABX9TyNXbpH2exlAH7Ir4TIOb2pL",
      "include_colab_link": true
    },
    "kernelspec": {
      "name": "python3",
      "display_name": "Python 3"
    },
    "language_info": {
      "name": "python"
    },
    "accelerator": "GPU"
  },
  "cells": [
    {
      "cell_type": "markdown",
      "metadata": {
        "id": "view-in-github",
        "colab_type": "text"
      },
      "source": [
        "<a href=\"https://colab.research.google.com/github/steinhaug/stable-diffusion/blob/main/faceswap/v_express.ipynb\" target=\"_parent\"><img src=\"https://colab.research.google.com/assets/colab-badge.svg\" alt=\"Open In Colab\"/></a>"
      ]
    },
    {
      "cell_type": "markdown",
      "source": [
        "# V-Express\n",
        "\n",
        "Work in progress, but right now <a href=\"https://hedra.com\">hedra.com</a> is miles ahead (and free)."
      ],
      "metadata": {
        "id": "abZLtD0TAHn7"
      }
    },
    {
      "cell_type": "markdown",
      "source": [
        "## system tools"
      ],
      "metadata": {
        "id": "nhlTFfPvAQbI"
      }
    },
    {
      "cell_type": "code",
      "execution_count": null,
      "metadata": {
        "colab": {
          "base_uri": "https://localhost:8080/"
        },
        "id": "ywLeOV9n0FdR",
        "outputId": "75562bbb-b6fd-4318-d91a-54c1b3a611fe"
      },
      "outputs": [
        {
          "output_type": "stream",
          "name": "stdout",
          "text": [
            "diffusers==0.24.0: Not installed\n",
            "imageio-ffmpeg==0.4.9: Installed\n",
            "insightface==0.7.3: Not installed\n",
            "omegaconf==2.2.3: Not installed\n",
            "onnxruntime==1.16.3: Not installed\n",
            "safetensors==0.4.2: Different version installed (0.4.3)\n",
            "torch==2.0.1: Different version installed (2.3.0+cu121)\n",
            "torchaudio==2.0.2: Different version installed (2.3.0+cu121)\n",
            "torchvision==0.15.2: Different version installed (0.18.0+cu121)\n",
            "transformers==4.30.2: Different version installed (4.41.1)\n",
            "einops==0.4.1: Not installed\n",
            "tqdm==4.66.1: Different version installed (4.66.4)\n",
            "xformers==0.0.22: Not installed\n",
            "av==11.0.0: Not installed\n"
          ]
        }
      ],
      "source": [
        "import pkg_resources\n",
        "\n",
        "# List of packages to check with their required versions\n",
        "packages_to_check = [\n",
        "    (\"diffusers\", \"0.24.0\"),\n",
        "    (\"imageio-ffmpeg\", \"0.4.9\"),\n",
        "    (\"insightface\", \"0.7.3\"),\n",
        "    (\"omegaconf\", \"2.2.3\"),\n",
        "    (\"onnxruntime\", \"1.16.3\"),\n",
        "    (\"safetensors\", \"0.4.2\"),\n",
        "    (\"torch\", \"2.0.1\"),\n",
        "    (\"torchaudio\", \"2.0.2\"),\n",
        "    (\"torchvision\", \"0.15.2\"),\n",
        "    (\"transformers\", \"4.30.2\"),\n",
        "    (\"einops\", \"0.4.1\"),\n",
        "    (\"tqdm\", \"4.66.1\"),\n",
        "    (\"xformers\", \"0.0.22\"),\n",
        "    (\"av\", \"11.0.0\"),\n",
        "]\n",
        "\n",
        "# Function to check installed packages\n",
        "def check_installed_packages(packages):\n",
        "    installed_packages = {pkg.key: pkg.version for pkg in pkg_resources.working_set}\n",
        "    result = {}\n",
        "    for package, version in packages:\n",
        "        if package in installed_packages:\n",
        "            if installed_packages[package] == version:\n",
        "                result[package] = \"Installed\"\n",
        "            else:\n",
        "                result[package] = f\"Different version installed ({installed_packages[package]})\"\n",
        "        else:\n",
        "            result[package] = \"Not installed\"\n",
        "    return result\n",
        "\n",
        "# Check the packages and print the results\n",
        "installed_packages_status = check_installed_packages(packages_to_check)\n",
        "\n",
        "for package, status in installed_packages_status.items():\n",
        "    print(f\"{package}=={packages_to_check[[pkg[0] for pkg in packages_to_check].index(package)][1]}: {status}\")\n"
      ]
    },
    {
      "cell_type": "code",
      "source": [
        "import subprocess\n",
        "import re\n",
        "\n",
        "# List of packages to check for latest versions\n",
        "packages_to_check = [\n",
        "    \"diffusers\",\n",
        "    \"insightface\",\n",
        "    \"omegaconf\",\n",
        "    \"onnxruntime\",\n",
        "    \"einops\",\n",
        "    \"xformers\",\n",
        "    \"av\",\n",
        "]\n",
        "\n",
        "# Function to get the latest version of a package from pip\n",
        "def get_latest_version(package):\n",
        "    result = subprocess.run([\"pip\", \"index\", \"versions\", package], capture_output=True, text=True)\n",
        "    match = re.search(r'Available versions: (.*)', result.stdout)\n",
        "    if match:\n",
        "        versions = match.group(1).split(\", \")\n",
        "        return versions[0] if versions else None\n",
        "    return None\n",
        "\n",
        "# Get the latest versions\n",
        "latest_versions = {pkg: get_latest_version(pkg) for pkg in packages_to_check}\n",
        "latest_versions\n"
      ],
      "metadata": {
        "colab": {
          "base_uri": "https://localhost:8080/"
        },
        "id": "yvZcSCOC2OHC",
        "outputId": "265a9c3a-9fd9-409b-ee6d-e75a5af07fe6"
      },
      "execution_count": null,
      "outputs": [
        {
          "output_type": "execute_result",
          "data": {
            "text/plain": [
              "{'diffusers': '0.28.0',\n",
              " 'insightface': '0.7.3',\n",
              " 'omegaconf': '2.3.0',\n",
              " 'onnxruntime': '1.18.0',\n",
              " 'einops': '0.8.0',\n",
              " 'xformers': '0.0.26.post1',\n",
              " 'av': '12.1.0'}"
            ]
          },
          "metadata": {},
          "execution_count": 2
        }
      ]
    },
    {
      "cell_type": "code",
      "source": [
        "!pip install pipdeptree\n",
        "!pipdeptree > dependency_tree.txt"
      ],
      "metadata": {
        "id": "qOeYro5xwb26"
      },
      "execution_count": null,
      "outputs": []
    },
    {
      "cell_type": "code",
      "source": [
        "#https://download.pytorch.org/whl/cu121/xformers-0.0.26.post1-cp310-cp310-manylinux2014_x86_64.whl\n",
        "#https://download.pytorch.org/whl/cu121/xformers-0.0.26-cp310-cp310-manylinux2014_x86_64.whl\n",
        "#https://download.pytorch.org/whl/cu121/xformers-0.0.25.post1-cp310-cp310-manylinux2014_x86_64.whl\n",
        "#https://download.pytorch.org/whl/cu121/xformers-0.0.25-cp310-cp310-manylinux2014_x86_64.whl\n",
        "#https://download.pytorch.org/whl/cu121/xformers-0.0.24-cp310-cp310-manylinux2014_x86_64.whl#sha256=018f928bd37b855021d12bff57797e729604474ccc2daa5504e1e4e4a5e6e3f7\n",
        "#https://download.pytorch.org/whl/cu121/xformers-0.0.23.post1-cp310-cp310-manylinux2014_x86_64.whl#sha256=f3491e4b1077314a4535fc78c36b592a13b794eefffaa308db879f7147424a96\n",
        "#https://download.pytorch.org/whl/cu121/xformers-0.0.23-cp310-cp310-manylinux2014_x86_64.whl#sha256=f739814d5279ff81c7955b1aa6dae2f462799f663f1d5785ed965acc833ed258\n",
        "#https://download.pytorch.org/whl/cu121/xformers-0.0.22.post7-cp310-cp310-manylinux2014_x86_64.whl#sha256=44c33373976705b1f3c5729a5ed24165b21536e3d3eedc58dd60ce68d3603f89\n",
        "#https://download.pytorch.org/whl/cu121/xformers-0.0.22.post4-cp310-cp310-manylinux2014_x86_64.whl#sha256=7075114dbf698b609b599f0d35032c0b2f9a389751e8bbf4dd3c628376b0dd9c\n",
        "#https://download.pytorch.org/whl/cu121/xformers-0.0.22.post3-cp310-cp310-manylinux2014_x86_64.whl#sha256=698f79c39327f043651f5c1022c35bbde52b17200198d9ba55081556685beeb8"
      ],
      "metadata": {
        "id": "JsK-1mZ25eoP"
      },
      "execution_count": null,
      "outputs": []
    },
    {
      "cell_type": "markdown",
      "source": [
        "## Install"
      ],
      "metadata": {
        "id": "FX456_U6AWYf"
      }
    },
    {
      "cell_type": "code",
      "source": [
        "from google.colab import drive\n",
        "drive.mount('/content/drive')"
      ],
      "metadata": {
        "id": "HuhvicaACcgZ"
      },
      "execution_count": null,
      "outputs": []
    },
    {
      "cell_type": "code",
      "source": [
        "#@markdown Install deps.\n",
        "\n",
        "!wget --content-disposition https://download.pytorch.org/whl/cu121/xformers-0.0.26.post1-cp310-cp310-manylinux2014_x86_64.whl -P /content\n",
        "#!pip install xformers==0.0.22\n",
        "!pip install xformers-0.0.26.post1-cp310-cp310-manylinux2014_x86_64.whl\n",
        "%pip install -q accelerate ftfy bitsandbytes\n",
        "\n",
        "!pip install diffusers==0.24.0\n",
        "!pip install insightface==0.7.3\n",
        "!pip install onnxruntime==1.16.3\n",
        "!pip install einops==0.4.1\n",
        "!pip install av==11.0.0"
      ],
      "metadata": {
        "id": "Fg5_IGXl6qM8",
        "cellView": "form"
      },
      "execution_count": null,
      "outputs": []
    },
    {
      "cell_type": "code",
      "source": [
        "#@markdown This cell usually needs a restart of the runtime, check log when installing\n",
        "!pip install omegaconf==2.2.3"
      ],
      "metadata": {
        "id": "ykApR9Ox7uFt",
        "cellView": "form"
      },
      "execution_count": null,
      "outputs": []
    },
    {
      "cell_type": "code",
      "source": [
        "#@markdown Git fetch and setup V-Express\n",
        "\n",
        "# download the codes\n",
        "!git clone https://github.com/tencent-ailab/V-Express\n",
        "\n",
        "# download the models\n",
        "%cd V-Express\n",
        "!git lfs install\n",
        "!git clone https://huggingface.co/tk93/V-Express\n",
        "!mv V-Express/model_ckpts model_ckpts"
      ],
      "metadata": {
        "id": "01W65xjQ38a0",
        "cellView": "form"
      },
      "execution_count": null,
      "outputs": []
    },
    {
      "cell_type": "code",
      "source": [
        "#@markdown Models download\n",
        "!apt -y install -qq aria2\n",
        "!aria2c --console-log-level=error -c -x 16 -s 16 -k 1M https://huggingface.co/camenduru/V-Express/raw/main/wav2vec2-base-960h/config.json -d /content/V-Express/model_ckpts/wav2vec2-base-960h -o config.json\n",
        "!aria2c --console-log-level=error -c -x 16 -s 16 -k 1M https://huggingface.co/camenduru/V-Express/raw/main/wav2vec2-base-960h/feature_extractor_config.json -d /content/V-Express/model_ckpts/wav2vec2-base-960h -o feature_extractor_config.json\n",
        "!aria2c --console-log-level=error -c -x 16 -s 16 -k 1M https://huggingface.co/camenduru/V-Express/raw/main/wav2vec2-base-960h/preprocessor_config.json -d /content/V-Express/model_ckpts/wav2vec2-base-960h -o preprocessor_config.json\n",
        "!aria2c --console-log-level=error -c -x 16 -s 16 -k 1M https://huggingface.co/camenduru/V-Express/resolve/main/wav2vec2-base-960h/pytorch_model.bin -d /content/V-Express/model_ckpts/wav2vec2-base-960h -o pytorch_model.bin\n",
        "!aria2c --console-log-level=error -c -x 16 -s 16 -k 1M https://huggingface.co/camenduru/V-Express/raw/main/wav2vec2-base-960h/special_tokens_map.json -d /content/V-Express/model_ckpts/wav2vec2-base-960h -o special_tokens_map.json\n",
        "!aria2c --console-log-level=error -c -x 16 -s 16 -k 1M https://huggingface.co/camenduru/V-Express/raw/main/wav2vec2-base-960h/tokenizer_config.json -d /content/V-Express/model_ckpts/wav2vec2-base-960h -o tokenizer_config.json\n",
        "!aria2c --console-log-level=error -c -x 16 -s 16 -k 1M https://huggingface.co/camenduru/V-Express/raw/main/wav2vec2-base-960h/vocab.json -d /content/V-Express/model_ckpts/wav2vec2-base-960h -o vocab.json\n",
        "!aria2c --console-log-level=error -c -x 16 -s 16 -k 1M https://huggingface.co/camenduru/V-Express/resolve/main/insightface_models/models/buffalo_l/1k3d68.onnx -d /content/V-Express/model_ckpts/insightface_models/models/buffalo_l -o 1k3d68.onnx\n",
        "!aria2c --console-log-level=error -c -x 16 -s 16 -k 1M https://huggingface.co/camenduru/V-Express/resolve/main/insightface_models/models/buffalo_l/2d106det.onnx -d /content/V-Express/model_ckpts/insightface_models/models/buffalo_l -o 2d106det.onnx\n",
        "!aria2c --console-log-level=error -c -x 16 -s 16 -k 1M https://huggingface.co/camenduru/V-Express/resolve/main/insightface_models/models/buffalo_l/det_10g.onnx -d /content/V-Express/model_ckpts/insightface_models/models/buffalo_l -o det_10g.onnx\n",
        "!aria2c --console-log-level=error -c -x 16 -s 16 -k 1M https://huggingface.co/camenduru/V-Express/resolve/main/insightface_models/models/buffalo_l/genderage.onnx -d /content/V-Express/model_ckpts/insightface_models/models/buffalo_l -o genderage.onnx\n",
        "!aria2c --console-log-level=error -c -x 16 -s 16 -k 1M https://huggingface.co/camenduru/V-Express/resolve/main/insightface_models/models/buffalo_l/w600k_r50.onnx -d /content/V-Express/model_ckpts/insightface_models/models/buffalo_l -o w600k_r50.onnx\n",
        "!aria2c --console-log-level=error -c -x 16 -s 16 -k 1M https://huggingface.co/camenduru/V-Express/raw/main/sd-vae-ft-mse/config.json -d /content/V-Express/model_ckpts/sd-vae-ft-mse -o config.json\n",
        "!aria2c --console-log-level=error -c -x 16 -s 16 -k 1M https://huggingface.co/camenduru/V-Express/resolve/main/sd-vae-ft-mse/diffusion_pytorch_model.bin -d /content/V-Express/model_ckpts/sd-vae-ft-mse -o diffusion_pytorch_model.bin\n",
        "!aria2c --console-log-level=error -c -x 16 -s 16 -k 1M https://huggingface.co/camenduru/V-Express/raw/main/stable-diffusion-v1-5/unet/config.json -d /content/V-Express/model_ckpts/stable-diffusion-v1-5/unet -o config.json\n",
        "\n",
        "#!aria2c --console-log-level=error -c -x 16 -s 16 -k 1M https://huggingface.co/camenduru/V-Express/resolve/main/v-express/audio_projection.pth -d /content/V-Express/model_ckpts/v-express -o audio_projection.pth\n",
        "#!aria2c --console-log-level=error -c -x 16 -s 16 -k 1M https://huggingface.co/camenduru/V-Express/resolve/main/v-express/denoising_unet.pth -d /content/V-Express/model_ckpts/v-express -o denoising_unet.pth\n",
        "#!aria2c --console-log-level=error -c -x 16 -s 16 -k 1M https://huggingface.co/camenduru/V-Express/resolve/main/v-express/motion_module.pth -d /content/V-Express/model_ckpts/v-express -o motion_module.pth\n",
        "#!aria2c --console-log-level=error -c -x 16 -s 16 -k 1M https://huggingface.co/camenduru/V-Express/resolve/main/v-express/reference_net.pth -d /content/V-Express/model_ckpts/v-express -o reference_net.pth\n",
        "#!aria2c --console-log-level=error -c -x 16 -s 16 -k 1M https://huggingface.co/camenduru/V-Express/resolve/main/v-express/v_kps_guider.pth -d /content/V-Express/model_ckpts/v-express -o v_kps_guider.pth\n",
        "\n",
        "!aria2c --console-log-level=error -c -x 16 -s 16 -k 1M https://huggingface.co/tk93/V-Express/resolve/main/v_kps_guider.bin?download=true -d /content/V-Express/model_ckpts/v-express -o v_kps_guider.bin\n",
        "!aria2c --console-log-level=error -c -x 16 -s 16 -k 1M https://huggingface.co/tk93/V-Express/resolve/main/reference_net.bin?download=true -d /content/V-Express/model_ckpts/v-express -o reference_net.bin\n",
        "!aria2c --console-log-level=error -c -x 16 -s 16 -k 1M https://huggingface.co/tk93/V-Express/resolve/main/motion_module.bin?download=true -d /content/V-Express/model_ckpts/v-express -o motion_module.bin\n",
        "!aria2c --console-log-level=error -c -x 16 -s 16 -k 1M https://huggingface.co/tk93/V-Express/resolve/main/denoising_unet.bin?download=true -d /content/V-Express/model_ckpts/v-express -o denoising_unet.bin\n",
        "!aria2c --console-log-level=error -c -x 16 -s 16 -k 1M https://huggingface.co/tk93/V-Express/resolve/main/audio_projection.bin?download=true -d /content/V-Express/model_ckpts/v-express -o audio_projection.bin\n"
      ],
      "metadata": {
        "collapsed": true,
        "cellView": "form",
        "id": "TFjMypiqFR3M"
      },
      "execution_count": null,
      "outputs": []
    },
    {
      "cell_type": "markdown",
      "source": [
        "## Inference"
      ],
      "metadata": {
        "id": "UpoJE6y7AySf"
      }
    },
    {
      "cell_type": "code",
      "source": [
        "# https://github.com/tencent-ailab/V-Express?tab=readme-ov-file"
      ],
      "metadata": {
        "id": "sj9hR4Ax_3eF"
      },
      "execution_count": null,
      "outputs": []
    },
    {
      "cell_type": "code",
      "source": [
        "!python scripts/extract_kps_sequence_and_audio.py \\\n",
        "    --video_path \"./test_samples/short_case/10/gt.mp4\" \\\n",
        "    --kps_sequence_save_path \"./test_samples/short_case/10/kps.pth\" \\\n",
        "    --audio_save_path \"./test_samples/short_case/10/aud.mp3\""
      ],
      "metadata": {
        "id": "mtwy08FS94Fa"
      },
      "execution_count": null,
      "outputs": []
    },
    {
      "cell_type": "code",
      "source": [
        "!python inference.py \\\n",
        "    --reference_image_path \"./test_samples/short_case/10/ref.jpg\" \\\n",
        "    --audio_path \"./test_samples/short_case/10/aud.mp3\" \\\n",
        "    --kps_path \"./test_samples/short_case/10/kps.pth\" \\\n",
        "    --output_path \"./output/short_case/talk_10_no_retarget.mp4\" \\\n",
        "    --retarget_strategy \"no_retarget\" \\\n",
        "    --num_inference_steps 25"
      ],
      "metadata": {
        "id": "46I2Ohwf4GQj"
      },
      "execution_count": null,
      "outputs": []
    },
    {
      "cell_type": "code",
      "source": [
        "!cp /content/001.mp4 /content/drive/MyDrive/suno.com/psychosis/001.mp4\n",
        "!cp /content/001_offset_retarget.mp4 /content/drive/MyDrive/suno.com/psychosis/001_offset_retarget.mp4\n",
        "!cp /content/001_or_nsfw.mp4 /content/drive/MyDrive/suno.com/psychosis/001_or_nsfw.mp4\n"
      ],
      "metadata": {
        "colab": {
          "base_uri": "https://localhost:8080/"
        },
        "id": "09uuRauBDA34",
        "outputId": "bb234939-456b-49f2-e1cb-9888cf4d094b"
      },
      "execution_count": 15,
      "outputs": [
        {
          "output_type": "stream",
          "name": "stdout",
          "text": [
            "cp: cannot stat '/content/001_or_nsfw.mp4': No such file or directory\n"
          ]
        }
      ]
    },
    {
      "cell_type": "code",
      "source": [
        "!python inference.py \\\n",
        "    --reference_image_path \"/content/drive/MyDrive/suno.com/psychosis/00316-172068802.jpg\" \\\n",
        "    --audio_path \"/content/drive/MyDrive/suno.com/psychosis/My psychosis [vocals]_01.mp3\" \\\n",
        "    --kps_path \"./test_samples/short_case/tys/kps.pth\" \\\n",
        "    --output_path \"/content/001_or_nsfw.mp4\" \\\n",
        "    --retarget_strategy \"offset_retarget\" \\\n",
        "    --num_inference_steps 25"
      ],
      "metadata": {
        "id": "71RWdHu1JFeP"
      },
      "execution_count": null,
      "outputs": []
    },
    {
      "cell_type": "code",
      "source": [
        "!python inference.py \\\n",
        "    --reference_image_path \"/content/drive/MyDrive/suno.com/psychosis/00212-2031422900.jpg\" \\\n",
        "    --audio_path \"/content/drive/MyDrive/suno.com/psychosis/My psychosis [vocals]_01.mp3\" \\\n",
        "    --kps_path \"./test_samples/short_case/tys/kps.pth\" \\\n",
        "    --output_path \"/content/001_offset_retarget.mp4\" \\\n",
        "    --retarget_strategy \"offset_retarget\" \\\n",
        "    --num_inference_steps 25"
      ],
      "metadata": {
        "id": "o0yvjIIvIM1D"
      },
      "execution_count": null,
      "outputs": []
    },
    {
      "cell_type": "code",
      "source": [
        "!python inference.py \\\n",
        "    --reference_image_path \"/content/drive/MyDrive/suno.com/psychosis/00212-2031422900.jpg\" \\\n",
        "    --audio_path \"/content/drive/MyDrive/suno.com/psychosis/My psychosis [vocals]_01.mp3\" \\\n",
        "    --kps_path \"./test_samples/short_case/10/kps.pth\" \\\n",
        "    --output_path \"/content/001.mp4\" \\\n",
        "    --retarget_strategy \"no_retarget\" \\\n",
        "    --num_inference_steps 25"
      ],
      "metadata": {
        "collapsed": true,
        "id": "ifWN3dkDDFHN"
      },
      "execution_count": null,
      "outputs": []
    }
  ]
}