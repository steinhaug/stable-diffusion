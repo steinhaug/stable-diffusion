{
  "cells": [
    {
      "cell_type": "markdown",
      "metadata": {
        "colab_type": "text",
        "id": "view-in-github"
      },
      "source": [
        "<a href=\"https://colab.research.google.com/github/steinhaug/stable-diffusion/blob/main/image2image/VideoExtender__frame_interpolation.ipynb\" target=\"_parent\"><img src=\"https://colab.research.google.com/assets/colab-badge.svg\" alt=\"Open In Colab\"/></a>"
      ]
    },
    {
      "cell_type": "markdown",
      "metadata": {
        "id": "Cp9wuo2MbKLa"
      },
      "source": [
        "__Video Extender: Pytti-tools / frame-interpolation__  \n",
        "\n",
        "\n",
        "_Credits:[DigThatData](https://twitter.com/DigThatData)\n",
        "License: MIT_\n",
        "\n",
        "---\n",
        "\n",
        "<details>\n",
        "<summary>\n",
        "Example video\n",
        "</summary>\n",
        "\n",
        "![preview](https://i.imgur.com/NliA9Kj.gif)  \n",
        "https://github.com/pytti-tools/frame-interpolation  \n",
        "</details>\n",
        "\n",
        "[![Buy me a beer](https://raw.githubusercontent.com/steinhaug/stable-diffusion/main/assets/buy-me-a-beer.png ) ](https://steinhaug.com/donate/)"
      ]
    },
    {
      "cell_type": "code",
      "execution_count": null,
      "metadata": {
        "cellView": "form",
        "id": "-7TD7YZJbsy_"
      },
      "outputs": [],
      "source": [
        "import os\n",
        "from pathlib import Path\n",
        "from IPython.display import clear_output\n",
        "def return__folderName(directory_path, verify_folder=False):\n",
        "    if not verify_folder:\n",
        "        return os.path.basename(os.path.normpath(directory_path))\n",
        "    if os.path.isdir(directory_path):\n",
        "        last_folder_name = os.path.basename(os.path.normpath(directory_path))\n",
        "        return last_folder_name\n",
        "    else:\n",
        "        return None\n",
        "\n",
        "drive_mounted = False\n",
        "gdrive_fpath = '.'\n",
        "local_path = '/content/'\n",
        "\n",
        "##############################\n",
        "\n",
        "#@markdown # 1. Setup Workspace\n",
        "\n",
        "#@markdown Run this cell to perform setup.\n",
        "\n",
        "#@markdown Mounting your google drive is optional.\n",
        "#@markdown If you mount your drive, code and models will be downloaded to it.\n",
        "#@markdown This should reduce setup time after your first run.\n",
        "\n",
        "###################\n",
        "\n",
        "mount_gdrive = True # @param{type:\"boolean\"}\n",
        "if mount_gdrive and not drive_mounted:\n",
        "    from google.colab import drive\n",
        "\n",
        "    gdrive_mountpoint = '/content/drive/' #@param{type:\"string\"}\n",
        "    gdrive_subdirectory = 'MyDrive/interpolation' #@param{type:\"string\"}\n",
        "    gdrive_fpath = str(Path(gdrive_mountpoint) / gdrive_subdirectory)\n",
        "    try:\n",
        "        drive.mount(gdrive_mountpoint, force_remount = True)\n",
        "        !mkdir -p {gdrive_fpath}\n",
        "        %cd {gdrive_fpath}\n",
        "        local_path = gdrive_fpath\n",
        "        drive_mounted = True\n",
        "    except OSError:\n",
        "        print(\n",
        "            \"\\n\\n-----[PYTTI-TOOLS]-------\\n\\n\"\n",
        "            \"If you received a scary OSError and your drive\"\n",
        "            \" was already mounted, ignore it.\"\n",
        "            \"\\n\\n-----[PYTTI-TOOLS]-------\\n\\n\"\n",
        "            )\n",
        "        raise\n",
        "\n",
        "#####################\n",
        "\n",
        "# Perform rest of setup\n",
        "\n",
        "if not Path('./frame-interpolation').exists():\n",
        "    !git clone https://github.com/pytti-tools/frame-interpolation\n",
        "\n",
        "try:\n",
        "    import frame_interpolation\n",
        "except ModuleNotFoundError:\n",
        "    %pip install -r ./frame-interpolation/requirements_colab.txt\n",
        "    %pip install ./frame-interpolation\n",
        "\n",
        "!pip install loguru\n",
        "!pip install apache_beam\n",
        "!pip install mediapy\n",
        "\n",
        "#url = \"https://drive.google.com/drive/folders/1GhVNBPq20X7eaMsesydQ774CgGcDGkc6?usp=sharing\"\n",
        "share_id = \"1GhVNBPq20X7eaMsesydQ774CgGcDGkc6\"\n",
        "\n",
        "if not (Path(local_path) / 'saved_model').exists():\n",
        "    !pip install --upgrade gdown\n",
        "    !gdown --folder {share_id}\n",
        "\n",
        "# create default frame\n",
        "!mkdir -p frames"
      ]
    },
    {
      "cell_type": "code",
      "execution_count": null,
      "metadata": {
        "id": "OtxyVOd7M4Xi"
      },
      "outputs": [],
      "source": [
        "# https://drive.google.com/drive/folders/1q8110-qp225asX3DQvZnfLfJPkCHmDpy?usp=sharing\n",
        "share_id = \"1q8110-qp225asX3DQvZnfLfJPkCHmDpy\"\n",
        "if not (Path(local_path) / 'pretrained_models').exists():\n",
        "    !pip install --upgrade gdown\n",
        "    !gdown --folder {share_id}\n",
        "clear_output()\n",
        "print('[1;32mDone! ✓')"
      ]
    },
    {
      "cell_type": "code",
      "execution_count": 45,
      "metadata": {
        "cellView": "form",
        "id": "toGdeAXf6NdM"
      },
      "outputs": [],
      "source": [
        "#@markdown # 2. Setup Interpolation\n",
        "\n",
        "#@markdown Specify the directory containing your video frames with the `frames_dir` parameter.\n",
        "\n",
        "frames_dir = \"/content/drive/MyDrive/output-comfyui/0\" #@param{'type':'string'}\n",
        "\n",
        "#@markdown Directory where interpolated video will be saved.\n",
        "\n",
        "output_path = \"/content/drive/MyDrive/output-comfyui\" #@param{'type':'string'}\n",
        "\n",
        "#@markdown A single pass of the interpolation procedure adds a frame between each contiguous pair of frames in `frames_dir`.\n",
        "\n",
        "# If you start with $n$ frames in `frames_dir` and set `recursive_interpolation_passes` to $k$, your total number of frames after interpolation will be: 2^k (n-1) -1\n",
        "recursive_interpolation_passes = 0 #@param {type: \"number\"}\n",
        "\n",
        "# Frame rate of output video\n",
        "output_video_fps = 30 #@param {type: \"number\"}\n",
        "\n",
        "recursion_times = 6 #@param {type:\"slider\", min:1, max:10, step:1}\n",
        "\n",
        "model_folder = \"./pretrained_models/film_net/Style/saved_model\" # @param [\"./saved_model\", \"./pretrained_models/film_net/L1/saved_model\", \"./pretrained_models/film_net/Style/saved_model\", \"./pretrained_models/film_net/VGG/saved_model\"]\n",
        "\n",
        "#@markdown Check this box to generate a video output. If no output video will be generated, the FPS option can be ignored.\n",
        "output_video = True #@param{'type':'boolean'}\n"
      ]
    },
    {
      "cell_type": "code",
      "execution_count": 46,
      "metadata": {
        "cellView": "form",
        "colab": {
          "base_uri": "https://localhost:8080/"
        },
        "id": "HBMnARHIuGiq",
        "outputId": "0b4dceb6-02e9-43da-d4b1-fffc70ea6129"
      },
      "outputs": [
        {
          "name": "stderr",
          "output_type": "stream",
          "text": [
            "\u001b[32m2024-02-03 19:36:38.838\u001b[0m | \u001b[1mINFO    \u001b[0m | \u001b[36m__main__\u001b[0m:\u001b[36m<cell line: 19>\u001b[0m:\u001b[36m19\u001b[0m - \u001b[1mInterpolation complete.\u001b[0m\n"
          ]
        },
        {
          "name": "stdout",
          "output_type": "stream",
          "text": [
            "Video saved at /content/drive/MyDrive/output-comfyui/interpolated_0.mp4\n"
          ]
        }
      ],
      "source": [
        "#@markdown # 3. Interpolate and create video!\n",
        "#@markdown Results will be saved in a output_path \"interpolated_*.mp4\"\n",
        "\n",
        "import os.path\n",
        "from loguru import logger\n",
        "\n",
        "logger.info(\"Beginning interpolation...\")\n",
        "\n",
        "if output_video:\n",
        "\n",
        "    #  --fps {output_video_fps} \\\n",
        "    #  --times_to_interpolate $recursion_times \\\n",
        "\n",
        "    !python -m frame_interpolation.eval.interpolator_cli \\\n",
        "      --model_path {model_folder} \\\n",
        "      --pattern {frames_dir} \\\n",
        "      --fps {output_video_fps} \\\n",
        "      --output_video\n",
        "\n",
        "else:\n",
        "    !python -m frame_interpolation.eval.interpolator_cli \\\n",
        "      --model_path {model_folder} \\\n",
        "      --pattern {frames_dir} \\\n",
        "\n",
        "clear_output()\n",
        "logger.info(\"Interpolation complete.\")\n",
        "\n",
        "!cp {frames_dir}/interpolated.mp4 {output_path}\n",
        "ip_id = return__folderName(frames_dir)\n",
        "!mv {output_path}/interpolated.mp4 {output_path}/interpolated_{ip_id}.mp4\n",
        "#!mv {output_path}/interpolated.mp4 {output_path}/interpolated_{ip_id}_{recursion_times}.mp4\n",
        "\n",
        "if not os.path.exists(f\"{output_path}/interpolated_{ip_id}.mp4\"):\n",
        "#if not os.path.exists(f\"{output_path}/interpolated_{ip_id}_{recursion_times}.mp4\"):\n",
        "    raise Exception(\"Expected output file does not exist.\")\n",
        "else:\n",
        "    print(f\"Video saved at {output_path}/interpolated_{ip_id}.mp4\")"
      ]
    },
    {
      "cell_type": "markdown",
      "metadata": {
        "id": "XVYQeaF9askL"
      },
      "source": [
        "```\n",
        "MIT License\n",
        "\n",
        "Copyright (c) 2022 David Marx\n",
        "\n",
        "Permission is hereby granted, free of charge, to any person obtaining a copy\n",
        "of this software and associated documentation files (the \"Software\"), to deal\n",
        "in the Software without restriction, including without limitation the rights\n",
        "to use, copy, modify, merge, publish, distribute, sublicense, and/or sell\n",
        "copies of the Software, and to permit persons to whom the Software is\n",
        "furnished to do so, subject to the following conditions:\n",
        "\n",
        "The above copyright notice and this permission notice shall be included in all\n",
        "copies or substantial portions of the Software.\n",
        "\n",
        "THE SOFTWARE IS PROVIDED \"AS IS\", WITHOUT WARRANTY OF ANY KIND, EXPRESS OR\n",
        "IMPLIED, INCLUDING BUT NOT LIMITED TO THE WARRANTIES OF MERCHANTABILITY,\n",
        "FITNESS FOR A PARTICULAR PURPOSE AND NONINFRINGEMENT. IN NO EVENT SHALL THE\n",
        "AUTHORS OR COPYRIGHT HOLDERS BE LIABLE FOR ANY CLAIM, DAMAGES OR OTHER\n",
        "LIABILITY, WHETHER IN AN ACTION OF CONTRACT, TORT OR OTHERWISE, ARISING FROM,\n",
        "OUT OF OR IN CONNECTION WITH THE SOFTWARE OR THE USE OR OTHER DEALINGS IN THE\n",
        "SOFTWARE.\n",
        "```"
      ]
    }
  ],
  "metadata": {
    "accelerator": "GPU",
    "colab": {
      "include_colab_link": true,
      "name": "Video-to-Video FiLM: Frame Interpolation for Large Motion",
      "provenance": []
    },
    "kernelspec": {
      "display_name": "Python 3",
      "name": "python3"
    },
    "language_info": {
      "name": "python"
    }
  },
  "nbformat": 4,
  "nbformat_minor": 0
}
