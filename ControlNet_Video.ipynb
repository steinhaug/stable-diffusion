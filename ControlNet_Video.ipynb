{
  "nbformat": 4,
  "nbformat_minor": 0,
  "metadata": {
    "colab": {
      "provenance": [],
      "machine_shape": "hm",
      "authorship_tag": "ABX9TyMPAPnn8dQZe70r4mszUi05",
      "include_colab_link": true
    },
    "kernelspec": {
      "name": "python3",
      "display_name": "Python 3"
    },
    "language_info": {
      "name": "python"
    },
    "gpuClass": "standard",
    "accelerator": "GPU"
  },
  "cells": [
    {
      "cell_type": "markdown",
      "metadata": {
        "id": "view-in-github",
        "colab_type": "text"
      },
      "source": [
        "<a href=\"https://colab.research.google.com/github/steinhaug/stable-diffusion/blob/main/ControlNet_Video.ipynb\" target=\"_parent\"><img src=\"https://colab.research.google.com/assets/colab-badge.svg\" alt=\"Open In Colab\"/></a>"
      ]
    },
    {
      "cell_type": "code",
      "source": [
        "#@title Setup environment\n",
        "from IPython.display import clear_output\n",
        "%cd /content\n",
        "!apt-get update && apt-get install -y libsndfile1 ffmpeg\n",
        "!pip3 install tensorflow==2.11.0\n",
        "!pip3 install moviepy\n",
        "!pip3 install imageio==2.4.1\n",
        "!pip3 install --upgrade imageio-ffmpeg\n",
        "!pip3 install gradio==3.20.0\n",
        "!pip install diffusers\n",
        "!pip install triton\n",
        "\n",
        "# controlnet-folders.zip\n",
        "!gdown --fuzzy \"https://drive.google.com/file/d/12lR0Cq8eU00JHiAm8Nfir_-P4eYLDu3S/view?usp=share_link\"\n",
        "clear_output();print('\u001b[1;32mDone!');\n"
      ],
      "metadata": {
        "id": "yeRDy-V8PhLQ",
        "cellView": "form"
      },
      "execution_count": null,
      "outputs": []
    },
    {
      "cell_type": "code",
      "source": [
        "#@title 1/3 Setup ControlNet\n",
        "%cd /content\n",
        "!git clone https://huggingface.co/spaces/hysts/ControlNet\n",
        "#!pip3 install -r /content/ControlNet/requirements.txt\n",
        "\n",
        "!cp /content/controlnet-folders.zip /content/ControlNet/ControlNet\n",
        "%cd /content/ControlNet/ControlNet\n",
        "!unzip controlnet-folders.zip\n",
        "!mv /content/ControlNet/ControlNet/controlnet-folders.zip /content/ControlNet/controlnet-folders.zip\n",
        "%cd /content/ControlNet\n",
        "!unzip controlnet-folders.zip\n",
        "rm controlnet-folders.zip\n",
        "\n",
        "!pip install accelerate\n",
        "\n",
        "clear_output()\n",
        "print('\u001b[1;32mDone!')  "
      ],
      "metadata": {
        "cellView": "form",
        "id": "T4b8gmjqLf50"
      },
      "execution_count": null,
      "outputs": []
    },
    {
      "cell_type": "code",
      "source": [
        "#@title 2/3 Setup ControlNet-Video\n",
        "%cd /content\n",
        "!git clone https://huggingface.co/spaces/fffiloni/ControlNet-Video\n",
        "!pip install einops==0.6.0\n",
        "!pip install pytorch-lightning==1.9.0\n",
        "!pip install timm==0.6.12\n",
        "!pip install addict==2.4.0\n",
        "!pip install yapf==0.32.0\n",
        "!pip install omegaconf==2.3.0\n",
        "!pip install -r /content/ControlNet-Video/requirements.txt\n",
        "\n",
        "!pip3 install imageio==2.4.1\n",
        "!pip install imageio-ffmpeg\n",
        "\n",
        "!cp /content/controlnet-folders.zip /content/ControlNet-Video/ControlNet\n",
        "%cd /content/ControlNet-Video/ControlNet\n",
        "!unzip controlnet-folders.zip\n",
        "!mv /content/ControlNet-Video/ControlNet/controlnet-folders.zip /content/ControlNet-Video/controlnet-folders.zip\n",
        "%cd /content/ControlNet-Video\n",
        "!unzip controlnet-folders.zip\n",
        "rm controlnet-folders.zip\n",
        "\n",
        "clear_output()\n",
        "print('\u001b[1;32mDone!')  "
      ],
      "metadata": {
        "cellView": "form",
        "id": "dzI2mh3wb4aB"
      },
      "execution_count": null,
      "outputs": []
    },
    {
      "cell_type": "code",
      "source": [
        "#@title 3/3 Downloading models for ControlNet and ControlNet-Video\n",
        "\n",
        "%cd /content/ControlNet/ControlNet/annotator/ckpts\n",
        "!wget https://huggingface.co/lllyasviel/ControlNet/resolve/main/annotator/ckpts/body_pose_model.pth -O body_pose_model.pth\n",
        "!wget https://huggingface.co/lllyasviel/ControlNet/resolve/main/annotator/ckpts/dpt_hybrid-midas-501f0c75.pt -O dpt_hybrid-midas-501f0c75.pt\n",
        "!wget https://huggingface.co/lllyasviel/ControlNet/resolve/main/annotator/ckpts/hand_pose_model.pth -O hand_pose_model.pth\n",
        "!wget https://huggingface.co/lllyasviel/ControlNet/resolve/main/annotator/ckpts/mlsd_large_512_fp32.pth -O mlsd_large_512_fp32.pth\n",
        "!wget https://huggingface.co/lllyasviel/ControlNet/resolve/main/annotator/ckpts/mlsd_tiny_512_fp32.pth -O mlsd_tiny_512_fp32.pth\n",
        "!wget https://huggingface.co/lllyasviel/ControlNet/resolve/main/annotator/ckpts/network-bsds500.pth -O network-bsds500.pth\n",
        "!wget https://huggingface.co/lllyasviel/ControlNet/resolve/main/annotator/ckpts/upernet_global_small.pth -O upernet_global_small.pth\n",
        "!cp -r /content/ControlNet/ControlNet/annotator/ckpts/* /content/ControlNet/annotator/ckpts\n",
        "!cp -r /content/ControlNet/ControlNet/annotator/ckpts/* /content/ControlNet-Video/annotator/ckpts\n",
        "!cp -r /content/ControlNet/ControlNet/annotator/ckpts/* /content/ControlNet-Video/ControlNet/annotator/ckpts\n",
        "\n",
        "%cd /content\n",
        "clear_output();print('\u001b[1;32mDone!');"
      ],
      "metadata": {
        "cellView": "form",
        "id": "Tnllr724uEgW"
      },
      "execution_count": null,
      "outputs": []
    },
    {
      "cell_type": "code",
      "source": [
        "#@title Launch ControlNet\n",
        "#@markdown Todo: You need to manually edit app.py, add \"share=True\" in the lauch() call in last line<br>\n",
        "#@markdown Note: This is for images only, demo for all models\n",
        "%cd /content/ControlNet\n",
        "!python3 app.py"
      ],
      "metadata": {
        "id": "UTb1e8YnSc1W",
        "cellView": "form"
      },
      "execution_count": null,
      "outputs": []
    },
    {
      "cell_type": "code",
      "source": [
        "#@title Launch ControlNet-Video\n",
        "#@markdown Todo: You need to manually edit app.py, add \"share=True\" in the lauch() call in last line<br>\n",
        "#@markdown todo: All images are saved into the main folder, should be subfolder.<br>  \n",
        "\n",
        "%cd /content/ControlNet-Video\n",
        "!python app.py"
      ],
      "metadata": {
        "id": "S6URKeTRYZFl",
        "cellView": "form"
      },
      "execution_count": null,
      "outputs": []
    }
  ]
}