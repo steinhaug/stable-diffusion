{
  "nbformat": 4,
  "nbformat_minor": 0,
  "metadata": {
    "colab": {
      "provenance": [],
      "machine_shape": "hm",
      "authorship_tag": "ABX9TyP5aHcSxNFBxn2KhVn7BW0D",
      "include_colab_link": true
    },
    "kernelspec": {
      "name": "python3",
      "display_name": "Python 3"
    },
    "language_info": {
      "name": "python"
    },
    "gpuClass": "standard",
    "accelerator": "GPU"
  },
  "cells": [
    {
      "cell_type": "markdown",
      "metadata": {
        "id": "view-in-github",
        "colab_type": "text"
      },
      "source": [
        "<a href=\"https://colab.research.google.com/github/steinhaug/stable-diffusion/blob/main/ControlNet_Video.ipynb\" target=\"_parent\"><img src=\"https://colab.research.google.com/assets/colab-badge.svg\" alt=\"Open In Colab\"/></a>"
      ]
    },
    {
      "cell_type": "code",
      "source": [
        "#@title Setup environment\n",
        "from IPython.display import clear_output\n",
        "%cd /content\n",
        "!apt-get update && apt-get install -y libsndfile1 ffmpeg\n",
        "!pip3 install tensorflow==2.11.0\n",
        "!pip3 install moviepy\n",
        "!pip3 install imageio==2.4.1\n",
        "!pip3 install --upgrade imageio-ffmpeg\n",
        "!pip3 install gradio==3.20.0\n",
        "!pip install diffusers\n",
        "!pip install triton\n",
        "\n",
        "# controlnet-folders.zip\n",
        "!gdown --fuzzy \"https://drive.google.com/file/d/12lR0Cq8eU00JHiAm8Nfir_-P4eYLDu3S/view?usp=share_link\"\n",
        "clear_output();print('\u001b[1;32mDone!');\n"
      ],
      "metadata": {
        "id": "yeRDy-V8PhLQ",
        "colab": {
          "base_uri": "https://localhost:8080/"
        },
        "cellView": "form",
        "outputId": "03e576b2-f46e-4428-83db-fbe5a7a192ed"
      },
      "execution_count": 1,
      "outputs": [
        {
          "output_type": "stream",
          "name": "stdout",
          "text": [
            "\u001b[1;32mDone!\n"
          ]
        }
      ]
    },
    {
      "cell_type": "code",
      "source": [
        "#@title 1/3 Setup ControlNet\n",
        "%cd /content\n",
        "!git clone https://huggingface.co/spaces/hysts/ControlNet\n",
        "#!pip3 install -r /content/ControlNet/requirements.txt\n",
        "\n",
        "!cp /content/controlnet-folders.zip /content/ControlNet/ControlNet\n",
        "%cd /content/ControlNet/ControlNet\n",
        "!unzip controlnet-folders.zip\n",
        "!mv /content/ControlNet/ControlNet/controlnet-folders.zip /content/ControlNet/controlnet-folders.zip\n",
        "%cd /content/ControlNet\n",
        "!unzip controlnet-folders.zip\n",
        "rm controlnet-folders.zip\n",
        "\n",
        "clear_output()\n",
        "print('\u001b[1;32mDone!')  "
      ],
      "metadata": {
        "colab": {
          "base_uri": "https://localhost:8080/"
        },
        "cellView": "form",
        "id": "T4b8gmjqLf50",
        "outputId": "a8173842-5728-44a6-eaf9-f310288a7eae"
      },
      "execution_count": 2,
      "outputs": [
        {
          "output_type": "stream",
          "name": "stdout",
          "text": [
            "\u001b[1;32mDone!\n"
          ]
        }
      ]
    },
    {
      "cell_type": "code",
      "source": [
        "#@title 2/3 Setup ControlNet-Video\n",
        "%cd /content\n",
        "!git clone https://huggingface.co/spaces/fffiloni/ControlNet-Video\n",
        "!pip install einops==0.6.0\n",
        "!pip install pytorch-lightning==1.9.0\n",
        "!pip install timm==0.6.12\n",
        "!pip install addict==2.4.0\n",
        "!pip install yapf==0.32.0\n",
        "!pip install omegaconf==2.3.0\n",
        "!pip install -r /content/ControlNet-Video/requirements.txt\n",
        "\n",
        "!pip3 install imageio==2.4.1\n",
        "!pip install imageio-ffmpeg\n",
        "\n",
        "!cp /content/controlnet-folders.zip /content/ControlNet-Video/ControlNet\n",
        "%cd /content/ControlNet-Video/ControlNet\n",
        "!unzip controlnet-folders.zip\n",
        "!mv /content/ControlNet-Video/ControlNet/controlnet-folders.zip /content/ControlNet-Video/controlnet-folders.zip\n",
        "%cd /content/ControlNet-Video\n",
        "!unzip controlnet-folders.zip\n",
        "rm controlnet-folders.zip\n",
        "\n",
        "clear_output()\n",
        "print('\u001b[1;32mDone!')  "
      ],
      "metadata": {
        "colab": {
          "base_uri": "https://localhost:8080/"
        },
        "cellView": "form",
        "id": "dzI2mh3wb4aB",
        "outputId": "7ca44e9b-ab22-4ea7-c050-900768d7a217"
      },
      "execution_count": 3,
      "outputs": [
        {
          "output_type": "stream",
          "name": "stdout",
          "text": [
            "\u001b[1;32mDone!\n"
          ]
        }
      ]
    },
    {
      "cell_type": "code",
      "source": [
        "#@title 3/3 Downloading models for ControlNet and ControlNet-Video\n",
        "\n",
        "%cd /content/ControlNet/ControlNet/annotator/ckpts\n",
        "!wget https://huggingface.co/lllyasviel/ControlNet/resolve/main/annotator/ckpts/body_pose_model.pth -O body_pose_model.pth\n",
        "!wget https://huggingface.co/lllyasviel/ControlNet/resolve/main/annotator/ckpts/dpt_hybrid-midas-501f0c75.pt -O dpt_hybrid-midas-501f0c75.pt\n",
        "!wget https://huggingface.co/lllyasviel/ControlNet/resolve/main/annotator/ckpts/hand_pose_model.pth -O hand_pose_model.pth\n",
        "!wget https://huggingface.co/lllyasviel/ControlNet/resolve/main/annotator/ckpts/mlsd_large_512_fp32.pth -O mlsd_large_512_fp32.pth\n",
        "!wget https://huggingface.co/lllyasviel/ControlNet/resolve/main/annotator/ckpts/mlsd_tiny_512_fp32.pth -O mlsd_tiny_512_fp32.pth\n",
        "!wget https://huggingface.co/lllyasviel/ControlNet/resolve/main/annotator/ckpts/network-bsds500.pth -O network-bsds500.pth\n",
        "!wget https://huggingface.co/lllyasviel/ControlNet/resolve/main/annotator/ckpts/upernet_global_small.pth -O upernet_global_small.pth\n",
        "!cp -r /content/ControlNet/ControlNet/annotator/ckpts/* /content/ControlNet/annotator/ckpts\n",
        "!cp -r /content/ControlNet/ControlNet/annotator/ckpts/* /content/ControlNet-Video/annotator/ckpts\n",
        "!cp -r /content/ControlNet/ControlNet/annotator/ckpts/* /content/ControlNet-Video/ControlNet/annotator/ckpts\n",
        "\n",
        "%cd /content\n",
        "clear_output();print('\u001b[1;32mDone!');"
      ],
      "metadata": {
        "cellView": "form",
        "id": "Tnllr724uEgW"
      },
      "execution_count": null,
      "outputs": []
    },
    {
      "cell_type": "code",
      "source": [
        "%cd /content/ControlNet\n",
        "#!python3 app.py\n",
        "!python3 app.py\n"
      ],
      "metadata": {
        "colab": {
          "base_uri": "https://localhost:8080/"
        },
        "id": "UTb1e8YnSc1W",
        "outputId": "445ee87a-d67a-4c05-a11d-bff409c37a69"
      },
      "execution_count": null,
      "outputs": [
        {
          "output_type": "stream",
          "name": "stdout",
          "text": [
            "/content/ControlNet\n",
            "2023-03-14 07:40:00.336836: I tensorflow/core/platform/cpu_feature_guard.cc:193] This TensorFlow binary is optimized with oneAPI Deep Neural Network Library (oneDNN) to use the following CPU instructions in performance-critical operations:  AVX2 FMA\n",
            "To enable them in other operations, rebuild TensorFlow with the appropriate compiler flags.\n",
            "2023-03-14 07:40:01.411149: W tensorflow/compiler/xla/stream_executor/platform/default/dso_loader.cc:64] Could not load dynamic library 'libnvinfer.so.7'; dlerror: libnvinfer.so.7: cannot open shared object file: No such file or directory; LD_LIBRARY_PATH: /usr/local/lib/python3.9/dist-packages/cv2/../../lib64:/usr/lib64-nvidia\n",
            "2023-03-14 07:40:01.411281: W tensorflow/compiler/xla/stream_executor/platform/default/dso_loader.cc:64] Could not load dynamic library 'libnvinfer_plugin.so.7'; dlerror: libnvinfer_plugin.so.7: cannot open shared object file: No such file or directory; LD_LIBRARY_PATH: /usr/local/lib/python3.9/dist-packages/cv2/../../lib64:/usr/lib64-nvidia\n",
            "2023-03-14 07:40:01.411301: W tensorflow/compiler/tf2tensorrt/utils/py_utils.cc:38] TF-TRT Warning: Cannot dlopen some TensorRT libraries. If you would like to use Nvidia GPU with TensorRT, please make sure the missing libraries mentioned above are installed properly.\n"
          ]
        }
      ]
    },
    {
      "cell_type": "code",
      "source": [
        "#@markdown todo: All images are saved into the main folder, should be subfolder.<br>  \n",
        "#@markdown todo: \n",
        "\n",
        "%cd /content/ControlNet-Video\n",
        "\n",
        "!python app.py"
      ],
      "metadata": {
        "id": "S6URKeTRYZFl"
      },
      "execution_count": null,
      "outputs": []
    }
  ]
}