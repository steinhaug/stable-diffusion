{
  "nbformat": 4,
  "nbformat_minor": 0,
  "metadata": {
    "colab": {
      "provenance": [],
      "machine_shape": "hm",
      "authorship_tag": "ABX9TyN6Uyh713v807JZ6LgYOUa3",
      "include_colab_link": true
    },
    "kernelspec": {
      "name": "python3",
      "display_name": "Python 3"
    },
    "language_info": {
      "name": "python"
    },
    "gpuClass": "standard",
    "accelerator": "GPU"
  },
  "cells": [
    {
      "cell_type": "markdown",
      "metadata": {
        "id": "view-in-github",
        "colab_type": "text"
      },
      "source": [
        "<a href=\"https://colab.research.google.com/github/steinhaug/stable-diffusion/blob/main/ControlNet_Video.ipynb\" target=\"_parent\"><img src=\"https://colab.research.google.com/assets/colab-badge.svg\" alt=\"Open In Colab\"/></a>"
      ]
    },
    {
      "cell_type": "code",
      "source": [
        "#@title Setup environment\n",
        "from IPython.display import clear_output\n",
        "\n",
        "!apt-get update && apt-get install -y libsndfile1 ffmpeg\n",
        "!pip3 install tensorflow==2.11.0\n",
        "!pip3 install moviepy\n",
        "!pip3 install imageio==2.4.1\n",
        "!pip3 install --upgrade imageio-ffmpeg\n",
        "!pip3 install gradio==3.20.0\n",
        "!pip install diffusers\n",
        "\n",
        "clear_output();print('\u001b[1;32mDone!');"
      ],
      "metadata": {
        "id": "yeRDy-V8PhLQ",
        "outputId": "03e576b2-f46e-4428-83db-fbe5a7a192ed",
        "colab": {
          "base_uri": "https://localhost:8080/"
        }
      },
      "execution_count": 1,
      "outputs": [
        {
          "output_type": "stream",
          "name": "stdout",
          "text": [
            "\u001b[1;32mDone!\n"
          ]
        }
      ]
    },
    {
      "cell_type": "code",
      "source": [
        "%cd /content\n",
        "!gdown --fuzzy \"https://drive.google.com/file/d/1aCjhIVp_KOO3Cr3ebpliUezZ6NcHKEjZ/view?usp=share_link\"\n",
        "!gdown --fuzzy \"https://drive.google.com/file/d/1h9KDlPcDU3g3FMHppM0QESy4enNm0CaI/view?usp=share_link\"\n",
        "!gdown --fuzzy \"https://drive.google.com/file/d/1vNH8uwD7-Q7V7Km1oadQMU4WplZpAJOA/view?usp=share_link\"\n",
        "clear_output();print('\u001b[1;32mDone!');\n"
      ],
      "metadata": {
        "id": "hn9PnHVDt0u8"
      },
      "execution_count": null,
      "outputs": []
    },
    {
      "cell_type": "code",
      "source": [
        "%cd /content\n"
      ],
      "metadata": {
        "id": "TXwmgVofu5KE",
        "outputId": "24d6b9ef-7cae-48ea-f856-134e13c6a55c",
        "colab": {
          "base_uri": "https://localhost:8080/"
        }
      },
      "execution_count": 30,
      "outputs": [
        {
          "output_type": "stream",
          "name": "stdout",
          "text": [
            "\u001b[1;32mDone!\n"
          ]
        }
      ]
    },
    {
      "cell_type": "code",
      "source": [
        "!cp /content/cldm.zip /content/ControlNet-Video/ControlNet\n",
        "%cd /content/ControlNet-Video/ControlNet\n",
        "!unzip cldm.zip\n",
        "!mv /content/ControlNet-Video/ControlNet/cldm.zip /content/ControlNet-Video/cldm.zip\n",
        "%cd /content/ControlNet-Video\n",
        "!unzip cldm.zip\n",
        "clear_output();print('\u001b[1;32mDone!');"
      ],
      "metadata": {
        "id": "Tnllr724uEgW"
      },
      "execution_count": null,
      "outputs": []
    },
    {
      "cell_type": "code",
      "source": [
        "!cp /content/ldm.zip /content/ControlNet-Video/ControlNet\n",
        "%cd /content/ControlNet-Video/ControlNet\n",
        "!unzip ldm.zip\n",
        "!mv /content/ControlNet-Video/ControlNet/ldm.zip /content/ControlNet-Video/ldm.zip\n",
        "%cd /content/ControlNet-Video\n",
        "!unzip ldm.zip\n",
        "clear_output();print('\u001b[1;32mDone!');"
      ],
      "metadata": {
        "id": "UGFUL3QHvAMg",
        "outputId": "45e0d4cc-304b-477c-a63e-5aed5016554a",
        "colab": {
          "base_uri": "https://localhost:8080/"
        }
      },
      "execution_count": 31,
      "outputs": [
        {
          "output_type": "stream",
          "name": "stdout",
          "text": [
            "\u001b[1;32mDone!\n"
          ]
        }
      ]
    },
    {
      "cell_type": "code",
      "source": [
        "!wget https://raw.githubusercontent.com/lllyasviel/ControlNet/f4748e3630d8141d7765e2bd9b1e348f47847707/share.py -O /content/ControlNet-Video/ControlNet/share.py\n",
        "!wget https://raw.githubusercontent.com/lllyasviel/ControlNet/f4748e3630d8141d7765e2bd9b1e348f47847707/share.py -O /content/ControlNet-Video/share.py\n"
      ],
      "metadata": {
        "id": "l0jizRQ-vouX",
        "outputId": "424bff06-0f4f-4ef6-e9fd-66cd82832eaf",
        "colab": {
          "base_uri": "https://localhost:8080/"
        }
      },
      "execution_count": 33,
      "outputs": [
        {
          "output_type": "stream",
          "name": "stdout",
          "text": [
            "--2023-03-14 06:12:03--  https://raw.githubusercontent.com/lllyasviel/ControlNet/f4748e3630d8141d7765e2bd9b1e348f47847707/share.py\n",
            "Resolving raw.githubusercontent.com (raw.githubusercontent.com)... 185.199.111.133, 185.199.108.133, 185.199.109.133, ...\n",
            "Connecting to raw.githubusercontent.com (raw.githubusercontent.com)|185.199.111.133|:443... connected.\n",
            "HTTP request sent, awaiting response... 200 OK\n",
            "Length: 155 [text/plain]\n",
            "Saving to: ‘/content/ControlNet-Video/ControlNet/share.py’\n",
            "\n",
            "/content/ControlNet 100%[===================>]     155  --.-KB/s    in 0s      \n",
            "\n",
            "2023-03-14 06:12:04 (9.96 MB/s) - ‘/content/ControlNet-Video/ControlNet/share.py’ saved [155/155]\n",
            "\n",
            "--2023-03-14 06:12:04--  https://raw.githubusercontent.com/lllyasviel/ControlNet/f4748e3630d8141d7765e2bd9b1e348f47847707/share.py\n",
            "Resolving raw.githubusercontent.com (raw.githubusercontent.com)... 185.199.108.133, 185.199.109.133, 185.199.110.133, ...\n",
            "Connecting to raw.githubusercontent.com (raw.githubusercontent.com)|185.199.108.133|:443... connected.\n",
            "HTTP request sent, awaiting response... 200 OK\n",
            "Length: 155 [text/plain]\n",
            "Saving to: ‘/content/ControlNet-Video/share.py’\n",
            "\n",
            "/content/ControlNet 100%[===================>]     155  --.-KB/s    in 0s      \n",
            "\n",
            "2023-03-14 06:12:04 (11.6 MB/s) - ‘/content/ControlNet-Video/share.py’ saved [155/155]\n",
            "\n"
          ]
        }
      ]
    },
    {
      "cell_type": "code",
      "source": [
        "#@title Setup ControlNet\n",
        "%cd /content\n",
        "!git clone https://huggingface.co/spaces/hysts/ControlNet\n",
        "#!pip3 install -r /content/ControlNet/requirements.txt\n",
        "\n",
        "%cd /content/ControlNet\n",
        "!rm -Rf /content/ControlNet/ControlNet/\n",
        "!mkdir /content/ControlNet/ControlNet\n",
        "!cp /content/annotator.zip /content/ControlNet/ControlNet\n",
        "%cd /content/ControlNet/ControlNet\n",
        "!unzip annotator.zip\n",
        "!wget https://raw.githubusercontent.com/lllyasviel/ControlNet/main/config.py -O /content/ControlNet/ControlNet/config.py\n",
        "\n",
        "# DUPLICATING FOLDER\n",
        "#!mkdir /content/ControlNet/annotator\n",
        "#!cp -r /content/ControlNet/ControlNet/annotator/ckpts /content/ControlNet/annotator\n",
        "\n",
        "clear_output()\n",
        "print('\u001b[1;32mDone!')  "
      ],
      "metadata": {
        "colab": {
          "base_uri": "https://localhost:8080/"
        },
        "cellView": "form",
        "id": "T4b8gmjqLf50",
        "outputId": "a8173842-5728-44a6-eaf9-f310288a7eae"
      },
      "execution_count": 2,
      "outputs": [
        {
          "output_type": "stream",
          "name": "stdout",
          "text": [
            "\u001b[1;32mDone!\n"
          ]
        }
      ]
    },
    {
      "cell_type": "code",
      "source": [
        "%cd /content/ControlNet\n",
        "#!python3 app.py\n",
        "!python3 app_canny.py\n"
      ],
      "metadata": {
        "id": "UTb1e8YnSc1W"
      },
      "execution_count": null,
      "outputs": []
    },
    {
      "cell_type": "code",
      "source": [
        "#@title Setup ControlNet-Video\n",
        "%cd /content\n",
        "!git clone https://huggingface.co/spaces/fffiloni/ControlNet-Video\n",
        "!pip install einops==0.6.0\n",
        "!pip install pytorch-lightning==1.9.0\n",
        "!pip install timm==0.6.12\n",
        "!pip install addict==2.4.0\n",
        "!pip install yapf==0.32.0\n",
        "!pip install omegaconf==2.3.0\n",
        "!pip install -r /content/ControlNet-Video/requirements.txt\n",
        "\n",
        "%cd /content/ControlNet-Video\n",
        "!rm -Rf /content/ControlNet-Video/ControlNet/\n",
        "!mkdir /content/ControlNet-Video/ControlNet\n",
        "!cp /content/annotator.zip /content/ControlNet-Video/ControlNet\n",
        "%cd /content/ControlNet-Video/ControlNet\n",
        "!unzip annotator.zip\n",
        "!wget https://raw.githubusercontent.com/lllyasviel/ControlNet/main/config.py -O /content/ControlNet-Video/ControlNet/config.py\n",
        "\n",
        "clear_output()\n",
        "print('\u001b[1;32mDone!')  "
      ],
      "metadata": {
        "colab": {
          "base_uri": "https://localhost:8080/"
        },
        "id": "dzI2mh3wb4aB",
        "outputId": "7ca44e9b-ab22-4ea7-c050-900768d7a217"
      },
      "execution_count": 3,
      "outputs": [
        {
          "output_type": "stream",
          "name": "stdout",
          "text": [
            "\u001b[1;32mDone!\n"
          ]
        }
      ]
    },
    {
      "cell_type": "code",
      "source": [
        "# DUPLICATING FOLDER\n",
        "!rm -Rf /content/ControlNet-Video/annotator\n",
        "!cp -r /content/ControlNet-Video/ControlNet/annotator /content/ControlNet-Video"
      ],
      "metadata": {
        "id": "SUcAHXklsQOi"
      },
      "execution_count": 23,
      "outputs": []
    },
    {
      "cell_type": "code",
      "source": [
        "#!pip install -r /content/ControlNet-Video/requirements.txt\n",
        "\n",
        "clear_output();print('\u001b[1;32mDone!');"
      ],
      "metadata": {
        "id": "WHOjx6eYshMr",
        "outputId": "9eaf8017-24a4-4787-bba7-301c566d0ece",
        "colab": {
          "base_uri": "https://localhost:8080/"
        }
      },
      "execution_count": 35,
      "outputs": [
        {
          "output_type": "stream",
          "name": "stdout",
          "text": [
            "\u001b[1;32mDone!\n"
          ]
        }
      ]
    },
    {
      "cell_type": "code",
      "source": [
        "%cd /content/ControlNet-Video\n",
        "\n",
        "!python app.py"
      ],
      "metadata": {
        "colab": {
          "base_uri": "https://localhost:8080/"
        },
        "id": "S6URKeTRYZFl",
        "outputId": "5e9f65ab-d231-4aeb-f26d-73b145555bc1"
      },
      "execution_count": 34,
      "outputs": [
        {
          "output_type": "stream",
          "name": "stdout",
          "text": [
            "/content/ControlNet-Video\n",
            "cuda\n",
            "cuda\n",
            "Use Checkpoint: False\n",
            "Checkpoint Number: [0, 0, 0, 0]\n",
            "Use global window for all blocks in stage3\n",
            "load checkpoint from local path: annotator/ckpts/upernet_global_small.pth\n",
            "Traceback (most recent call last):\n",
            "  File \"/content/ControlNet-Video/app.py\", line 37, in <module>\n",
            "    from model import (DEFAULT_BASE_MODEL_FILENAME, DEFAULT_BASE_MODEL_REPO,\n",
            "  File \"/content/ControlNet-Video/model.py\", line 30, in <module>\n",
            "    from share import *\n",
            "  File \"/content/ControlNet-Video/share.py\", line 2, in <module>\n",
            "    from cldm.hack import disable_verbosity, enable_sliced_attention\n",
            "  File \"/content/ControlNet-Video/cldm/hack.py\", line 4, in <module>\n",
            "    import ldm.modules.encoders.modules\n",
            "  File \"/content/ControlNet-Video/ldm/modules/encoders/modules.py\", line 5, in <module>\n",
            "    from transformers import T5Tokenizer, T5EncoderModel, CLIPTokenizer, CLIPTextModel\n",
            "ModuleNotFoundError: No module named 'transformers'\n"
          ]
        }
      ]
    }
  ]
}