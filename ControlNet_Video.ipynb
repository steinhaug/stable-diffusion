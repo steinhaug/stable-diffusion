{
  "nbformat": 4,
  "nbformat_minor": 0,
  "metadata": {
    "colab": {
      "provenance": [],
      "machine_shape": "hm",
      "authorship_tag": "ABX9TyNLY0kDMt3zNk1UyFq+8bNs",
      "include_colab_link": true
    },
    "kernelspec": {
      "name": "python3",
      "display_name": "Python 3"
    },
    "language_info": {
      "name": "python"
    },
    "gpuClass": "standard",
    "accelerator": "GPU"
  },
  "cells": [
    {
      "cell_type": "markdown",
      "metadata": {
        "id": "view-in-github",
        "colab_type": "text"
      },
      "source": [
        "<a href=\"https://colab.research.google.com/github/steinhaug/stable-diffusion/blob/main/ControlNet_Video.ipynb\" target=\"_parent\"><img src=\"https://colab.research.google.com/assets/colab-badge.svg\" alt=\"Open In Colab\"/></a>"
      ]
    },
    {
      "cell_type": "code",
      "source": [
        "#@title Setup environment\n",
        "from IPython.display import clear_output\n",
        "\n",
        "!apt-get update && apt-get install -y libsndfile1 ffmpeg\n",
        "!pip3 install tensorflow==2.11.0\n",
        "!pip3 install moviepy\n",
        "!pip3 install imageio==2.4.1\n",
        "!pip3 install --upgrade imageio-ffmpeg\n",
        "!pip3 install gradio==3.20.0\n",
        "!pip install diffusers\n",
        "\n",
        "!wget --content-disposition https://drive.google.com/file/d/1aCjhIVp_KOO3Cr3ebpliUezZ6NcHKEjZ/view?usp=share_link -O annotator.zip\n",
        "\n",
        "clear_output()\n",
        "print('\u001b[1;32mDone!')  "
      ],
      "metadata": {
        "id": "yeRDy-V8PhLQ"
      },
      "execution_count": null,
      "outputs": []
    },
    {
      "cell_type": "code",
      "source": [
        "#@title Setup ControlNet\n",
        "%cd /content\n",
        "!git clone https://huggingface.co/spaces/hysts/ControlNet\n",
        "#!pip3 install -r /content/ControlNet/requirements.txt\n",
        "\n",
        "%cd /content/ControlNet\n",
        "!rm -Rf /content/ControlNet/ControlNet/\n",
        "!mkdir /content/ControlNet/ControlNet\n",
        "!cp /content/annotator.zip /content/ControlNet/ControlNet\n",
        "%cd /content/ControlNet/ControlNet\n",
        "!unzip annotator.zip\n",
        "!cp /content/sample_data/ControlNet/config.py /content/ControlNet/ControlNet\n",
        "\n",
        "# DUPLICATING FOLDER\n",
        "!mkdir /content/ControlNet/annotator\n",
        "!cp -r /content/ControlNet/ControlNet/annotator/ckpts /content/ControlNet/annotator\n",
        "\n",
        "clear_output()\n",
        "print('\u001b[1;32mDone!')  "
      ],
      "metadata": {
        "colab": {
          "base_uri": "https://localhost:8080/"
        },
        "cellView": "form",
        "id": "T4b8gmjqLf50",
        "outputId": "304c2300-ffd7-4509-b98d-7c0d32cfc2a8"
      },
      "execution_count": 2,
      "outputs": [
        {
          "output_type": "stream",
          "name": "stdout",
          "text": [
            "/content\n",
            "Cloning into 'ControlNet'...\n",
            "remote: Enumerating objects: 259, done.\u001b[K\n",
            "remote: Counting objects: 100% (259/259), done.\u001b[K\n",
            "remote: Compressing objects: 100% (258/258), done.\u001b[K\n",
            "remote: Total 259 (delta 188), reused 0 (delta 0), pack-reused 0\u001b[K\n",
            "Receiving objects: 100% (259/259), 47.16 KiB | 11.79 MiB/s, done.\n",
            "Resolving deltas: 100% (188/188), done.\n"
          ]
        }
      ]
    },
    {
      "cell_type": "code",
      "source": [
        "%cd /content/ControlNet\n",
        "#!python3 app.py\n",
        "!python3 app_canny.py\n"
      ],
      "metadata": {
        "colab": {
          "base_uri": "https://localhost:8080/"
        },
        "id": "UTb1e8YnSc1W",
        "outputId": "8b30349e-aca7-4a18-93e1-8b518d7f1adb"
      },
      "execution_count": 39,
      "outputs": [
        {
          "output_type": "stream",
          "name": "stdout",
          "text": [
            "/content/ControlNet\n",
            "Traceback (most recent call last):\n",
            "  File \"/content/ControlNet/app_canny.py\", line 88, in <module>\n",
            "    from model import Model\n",
            "  File \"/content/ControlNet/model.py\", line 22, in <module>\n",
            "    from annotator.hed import apply_hed, nms\n",
            "  File \"/content/ControlNet/ControlNet/annotator/hed/__init__.py\", line 97, in <module>\n",
            "    netNetwork = Network().cuda().eval()\n",
            "  File \"/usr/local/lib/python3.9/dist-packages/torch/nn/modules/module.py\", line 749, in cuda\n",
            "    return self._apply(lambda t: t.cuda(device))\n",
            "  File \"/usr/local/lib/python3.9/dist-packages/torch/nn/modules/module.py\", line 641, in _apply\n",
            "    module._apply(fn)\n",
            "  File \"/usr/local/lib/python3.9/dist-packages/torch/nn/modules/module.py\", line 641, in _apply\n",
            "    module._apply(fn)\n",
            "  File \"/usr/local/lib/python3.9/dist-packages/torch/nn/modules/module.py\", line 664, in _apply\n",
            "    param_applied = fn(param)\n",
            "  File \"/usr/local/lib/python3.9/dist-packages/torch/nn/modules/module.py\", line 749, in <lambda>\n",
            "    return self._apply(lambda t: t.cuda(device))\n",
            "  File \"/usr/local/lib/python3.9/dist-packages/torch/cuda/__init__.py\", line 229, in _lazy_init\n",
            "    torch._C._cuda_init()\n",
            "RuntimeError: No CUDA GPUs are available\n"
          ]
        }
      ]
    },
    {
      "cell_type": "code",
      "source": [],
      "metadata": {
        "id": "xvxXHPmfkq5e"
      },
      "execution_count": 38,
      "outputs": []
    },
    {
      "cell_type": "code",
      "source": [
        "#@title Setup ControlNet-Video\n",
        "%cd /content\n",
        "!git clone https://huggingface.co/spaces/fffiloni/ControlNet-Video\n",
        "!pip install einops==0.6.0\n",
        "!pip install pytorch-lightning==1.9.0\n",
        "%cd /content/ControlNet-Video\n",
        "!rm -Rf /content/ControlNet-Video/ControlNet/\n",
        "!mkdir /content/ControlNet-Video/ControlNet\n",
        "!cp /content/annotator.zip /content/ControlNet-Video/ControlNet\n",
        "%cd /content/ControlNet-Video/ControlNet\n",
        "!unzip annotator.zip\n",
        "!cp /content/sample_data/ControlNet/config.py /content/ControlNet-Video/ControlNet\n",
        "\n",
        "# DUPLICATING FOLDER\n",
        "!mkdir /content/ControlNet-Video/annotator\n",
        "!cp -r /content/ControlNet-Video/ControlNet/annotator/ckpts /content/ControlNet-Video/annotator\n",
        "\n",
        "clear_output()\n",
        "print('\u001b[1;32mDone!')  "
      ],
      "metadata": {
        "colab": {
          "base_uri": "https://localhost:8080/"
        },
        "cellView": "form",
        "id": "dzI2mh3wb4aB",
        "outputId": "9e5925cb-46af-48a4-b68d-ead888fdbe45"
      },
      "execution_count": 20,
      "outputs": [
        {
          "output_type": "stream",
          "name": "stdout",
          "text": [
            "/content\n",
            "Cloning into 'ControlNet-Video'...\n",
            "remote: Enumerating objects: 143, done.\u001b[K\n",
            "remote: Counting objects: 100% (119/119), done.\u001b[K\n",
            "remote: Compressing objects: 100% (52/52), done.\u001b[K\n",
            "remote: Total 143 (delta 67), reused 119 (delta 67), pack-reused 24\u001b[K\n",
            "Receiving objects: 100% (143/143), 41.11 KiB | 13.70 MiB/s, done.\n",
            "Resolving deltas: 100% (75/75), done.\n"
          ]
        }
      ]
    },
    {
      "cell_type": "code",
      "source": [
        "%cd /content/ControlNet-Video\n",
        "\n",
        "!python app.py"
      ],
      "metadata": {
        "colab": {
          "base_uri": "https://localhost:8080/"
        },
        "id": "S6URKeTRYZFl",
        "outputId": "585d1fbb-ca45-4d6d-c18a-2f6cbd8d0925"
      },
      "execution_count": 33,
      "outputs": [
        {
          "output_type": "stream",
          "name": "stdout",
          "text": [
            "/content/ControlNet-Video\n",
            "Traceback (most recent call last):\n",
            "  File \"/content/ControlNet-Video/app.py\", line 37, in <module>\n",
            "    from model import (DEFAULT_BASE_MODEL_FILENAME, DEFAULT_BASE_MODEL_REPO,\n",
            "  File \"/content/ControlNet-Video/model.py\", line 22, in <module>\n",
            "    from annotator.hed import apply_hed, nms\n",
            "  File \"/content/ControlNet-Video/ControlNet/annotator/hed/__init__.py\", line 97, in <module>\n",
            "    netNetwork = Network().cuda().eval()\n",
            "  File \"/content/ControlNet-Video/ControlNet/annotator/hed/__init__.py\", line 67, in __init__\n",
            "    self.load_state_dict({strKey.replace('module', 'net'): tenWeight for strKey, tenWeight in torch.load('./annotator/ckpts/network-bsds500.pth').items()})\n",
            "  File \"/usr/local/lib/python3.9/dist-packages/torch/serialization.py\", line 771, in load\n",
            "    with _open_file_like(f, 'rb') as opened_file:\n",
            "  File \"/usr/local/lib/python3.9/dist-packages/torch/serialization.py\", line 270, in _open_file_like\n",
            "    return _open_file(name_or_buffer, mode)\n",
            "  File \"/usr/local/lib/python3.9/dist-packages/torch/serialization.py\", line 251, in __init__\n",
            "    super(_open_file, self).__init__(open(name, mode))\n",
            "FileNotFoundError: [Errno 2] No such file or directory: './annotator/ckpts/network-bsds500.pth'\n"
          ]
        }
      ]
    }
  ]
}