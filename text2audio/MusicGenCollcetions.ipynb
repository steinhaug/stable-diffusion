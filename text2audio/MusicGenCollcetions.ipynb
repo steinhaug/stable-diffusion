{
  "nbformat": 4,
  "nbformat_minor": 0,
  "metadata": {
    "colab": {
      "provenance": [],
      "gpuType": "T4",
      "include_colab_link": true
    },
    "kernelspec": {
      "name": "python3",
      "display_name": "Python 3"
    },
    "language_info": {
      "name": "python"
    },
    "accelerator": "GPU"
  },
  "cells": [
    {
      "cell_type": "markdown",
      "metadata": {
        "id": "view-in-github",
        "colab_type": "text"
      },
      "source": [
        "<a href=\"https://colab.research.google.com/github/steinhaug/stable-diffusion/blob/main/text2audio/MusicGenCollcetions.ipynb\" target=\"_parent\"><img src=\"https://colab.research.google.com/assets/colab-badge.svg\" alt=\"Open In Colab\"/></a>"
      ]
    },
    {
      "cell_type": "markdown",
      "source": [
        "## Steinhaug Collect Variants\n",
        "\n",
        "    Electro beat with a spinning didgeridoo mechanized sound. A playfull bass line is rolling in and out of the beat.\n",
        "\n",
        "Main repo: https://github.com/facebookresearch/audiocraft\n",
        "Cammenduru: https://github.com/camenduru/MusicGen-colab\n"
      ],
      "metadata": {
        "id": "9IyOKolDk8D2"
      }
    },
    {
      "cell_type": "code",
      "source": [
        "%cd /content\n",
        "!git clone https://github.com/Oncorporation/audiocraft\n",
        "%cd /content/audiocraft\n",
        "!sed -i -e 's/textwrap/textwrap3/g' /content/audiocraft/requirements.txt\n",
        "!wget https://github.com/camenduru/audiocraft/raw/Oncorporation/assets/arial.ttf -O /content/audiocraft/arial.ttf\n",
        "!pip install -r requirements.txt\n",
        "!python app.py --share"
      ],
      "metadata": {
        "id": "ADrs0-iOdQ75"
      },
      "execution_count": null,
      "outputs": []
    },
    {
      "cell_type": "code",
      "source": [
        "%cd /content\n",
        "!git clone -b long https://github.com/rkfg/audiocraft\n",
        "%cd /content/audiocraft\n",
        "!pip install -r requirements.txt\n",
        "!python app.py --share"
      ],
      "metadata": {
        "id": "qoMFt43IktlF"
      },
      "execution_count": null,
      "outputs": []
    },
    {
      "cell_type": "code",
      "source": [
        "%cd /content\n",
        "!git clone -b bg https://github.com/camenduru/audiocraft\n",
        "%cd /content/audiocraft\n",
        "!pip install -r requirements.txt\n",
        "!python app.py --share"
      ],
      "metadata": {
        "id": "tOFjka_5kwDw"
      },
      "execution_count": null,
      "outputs": []
    },
    {
      "cell_type": "code",
      "source": [
        "%cd /content\n",
        "!git clone -b v1.0 https://github.com/camenduru/audiocraft\n",
        "%cd /content/audiocraft\n",
        "!pip install -r requirements.txt\n",
        "!python app.py --share"
      ],
      "metadata": {
        "id": "65LDB1Xfky0q"
      },
      "execution_count": null,
      "outputs": []
    },
    {
      "cell_type": "code",
      "source": [
        "# upload 28s of audio and system will continue the sound\n",
        "%cd /content\n",
        "!git clone -b plus https://github.com/ClownOfMadness/audiocraft_plus\n",
        "%cd audiocraft_plus\n",
        "!pip install -r requirements.txt\n",
        "!python app.py --share"
      ],
      "metadata": {
        "id": "vsqMwwG3aXcH"
      },
      "execution_count": null,
      "outputs": []
    },
    {
      "cell_type": "code",
      "source": [
        "%cd /content\n",
        "!git clone https://github.com/1aienthusiast/audiocraft-infinity-webui.git\n",
        "import os, sys\n",
        "os.rename(\"/content/audiocraft-infinity-webui\",\"/content/audiocraft-infinity-001\")\n",
        "%cd audiocraft-infinity-001\n",
        "!pip install -r requirements.txt\n",
        "%cd repositories\n",
        "!git clone https://github.com/facebookresearch/audiocraft\n",
        "%cd ..\n",
        "!sed -i -e 's/demo.launch/\\demo.queue().launch(share=True);#demo.launch/g' /content/audiocraft-infinity-001/webui.py\n",
        "!python webui.py\n"
      ],
      "metadata": {
        "id": "UZt_8epmTFYx"
      },
      "execution_count": null,
      "outputs": []
    },
    {
      "cell_type": "code",
      "source": [
        "%cd /content\n",
        "!git clone https://github.com/oobabooga/audiocraft-infinity-webui\n",
        "import os, sys\n",
        "os.rename(\"/content/audiocraft-infinity-webui\",\"/content/audiocraft-infinity-oobabooga\")\n",
        "%cd audiocraft-infinity-oobabooga\n",
        "!pip install -r requirements.txt\n",
        "%cd repositories\n",
        "!git clone https://github.com/facebookresearch/audiocraft\n",
        "%cd ..\n",
        "!sed -i -e 's/demo.launch/\\demo.queue().launch(share=True);#demo.launch/g' /content/audiocraft-infinity-oobabooga/webui.py\n",
        "!python webui.py"
      ],
      "metadata": {
        "id": "Tp2_R2LHZNKN"
      },
      "execution_count": null,
      "outputs": []
    }
  ]
}