{
  "nbformat": 4,
  "nbformat_minor": 0,
  "metadata": {
    "colab": {
      "provenance": [],
      "gpuType": "T4",
      "include_colab_link": true
    },
    "kernelspec": {
      "name": "python3",
      "display_name": "Python 3"
    },
    "language_info": {
      "name": "python"
    }
  },
  "cells": [
    {
      "cell_type": "markdown",
      "metadata": {
        "id": "view-in-github",
        "colab_type": "text"
      },
      "source": [
        "<a href=\"https://colab.research.google.com/github/steinhaug/stable-diffusion/blob/main/text2audio/MusicGenCollcetions.ipynb\" target=\"_parent\"><img src=\"https://colab.research.google.com/assets/colab-badge.svg\" alt=\"Open In Colab\"/></a>"
      ]
    },
    {
      "cell_type": "markdown",
      "source": [
        "## Facebook Audiocraft - Variants\n",
        "\n",
        "They are all different in some way or another, need to find out what.. If you know what the \"deal\" is please send an email to steinhaug@gmail.com with the details. Also if you know of more versions do send me a mail so I can add them.\n",
        "\n",
        "<a href=\"https://github.com/facebookresearch/audiocraft\" target=\"_parent\"><img src=\"https://img.shields.io/badge/Facebook-Open%20in%20Github-blue?logo=github\"></a>\n",
        "<a href=\"https://github.com/camenduru/MusicGen-colab\" target=\"_parent\"><img src=\"https://img.shields.io/badge/camenduru-Open%20in%20Github-blue?logo=github\"></a>"
      ],
      "metadata": {
        "id": "9IyOKolDk8D2"
      }
    },
    {
      "cell_type": "code",
      "source": [
        "#@title # Connect runtime\n",
        "import requests\n",
        "from pathlib import Path\n",
        "from IPython.display import display, Markdown, clear_output\n",
        "\n",
        "connect_drive = True #@param {type:\"boolean\"}\n",
        "#install_drive = False #@param {type:\"boolean\"}\n",
        "\n",
        "gpu_info = !nvidia-smi\n",
        "gpu_info = '\\n'.join(gpu_info)\n",
        "if gpu_info.find('failed') >= 0:\n",
        "    print('Not connected to a GPU')\n",
        "else:\n",
        "    print(gpu_info)\n",
        "\n",
        "from psutil import virtual_memory\n",
        "ram_gb = virtual_memory().total / 1e9\n",
        "print('Your runtime has {:.1f} gigabytes of available RAM\\n'.format(ram_gb))\n",
        "\n",
        "if ram_gb < 20:\n",
        "    print('Not using a high-RAM runtime')\n",
        "else:\n",
        "    print('You are using a high-RAM runtime!')\n",
        "\n",
        "def print_markdown(text):\n",
        "    display(Markdown(text))\n",
        "def load_url_as_int(url):\n",
        "    response = requests.get(url)\n",
        "    content = response.text.strip()\n",
        "    try:\n",
        "        number = int(content)\n",
        "        return number\n",
        "    except ValueError:\n",
        "        print(\"The content of the URL is not a valid integer.\")\n",
        "        return None\n",
        "\n",
        "VERSION_CURR_NOTEB = 1\n",
        "VERSION_LATEST_NOTEBurl = \"https://raw.githubusercontent.com/steinhaug/stable-diffusion/main/versions/MusicGenCollcetions.txt\"\n",
        "VERSION_LATEST_NOTEB = load_url_as_int(VERSION_LATEST_NOTEBurl)\n",
        "UPDATE_TXT = '''\n",
        "# NoteBook Update available!\n",
        "This notebook have been updated, click the link here to load the updated notebook!\n",
        "\n",
        "[![Open in Colab](https://img.shields.io/badge/steinhaug-Open%20in%20Colab-blue?logo=google-colab)](https://colab.research.google.com/github/steinhaug/stable-diffusion/blob/main/text2audio/MusicGenCollcetions.ipynb)\n",
        "'''\n",
        "if connect_drive:\n",
        "    inip = Path(\"/content/drive/MyDrive\")\n",
        "    if not inip.is_dir():\n",
        "        from google.colab import drive\n",
        "        drive.mount('/content/drive')\n",
        "    else:\n",
        "        print(\"Drive is mounted.\");\n",
        "\n",
        "if VERSION_LATEST_NOTEB is not None:\n",
        "    if VERSION_LATEST_NOTEB > VERSION_CURR_NOTEB:\n",
        "        print_markdown(UPDATE_TXT)"
      ],
      "metadata": {
        "cellView": "form",
        "id": "5Lx1oEsAE7jz"
      },
      "execution_count": null,
      "outputs": []
    },
    {
      "cell_type": "code",
      "source": [
        "#@title Oncorporation - Alt 1\n",
        "#@markdown Notes: n/a\n",
        "%cd /content\n",
        "!git clone https://github.com/Oncorporation/audiocraft\n",
        "%cd /content/audiocraft\n",
        "!sed -i -e 's/textwrap/textwrap3/g' /content/audiocraft/requirements.txt\n",
        "!wget https://github.com/camenduru/audiocraft/raw/Oncorporation/assets/arial.ttf -O /content/audiocraft/arial.ttf\n",
        "!pip install -r requirements.txt\n",
        "!python app.py --share"
      ],
      "metadata": {
        "id": "ADrs0-iOdQ75",
        "cellView": "form"
      },
      "execution_count": null,
      "outputs": []
    },
    {
      "cell_type": "code",
      "source": [
        "#@title rkfg - Alt 1\n",
        "#@markdown Notes: n/a\n",
        "%cd /content\n",
        "!git clone -b long https://github.com/rkfg/audiocraft\n",
        "%cd /content/audiocraft\n",
        "!pip install -r requirements.txt\n",
        "!python app.py --share"
      ],
      "metadata": {
        "id": "qoMFt43IktlF",
        "cellView": "form"
      },
      "execution_count": null,
      "outputs": []
    },
    {
      "cell_type": "code",
      "source": [
        "#@title camenduru - Alt 1\n",
        "#@markdown Notes: n/a\n",
        "%cd /content\n",
        "!git clone -b bg https://github.com/camenduru/audiocraft\n",
        "%cd /content/audiocraft\n",
        "!pip install -r requirements.txt\n",
        "!python app.py --share"
      ],
      "metadata": {
        "id": "tOFjka_5kwDw",
        "cellView": "form"
      },
      "execution_count": null,
      "outputs": []
    },
    {
      "cell_type": "code",
      "source": [
        "#@title camenduru - Alt 2\n",
        "#@markdown Notes: n/a\n",
        "%cd /content\n",
        "!git clone -b v1.0 https://github.com/camenduru/audiocraft\n",
        "%cd /content/audiocraft\n",
        "!pip install -r requirements.txt\n",
        "!python app.py --share"
      ],
      "metadata": {
        "id": "65LDB1Xfky0q",
        "cellView": "form"
      },
      "execution_count": null,
      "outputs": []
    },
    {
      "cell_type": "code",
      "source": [
        "#@title ClownOfMadness - Alt 1\n",
        "#@markdown Notes: Supposedly continues from wav file\n",
        "%cd /content\n",
        "!git clone -b plus https://github.com/ClownOfMadness/audiocraft_plus\n",
        "%cd audiocraft_plus\n",
        "!pip install -r requirements.txt\n",
        "!python app.py --share"
      ],
      "metadata": {
        "id": "vsqMwwG3aXcH",
        "cellView": "form"
      },
      "execution_count": null,
      "outputs": []
    },
    {
      "cell_type": "code",
      "source": [
        "#@title 1aienthusiast - Alt 1\n",
        "#@markdown Notes: n/a\n",
        "%cd /content\n",
        "!git clone https://github.com/1aienthusiast/audiocraft-infinity-webui.git\n",
        "import os, sys\n",
        "os.rename(\"/content/audiocraft-infinity-webui\",\"/content/audiocraft-infinity-001\")\n",
        "%cd audiocraft-infinity-001\n",
        "!pip install -r requirements.txt\n",
        "%cd repositories\n",
        "!git clone https://github.com/facebookresearch/audiocraft\n",
        "%cd ..\n",
        "!sed -i -e 's/demo.launch/\\demo.queue().launch(share=True);#demo.launch/g' /content/audiocraft-infinity-001/webui.py\n",
        "!python webui.py\n"
      ],
      "metadata": {
        "id": "UZt_8epmTFYx",
        "cellView": "form"
      },
      "execution_count": null,
      "outputs": []
    },
    {
      "cell_type": "code",
      "source": [
        "#@title oobabooga - Alt 1\n",
        "#@markdown Notes: n/a\n",
        "%cd /content\n",
        "!git clone https://github.com/oobabooga/audiocraft-infinity-webui\n",
        "import os, sys\n",
        "os.rename(\"/content/audiocraft-infinity-webui\",\"/content/audiocraft-infinity-oobabooga\")\n",
        "%cd audiocraft-infinity-oobabooga\n",
        "!pip install -r requirements.txt\n",
        "%cd repositories\n",
        "!git clone https://github.com/facebookresearch/audiocraft\n",
        "%cd ..\n",
        "!sed -i -e 's/demo.launch/\\demo.queue().launch(share=True);#demo.launch/g' /content/audiocraft-infinity-oobabooga/webui.py\n",
        "!python webui.py"
      ],
      "metadata": {
        "id": "Tp2_R2LHZNKN",
        "cellView": "form"
      },
      "execution_count": null,
      "outputs": []
    }
  ]
}