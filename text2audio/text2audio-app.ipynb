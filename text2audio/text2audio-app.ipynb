{
  "nbformat": 4,
  "nbformat_minor": 0,
  "metadata": {
    "colab": {
      "provenance": [],
      "gpuType": "T4",
      "include_colab_link": true
    },
    "kernelspec": {
      "name": "python3",
      "display_name": "Python 3"
    },
    "language_info": {
      "name": "python"
    },
    "accelerator": "GPU"
  },
  "cells": [
    {
      "cell_type": "markdown",
      "metadata": {
        "id": "view-in-github",
        "colab_type": "text"
      },
      "source": [
        "<a href=\"https://colab.research.google.com/github/steinhaug/stable-diffusion/blob/main/text2audio/text2audio-app.ipynb\" target=\"_parent\"><img src=\"https://colab.research.google.com/assets/colab-badge.svg\" alt=\"Open In Colab\"/></a>"
      ]
    },
    {
      "cell_type": "markdown",
      "source": [
        "## TTS Generation WebUI\n",
        "\n",
        "Install the libraries, then run the cell to start the server.\n",
        "\n",
        "\n",
        "**Some links of interest:**  \n",
        "<a href=\"https://github.com/rsxdalv/one-click-installers-tts\" target=\"_blank\"><img alt=\"Open Github profile\" src=\"https://img.shields.io/badge/Windows%20One%20Click%20Installers-rsxdalv-black?logo=github\"></a>\n"
      ],
      "metadata": {
        "id": "n5V029o28Wtc"
      }
    },
    {
      "cell_type": "code",
      "source": [
        "#@title Install libraries\n",
        "!git clone https://github.com/rsxdalv/tts-generation-webui\n",
        "import os\n",
        "os.chdir(\"./tts-generation-webui\")\n",
        "# Get latest Node.js\n",
        "!wget https://nodejs.org/dist/v21.6.0/node-v21.6.0-linux-x64.tar.gz\n",
        "!tar xvfz node-v21.6.0-linux-x64.tar.gz\n",
        "!cp -r node-v21.6.0-linux-x64/* /usr/local/\n",
        "\n",
        "# Run install/updates\n",
        "!git pull\n",
        "!pip install -r requirements.txt\n",
        "!python update.py\n",
        "\n",
        "# Fix for deepspeed for tortoise\n",
        "# pip uninstall deepspeed\n",
        "# pip install deepspeed==0.8.3\n",
        "\n",
        "# Fix torchvision for MusicGen\n",
        "# !pip install torchvision==0.15.0+cu117 --extra-index-url https://download.pytorch.org/whl/cu117\n"
      ],
      "metadata": {
        "collapsed": true,
        "cellView": "form",
        "id": "DHSuqsadq3P7"
      },
      "execution_count": null,
      "outputs": []
    },
    {
      "cell_type": "code",
      "source": [
        "#@title Start and run the app webui\n",
        "#@markdown Wait for the \\*.gradio.live link to appear and open it in another window to access the app.\n",
        "!python server.py --share\n",
        "# Note - Node.js/React UI works but isn't accesssible by default on Google Colab, only gradio is easy to open."
      ],
      "metadata": {
        "cellView": "form",
        "id": "ryfy8QnVrE7_"
      },
      "execution_count": null,
      "outputs": []
    }
  ]
}