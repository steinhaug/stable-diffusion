{
  "nbformat": 4,
  "nbformat_minor": 0,
  "metadata": {
    "colab": {
      "provenance": [],
      "authorship_tag": "ABX9TyPJv37qXQZ3QtVPc/wfpr3h",
      "include_colab_link": true
    },
    "kernelspec": {
      "name": "python3",
      "display_name": "Python 3"
    },
    "language_info": {
      "name": "python"
    }
  },
  "cells": [
    {
      "cell_type": "markdown",
      "metadata": {
        "id": "view-in-github",
        "colab_type": "text"
      },
      "source": [
        "<a href=\"https://colab.research.google.com/github/steinhaug/stable-diffusion/blob/main/avatar/DreamPose.ipynb\" target=\"_parent\"><img src=\"https://colab.research.google.com/assets/colab-badge.svg\" alt=\"Open In Colab\"/></a>"
      ]
    },
    {
      "cell_type": "markdown",
      "source": [
        "Git repository: https://github.com/johannakarras/DreamPose  \n",
        "Status: Doesn't work"
      ],
      "metadata": {
        "id": "kEPOvAvassPh"
      }
    },
    {
      "cell_type": "code",
      "execution_count": 21,
      "metadata": {
        "colab": {
          "base_uri": "https://localhost:8080/"
        },
        "cellView": "form",
        "id": "2TtrWzdpiP8o",
        "outputId": "0e9c6cee-e8be-4b05-d2e5-028d8618c180"
      },
      "outputs": [
        {
          "output_type": "stream",
          "name": "stdout",
          "text": [
            "Requirement already satisfied: torch in /usr/local/lib/python3.10/dist-packages (2.1.0+cu121)\n",
            "Requirement already satisfied: diffusers in /usr/local/lib/python3.10/dist-packages (0.25.0)\n",
            "Requirement already satisfied: torchvision in /usr/local/lib/python3.10/dist-packages (0.16.0+cu121)\n",
            "Requirement already satisfied: opencv-python in /usr/local/lib/python3.10/dist-packages (4.8.0.76)\n",
            "Requirement already satisfied: pillow in /usr/local/lib/python3.10/dist-packages (9.4.0)\n",
            "Requirement already satisfied: numpy in /usr/local/lib/python3.10/dist-packages (1.23.5)\n",
            "Requirement already satisfied: einops in /usr/local/lib/python3.10/dist-packages (0.7.0)\n",
            "Requirement already satisfied: filelock in /usr/local/lib/python3.10/dist-packages (from torch) (3.13.1)\n",
            "Requirement already satisfied: typing-extensions in /usr/local/lib/python3.10/dist-packages (from torch) (4.5.0)\n",
            "Requirement already satisfied: sympy in /usr/local/lib/python3.10/dist-packages (from torch) (1.12)\n",
            "Requirement already satisfied: networkx in /usr/local/lib/python3.10/dist-packages (from torch) (3.2.1)\n",
            "Requirement already satisfied: jinja2 in /usr/local/lib/python3.10/dist-packages (from torch) (3.1.2)\n",
            "Requirement already satisfied: fsspec in /usr/local/lib/python3.10/dist-packages (from torch) (2023.6.0)\n",
            "Requirement already satisfied: triton==2.1.0 in /usr/local/lib/python3.10/dist-packages (from torch) (2.1.0)\n",
            "Requirement already satisfied: importlib-metadata in /usr/local/lib/python3.10/dist-packages (from diffusers) (7.0.0)\n",
            "Requirement already satisfied: huggingface-hub>=0.19.4 in /usr/local/lib/python3.10/dist-packages (from diffusers) (0.20.1)\n",
            "Requirement already satisfied: regex!=2019.12.17 in /usr/local/lib/python3.10/dist-packages (from diffusers) (2023.6.3)\n",
            "Requirement already satisfied: requests in /usr/local/lib/python3.10/dist-packages (from diffusers) (2.31.0)\n",
            "Requirement already satisfied: safetensors>=0.3.1 in /usr/local/lib/python3.10/dist-packages (from diffusers) (0.4.1)\n",
            "Requirement already satisfied: tqdm>=4.42.1 in /usr/local/lib/python3.10/dist-packages (from huggingface-hub>=0.19.4->diffusers) (4.66.1)\n",
            "Requirement already satisfied: pyyaml>=5.1 in /usr/local/lib/python3.10/dist-packages (from huggingface-hub>=0.19.4->diffusers) (6.0.1)\n",
            "Requirement already satisfied: packaging>=20.9 in /usr/local/lib/python3.10/dist-packages (from huggingface-hub>=0.19.4->diffusers) (23.2)\n",
            "Requirement already satisfied: zipp>=0.5 in /usr/local/lib/python3.10/dist-packages (from importlib-metadata->diffusers) (3.17.0)\n",
            "Requirement already satisfied: MarkupSafe>=2.0 in /usr/local/lib/python3.10/dist-packages (from jinja2->torch) (2.1.3)\n",
            "Requirement already satisfied: charset-normalizer<4,>=2 in /usr/local/lib/python3.10/dist-packages (from requests->diffusers) (3.3.2)\n",
            "Requirement already satisfied: idna<4,>=2.5 in /usr/local/lib/python3.10/dist-packages (from requests->diffusers) (3.6)\n",
            "Requirement already satisfied: urllib3<3,>=1.21.1 in /usr/local/lib/python3.10/dist-packages (from requests->diffusers) (2.0.7)\n",
            "Requirement already satisfied: certifi>=2017.4.17 in /usr/local/lib/python3.10/dist-packages (from requests->diffusers) (2023.11.17)\n",
            "Requirement already satisfied: mpmath>=0.19 in /usr/local/lib/python3.10/dist-packages (from sympy->torch) (1.3.0)\n",
            "/content\n",
            "Retrieving folder list\n",
            "Processing file 1bGAA8YJj_Y3kO82flOwsfNEUcFQ2eCCP custom-chkpts.zip\n",
            "Retrieving folder list completed\n",
            "Building directory structure\n",
            "Building directory structure completed\n",
            "Downloading...\n",
            "From: https://drive.google.com/uc?id=1bGAA8YJj_Y3kO82flOwsfNEUcFQ2eCCP\n",
            "To: /content/custom-chkpts/custom-chkpts.zip\n",
            "100% 7.93G/7.93G [01:10<00:00, 113MB/s]\n",
            "Download completed\n",
            "Retrieving folder list\n",
            "Processing file 1e04M_6w7vjYHNW7Ldi_GuXycjmoMtaKk poses.zip\n",
            "Retrieving folder list completed\n",
            "Building directory structure\n",
            "Building directory structure completed\n",
            "Downloading...\n",
            "From: https://drive.google.com/uc?id=1e04M_6w7vjYHNW7Ldi_GuXycjmoMtaKk\n",
            "To: /content/poses/poses.zip\n",
            "100% 27.2M/27.2M [00:00<00:00, 121MB/s]\n",
            "Download completed\n",
            "fatal: destination path 'DreamPose' already exists and is not an empty directory.\n",
            "/content/DreamPose\n"
          ]
        }
      ],
      "source": [
        "# @title 1/2 Install deps, download models and clone repository\n",
        "\n",
        "# Install deps\n",
        "!pip install torch diffusers torchvision opencv-python pillow numpy einops\n",
        "%cd /content\n",
        "# Download file 1\n",
        "!gdown --folder https://drive.google.com/drive/folders/15SaT3kZFRIjxuHT6UrGr6j0183clTK_D?usp=share_link\n",
        "\n",
        "# Download file 2\n",
        "!gdown --folder https://drive.google.com/drive/folders/1CjzcOp_ZUt-dyrzNAFE0T8bS3cbKTsVG?usp=share_link\n",
        "\n",
        "# Clone repository\n",
        "!git clone https://github.com/johannakarras/DreamPose\n",
        "%cd /content/DreamPose"
      ]
    },
    {
      "cell_type": "code",
      "source": [
        "# @title 2/2 Unzip downloaded files into DreamPose directory\n",
        "\n",
        "import zipfile\n",
        "import os\n",
        "\n",
        "# Define paths\n",
        "chkpts_zip_path = '/content/custom-chkpts/custom-chkpts.zip'\n",
        "chkpts_extract_path = '/content/DreamPose'\n",
        "\n",
        "poses_zip_path = '/content/poses/poses.zip'\n",
        "poses_extract_path = '/content/DreamPose'\n",
        "\n",
        "# Function to unzip files\n",
        "def unzip_file(zip_path, extract_path):\n",
        "    with zipfile.ZipFile(zip_path, 'r') as zip_ref:\n",
        "        zip_ref.extractall(extract_path)\n",
        "\n",
        "# Unzip custom-chkpts.zip\n",
        "unzip_file(chkpts_zip_path, chkpts_extract_path)\n",
        "\n",
        "# Unzip poses.zip\n",
        "unzip_file(poses_zip_path, poses_extract_path)\n",
        "print(\"Models unzipped into DreamPose\")"
      ],
      "metadata": {
        "colab": {
          "base_uri": "https://localhost:8080/"
        },
        "cellView": "form",
        "id": "U1c-_QBBmy2_",
        "outputId": "6030dda3-c7cd-4241-8fe9-e756421ed73b"
      },
      "execution_count": 22,
      "outputs": [
        {
          "output_type": "stream",
          "name": "stdout",
          "text": [
            "Models unzipped into DreamPose\n"
          ]
        }
      ]
    },
    {
      "cell_type": "markdown",
      "source": [],
      "metadata": {
        "id": "aNAUXL_RqoOc"
      }
    },
    {
      "cell_type": "code",
      "source": [
        "!python test.py --epoch 499 --folder demo/custom-chkpts --pose_folder demo/sample/poses  --key_frame_path demo/sample/key_frame.png --s1 8 --s2 3 --n_steps 100 --output_dir demo/sample/results --custom_vae demo/custom-chkpts/vae_1499.pth"
      ],
      "metadata": {
        "colab": {
          "base_uri": "https://localhost:8080/"
        },
        "id": "z7isFVJnnK_1",
        "outputId": "fc0428e9-2f10-4bc7-c408-c8ef51d3595c"
      },
      "execution_count": 19,
      "outputs": [
        {
          "output_type": "stream",
          "name": "stdout",
          "text": [
            "2024-01-05 03:22:29.081347: E external/local_xla/xla/stream_executor/cuda/cuda_dnn.cc:9261] Unable to register cuDNN factory: Attempting to register factory for plugin cuDNN when one has already been registered\n",
            "2024-01-05 03:22:29.081532: E external/local_xla/xla/stream_executor/cuda/cuda_fft.cc:607] Unable to register cuFFT factory: Attempting to register factory for plugin cuFFT when one has already been registered\n",
            "2024-01-05 03:22:29.281534: E external/local_xla/xla/stream_executor/cuda/cuda_blas.cc:1515] Unable to register cuBLAS factory: Attempting to register factory for plugin cuBLAS when one has already been registered\n",
            "2024-01-05 03:22:32.539318: W tensorflow/compiler/tf2tensorrt/utils/py_utils.cc:38] TF-TRT Warning: Could not find TensorRT\n",
            "Cannot initialize model with low cpu memory usage because `accelerate` was not found in the environment. Defaulting to `low_cpu_mem_usage=False`. It is strongly recommended to install `accelerate` for faster and less memory-intense model loading. You can do so with: \n",
            "```\n",
            "pip install accelerate\n",
            "```\n",
            ".\n",
            "unet/config.json: 100% 743/743 [00:00<00:00, 2.91MB/s]\n",
            "diffusion_pytorch_model.safetensors: 100% 3.44G/3.44G [00:34<00:00, 99.9MB/s]\n",
            "Traceback (most recent call last):\n",
            "  File \"/content/DreamPose/test.py\", line 48, in <module>\n",
            "    unet = get_unet('CompVis/stable-diffusion-v1-4', \"ebb811dd71cdc38a204ecbdd6ac5d580f529fd8c\", resolution=512)\n",
            "  File \"/content/DreamPose/models/unet_dual_encoder.py\", line 30, in get_unet\n",
            "    unet.conv_in.weight[:, 4:] = torch.zeros(unet.conv_in.weight[:, 3:].shape) # new weights initialized to zero\n",
            "RuntimeError: The expanded size of the tensor (10) must match the existing size (11) at non-singleton dimension 1.  Target sizes: [320, 10, 3, 3].  Tensor sizes: [320, 11, 3, 3]\n"
          ]
        }
      ]
    }
  ]
}