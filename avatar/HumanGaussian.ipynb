{
  "nbformat": 4,
  "nbformat_minor": 0,
  "metadata": {
    "colab": {
      "provenance": [],
      "authorship_tag": "ABX9TyMA6/hEidlUkxRa2DpfDoP7",
      "include_colab_link": true
    },
    "kernelspec": {
      "name": "python3",
      "display_name": "Python 3"
    },
    "language_info": {
      "name": "python"
    }
  },
  "cells": [
    {
      "cell_type": "markdown",
      "metadata": {
        "id": "view-in-github",
        "colab_type": "text"
      },
      "source": [
        "<a href=\"https://colab.research.google.com/github/steinhaug/stable-diffusion/blob/main/avatar/HumanGaussian.ipynb\" target=\"_parent\"><img src=\"https://colab.research.google.com/assets/colab-badge.svg\" alt=\"Open In Colab\"/></a>"
      ]
    },
    {
      "cell_type": "markdown",
      "source": [
        "Git: https://github.com/alvinliu0/HumanGaussian\n",
        "\n",
        "Status: working\n",
        "\n",
        "Files #1: here\n",
        "\n",
        "Following files being prepared via google drive:\n",
        "Checkout google drive, MyDrive/avatar/HumanGaussian\n",
        "\n",
        "Files #2: https://mycuhk-my.sharepoint.com/:u:/g/personal/1155165198_link_cuhk_edu_hk/EYFLeeQznhRMk2OSNIt5a4EB27Vrx36Y7Nl4RbSbVGFSHQ?e=EkBNhW\n",
        "Files #3: https://mycuhk-my.sharepoint.com/:f:/g/personal/1155165198_link_cuhk_edu_hk/EnaTgGHw06FPq9XJo_7drNIBOQgTZbkP4HoAb5dYZZilIA?e=oGHKrC"
      ],
      "metadata": {
        "id": "y22tQ_jVCAQg"
      }
    },
    {
      "cell_type": "code",
      "execution_count": 4,
      "metadata": {
        "colab": {
          "base_uri": "https://localhost:8080/"
        },
        "id": "tkn4VWppxvlv",
        "outputId": "c389f05a-3dfa-4b15-8880-6bf62b95c1c0"
      },
      "outputs": [
        {
          "output_type": "stream",
          "name": "stdout",
          "text": [
            "Login successful\n",
            "File saved\n"
          ]
        }
      ],
      "source": [
        "import requests\n",
        "\n",
        "# Step 1: Log in\n",
        "login_url = 'https://download.is.tue.mpg.de/download.php?domain=smplx&sfile=models_smplx_v1_1.zip'\n",
        "\n",
        "login_url = 'https://download.is.tue.mpg.de/download.php?domain=smplx&sfile=smplx_lockedhead_20230207.zip'\n",
        "download_url = login_url\n",
        "\n",
        "username = 'steinhaug@gmail.com'\n",
        "password = '@c73hTQSHQtKGie'\n",
        "\n",
        "login_payload = {'username': username, 'password': password}\n",
        "session = requests.Session()\n",
        "login_response = session.post(login_url, data=login_payload)\n",
        "if login_response.ok:\n",
        "    with open('smplx_lockedhead_20230207.zip', 'wb') as file:\n",
        "        file.write(login_response.content)\n",
        "    print(\"File saved\")\n",
        "else:\n",
        "    print(\"Login failed\")"
      ]
    },
    {
      "cell_type": "code",
      "source": [
        "import requests\n",
        "\n",
        "login_url = 'https://download.is.tue.mpg.de/download.php?domain=smplx&sfile=models_smplx_v1_1.zip'\n",
        "download_url = login_url\n",
        "\n",
        "username = 'steinhaug@gmail.com'\n",
        "password = '@c73hTQSHQtKGie'\n",
        "\n",
        "login_payload = {'username': username, 'password': password}\n",
        "session = requests.Session()\n",
        "login_response = session.post(login_url, data=login_payload)\n",
        "if login_response.ok:\n",
        "    with open('models_smplx_v1_1.zip', 'wb') as file:\n",
        "        file.write(login_response.content)\n",
        "    print(\"File saved\")\n",
        "else:\n",
        "    print(\"Login failed\")"
      ],
      "metadata": {
        "id": "abyoSGu1Bo8T"
      },
      "execution_count": null,
      "outputs": []
    },
    {
      "cell_type": "code",
      "source": [
        "import zipfile\n",
        "import os\n",
        "\n",
        "# Function to unzip files\n",
        "def unzip_file(zip_path, extract_path):\n",
        "    with zipfile.ZipFile(zip_path, 'r') as zip_ref:\n",
        "        zip_ref.extractall(extract_path)\n",
        "\n",
        "# Unzip poses.zip\n",
        "unzip_file('/content/smplx_lockedhead_20230207.zip', '/content')\n",
        "unzip_file('/content/models_smplx_v1_1.zip', '/content')\n"
      ],
      "metadata": {
        "id": "xY2XtU1F0oOn"
      },
      "execution_count": 5,
      "outputs": []
    }
  ]
}
