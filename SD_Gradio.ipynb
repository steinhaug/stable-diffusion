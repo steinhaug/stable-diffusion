{
  "nbformat": 4,
  "nbformat_minor": 0,
  "metadata": {
    "colab": {
      "provenance": [],
      "mount_file_id": "https://github.com/steinhaug/stable-diffusion/blob/main/SD_Gradio.ipynb",
      "authorship_tag": "ABX9TyN6PAMyOpmGOngs5f6RAbS7",
      "include_colab_link": true
    },
    "kernelspec": {
      "name": "python3",
      "display_name": "Python 3"
    },
    "language_info": {
      "name": "python"
    },
    "gpuClass": "premium",
    "widgets": {
      "application/vnd.jupyter.widget-state+json": {
        "1af545426e4742e2861f7bf5f2181683": {
          "model_module": "@jupyter-widgets/controls",
          "model_name": "GridBoxModel",
          "model_module_version": "1.5.0",
          "state": {
            "_dom_classes": [],
            "_model_module": "@jupyter-widgets/controls",
            "_model_module_version": "1.5.0",
            "_model_name": "GridBoxModel",
            "_view_count": null,
            "_view_module": "@jupyter-widgets/controls",
            "_view_module_version": "1.5.0",
            "_view_name": "GridBoxView",
            "box_style": "",
            "children": [
              "IPY_MODEL_e491156249cf40f3ac9584927d616381",
              "IPY_MODEL_b49c47fffe734bf1bbe3f97fc7b07c09",
              "IPY_MODEL_762fad128811412ab039ccf9294f58e0",
              "IPY_MODEL_73dbdc3a8ee944c2a8e06d6e65c8d123",
              "IPY_MODEL_b6357b846d814d94987bfdedab80bc6f",
              "IPY_MODEL_6cc7763ba3f24e4589e2df30b64c3c00",
              "IPY_MODEL_b8f36e66fbc64cdcaf8656825a4694d7",
              "IPY_MODEL_e09461fd116b4cceb907487dfd86cfc5",
              "IPY_MODEL_cd11f7b4040146709efa92c30e027932",
              "IPY_MODEL_f0f158b731414a629868592d16d71abe"
            ],
            "layout": "IPY_MODEL_2365e90a8e5d40a4b3fdac6453e6b403"
          }
        },
        "e491156249cf40f3ac9584927d616381": {
          "model_module": "@jupyter-widgets/controls",
          "model_name": "ButtonModel",
          "model_module_version": "1.5.0",
          "state": {
            "_dom_classes": [],
            "_model_module": "@jupyter-widgets/controls",
            "_model_module_version": "1.5.0",
            "_model_name": "ButtonModel",
            "_view_count": null,
            "_view_module": "@jupyter-widgets/controls",
            "_view_module_version": "1.5.0",
            "_view_name": "ButtonView",
            "button_style": "",
            "description": "EXTENSIONS",
            "disabled": false,
            "icon": "",
            "layout": "IPY_MODEL_a19a6e54b2804d7bacb0504dd265a559",
            "style": "IPY_MODEL_538bbebc949c4ef79d498abf04701534",
            "tooltip": ""
          }
        },
        "b49c47fffe734bf1bbe3f97fc7b07c09": {
          "model_module": "@jupyter-widgets/controls",
          "model_name": "CheckboxModel",
          "model_module_version": "1.5.0",
          "state": {
            "_dom_classes": [],
            "_model_module": "@jupyter-widgets/controls",
            "_model_module_version": "1.5.0",
            "_model_name": "CheckboxModel",
            "_view_count": null,
            "_view_module": "@jupyter-widgets/controls",
            "_view_module_version": "1.5.0",
            "_view_name": "CheckboxView",
            "description": "Controlnet and Open pose",
            "description_tooltip": null,
            "disabled": false,
            "indent": false,
            "layout": "IPY_MODEL_fa0c0ae0b1d744248c62b72f87d99f56",
            "style": "IPY_MODEL_514601eab2c74b5198b44aaccb2521c9",
            "value": true
          }
        },
        "762fad128811412ab039ccf9294f58e0": {
          "model_module": "@jupyter-widgets/controls",
          "model_name": "CheckboxModel",
          "model_module_version": "1.5.0",
          "state": {
            "_dom_classes": [],
            "_model_module": "@jupyter-widgets/controls",
            "_model_module_version": "1.5.0",
            "_model_name": "CheckboxModel",
            "_view_count": null,
            "_view_module": "@jupyter-widgets/controls",
            "_view_module_version": "1.5.0",
            "_view_name": "CheckboxView",
            "description": "Image and civitai",
            "description_tooltip": null,
            "disabled": false,
            "indent": false,
            "layout": "IPY_MODEL_fc417897ecbc4523b2e5a8394df98137",
            "style": "IPY_MODEL_b6b673f2d6764a418d944b641e686fca",
            "value": true
          }
        },
        "73dbdc3a8ee944c2a8e06d6e65c8d123": {
          "model_module": "@jupyter-widgets/controls",
          "model_name": "CheckboxModel",
          "model_module_version": "1.5.0",
          "state": {
            "_dom_classes": [],
            "_model_module": "@jupyter-widgets/controls",
            "_model_module_version": "1.5.0",
            "_model_name": "CheckboxModel",
            "_view_count": null,
            "_view_module": "@jupyter-widgets/controls",
            "_view_module_version": "1.5.0",
            "_view_name": "CheckboxView",
            "description": "Huggingface weui",
            "description_tooltip": null,
            "disabled": false,
            "indent": false,
            "layout": "IPY_MODEL_46ca5ca7ab044658941934514b379a1a",
            "style": "IPY_MODEL_97c4ee9e819247e1b0990ef1f7a64010",
            "value": true
          }
        },
        "b6357b846d814d94987bfdedab80bc6f": {
          "model_module": "@jupyter-widgets/controls",
          "model_name": "ButtonModel",
          "model_module_version": "1.5.0",
          "state": {
            "_dom_classes": [],
            "_model_module": "@jupyter-widgets/controls",
            "_model_module_version": "1.5.0",
            "_model_name": "ButtonModel",
            "_view_count": null,
            "_view_module": "@jupyter-widgets/controls",
            "_view_module_version": "1.5.0",
            "_view_name": "ButtonView",
            "button_style": "",
            "description": "PATHS",
            "disabled": false,
            "icon": "",
            "layout": "IPY_MODEL_768885e1a2c342f08b5c127cbbd0a6e6",
            "style": "IPY_MODEL_cea6e2f7be63479f9407ae0bc908ea57",
            "tooltip": ""
          }
        },
        "6cc7763ba3f24e4589e2df30b64c3c00": {
          "model_module": "@jupyter-widgets/controls",
          "model_name": "TextModel",
          "model_module_version": "1.5.0",
          "state": {
            "_dom_classes": [],
            "_model_module": "@jupyter-widgets/controls",
            "_model_module_version": "1.5.0",
            "_model_name": "TextModel",
            "_view_count": null,
            "_view_module": "@jupyter-widgets/controls",
            "_view_module_version": "1.5.0",
            "_view_name": "TextView",
            "continuous_update": true,
            "description": "",
            "description_tooltip": null,
            "disabled": false,
            "layout": "IPY_MODEL_3e4a199d8fd74e19afda27be863d3a7e",
            "placeholder": "Path to main checkpoint file",
            "style": "IPY_MODEL_10dce75193f2498d8d4989a075489abe",
            "value": "/content/drive/MyDrive/models/kimsteinhaug-3000.ckpt"
          }
        },
        "b8f36e66fbc64cdcaf8656825a4694d7": {
          "model_module": "@jupyter-widgets/controls",
          "model_name": "TextModel",
          "model_module_version": "1.5.0",
          "state": {
            "_dom_classes": [],
            "_model_module": "@jupyter-widgets/controls",
            "_model_module_version": "1.5.0",
            "_model_name": "TextModel",
            "_view_count": null,
            "_view_module": "@jupyter-widgets/controls",
            "_view_module_version": "1.5.0",
            "_view_name": "TextView",
            "continuous_update": true,
            "description": "",
            "description_tooltip": null,
            "disabled": false,
            "layout": "IPY_MODEL_bd7bc262bc804236ad1fea1ada8ed492",
            "placeholder": "Path to checkpoints folder",
            "style": "IPY_MODEL_c1db0f1d5dc94fdd8de6c77958175458",
            "value": "/content/drive/MyDrive/models"
          }
        },
        "e09461fd116b4cceb907487dfd86cfc5": {
          "model_module": "@jupyter-widgets/controls",
          "model_name": "TextModel",
          "model_module_version": "1.5.0",
          "state": {
            "_dom_classes": [],
            "_model_module": "@jupyter-widgets/controls",
            "_model_module_version": "1.5.0",
            "_model_name": "TextModel",
            "_view_count": null,
            "_view_module": "@jupyter-widgets/controls",
            "_view_module_version": "1.5.0",
            "_view_name": "TextView",
            "continuous_update": true,
            "description": "",
            "description_tooltip": null,
            "disabled": false,
            "layout": "IPY_MODEL_1decf01249a54a3e8d13e6e7b5281300",
            "placeholder": "Path to controlnet models folder",
            "style": "IPY_MODEL_9160db57081e43f9be042291cd38c1d8",
            "value": "/content/drive/MyDrive/models-controlnet"
          }
        },
        "cd11f7b4040146709efa92c30e027932": {
          "model_module": "@jupyter-widgets/controls",
          "model_name": "ButtonModel",
          "model_module_version": "1.5.0",
          "state": {
            "_dom_classes": [],
            "_model_module": "@jupyter-widgets/controls",
            "_model_module_version": "1.5.0",
            "_model_name": "ButtonModel",
            "_view_count": null,
            "_view_module": "@jupyter-widgets/controls",
            "_view_module_version": "1.5.0",
            "_view_name": "ButtonView",
            "button_style": "",
            "description": "CHECKPOINTS",
            "disabled": false,
            "icon": "",
            "layout": "IPY_MODEL_ffa91ddb5fdb47ffa56f83eee75854b9",
            "style": "IPY_MODEL_83fcf65f268a448faaf2401222a6bb9c",
            "tooltip": ""
          }
        },
        "f0f158b731414a629868592d16d71abe": {
          "model_module": "@jupyter-widgets/controls",
          "model_name": "ButtonModel",
          "model_module_version": "1.5.0",
          "state": {
            "_dom_classes": [],
            "_model_module": "@jupyter-widgets/controls",
            "_model_module_version": "1.5.0",
            "_model_name": "ButtonModel",
            "_view_count": null,
            "_view_module": "@jupyter-widgets/controls",
            "_view_module_version": "1.5.0",
            "_view_name": "ButtonView",
            "button_style": "info",
            "description": "Continue",
            "disabled": false,
            "icon": "",
            "layout": "IPY_MODEL_e7c944ed66ee4b128942db5c210ef16c",
            "style": "IPY_MODEL_9a1d31210fc94757a41a105d5bcc84ec",
            "tooltip": ""
          }
        },
        "2365e90a8e5d40a4b3fdac6453e6b403": {
          "model_module": "@jupyter-widgets/base",
          "model_name": "LayoutModel",
          "model_module_version": "1.2.0",
          "state": {
            "_model_module": "@jupyter-widgets/base",
            "_model_module_version": "1.2.0",
            "_model_name": "LayoutModel",
            "_view_count": null,
            "_view_module": "@jupyter-widgets/base",
            "_view_module_version": "1.2.0",
            "_view_name": "LayoutView",
            "align_content": null,
            "align_items": null,
            "align_self": null,
            "border": null,
            "bottom": null,
            "display": null,
            "flex": null,
            "flex_flow": null,
            "grid_area": null,
            "grid_auto_columns": null,
            "grid_auto_flow": null,
            "grid_auto_rows": null,
            "grid_column": null,
            "grid_gap": null,
            "grid_row": null,
            "grid_template_areas": "\"widget001 widget005 widget009\"\n\"widget002 widget006 .\"\n\"widget003 widget007 .\"\n\"widget004 widget008 .\"\n\"widget010 widget010 widget010\"",
            "grid_template_columns": "repeat(3, 1fr)",
            "grid_template_rows": "repeat(5, 1fr)",
            "height": null,
            "justify_content": null,
            "justify_items": null,
            "left": null,
            "margin": null,
            "max_height": null,
            "max_width": null,
            "min_height": null,
            "min_width": null,
            "object_fit": null,
            "object_position": null,
            "order": null,
            "overflow": null,
            "overflow_x": null,
            "overflow_y": null,
            "padding": null,
            "right": null,
            "top": null,
            "visibility": null,
            "width": null
          }
        },
        "a19a6e54b2804d7bacb0504dd265a559": {
          "model_module": "@jupyter-widgets/base",
          "model_name": "LayoutModel",
          "model_module_version": "1.2.0",
          "state": {
            "_model_module": "@jupyter-widgets/base",
            "_model_module_version": "1.2.0",
            "_model_name": "LayoutModel",
            "_view_count": null,
            "_view_module": "@jupyter-widgets/base",
            "_view_module_version": "1.2.0",
            "_view_name": "LayoutView",
            "align_content": null,
            "align_items": null,
            "align_self": null,
            "border": null,
            "bottom": null,
            "display": null,
            "flex": null,
            "flex_flow": null,
            "grid_area": "widget001",
            "grid_auto_columns": null,
            "grid_auto_flow": null,
            "grid_auto_rows": null,
            "grid_column": null,
            "grid_gap": null,
            "grid_row": null,
            "grid_template_areas": null,
            "grid_template_columns": null,
            "grid_template_rows": null,
            "height": null,
            "justify_content": null,
            "justify_items": null,
            "left": null,
            "margin": null,
            "max_height": null,
            "max_width": null,
            "min_height": null,
            "min_width": null,
            "object_fit": null,
            "object_position": null,
            "order": null,
            "overflow": null,
            "overflow_x": null,
            "overflow_y": null,
            "padding": null,
            "right": null,
            "top": null,
            "visibility": null,
            "width": null
          }
        },
        "538bbebc949c4ef79d498abf04701534": {
          "model_module": "@jupyter-widgets/controls",
          "model_name": "ButtonStyleModel",
          "model_module_version": "1.5.0",
          "state": {
            "_model_module": "@jupyter-widgets/controls",
            "_model_module_version": "1.5.0",
            "_model_name": "ButtonStyleModel",
            "_view_count": null,
            "_view_module": "@jupyter-widgets/base",
            "_view_module_version": "1.2.0",
            "_view_name": "StyleView",
            "button_color": "White",
            "font_weight": "bold"
          }
        },
        "fa0c0ae0b1d744248c62b72f87d99f56": {
          "model_module": "@jupyter-widgets/base",
          "model_name": "LayoutModel",
          "model_module_version": "1.2.0",
          "state": {
            "_model_module": "@jupyter-widgets/base",
            "_model_module_version": "1.2.0",
            "_model_name": "LayoutModel",
            "_view_count": null,
            "_view_module": "@jupyter-widgets/base",
            "_view_module_version": "1.2.0",
            "_view_name": "LayoutView",
            "align_content": null,
            "align_items": null,
            "align_self": null,
            "border": null,
            "bottom": null,
            "display": null,
            "flex": null,
            "flex_flow": null,
            "grid_area": "widget002",
            "grid_auto_columns": null,
            "grid_auto_flow": null,
            "grid_auto_rows": null,
            "grid_column": null,
            "grid_gap": null,
            "grid_row": null,
            "grid_template_areas": null,
            "grid_template_columns": null,
            "grid_template_rows": null,
            "height": null,
            "justify_content": null,
            "justify_items": null,
            "left": null,
            "margin": null,
            "max_height": null,
            "max_width": null,
            "min_height": null,
            "min_width": null,
            "object_fit": null,
            "object_position": null,
            "order": null,
            "overflow": null,
            "overflow_x": null,
            "overflow_y": null,
            "padding": null,
            "right": null,
            "top": null,
            "visibility": null,
            "width": null
          }
        },
        "514601eab2c74b5198b44aaccb2521c9": {
          "model_module": "@jupyter-widgets/controls",
          "model_name": "DescriptionStyleModel",
          "model_module_version": "1.5.0",
          "state": {
            "_model_module": "@jupyter-widgets/controls",
            "_model_module_version": "1.5.0",
            "_model_name": "DescriptionStyleModel",
            "_view_count": null,
            "_view_module": "@jupyter-widgets/base",
            "_view_module_version": "1.2.0",
            "_view_name": "StyleView",
            "description_width": ""
          }
        },
        "fc417897ecbc4523b2e5a8394df98137": {
          "model_module": "@jupyter-widgets/base",
          "model_name": "LayoutModel",
          "model_module_version": "1.2.0",
          "state": {
            "_model_module": "@jupyter-widgets/base",
            "_model_module_version": "1.2.0",
            "_model_name": "LayoutModel",
            "_view_count": null,
            "_view_module": "@jupyter-widgets/base",
            "_view_module_version": "1.2.0",
            "_view_name": "LayoutView",
            "align_content": null,
            "align_items": null,
            "align_self": null,
            "border": null,
            "bottom": null,
            "display": null,
            "flex": null,
            "flex_flow": null,
            "grid_area": "widget003",
            "grid_auto_columns": null,
            "grid_auto_flow": null,
            "grid_auto_rows": null,
            "grid_column": null,
            "grid_gap": null,
            "grid_row": null,
            "grid_template_areas": null,
            "grid_template_columns": null,
            "grid_template_rows": null,
            "height": null,
            "justify_content": null,
            "justify_items": null,
            "left": null,
            "margin": null,
            "max_height": null,
            "max_width": null,
            "min_height": null,
            "min_width": null,
            "object_fit": null,
            "object_position": null,
            "order": null,
            "overflow": null,
            "overflow_x": null,
            "overflow_y": null,
            "padding": null,
            "right": null,
            "top": null,
            "visibility": null,
            "width": null
          }
        },
        "b6b673f2d6764a418d944b641e686fca": {
          "model_module": "@jupyter-widgets/controls",
          "model_name": "DescriptionStyleModel",
          "model_module_version": "1.5.0",
          "state": {
            "_model_module": "@jupyter-widgets/controls",
            "_model_module_version": "1.5.0",
            "_model_name": "DescriptionStyleModel",
            "_view_count": null,
            "_view_module": "@jupyter-widgets/base",
            "_view_module_version": "1.2.0",
            "_view_name": "StyleView",
            "description_width": ""
          }
        },
        "46ca5ca7ab044658941934514b379a1a": {
          "model_module": "@jupyter-widgets/base",
          "model_name": "LayoutModel",
          "model_module_version": "1.2.0",
          "state": {
            "_model_module": "@jupyter-widgets/base",
            "_model_module_version": "1.2.0",
            "_model_name": "LayoutModel",
            "_view_count": null,
            "_view_module": "@jupyter-widgets/base",
            "_view_module_version": "1.2.0",
            "_view_name": "LayoutView",
            "align_content": null,
            "align_items": null,
            "align_self": null,
            "border": null,
            "bottom": null,
            "display": null,
            "flex": null,
            "flex_flow": null,
            "grid_area": "widget004",
            "grid_auto_columns": null,
            "grid_auto_flow": null,
            "grid_auto_rows": null,
            "grid_column": null,
            "grid_gap": null,
            "grid_row": null,
            "grid_template_areas": null,
            "grid_template_columns": null,
            "grid_template_rows": null,
            "height": null,
            "justify_content": null,
            "justify_items": null,
            "left": null,
            "margin": null,
            "max_height": null,
            "max_width": null,
            "min_height": null,
            "min_width": null,
            "object_fit": null,
            "object_position": null,
            "order": null,
            "overflow": null,
            "overflow_x": null,
            "overflow_y": null,
            "padding": null,
            "right": null,
            "top": null,
            "visibility": null,
            "width": null
          }
        },
        "97c4ee9e819247e1b0990ef1f7a64010": {
          "model_module": "@jupyter-widgets/controls",
          "model_name": "DescriptionStyleModel",
          "model_module_version": "1.5.0",
          "state": {
            "_model_module": "@jupyter-widgets/controls",
            "_model_module_version": "1.5.0",
            "_model_name": "DescriptionStyleModel",
            "_view_count": null,
            "_view_module": "@jupyter-widgets/base",
            "_view_module_version": "1.2.0",
            "_view_name": "StyleView",
            "description_width": ""
          }
        },
        "768885e1a2c342f08b5c127cbbd0a6e6": {
          "model_module": "@jupyter-widgets/base",
          "model_name": "LayoutModel",
          "model_module_version": "1.2.0",
          "state": {
            "_model_module": "@jupyter-widgets/base",
            "_model_module_version": "1.2.0",
            "_model_name": "LayoutModel",
            "_view_count": null,
            "_view_module": "@jupyter-widgets/base",
            "_view_module_version": "1.2.0",
            "_view_name": "LayoutView",
            "align_content": null,
            "align_items": null,
            "align_self": null,
            "border": null,
            "bottom": null,
            "display": null,
            "flex": null,
            "flex_flow": null,
            "grid_area": "widget005",
            "grid_auto_columns": null,
            "grid_auto_flow": null,
            "grid_auto_rows": null,
            "grid_column": null,
            "grid_gap": null,
            "grid_row": null,
            "grid_template_areas": null,
            "grid_template_columns": null,
            "grid_template_rows": null,
            "height": null,
            "justify_content": null,
            "justify_items": null,
            "left": null,
            "margin": null,
            "max_height": null,
            "max_width": null,
            "min_height": null,
            "min_width": null,
            "object_fit": null,
            "object_position": null,
            "order": null,
            "overflow": null,
            "overflow_x": null,
            "overflow_y": null,
            "padding": null,
            "right": null,
            "top": null,
            "visibility": null,
            "width": null
          }
        },
        "cea6e2f7be63479f9407ae0bc908ea57": {
          "model_module": "@jupyter-widgets/controls",
          "model_name": "ButtonStyleModel",
          "model_module_version": "1.5.0",
          "state": {
            "_model_module": "@jupyter-widgets/controls",
            "_model_module_version": "1.5.0",
            "_model_name": "ButtonStyleModel",
            "_view_count": null,
            "_view_module": "@jupyter-widgets/base",
            "_view_module_version": "1.2.0",
            "_view_name": "StyleView",
            "button_color": "White",
            "font_weight": "bold"
          }
        },
        "3e4a199d8fd74e19afda27be863d3a7e": {
          "model_module": "@jupyter-widgets/base",
          "model_name": "LayoutModel",
          "model_module_version": "1.2.0",
          "state": {
            "_model_module": "@jupyter-widgets/base",
            "_model_module_version": "1.2.0",
            "_model_name": "LayoutModel",
            "_view_count": null,
            "_view_module": "@jupyter-widgets/base",
            "_view_module_version": "1.2.0",
            "_view_name": "LayoutView",
            "align_content": null,
            "align_items": null,
            "align_self": null,
            "border": null,
            "bottom": null,
            "display": null,
            "flex": null,
            "flex_flow": null,
            "grid_area": "widget006",
            "grid_auto_columns": null,
            "grid_auto_flow": null,
            "grid_auto_rows": null,
            "grid_column": null,
            "grid_gap": null,
            "grid_row": null,
            "grid_template_areas": null,
            "grid_template_columns": null,
            "grid_template_rows": null,
            "height": null,
            "justify_content": null,
            "justify_items": null,
            "left": null,
            "margin": null,
            "max_height": null,
            "max_width": null,
            "min_height": null,
            "min_width": null,
            "object_fit": null,
            "object_position": null,
            "order": null,
            "overflow": null,
            "overflow_x": null,
            "overflow_y": null,
            "padding": null,
            "right": null,
            "top": null,
            "visibility": null,
            "width": null
          }
        },
        "10dce75193f2498d8d4989a075489abe": {
          "model_module": "@jupyter-widgets/controls",
          "model_name": "DescriptionStyleModel",
          "model_module_version": "1.5.0",
          "state": {
            "_model_module": "@jupyter-widgets/controls",
            "_model_module_version": "1.5.0",
            "_model_name": "DescriptionStyleModel",
            "_view_count": null,
            "_view_module": "@jupyter-widgets/base",
            "_view_module_version": "1.2.0",
            "_view_name": "StyleView",
            "description_width": ""
          }
        },
        "bd7bc262bc804236ad1fea1ada8ed492": {
          "model_module": "@jupyter-widgets/base",
          "model_name": "LayoutModel",
          "model_module_version": "1.2.0",
          "state": {
            "_model_module": "@jupyter-widgets/base",
            "_model_module_version": "1.2.0",
            "_model_name": "LayoutModel",
            "_view_count": null,
            "_view_module": "@jupyter-widgets/base",
            "_view_module_version": "1.2.0",
            "_view_name": "LayoutView",
            "align_content": null,
            "align_items": null,
            "align_self": null,
            "border": null,
            "bottom": null,
            "display": null,
            "flex": null,
            "flex_flow": null,
            "grid_area": "widget007",
            "grid_auto_columns": null,
            "grid_auto_flow": null,
            "grid_auto_rows": null,
            "grid_column": null,
            "grid_gap": null,
            "grid_row": null,
            "grid_template_areas": null,
            "grid_template_columns": null,
            "grid_template_rows": null,
            "height": null,
            "justify_content": null,
            "justify_items": null,
            "left": null,
            "margin": null,
            "max_height": null,
            "max_width": null,
            "min_height": null,
            "min_width": null,
            "object_fit": null,
            "object_position": null,
            "order": null,
            "overflow": null,
            "overflow_x": null,
            "overflow_y": null,
            "padding": null,
            "right": null,
            "top": null,
            "visibility": null,
            "width": null
          }
        },
        "c1db0f1d5dc94fdd8de6c77958175458": {
          "model_module": "@jupyter-widgets/controls",
          "model_name": "DescriptionStyleModel",
          "model_module_version": "1.5.0",
          "state": {
            "_model_module": "@jupyter-widgets/controls",
            "_model_module_version": "1.5.0",
            "_model_name": "DescriptionStyleModel",
            "_view_count": null,
            "_view_module": "@jupyter-widgets/base",
            "_view_module_version": "1.2.0",
            "_view_name": "StyleView",
            "description_width": ""
          }
        },
        "1decf01249a54a3e8d13e6e7b5281300": {
          "model_module": "@jupyter-widgets/base",
          "model_name": "LayoutModel",
          "model_module_version": "1.2.0",
          "state": {
            "_model_module": "@jupyter-widgets/base",
            "_model_module_version": "1.2.0",
            "_model_name": "LayoutModel",
            "_view_count": null,
            "_view_module": "@jupyter-widgets/base",
            "_view_module_version": "1.2.0",
            "_view_name": "LayoutView",
            "align_content": null,
            "align_items": null,
            "align_self": null,
            "border": null,
            "bottom": null,
            "display": null,
            "flex": null,
            "flex_flow": null,
            "grid_area": "widget008",
            "grid_auto_columns": null,
            "grid_auto_flow": null,
            "grid_auto_rows": null,
            "grid_column": null,
            "grid_gap": null,
            "grid_row": null,
            "grid_template_areas": null,
            "grid_template_columns": null,
            "grid_template_rows": null,
            "height": null,
            "justify_content": null,
            "justify_items": null,
            "left": null,
            "margin": null,
            "max_height": null,
            "max_width": null,
            "min_height": null,
            "min_width": null,
            "object_fit": null,
            "object_position": null,
            "order": null,
            "overflow": null,
            "overflow_x": null,
            "overflow_y": null,
            "padding": null,
            "right": null,
            "top": null,
            "visibility": null,
            "width": null
          }
        },
        "9160db57081e43f9be042291cd38c1d8": {
          "model_module": "@jupyter-widgets/controls",
          "model_name": "DescriptionStyleModel",
          "model_module_version": "1.5.0",
          "state": {
            "_model_module": "@jupyter-widgets/controls",
            "_model_module_version": "1.5.0",
            "_model_name": "DescriptionStyleModel",
            "_view_count": null,
            "_view_module": "@jupyter-widgets/base",
            "_view_module_version": "1.2.0",
            "_view_name": "StyleView",
            "description_width": ""
          }
        },
        "ffa91ddb5fdb47ffa56f83eee75854b9": {
          "model_module": "@jupyter-widgets/base",
          "model_name": "LayoutModel",
          "model_module_version": "1.2.0",
          "state": {
            "_model_module": "@jupyter-widgets/base",
            "_model_module_version": "1.2.0",
            "_model_name": "LayoutModel",
            "_view_count": null,
            "_view_module": "@jupyter-widgets/base",
            "_view_module_version": "1.2.0",
            "_view_name": "LayoutView",
            "align_content": null,
            "align_items": null,
            "align_self": null,
            "border": null,
            "bottom": null,
            "display": null,
            "flex": null,
            "flex_flow": null,
            "grid_area": "widget009",
            "grid_auto_columns": null,
            "grid_auto_flow": null,
            "grid_auto_rows": null,
            "grid_column": null,
            "grid_gap": null,
            "grid_row": null,
            "grid_template_areas": null,
            "grid_template_columns": null,
            "grid_template_rows": null,
            "height": null,
            "justify_content": null,
            "justify_items": null,
            "left": null,
            "margin": null,
            "max_height": null,
            "max_width": null,
            "min_height": null,
            "min_width": null,
            "object_fit": null,
            "object_position": null,
            "order": null,
            "overflow": null,
            "overflow_x": null,
            "overflow_y": null,
            "padding": null,
            "right": null,
            "top": null,
            "visibility": null,
            "width": null
          }
        },
        "83fcf65f268a448faaf2401222a6bb9c": {
          "model_module": "@jupyter-widgets/controls",
          "model_name": "ButtonStyleModel",
          "model_module_version": "1.5.0",
          "state": {
            "_model_module": "@jupyter-widgets/controls",
            "_model_module_version": "1.5.0",
            "_model_name": "ButtonStyleModel",
            "_view_count": null,
            "_view_module": "@jupyter-widgets/base",
            "_view_module_version": "1.2.0",
            "_view_name": "StyleView",
            "button_color": "White",
            "font_weight": "bold"
          }
        },
        "e7c944ed66ee4b128942db5c210ef16c": {
          "model_module": "@jupyter-widgets/base",
          "model_name": "LayoutModel",
          "model_module_version": "1.2.0",
          "state": {
            "_model_module": "@jupyter-widgets/base",
            "_model_module_version": "1.2.0",
            "_model_name": "LayoutModel",
            "_view_count": null,
            "_view_module": "@jupyter-widgets/base",
            "_view_module_version": "1.2.0",
            "_view_name": "LayoutView",
            "align_content": null,
            "align_items": null,
            "align_self": null,
            "border": null,
            "bottom": null,
            "display": null,
            "flex": null,
            "flex_flow": null,
            "grid_area": "widget010",
            "grid_auto_columns": null,
            "grid_auto_flow": null,
            "grid_auto_rows": null,
            "grid_column": null,
            "grid_gap": null,
            "grid_row": null,
            "grid_template_areas": null,
            "grid_template_columns": null,
            "grid_template_rows": null,
            "height": "auto",
            "justify_content": null,
            "justify_items": null,
            "left": null,
            "margin": null,
            "max_height": null,
            "max_width": null,
            "min_height": null,
            "min_width": null,
            "object_fit": null,
            "object_position": null,
            "order": null,
            "overflow": null,
            "overflow_x": null,
            "overflow_y": null,
            "padding": null,
            "right": null,
            "top": null,
            "visibility": null,
            "width": "auto"
          }
        },
        "9a1d31210fc94757a41a105d5bcc84ec": {
          "model_module": "@jupyter-widgets/controls",
          "model_name": "ButtonStyleModel",
          "model_module_version": "1.5.0",
          "state": {
            "_model_module": "@jupyter-widgets/controls",
            "_model_module_version": "1.5.0",
            "_model_name": "ButtonStyleModel",
            "_view_count": null,
            "_view_module": "@jupyter-widgets/base",
            "_view_module_version": "1.2.0",
            "_view_name": "StyleView",
            "button_color": null,
            "font_weight": ""
          }
        },
        "5e82379fee9a45528c3157e9ae6ad0a5": {
          "model_module": "@jupyter-widgets/controls",
          "model_name": "ButtonModel",
          "model_module_version": "1.5.0",
          "state": {
            "_dom_classes": [],
            "_model_module": "@jupyter-widgets/controls",
            "_model_module_version": "1.5.0",
            "_model_name": "ButtonModel",
            "_view_count": null,
            "_view_module": "@jupyter-widgets/controls",
            "_view_module_version": "1.5.0",
            "_view_name": "ButtonView",
            "button_style": "",
            "description": "Test",
            "disabled": false,
            "icon": "",
            "layout": "IPY_MODEL_3c32daafaa9a47baa66c72401ecd5de5",
            "style": "IPY_MODEL_73a9ab9025114361861993b5d9a46642",
            "tooltip": ""
          }
        },
        "3c32daafaa9a47baa66c72401ecd5de5": {
          "model_module": "@jupyter-widgets/base",
          "model_name": "LayoutModel",
          "model_module_version": "1.2.0",
          "state": {
            "_model_module": "@jupyter-widgets/base",
            "_model_module_version": "1.2.0",
            "_model_name": "LayoutModel",
            "_view_count": null,
            "_view_module": "@jupyter-widgets/base",
            "_view_module_version": "1.2.0",
            "_view_name": "LayoutView",
            "align_content": null,
            "align_items": null,
            "align_self": null,
            "border": null,
            "bottom": null,
            "display": null,
            "flex": null,
            "flex_flow": null,
            "grid_area": null,
            "grid_auto_columns": null,
            "grid_auto_flow": null,
            "grid_auto_rows": null,
            "grid_column": null,
            "grid_gap": null,
            "grid_row": null,
            "grid_template_areas": null,
            "grid_template_columns": null,
            "grid_template_rows": null,
            "height": null,
            "justify_content": null,
            "justify_items": null,
            "left": null,
            "margin": null,
            "max_height": null,
            "max_width": null,
            "min_height": null,
            "min_width": null,
            "object_fit": null,
            "object_position": null,
            "order": null,
            "overflow": null,
            "overflow_x": null,
            "overflow_y": null,
            "padding": null,
            "right": null,
            "top": null,
            "visibility": null,
            "width": null
          }
        },
        "73a9ab9025114361861993b5d9a46642": {
          "model_module": "@jupyter-widgets/controls",
          "model_name": "ButtonStyleModel",
          "model_module_version": "1.5.0",
          "state": {
            "_model_module": "@jupyter-widgets/controls",
            "_model_module_version": "1.5.0",
            "_model_name": "ButtonStyleModel",
            "_view_count": null,
            "_view_module": "@jupyter-widgets/base",
            "_view_module_version": "1.2.0",
            "_view_name": "StyleView",
            "button_color": null,
            "font_weight": ""
          }
        }
      }
    }
  },
  "cells": [
    {
      "cell_type": "markdown",
      "metadata": {
        "id": "view-in-github",
        "colab_type": "text"
      },
      "source": [
        "<a href=\"https://colab.research.google.com/github/steinhaug/stable-diffusion/blob/main/SD_Gradio.ipynb\" target=\"_parent\"><img src=\"https://colab.research.google.com/assets/colab-badge.svg\" alt=\"Open In Colab\"/></a>"
      ]
    },
    {
      "cell_type": "markdown",
      "source": [
        "# Stable Diffusion WebUI\n",
        "\n",
        "Run next block by pressing play, it takes around 10 minutes to load. When\n",
        "done you should see two link at the bottom of output. Click on the \n",
        "public URL to open WebUI.\n",
        "\n",
        "When WebUI is loaded, you can switch between models in the upper left corner from the \"Stable diffusion checkpoint\" dropdown."
      ],
      "metadata": {
        "id": "Au2gtMm1uf2P"
      }
    },
    {
      "cell_type": "markdown",
      "source": [
        "#  System checks"
      ],
      "metadata": {
        "id": "InP80QujX1c2"
      }
    },
    {
      "cell_type": "code",
      "source": [
        "#@title System check - Verify that we are running with a GPU\n",
        "gpu_info = !nvidia-smi\n",
        "gpu_info = '\\n'.join(gpu_info)\n",
        "if gpu_info.find('failed') >= 0:\n",
        "  print('Not connected to a GPU')\n",
        "else:\n",
        "  print(gpu_info)"
      ],
      "metadata": {
        "cellView": "form",
        "id": "SOSw6FWTXnPt"
      },
      "execution_count": null,
      "outputs": []
    },
    {
      "cell_type": "code",
      "source": [
        "#@title System check - Check memory\n",
        "from psutil import virtual_memory\n",
        "ram_gb = virtual_memory().total / 1e9\n",
        "print('Your runtime has {:.1f} gigabytes of available RAM\\n'.format(ram_gb))\n",
        "\n",
        "if ram_gb < 20:\n",
        "  print('Not using a high-RAM runtime')\n",
        "else:\n",
        "  print('You are using a high-RAM runtime!')"
      ],
      "metadata": {
        "cellView": "form",
        "id": "rlyYxd5GXprI"
      },
      "execution_count": null,
      "outputs": []
    },
    {
      "cell_type": "markdown",
      "source": [
        "# AUTOMATIC1111"
      ],
      "metadata": {
        "id": "F4MtzUENX5Ik"
      }
    },
    {
      "cell_type": "code",
      "source": [
        "#@title Connect: Google Drive mount, enable saving of settings\n",
        "from google.colab import drive\n",
        "drive.mount('/content/drive')"
      ],
      "metadata": {
        "cellView": "form",
        "id": "0ZAXUOcuUN7X"
      },
      "execution_count": null,
      "outputs": []
    },
    {
      "cell_type": "code",
      "source": [
        "#@title Install AUTOMATIC1111 libs\n",
        "%pip install -q accelerate transformers ftfy bitsandbytes==0.35.0 gradio natsort safetensors xformers\n",
        "!git clone https://github.com/AUTOMATIC1111/stable-diffusion-webui\n",
        "\n",
        "INI_FILE_LOC = \"/content/drive/MyDrive/sd-colab.ini\"\n"
      ],
      "metadata": {
        "cellView": "form",
        "id": "XdeFv1Filmtz"
      },
      "execution_count": null,
      "outputs": []
    },
    {
      "cell_type": "code",
      "source": [
        "#@title Extensions: openpose-editor and controlnet\n",
        "!git clone https://github.com/fkunn1326/openpose-editor /content/stable-diffusion-webui/extensions/openpose-editor\n",
        "!git clone https://github.com/Mikubill/sd-webui-controlnet /content/stable-diffusion-webui/extensions/sd-webui-controlnet\n",
        "#!wget https://huggingface.co/lllyasviel/ControlNet/resolve/main/models/control_sd15_openpose.pth -O /content/stable-diffusion-webui/extensions/sd-webui-controlnet/models/control_sd15_openpose.pth\n",
        "#!wget https://huggingface.co/lllyasviel/ControlNet/resolve/main/models/control_sd15_depth.pth -O /content/stable-diffusion-webui/extensions/sd-webui-controlnet/models/control_sd15_depth.pth\n",
        "#!wget https://huggingface.co/lllyasviel/ControlNet/resolve/main/models/control_sd15_scribble.pth -O /content/stable-diffusion-webui/extensions/sd-webui-controlnet/models/control_sd15_scribble.pth\n",
        "\n",
        "from IPython.display import clear_output; clear_output(); print('\u001b[1;32mDone! ✓')"
      ],
      "metadata": {
        "cellView": "form",
        "id": "XmnGAetXfKO0"
      },
      "execution_count": null,
      "outputs": []
    },
    {
      "cell_type": "code",
      "source": [
        "#@title Extensions: Browsers, image and civitai\n",
        "!git clone https://github.com/yfszzx/stable-diffusion-webui-images-browser /content/stable-diffusion-webui/extensions/stable-diffusion-webui-images-browser\n",
        "!git clone https://github.com/camenduru/sd-civitai-browser /content/stable-diffusion-webui/extensions/sd-civitai-browser\n",
        "from IPython.display import clear_output; clear_output(); print('\u001b[1;32mDone! ✓')"
      ],
      "metadata": {
        "cellView": "form",
        "id": "KHfCd2mRxQUG"
      },
      "execution_count": null,
      "outputs": []
    },
    {
      "cell_type": "code",
      "source": [
        "#@title Extensions: Huggingface weui\n",
        "!git clone https://github.com/camenduru/stable-diffusion-webui-huggingface /content/stable-diffusion-webui/extensions/stable-diffusion-webui-huggingface\n",
        "!pip install huggingface-hub==0.11.1\n",
        "\n",
        "from IPython.display import clear_output; clear_output(); print('\u001b[1;32mDone! ✓')"
      ],
      "metadata": {
        "cellView": "form",
        "id": "gGamqB1UxEkx"
      },
      "execution_count": null,
      "outputs": []
    },
    {
      "cell_type": "code",
      "source": [
        "#@title Checkpoint: kimsteinhaug-3000 (already in ./MyDrive/models)\n",
        "!cp /content/drive/MyDrive/trainstep_checkpoints/epoch=000001-step=000003000.ckpt /content/stable-diffusion-webui/models/Stable-diffusion/kimsteinhaug-3000.ckpt\n",
        "from IPython.display import clear_output; clear_output(); print('\u001b[1;32mDone! ✓')"
      ],
      "metadata": {
        "id": "TRDP88hQcAZI"
      },
      "execution_count": null,
      "outputs": []
    },
    {
      "cell_type": "code",
      "source": [
        "#@title Checkpoint: Misc checkpoints...\n",
        "#%cd /content/stable-diffusion-webui\n",
        "#!wget https://huggingface.co/ckpt/sd15/resolve/main/v1-5-pruned-emaonly.ckpt -O /content/stable-diffusion-webui/models/Stable-diffusion/v1-5-pruned-emaonly.ckpt\n",
        "!wget https://huggingface.co/ckpt/Protogen_V2.2/resolve/main/Protogen_V2.2.ckpt -O /content/stable-diffusion-webui/models/Stable-diffusion/Protogen_V2.2.ckpt\n",
        "#!wget https://huggingface.co/ckpt/hassanblend1.4/resolve/main/HassanBlend1.4-Pruned.ckpt -O /content/stable-diffusion-webui/models/Stable-diffusion/HassanBlend1.4-Pruned.ckpt\n",
        "from IPython.display import clear_output; clear_output(); print('\u001b[1;32mDone! ✓')"
      ],
      "metadata": {
        "id": "XYCq-EkkbPWw"
      },
      "execution_count": null,
      "outputs": []
    },
    {
      "cell_type": "code",
      "source": [
        "#@title Launcher: Default\n",
        "%cd /content/stable-diffusion-webui/\n",
        "\n",
        "# Launch WebUI\n",
        "!python launch.py \\\n",
        "  --share \\\n",
        "  --xformers \\\n",
        "  --enable-insecure-extension-access \\\n",
        "  --ckpt=\"/content/drive/MyDrive/models/kimsteinhaug-3000.ckpt\" \\\n",
        "  --ckpt-dir=\"/content/drive/MyDrive/models/\"\n"
      ],
      "metadata": {
        "id": "rqWf6Y3mclMx"
      },
      "execution_count": null,
      "outputs": []
    },
    {
      "cell_type": "code",
      "source": [
        "#@title Launcher: with skip install\n",
        "#--update-check \n",
        "#--ui-settings-file=\"\"\n",
        "#share = \"--share --api --cors-allow-origins=https://www.painthua.com --xformers --theme=dark --disable-safe-unpickle --enable-insecure-extension-access --no-half-vae\" + \" --ckpt=\" + model_init.value + \" --ckpt-dir=\" + models_dir.value + \" \" + SDZ_Args.value\n",
        "\n",
        "%cd /content/stable-diffusion-webui/\n",
        "!python launch.py \\\n",
        "  --skip-install \\\n",
        "  --share \\\n",
        "  --xformers \\\n",
        "  --enable-insecure-extension-access \\\n",
        "  --ui-settings-file=\"/content/drive/MyDrive/models/config.json\" \\\n",
        "  --ckpt=\"/content/stable-diffusion-webui/models/Stable-diffusion/kimsteinhaug-3000.ckpt\" \\\n",
        "  --ckpt-dir=\"/content/drive/MyDrive/models/\""
      ],
      "metadata": {
        "id": "ZdP7KnrJa09F"
      },
      "execution_count": null,
      "outputs": []
    },
    {
      "cell_type": "code",
      "source": [
        "full body render of an alluring god, (kimsteinhaug:1.1)  as festival hippy with tribal tattoos surrounded by a underwater ink pour and flowing liquid gallium and sacred geometry, perfect body and face, sexy (kimsteinhaug:0.3), cinematic, beautifully lit, by miho hirano, by karol bak, by donato giancola, 3 d, trending on artstation, octane render, 8 k\n",
        "lowres| worst quality| low quality| normal quality| signature| blurry| bad anatomy| bad hands| missing fingers| extra digit| fewer digits| cropped\n",
        "\n",
        "/content/drive/MyDrive/models/\n",
        "/content/drive/MyDrive/output/images/\n"
      ],
      "metadata": {
        "id": "DVc51L4Kd6sc"
      },
      "execution_count": null,
      "outputs": []
    },
    {
      "cell_type": "code",
      "source": [
        "#@title Interactive values\n",
        "from IPython.display import display, Markdown\n",
        "from ipywidgets import widgets, GridspecLayout\n",
        "from configparser import ConfigParser\n",
        "from pathlib import Path\n",
        "\n",
        "ext_controlnet = widgets.Checkbox( value=False, description='Controlnet and Open pose', disabled=False, indent=False )\n",
        "ext_civitai = widgets.Checkbox( value=False, description='Image and civitai', disabled=False, indent=False )\n",
        "ext_huggingface = widgets.Checkbox( value=False, description='Huggingface weui', disabled=False, indent=False )\n",
        "e4 = widgets.Checkbox( value=False, description='More', disabled=False, indent=False )\n",
        "\n",
        "path_cpkt = widgets.Text( value=\"\", placeholder='Path to main checkpoint file', disabled=False )\n",
        "dir_cpkt = widgets.Text( value=\"\", placeholder='Path to checkpoints folder', disabled=False )\n",
        "dir_controlnet = widgets.Text( value=\"\", placeholder='Path to controlnet models folder', disabled=False )\n",
        "\n",
        "def btn_continue_event_handler(btn_object):\n",
        "    grid.close();\n",
        "    print('You pressed {}'.format(btn_object.description))\n",
        "    print('Creating .ini')\n",
        "    config_object = ConfigParser()\n",
        "    config_object[\"CONF\"] = {\n",
        "        \"ext_controlnet\": ext_controlnet.value,\n",
        "        \"ext_civitai\": ext_civitai.value,\n",
        "        \"ext_huggingface\": ext_huggingface.value,\n",
        "        \"path_cpkt\": path_cpkt.value,\n",
        "        \"dir_cpkt\": dir_cpkt.value,\n",
        "        \"dir_controlnet\": dir_controlnet.value\n",
        "    }\n",
        "    with open(INI_FILE_LOC, 'w') as conf:\n",
        "        config_object.write(conf)\n",
        "\n",
        "\n",
        "# - - - - - - \n",
        "btn_continue = widgets.Button(description='Continue', button_style='info', layout=Layout(width='auto', height='auto'))\n",
        "btn_continue.on_click(btn_continue_event_handler)\n",
        "\n",
        "btn1 = widgets.Button(description='EXTENSIONS')\n",
        "btn1.style.button_color='White'\n",
        "btn1.style.font_weight='bold'\n",
        "btn2 = widgets.Button(description='PATHS')\n",
        "btn2.style.button_color='White'\n",
        "btn2.style.font_weight='bold'\n",
        "btn3 = widgets.Button(description='CHECKPOINTS')\n",
        "btn3.style.button_color='White'\n",
        "btn3.style.font_weight='bold'\n",
        "btn4 = widgets.Button(description='masc')\n",
        "btn4.style.button_color='White'\n",
        "btn4.style.font_weight='bold'\n",
        "\n",
        "grid = GridspecLayout(5, 3)\n",
        "\n",
        "grid[0, 0] = btn1\n",
        "grid[1, 0] = ext_controlnet\n",
        "grid[2, 0] = ext_civitai\n",
        "grid[3, 0] = ext_huggingface\n",
        "\n",
        "grid[0, 1] = btn2\n",
        "grid[1, 1] = path_cpkt\n",
        "grid[2, 1] = dir_cpkt\n",
        "grid[3, 1] = dir_controlnet\n",
        "\n",
        "grid[0, 2] = btn3\n",
        "grid[4, :] = btn_continue\n",
        "\n",
        "#display(Markdown('**EXTENSIONS**'))\n",
        "display(grid)\n",
        "\n",
        "def strtobool (val):\n",
        "    \"\"\"Quick cast tro boolean\n",
        "    \"\"\"\n",
        "    val = val.lower()\n",
        "    if val in ('y', 'yes', 't', 'true', 'on', '1'):\n",
        "        return True\n",
        "    elif val in ('n', 'no', 'f', 'false', 'off', '0'):\n",
        "        return False\n",
        "    else:\n",
        "        raise ValueError(\"invalid truth value %r\" % (val,))\n",
        "\n",
        "\n",
        "inip = Path(INI_FILE_LOC)\n",
        "if inip.is_file():\n",
        "    # Load values\n",
        "    config_object = ConfigParser()\n",
        "    config_object.read(INI_FILE_LOC)\n",
        "    savedconf = config_object[\"CONF\"]\n",
        "    ext_controlnet.value = strtobool(savedconf[\"ext_controlnet\"])\n",
        "    ext_civitai.value = strtobool(savedconf[\"ext_civitai\"])\n",
        "    ext_huggingface.value = strtobool(savedconf[\"ext_huggingface\"])\n",
        "    path_cpkt.value = savedconf[\"path_cpkt\"]\n",
        "    dir_cpkt.value = savedconf[\"dir_cpkt\"]\n",
        "    dir_controlnet.value = savedconf[\"dir_controlnet\"]\n",
        "\n"
      ],
      "metadata": {
        "id": "3jG5CXP71Dj1",
        "outputId": "d45979d5-6e58-4746-bec2-d633035500ef",
        "colab": {
          "base_uri": "https://localhost:8080/",
          "height": 81,
          "referenced_widgets": [
            "1af545426e4742e2861f7bf5f2181683",
            "e491156249cf40f3ac9584927d616381",
            "b49c47fffe734bf1bbe3f97fc7b07c09",
            "762fad128811412ab039ccf9294f58e0",
            "73dbdc3a8ee944c2a8e06d6e65c8d123",
            "b6357b846d814d94987bfdedab80bc6f",
            "6cc7763ba3f24e4589e2df30b64c3c00",
            "b8f36e66fbc64cdcaf8656825a4694d7",
            "e09461fd116b4cceb907487dfd86cfc5",
            "cd11f7b4040146709efa92c30e027932",
            "f0f158b731414a629868592d16d71abe",
            "2365e90a8e5d40a4b3fdac6453e6b403",
            "a19a6e54b2804d7bacb0504dd265a559",
            "538bbebc949c4ef79d498abf04701534",
            "fa0c0ae0b1d744248c62b72f87d99f56",
            "514601eab2c74b5198b44aaccb2521c9",
            "fc417897ecbc4523b2e5a8394df98137",
            "b6b673f2d6764a418d944b641e686fca",
            "46ca5ca7ab044658941934514b379a1a",
            "97c4ee9e819247e1b0990ef1f7a64010",
            "768885e1a2c342f08b5c127cbbd0a6e6",
            "cea6e2f7be63479f9407ae0bc908ea57",
            "3e4a199d8fd74e19afda27be863d3a7e",
            "10dce75193f2498d8d4989a075489abe",
            "bd7bc262bc804236ad1fea1ada8ed492",
            "c1db0f1d5dc94fdd8de6c77958175458",
            "1decf01249a54a3e8d13e6e7b5281300",
            "9160db57081e43f9be042291cd38c1d8",
            "ffa91ddb5fdb47ffa56f83eee75854b9",
            "83fcf65f268a448faaf2401222a6bb9c",
            "e7c944ed66ee4b128942db5c210ef16c",
            "9a1d31210fc94757a41a105d5bcc84ec"
          ]
        }
      },
      "execution_count": 76,
      "outputs": [
        {
          "output_type": "display_data",
          "data": {
            "text/plain": [
              "GridspecLayout(children=(Button(description='EXTENSIONS', layout=Layout(grid_area='widget001'), style=ButtonSt…"
            ],
            "application/vnd.jupyter.widget-view+json": {
              "version_major": 2,
              "version_minor": 0,
              "model_id": "1af545426e4742e2861f7bf5f2181683"
            }
          },
          "metadata": {}
        },
        {
          "output_type": "display_data",
          "data": {
            "text/plain": [
              "<IPython.core.display.Markdown object>"
            ],
            "text/markdown": "**Loading values...**"
          },
          "metadata": {}
        },
        {
          "output_type": "stream",
          "name": "stdout",
          "text": [
            "You pressed Continue\n",
            "Creating .ini\n"
          ]
        }
      ]
    },
    {
      "cell_type": "code",
      "source": [
        "from ipywidgets import jslink, IntSlider\n",
        "from ipywidgets import TwoByTwoLayout\n",
        "from ipywidgets import HTML, AppLayout, Button, Layout\n",
        "\n",
        "\n",
        "top_left_text = widgets.IntText(description='Top left', layout=Layout(width='auto', height='auto'))\n",
        "top_right_text = widgets.IntText(description='Top right', layout=Layout(width='auto', height='auto'))\n",
        "bottom_left_text = widgets.IntText(description='Top left', layout=Layout(width='auto', height='auto'))\n",
        "bottom_right_text = widgets.IntText(description='Top right', layout=Layout(width='auto', height='auto'))\n",
        "\n",
        "#app = TwoByTwoLayout( top_left=e1, top_right=e2, bottom_left=e3,  bottom_right=e4 )\n",
        "#app.bottom_right.value = True\n",
        "#app\n",
        "\n",
        "#header = HTML(\"<h1>Select extensions to install</h1>\", layout=Layout(height='auto'))\n",
        "#header.style.text_align='center'\n",
        "#footer = HTML(\"<h1>Fictional World Weather</h1>\", layout=Layout(height='auto'))\n",
        "#AppLayout(header=header,          left_sidebar=e1,          center=e2,          right_sidebar=e3,          footer=footer)\n"
      ],
      "metadata": {
        "id": "Hk9fDB4JB_hP",
        "outputId": "7db89742-2217-4790-b68c-1c2356be36b1",
        "colab": {
          "base_uri": "https://localhost:8080/",
          "height": 84,
          "referenced_widgets": [
            "5e82379fee9a45528c3157e9ae6ad0a5",
            "3c32daafaa9a47baa66c72401ecd5de5",
            "73a9ab9025114361861993b5d9a46642"
          ]
        }
      },
      "execution_count": 36,
      "outputs": [
        {
          "output_type": "display_data",
          "data": {
            "text/plain": [
              "Button(description='Test', style=ButtonStyle())"
            ],
            "application/vnd.jupyter.widget-view+json": {
              "version_major": 2,
              "version_minor": 0,
              "model_id": "5e82379fee9a45528c3157e9ae6ad0a5"
            }
          },
          "metadata": {}
        },
        {
          "output_type": "stream",
          "name": "stdout",
          "text": [
            "You pressed the Test button!\n",
            "You pressed the Test button!\n"
          ]
        }
      ]
    },
    {
      "cell_type": "code",
      "source": [
        "\n",
        "from configparser import ConfigParser\n",
        "config_object = ConfigParser()\n",
        "config_object[\"EXTENSIONS\"] = {\n",
        "    \"controlnet\": False,\n",
        "    \"civitai\": False,\n",
        "    \"huggingface\": False,\n",
        "    \"more\": False\n",
        "}\n",
        "\n",
        "config_object[\"SERVERCONFIG\"] = {\n",
        "    \"host\": \"tutswiki.com\",\n",
        "    \"port\": \"8080\",\n",
        "    \"ipaddr\": \"8.8.8.8\"\n",
        "}\n",
        "\n",
        "\n",
        "\n",
        "\n",
        "\n",
        "\n",
        "a = widgets.Text(\n",
        "    value=\"\",\n",
        "    placeholder='Path to main checkpoint file',\n",
        "    description='String:',\n",
        "    disabled=False\n",
        ")\n",
        "b = widgets.Text(\n",
        "    value=\"\",\n",
        "    placeholder='Path to models directory',\n",
        "    description='String:',\n",
        "    disabled=False\n",
        ")\n",
        "c = widgets.Text(\n",
        "    value=\"\",\n",
        "    placeholder='Another variable',\n",
        "    description='String:',\n",
        "    disabled=False\n",
        ")\n",
        "#display(var_ckpt)\n",
        "#display(var_ckptdir)\n",
        "\n",
        "def f(a, b, c):\n",
        "    print('{}*{}*{}={}'.format(a, b, c, a+b+c))\n",
        "\n",
        "out = widgets.interactive_output(f, {'a': a, 'b': b, 'c': c})\n",
        "\n",
        "widgets.HBox([widgets.VBox([a, b, c]), out])"
      ],
      "metadata": {
        "id": "vPeMo9Ra5z1G"
      },
      "execution_count": null,
      "outputs": []
    },
    {
      "cell_type": "markdown",
      "source": [
        "# Memory tools and others"
      ],
      "metadata": {
        "id": "z-eHDQSMaGHt"
      }
    },
    {
      "cell_type": "code",
      "source": [
        "#@title Free up CPU-RAM\n",
        "import gc\n",
        "\n",
        "# Custom Callback To Include in Callbacks List At Training Time\n",
        "class GarbageCollectorCallback(tf.keras.callbacks.Callback):\n",
        "    def on_epoch_end(self, epoch, logs=None):\n",
        "        gc.collect()"
      ],
      "metadata": {
        "cellView": "form",
        "id": "QJYDtg7NnU04"
      },
      "execution_count": null,
      "outputs": []
    },
    {
      "cell_type": "code",
      "source": [
        "#@title Free up GPU-RAM\n",
        "torch.cuda.empty_cache()"
      ],
      "metadata": {
        "cellView": "form",
        "id": "cy1bInTVnZRW"
      },
      "execution_count": null,
      "outputs": []
    },
    {
      "cell_type": "code",
      "source": [
        "#@title Div patches...\n",
        "# 2023-02 fix, in case this bug https://github.com/AUTOMATIC1111/stable-diffusion-webui/issues/7714\n",
        "#!pip install --upgrade fastapi==0.90.1\n"
      ],
      "metadata": {
        "cellView": "form",
        "id": "0yPji7fqyekS"
      },
      "execution_count": null,
      "outputs": []
    }
  ]
}