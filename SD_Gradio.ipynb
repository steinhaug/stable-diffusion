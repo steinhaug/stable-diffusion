{
  "nbformat": 4,
  "nbformat_minor": 0,
  "metadata": {
    "colab": {
      "provenance": [],
      "authorship_tag": "ABX9TyPb95Y86RJJBXkHSwtvrC1U",
      "include_colab_link": true
    },
    "kernelspec": {
      "name": "python3",
      "display_name": "Python 3"
    },
    "language_info": {
      "name": "python"
    },
    "accelerator": "GPU",
    "gpuClass": "standard"
  },
  "cells": [
    {
      "cell_type": "markdown",
      "metadata": {
        "id": "view-in-github",
        "colab_type": "text"
      },
      "source": [
        "<a href=\"https://colab.research.google.com/github/steinhaug/stable-diffusion/blob/main/SD_Gradio.ipynb\" target=\"_parent\"><img src=\"https://colab.research.google.com/assets/colab-badge.svg\" alt=\"Open In Colab\"/></a>"
      ]
    },
    {
      "cell_type": "markdown",
      "source": [
        "# Stable Diffusion WebUI\n",
        "\n",
        "Run next block by pressing play, it takes around 10 minutes to load. When\n",
        "done you should see two link at the bottom of output. Click on the \n",
        "public URL to open WebUI.\n",
        "\n",
        "When WebUI is loaded, you can switch between models in the upper left corner from the \"Stable diffusion checkpoint\" dropdown."
      ],
      "metadata": {
        "id": "Au2gtMm1uf2P"
      }
    },
    {
      "cell_type": "code",
      "execution_count": null,
      "metadata": {
        "id": "ElXle4qHuaEo"
      },
      "outputs": [],
      "source": [
        "!pip install -q https://github.com/camenduru/stable-diffusion-webui-colab/releases/download/0.0.15/xformers-0.0.15.dev0+189828c.d20221207-cp38-cp38-linux_x86_64.whl\n",
        "\n",
        "!git clone https://github.com/camenduru/stable-diffusion-webui\n",
        "!git clone https://github.com/deforum-art/deforum-for-automatic1111-webui /content/stable-diffusion-webui/extensions/deforum-for-automatic1111-webui\n",
        "!git clone https://github.com/yfszzx/stable-diffusion-webui-images-browser /content/stable-diffusion-webui/extensions/stable-diffusion-webui-images-browser\n",
        "!git clone https://github.com/camenduru/stable-diffusion-webui-huggingface /content/stable-diffusion-webui/extensions/stable-diffusion-webui-huggingface\n",
        "\n",
        "# Download models, only 1 needed\n",
        "%cd /content/stable-diffusion-webui\n",
        "!wget https://huggingface.co/ckpt/sd15/resolve/main/v1-5-pruned-emaonly.ckpt -O /content/stable-diffusion-webui/models/Stable-diffusion/v1-5-pruned-emaonly.ckpt\n",
        "!wget https://huggingface.co/ckpt/Protogen_V2.2/resolve/main/Protogen_V2.2.ckpt -O /content/stable-diffusion-webui/models/Stable-diffusion/Protogen_V2.2.ckpt\n",
        "!wget https://huggingface.co/ckpt/hassanblend1.4/resolve/main/HassanBlend1.4-Pruned.ckpt -O /content/stable-diffusion-webui/models/Stable-diffusion/HassanBlend1.4-Pruned.ckpt\n",
        "\n",
        "# 2023-02 fix\n",
        "!pip install --upgrade fastapi==0.90.1\n",
        "\n",
        "# Launch WebUI\n",
        "!python launch.py --share --xformers"
      ]
    }
  ]
}