{
  "nbformat": 4,
  "nbformat_minor": 0,
  "metadata": {
    "colab": {
      "provenance": [],
      "machine_shape": "hm",
      "mount_file_id": "1_q3E2Z05MHPTH3XrecQWLWskZLbjIyRf",
      "authorship_tag": "ABX9TyPhmkad129AmhHfFE9J5KBX",
      "include_colab_link": true
    },
    "kernelspec": {
      "name": "python3",
      "display_name": "Python 3"
    },
    "language_info": {
      "name": "python"
    },
    "accelerator": "TPU",
    "gpuClass": "premium"
  },
  "cells": [
    {
      "cell_type": "markdown",
      "metadata": {
        "id": "view-in-github",
        "colab_type": "text"
      },
      "source": [
        "<a href=\"https://colab.research.google.com/github/steinhaug/stable-diffusion/blob/main/llm/ggml_alpaca_7b_q4_bin.ipynb\" target=\"_parent\"><img src=\"https://colab.research.google.com/assets/colab-badge.svg\" alt=\"Open In Colab\"/></a>"
      ]
    },
    {
      "cell_type": "markdown",
      "source": [
        "# RUNNING ggml-alpaca-7b-q4.bin"
      ],
      "metadata": {
        "id": "TTiCXeMreFgq"
      }
    },
    {
      "cell_type": "code",
      "source": [
        "%cd /content\n",
        "!git clone https://github.com/ggerganov/llama.cpp\n",
        "%cd llama.cpp\n",
        "!make "
      ],
      "metadata": {
        "id": "Jz7z3fyfeGEl"
      },
      "execution_count": null,
      "outputs": []
    },
    {
      "cell_type": "code",
      "source": [
        "#@title Download the model from DRIVE  \n",
        "!cp /content/drive/MyDrive/alpaca-models/ggml-alpaca-7b-q4.bin ggml-alpaca-7b-q4.bin"
      ],
      "metadata": {
        "id": "sc4wDHEn14qe"
      },
      "execution_count": null,
      "outputs": []
    },
    {
      "cell_type": "code",
      "source": [
        "#@title 3 ways of launching chat from termianal\n",
        "cd into /content/llama.cpp\n",
        "\n",
        "./main -m ./ggml-alpaca-7b-q4.bin -c 512 -b 1024 -n 256 --keep 48 --repeat_penalty 1.0 --color -i -r \"User:\" -f prompts/chat-with-el-diablo.txt\n",
        "./main -m /content/llama.cpp/ggml-alpaca-7b-q4.bin -c 512 -b 1024 -n 256 --keep 48 --repeat_penalty 1.0 --color -i -r \"User:\" -f prompts/dan.txt\n",
        "./main --color --instruct --threads 4 --model ./ggml-alpaca-7b-q4.bin --file ./prompts/alpaca.txt --batch_size 8 --ctx_size 2048 -n -1 --repeat_last_n 64 --repeat_penalty 1.3 --n_predict 128 --temp 0.1 --top_k 40 --top_p 0.95\n"
      ],
      "metadata": {
        "id": "RjHnRNTkebmt"
      },
      "execution_count": null,
      "outputs": []
    }
  ]
}