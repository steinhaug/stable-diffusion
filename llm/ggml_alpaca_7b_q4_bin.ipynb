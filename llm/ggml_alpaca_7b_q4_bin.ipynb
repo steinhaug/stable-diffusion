{
  "nbformat": 4,
  "nbformat_minor": 0,
  "metadata": {
    "colab": {
      "provenance": [],
      "machine_shape": "hm",
      "gpuClass": "premium",
      "mount_file_id": "1_q3E2Z05MHPTH3XrecQWLWskZLbjIyRf",
      "authorship_tag": "ABX9TyPOUNQDVTrW8ezsL+CXaMyu",
      "include_colab_link": true
    },
    "kernelspec": {
      "name": "python3",
      "display_name": "Python 3"
    },
    "language_info": {
      "name": "python"
    },
    "accelerator": "TPU",
    "gpuClass": "premium",
    "widgets": {
      "application/vnd.jupyter.widget-state+json": {
        "0f983ce58ac742b78cd44bb356c337a9": {
          "model_module": "@jupyter-widgets/controls",
          "model_name": "HBoxModel",
          "model_module_version": "1.5.0",
          "state": {
            "_dom_classes": [],
            "_model_module": "@jupyter-widgets/controls",
            "_model_module_version": "1.5.0",
            "_model_name": "HBoxModel",
            "_view_count": null,
            "_view_module": "@jupyter-widgets/controls",
            "_view_module_version": "1.5.0",
            "_view_name": "HBoxView",
            "box_style": "",
            "children": [
              "IPY_MODEL_241a07e1e07e42328e89c263a7c88573",
              "IPY_MODEL_0e41abbe44ba439f8c2f6f10e5e8cfe5",
              "IPY_MODEL_caf236ad29994211b66bb9796a228428"
            ],
            "layout": "IPY_MODEL_3e32b56257f749a6834b974eec6c575d"
          }
        },
        "241a07e1e07e42328e89c263a7c88573": {
          "model_module": "@jupyter-widgets/controls",
          "model_name": "HTMLModel",
          "model_module_version": "1.5.0",
          "state": {
            "_dom_classes": [],
            "_model_module": "@jupyter-widgets/controls",
            "_model_module_version": "1.5.0",
            "_model_name": "HTMLModel",
            "_view_count": null,
            "_view_module": "@jupyter-widgets/controls",
            "_view_module_version": "1.5.0",
            "_view_name": "HTMLView",
            "description": "",
            "description_tooltip": null,
            "layout": "IPY_MODEL_20c06b847c0f4278b8f2a3eaae8893a0",
            "placeholder": "​",
            "style": "IPY_MODEL_86ee49f939ff42abac65590c441cfc16",
            "value": "Downloading ggml-alpaca-7b-q4.bin: 100%"
          }
        },
        "0e41abbe44ba439f8c2f6f10e5e8cfe5": {
          "model_module": "@jupyter-widgets/controls",
          "model_name": "FloatProgressModel",
          "model_module_version": "1.5.0",
          "state": {
            "_dom_classes": [],
            "_model_module": "@jupyter-widgets/controls",
            "_model_module_version": "1.5.0",
            "_model_name": "FloatProgressModel",
            "_view_count": null,
            "_view_module": "@jupyter-widgets/controls",
            "_view_module_version": "1.5.0",
            "_view_name": "ProgressView",
            "bar_style": "success",
            "description": "",
            "description_tooltip": null,
            "layout": "IPY_MODEL_14a0e145dfd14a7f842c4d6e00baa9da",
            "max": 4212727017,
            "min": 0,
            "orientation": "horizontal",
            "style": "IPY_MODEL_4deb40efc26f42379ec286d5ffdc87e0",
            "value": 4212727017
          }
        },
        "caf236ad29994211b66bb9796a228428": {
          "model_module": "@jupyter-widgets/controls",
          "model_name": "HTMLModel",
          "model_module_version": "1.5.0",
          "state": {
            "_dom_classes": [],
            "_model_module": "@jupyter-widgets/controls",
            "_model_module_version": "1.5.0",
            "_model_name": "HTMLModel",
            "_view_count": null,
            "_view_module": "@jupyter-widgets/controls",
            "_view_module_version": "1.5.0",
            "_view_name": "HTMLView",
            "description": "",
            "description_tooltip": null,
            "layout": "IPY_MODEL_1e6bf315fcbb42a5bee487ed00e42f79",
            "placeholder": "​",
            "style": "IPY_MODEL_3990d8b048a047dd93a2e4af8a332a6c",
            "value": " 4.21G/4.21G [01:11&lt;00:00, 51.9MB/s]"
          }
        },
        "3e32b56257f749a6834b974eec6c575d": {
          "model_module": "@jupyter-widgets/base",
          "model_name": "LayoutModel",
          "model_module_version": "1.2.0",
          "state": {
            "_model_module": "@jupyter-widgets/base",
            "_model_module_version": "1.2.0",
            "_model_name": "LayoutModel",
            "_view_count": null,
            "_view_module": "@jupyter-widgets/base",
            "_view_module_version": "1.2.0",
            "_view_name": "LayoutView",
            "align_content": null,
            "align_items": null,
            "align_self": null,
            "border": null,
            "bottom": null,
            "display": null,
            "flex": null,
            "flex_flow": null,
            "grid_area": null,
            "grid_auto_columns": null,
            "grid_auto_flow": null,
            "grid_auto_rows": null,
            "grid_column": null,
            "grid_gap": null,
            "grid_row": null,
            "grid_template_areas": null,
            "grid_template_columns": null,
            "grid_template_rows": null,
            "height": null,
            "justify_content": null,
            "justify_items": null,
            "left": null,
            "margin": null,
            "max_height": null,
            "max_width": null,
            "min_height": null,
            "min_width": null,
            "object_fit": null,
            "object_position": null,
            "order": null,
            "overflow": null,
            "overflow_x": null,
            "overflow_y": null,
            "padding": null,
            "right": null,
            "top": null,
            "visibility": null,
            "width": null
          }
        },
        "20c06b847c0f4278b8f2a3eaae8893a0": {
          "model_module": "@jupyter-widgets/base",
          "model_name": "LayoutModel",
          "model_module_version": "1.2.0",
          "state": {
            "_model_module": "@jupyter-widgets/base",
            "_model_module_version": "1.2.0",
            "_model_name": "LayoutModel",
            "_view_count": null,
            "_view_module": "@jupyter-widgets/base",
            "_view_module_version": "1.2.0",
            "_view_name": "LayoutView",
            "align_content": null,
            "align_items": null,
            "align_self": null,
            "border": null,
            "bottom": null,
            "display": null,
            "flex": null,
            "flex_flow": null,
            "grid_area": null,
            "grid_auto_columns": null,
            "grid_auto_flow": null,
            "grid_auto_rows": null,
            "grid_column": null,
            "grid_gap": null,
            "grid_row": null,
            "grid_template_areas": null,
            "grid_template_columns": null,
            "grid_template_rows": null,
            "height": null,
            "justify_content": null,
            "justify_items": null,
            "left": null,
            "margin": null,
            "max_height": null,
            "max_width": null,
            "min_height": null,
            "min_width": null,
            "object_fit": null,
            "object_position": null,
            "order": null,
            "overflow": null,
            "overflow_x": null,
            "overflow_y": null,
            "padding": null,
            "right": null,
            "top": null,
            "visibility": null,
            "width": null
          }
        },
        "86ee49f939ff42abac65590c441cfc16": {
          "model_module": "@jupyter-widgets/controls",
          "model_name": "DescriptionStyleModel",
          "model_module_version": "1.5.0",
          "state": {
            "_model_module": "@jupyter-widgets/controls",
            "_model_module_version": "1.5.0",
            "_model_name": "DescriptionStyleModel",
            "_view_count": null,
            "_view_module": "@jupyter-widgets/base",
            "_view_module_version": "1.2.0",
            "_view_name": "StyleView",
            "description_width": ""
          }
        },
        "14a0e145dfd14a7f842c4d6e00baa9da": {
          "model_module": "@jupyter-widgets/base",
          "model_name": "LayoutModel",
          "model_module_version": "1.2.0",
          "state": {
            "_model_module": "@jupyter-widgets/base",
            "_model_module_version": "1.2.0",
            "_model_name": "LayoutModel",
            "_view_count": null,
            "_view_module": "@jupyter-widgets/base",
            "_view_module_version": "1.2.0",
            "_view_name": "LayoutView",
            "align_content": null,
            "align_items": null,
            "align_self": null,
            "border": null,
            "bottom": null,
            "display": null,
            "flex": null,
            "flex_flow": null,
            "grid_area": null,
            "grid_auto_columns": null,
            "grid_auto_flow": null,
            "grid_auto_rows": null,
            "grid_column": null,
            "grid_gap": null,
            "grid_row": null,
            "grid_template_areas": null,
            "grid_template_columns": null,
            "grid_template_rows": null,
            "height": null,
            "justify_content": null,
            "justify_items": null,
            "left": null,
            "margin": null,
            "max_height": null,
            "max_width": null,
            "min_height": null,
            "min_width": null,
            "object_fit": null,
            "object_position": null,
            "order": null,
            "overflow": null,
            "overflow_x": null,
            "overflow_y": null,
            "padding": null,
            "right": null,
            "top": null,
            "visibility": null,
            "width": null
          }
        },
        "4deb40efc26f42379ec286d5ffdc87e0": {
          "model_module": "@jupyter-widgets/controls",
          "model_name": "ProgressStyleModel",
          "model_module_version": "1.5.0",
          "state": {
            "_model_module": "@jupyter-widgets/controls",
            "_model_module_version": "1.5.0",
            "_model_name": "ProgressStyleModel",
            "_view_count": null,
            "_view_module": "@jupyter-widgets/base",
            "_view_module_version": "1.2.0",
            "_view_name": "StyleView",
            "bar_color": null,
            "description_width": ""
          }
        },
        "1e6bf315fcbb42a5bee487ed00e42f79": {
          "model_module": "@jupyter-widgets/base",
          "model_name": "LayoutModel",
          "model_module_version": "1.2.0",
          "state": {
            "_model_module": "@jupyter-widgets/base",
            "_model_module_version": "1.2.0",
            "_model_name": "LayoutModel",
            "_view_count": null,
            "_view_module": "@jupyter-widgets/base",
            "_view_module_version": "1.2.0",
            "_view_name": "LayoutView",
            "align_content": null,
            "align_items": null,
            "align_self": null,
            "border": null,
            "bottom": null,
            "display": null,
            "flex": null,
            "flex_flow": null,
            "grid_area": null,
            "grid_auto_columns": null,
            "grid_auto_flow": null,
            "grid_auto_rows": null,
            "grid_column": null,
            "grid_gap": null,
            "grid_row": null,
            "grid_template_areas": null,
            "grid_template_columns": null,
            "grid_template_rows": null,
            "height": null,
            "justify_content": null,
            "justify_items": null,
            "left": null,
            "margin": null,
            "max_height": null,
            "max_width": null,
            "min_height": null,
            "min_width": null,
            "object_fit": null,
            "object_position": null,
            "order": null,
            "overflow": null,
            "overflow_x": null,
            "overflow_y": null,
            "padding": null,
            "right": null,
            "top": null,
            "visibility": null,
            "width": null
          }
        },
        "3990d8b048a047dd93a2e4af8a332a6c": {
          "model_module": "@jupyter-widgets/controls",
          "model_name": "DescriptionStyleModel",
          "model_module_version": "1.5.0",
          "state": {
            "_model_module": "@jupyter-widgets/controls",
            "_model_module_version": "1.5.0",
            "_model_name": "DescriptionStyleModel",
            "_view_count": null,
            "_view_module": "@jupyter-widgets/base",
            "_view_module_version": "1.2.0",
            "_view_name": "StyleView",
            "description_width": ""
          }
        }
      }
    }
  },
  "cells": [
    {
      "cell_type": "markdown",
      "metadata": {
        "id": "view-in-github",
        "colab_type": "text"
      },
      "source": [
        "<a href=\"https://colab.research.google.com/github/steinhaug/stable-diffusion/blob/main/llm/ggml_alpaca_7b_q4_bin.ipynb\" target=\"_parent\"><img src=\"https://colab.research.google.com/assets/colab-badge.svg\" alt=\"Open In Colab\"/></a>"
      ]
    },
    {
      "cell_type": "markdown",
      "source": [
        "## RUNNING ggml-alpaca-7b-q4.bin\n",
        "\n",
        "Run notebook with TPU."
      ],
      "metadata": {
        "id": "TTiCXeMreFgq"
      }
    },
    {
      "cell_type": "code",
      "source": [
        "#@title working inference for modell\n",
        "from IPython.display import clear_output\n",
        "%cd /content\n",
        "\n",
        "#!git clone https://github.com/ggerganov/llama.cpp\n",
        "#%cd llama.cpp\n",
        "#!make\n",
        "\n",
        "!git clone https://github.com/antimatter15/alpaca.cpp.git\n",
        "%cd alpaca.cpp\n",
        "!make chat\n",
        "print('Now make sure this file exists and run ./chat from terminal: /content/alpaca/ggml-alpaca-7b-q4.bin')"
      ],
      "metadata": {
        "id": "iFv9GmC31EHW"
      },
      "execution_count": null,
      "outputs": []
    },
    {
      "cell_type": "markdown",
      "source": [
        "## Downloader cells"
      ],
      "metadata": {
        "id": "Br3Kq6ah4oTd"
      }
    },
    {
      "cell_type": "code",
      "source": [
        "#@markdown Download the model from DRIVE\n",
        "!cp /content/drive/MyDrive/alpaca-models/ggml-alpaca-7b-q4.bin /content/llama.cpp/ggml-alpaca-7b-q4.bin"
      ],
      "metadata": {
        "id": "sc4wDHEn14qe"
      },
      "execution_count": null,
      "outputs": []
    },
    {
      "cell_type": "code",
      "source": [
        "# wget huggingface - error\n",
        "%cd /content/drive/MyDrive/llm\n",
        "!wget --content-disposition https://huggingface.co/steinhaug/models-bck/resolve/main/gpt4free/ggml-alpaca-7b-q4.bin\n",
        "!cp /content/drive/MyDrive/llm/ggml-alpaca-7b-q4.bin /content/llama.cpp/ggml-alpaca-7b-q4.bin"
      ],
      "metadata": {
        "id": "_JH1XXFiyRu0"
      },
      "execution_count": null,
      "outputs": []
    },
    {
      "cell_type": "code",
      "source": [
        "# wget huggingface - error\n",
        "!pip install --upgrade huggingface_hub\n",
        "!mkdir /content/huggface_cache\n",
        "from huggingface_hub import notebook_login\n",
        "notebook_login()"
      ],
      "metadata": {
        "id": "HIAP9_9QyV1V"
      },
      "execution_count": null,
      "outputs": []
    },
    {
      "cell_type": "code",
      "source": [
        "from huggingface_hub import hf_hub_download\n",
        "filepath = hf_hub_download(repo_id=\"steinhaug/models-bck\", filename=\"gpt4free/ggml-alpaca-7b-q4.bin\", cache_dir=\"/content/huggface_cache\")\n",
        "!cp {filepath} /content/alpaca.cpp/ggml-alpaca-7b-q4.bin"
      ],
      "metadata": {
        "colab": {
          "base_uri": "https://localhost:8080/",
          "height": 49,
          "referenced_widgets": [
            "0f983ce58ac742b78cd44bb356c337a9",
            "241a07e1e07e42328e89c263a7c88573",
            "0e41abbe44ba439f8c2f6f10e5e8cfe5",
            "caf236ad29994211b66bb9796a228428",
            "3e32b56257f749a6834b974eec6c575d",
            "20c06b847c0f4278b8f2a3eaae8893a0",
            "86ee49f939ff42abac65590c441cfc16",
            "14a0e145dfd14a7f842c4d6e00baa9da",
            "4deb40efc26f42379ec286d5ffdc87e0",
            "1e6bf315fcbb42a5bee487ed00e42f79",
            "3990d8b048a047dd93a2e4af8a332a6c"
          ]
        },
        "id": "Y0aHsgcGyWGv",
        "outputId": "e8851c9c-1aa4-484b-a36b-499fc1a39ed9"
      },
      "execution_count": 3,
      "outputs": [
        {
          "output_type": "display_data",
          "data": {
            "text/plain": [
              "Downloading ggml-alpaca-7b-q4.bin:   0%|          | 0.00/4.21G [00:00<?, ?B/s]"
            ],
            "application/vnd.jupyter.widget-view+json": {
              "version_major": 2,
              "version_minor": 0,
              "model_id": "0f983ce58ac742b78cd44bb356c337a9"
            }
          },
          "metadata": {}
        }
      ]
    },
    {
      "cell_type": "markdown",
      "source": [
        "## Inference from terminal"
      ],
      "metadata": {
        "id": "YFDcUJHl4rXq"
      }
    },
    {
      "cell_type": "code",
      "source": [
        "#@title 3 ways of launching chat from termianal\n",
        "from IPython.display import clear_output; from pathlib import Path\n",
        "%cd /content/alpaca.cpp\n",
        "clear_output()\n",
        "\n",
        "LLM_MODEL = \"./ggml-alpaca-7b-q4.bin\"\n",
        "\n",
        "llmod = Path(LLM_MODEL)\n",
        "if llmod.is_file():\n",
        "    print( f'Open terminal and use one of the 3 following lines:')\n",
        "    print( f'' )\n",
        "    print( f'cd /content/alpaca.cpp' )\n",
        "    print( f'' )\n",
        "    print( f'./main -m {LLM_MODEL} -c 512 -b 1024 -n 256 --keep 48 --repeat_penalty 1.0 --color -i -r \"User:\" -f prompts/chat-with-bob.txt' )\n",
        "    print( f'./main -m {LLM_MODEL} -c 512 -b 1024 -n 256 --keep 48 --repeat_penalty 1.0 --color -i -r \"User:\" -f prompts/chat-with-bob.txt' )\n",
        "    print( f'./main --color --instruct --threads 4 --model {LLM_MODEL} --file ./prompts/chat-with-bob.txt --batch_size 8 --ctx_size 2048 -n -1 --repeat_last_n 64 --repeat_penalty 1.3 --n_predict 128 --temp 0.1 --top_k 40 --top_p 0.95' )\n",
        "else:\n",
        "    print( f'Missing model: {LLM_MODEL}')"
      ],
      "metadata": {
        "id": "RjHnRNTkebmt",
        "colab": {
          "base_uri": "https://localhost:8080/"
        },
        "cellView": "form",
        "outputId": "fb9fae6c-45cc-442a-99e0-a4ba1e9be34f"
      },
      "execution_count": 15,
      "outputs": [
        {
          "output_type": "stream",
          "name": "stdout",
          "text": [
            "Open terminal and use one of the 3 following lines:\n",
            "\n",
            "cd /content/alpaca.cpp\n",
            "\n",
            "./main -m ./ggml-alpaca-7b-q4.bin -c 512 -b 1024 -n 256 --keep 48 --repeat_penalty 1.0 --color -i -r \"User:\" -f prompts/chat-with-bob.txt\n",
            "./main -m ./ggml-alpaca-7b-q4.bin -c 512 -b 1024 -n 256 --keep 48 --repeat_penalty 1.0 --color -i -r \"User:\" -f prompts/chat-with-bob.txt\n",
            "./main --color --instruct --threads 4 --model ./ggml-alpaca-7b-q4.bin --file ./prompts/chat-with-bob.txt --batch_size 8 --ctx_size 2048 -n -1 --repeat_last_n 64 --repeat_penalty 1.3 --n_predict 128 --temp 0.1 --top_k 40 --top_p 0.95\n"
          ]
        }
      ]
    }
  ]
}