{
  "nbformat": 4,
  "nbformat_minor": 0,
  "metadata": {
    "colab": {
      "provenance": [],
      "mount_file_id": "1imHxFY5qPODqkjSsMbTJjc6c_cSPxbiF",
      "authorship_tag": "ABX9TyMx8gPE/6+FEA7wBWDhr+Tt",
      "include_colab_link": true
    },
    "kernelspec": {
      "name": "python3",
      "display_name": "Python 3"
    },
    "language_info": {
      "name": "python"
    }
  },
  "cells": [
    {
      "cell_type": "markdown",
      "metadata": {
        "id": "view-in-github",
        "colab_type": "text"
      },
      "source": [
        "<a href=\"https://colab.research.google.com/github/steinhaug/stable-diffusion/blob/main/tools/jotta_cli.ipynb\" target=\"_parent\"><img src=\"https://colab.research.google.com/assets/colab-badge.svg\" alt=\"Open In Colab\"/></a>"
      ]
    },
    {
      "cell_type": "markdown",
      "source": [
        "Installing jotta-cli for Colab."
      ],
      "metadata": {
        "id": "OvfqS5Sz1lEF"
      }
    },
    {
      "cell_type": "markdown",
      "source": [
        "# Install jotta-cli"
      ],
      "metadata": {
        "id": "Z3I2nmob1KLd"
      }
    },
    {
      "cell_type": "code",
      "execution_count": 2,
      "metadata": {
        "colab": {
          "base_uri": "https://localhost:8080/"
        },
        "id": "nOFuKxf-IB4H",
        "outputId": "834c8edb-c895-47d1-a1fb-9175ec92864a"
      },
      "outputs": [
        {
          "output_type": "stream",
          "name": "stdout",
          "text": [
            "Reading package lists... Done\n",
            "Building dependency tree... Done\n",
            "Reading state information... Done\n",
            "ca-certificates is already the newest version (20240203~22.04.1).\n",
            "curl is already the newest version (7.81.0-1ubuntu1.21).\n",
            "The following NEW packages will be installed:\n",
            "  apt-transport-https\n",
            "0 upgraded, 1 newly installed, 0 to remove and 38 not upgraded.\n",
            "Need to get 1,510 B of archives.\n",
            "After this operation, 170 kB of additional disk space will be used.\n",
            "Get:1 http://archive.ubuntu.com/ubuntu jammy-updates/universe amd64 apt-transport-https all 2.4.14 [1,510 B]\n",
            "Fetched 1,510 B in 0s (5,227 B/s)\n",
            "Selecting previously unselected package apt-transport-https.\n",
            "(Reading database ... 126675 files and directories currently installed.)\n",
            "Preparing to unpack .../apt-transport-https_2.4.14_all.deb ...\n",
            "Unpacking apt-transport-https (2.4.14) ...\n",
            "Setting up apt-transport-https (2.4.14) ...\n"
          ]
        }
      ],
      "source": [
        "!apt-get install curl apt-transport-https ca-certificates"
      ]
    },
    {
      "cell_type": "code",
      "source": [
        "# Get keyrings and convert to correct format\n",
        "!curl -fsSL https://repo.jotta.cloud/public.asc -o /tmp/jotta.asc\n",
        "!gpg --dearmor < /tmp/jotta.asc > /usr/share/keyrings/jotta.gpg"
      ],
      "metadata": {
        "id": "kiQxpuRTO3qQ"
      },
      "execution_count": 27,
      "outputs": []
    },
    {
      "cell_type": "code",
      "source": [
        "!apt-get update"
      ],
      "metadata": {
        "colab": {
          "base_uri": "https://localhost:8080/"
        },
        "id": "GnLYm42gPApP",
        "outputId": "38a31933-421f-4618-d5ff-06d3d67e85b0"
      },
      "execution_count": 29,
      "outputs": [
        {
          "output_type": "stream",
          "name": "stdout",
          "text": [
            "\r0% [Working]\r            \rHit:1 https://cloud.r-project.org/bin/linux/ubuntu jammy-cran40/ InRelease\n",
            "\r0% [Connecting to archive.ubuntu.com (185.125.190.39)] [Connecting to security.\r                                                                               \rHit:2 https://cli.github.com/packages stable InRelease\n",
            "Hit:3 https://developer.download.nvidia.com/compute/cuda/repos/ubuntu2204/x86_64  InRelease\n",
            "Hit:4 http://archive.ubuntu.com/ubuntu jammy InRelease\n",
            "Hit:5 http://security.ubuntu.com/ubuntu jammy-security InRelease\n",
            "Hit:6 https://r2u.stat.illinois.edu/ubuntu jammy InRelease\n",
            "Hit:7 http://archive.ubuntu.com/ubuntu jammy-updates InRelease\n",
            "Hit:8 http://archive.ubuntu.com/ubuntu jammy-backports InRelease\n",
            "Hit:9 https://ppa.launchpadcontent.net/deadsnakes/ppa/ubuntu jammy InRelease\n",
            "Get:10 https://repo.jotta.cloud/debian debian InRelease [10.9 kB]\n",
            "Hit:11 https://ppa.launchpadcontent.net/graphics-drivers/ppa/ubuntu jammy InRelease\n",
            "Hit:12 https://ppa.launchpadcontent.net/ubuntugis/ppa/ubuntu jammy InRelease\n",
            "Get:13 https://repo.jotta.cloud/debian debian/main amd64 Packages [1,384 B]\n",
            "Fetched 12.3 kB in 1s (8,293 B/s)\n",
            "Reading package lists... Done\n",
            "W: Skipping acquire of configured file 'main/source/Sources' as repository 'https://r2u.stat.illinois.edu/ubuntu jammy InRelease' does not seem to provide it (sources.list entry misspelt?)\n"
          ]
        }
      ]
    },
    {
      "cell_type": "code",
      "source": [
        "!sudo apt-get install jotta-cli"
      ],
      "metadata": {
        "colab": {
          "base_uri": "https://localhost:8080/"
        },
        "id": "MZvW-aluPPDo",
        "outputId": "77cdb89e-c281-4caa-9085-c48bc042f433"
      },
      "execution_count": 30,
      "outputs": [
        {
          "output_type": "stream",
          "name": "stdout",
          "text": [
            "Reading package lists... Done\n",
            "Building dependency tree... Done\n",
            "Reading state information... Done\n",
            "The following NEW packages will be installed:\n",
            "  jotta-cli\n",
            "0 upgraded, 1 newly installed, 0 to remove and 46 not upgraded.\n",
            "Need to get 12.0 MB of archives.\n",
            "After this operation, 43.7 MB of additional disk space will be used.\n",
            "Get:1 https://repo.jotta.cloud/debian debian/main amd64 jotta-cli amd64 0.17.132497 [12.0 MB]\n",
            "Fetched 12.0 MB in 11s (1,127 kB/s)\n",
            "debconf: unable to initialize frontend: Dialog\n",
            "debconf: (No usable dialog-like program is installed, so the dialog based frontend cannot be used. at /usr/share/perl5/Debconf/FrontEnd/Dialog.pm line 78, <> line 1.)\n",
            "debconf: falling back to frontend: Readline\n",
            "debconf: unable to initialize frontend: Readline\n",
            "debconf: (This frontend requires a controlling tty.)\n",
            "debconf: falling back to frontend: Teletype\n",
            "dpkg-preconfigure: unable to re-open stdin: \n",
            "Selecting previously unselected package jotta-cli.\n",
            "(Reading database ... 126679 files and directories currently installed.)\n",
            "Preparing to unpack .../jotta-cli_0.17.132497_amd64.deb ...\n",
            "Unpacking jotta-cli (0.17.132497) ...\n",
            "Setting up jotta-cli (0.17.132497) ...\n"
          ]
        }
      ]
    },
    {
      "cell_type": "markdown",
      "source": [
        "# Using jotta-cli"
      ],
      "metadata": {
        "id": "i047oC-01XPU"
      }
    },
    {
      "cell_type": "markdown",
      "source": [
        "## Use terminal from here\n",
        "\n",
        "```\n",
        "# Set environment value\n",
        "export JOTTAD_SYSTEMD=0\n",
        "\n",
        "# install deamon\n",
        "run_jottad\n",
        "\n",
        "# login\n",
        "jotta-cli login\n",
        "\n",
        "# Sjekk status\n",
        "jotta-cli status\n",
        "```\n"
      ],
      "metadata": {
        "id": "RNjvqaepzsrW"
      }
    },
    {
      "cell_type": "code",
      "source": [
        "# list uploads\n",
        "!jotta-cli list uploads"
      ],
      "metadata": {
        "colab": {
          "base_uri": "https://localhost:8080/"
        },
        "id": "CZbOXtnhWP0R",
        "outputId": "9734f396-ab53-4514-adac-abbacc962b5c"
      },
      "execution_count": 1,
      "outputs": [
        {
          "output_type": "stream",
          "name": "stdout",
          "text": [
            "/bin/bash: line 1: jotta-cli: command not found\n"
          ]
        }
      ]
    }
  ]
}