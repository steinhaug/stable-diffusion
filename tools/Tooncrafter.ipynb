{
  "nbformat": 4,
  "nbformat_minor": 0,
  "metadata": {
    "colab": {
      "provenance": [],
      "authorship_tag": "ABX9TyOi6tAS4agdmLxOIR5UaqE8",
      "include_colab_link": true
    },
    "kernelspec": {
      "name": "python3",
      "display_name": "Python 3"
    },
    "language_info": {
      "name": "python"
    }
  },
  "cells": [
    {
      "cell_type": "markdown",
      "metadata": {
        "id": "view-in-github",
        "colab_type": "text"
      },
      "source": [
        "<a href=\"https://colab.research.google.com/github/steinhaug/stable-diffusion/blob/main/tools/Tooncrafter.ipynb\" target=\"_parent\"><img src=\"https://colab.research.google.com/assets/colab-badge.svg\" alt=\"Open In Colab\"/></a>"
      ]
    },
    {
      "cell_type": "markdown",
      "source": [
        "# Tooncrafter\n",
        "\n",
        "https://github.com/ToonCrafter/ToonCrafter"
      ],
      "metadata": {
        "id": "cn4Rje1nlTk7"
      }
    },
    {
      "cell_type": "code",
      "source": [
        "decord==0.6.0\n",
        "einops==0.3.0\n",
        "imageio==2.9.0\n",
        "numpy==1.24.2\n",
        "omegaconf==2.1.1\n",
        "opencv_python\n",
        "pandas==2.0.0\n",
        "Pillow==9.5.0\n",
        "pytorch_lightning==1.9.3\n",
        "PyYAML==6.0\n",
        "setuptools==65.6.3\n",
        "torch==2.0.0\n",
        "torchvision\n",
        "tqdm==4.65.0\n",
        "transformers==4.25.1\n",
        "moviepy\n",
        "av\n",
        "xformers\n",
        "gradio\n",
        "timm\n",
        "scikit-learn\n",
        "open_clip_torch==2.22.0\n",
        "kornia"
      ],
      "metadata": {
        "id": "kW9qmQJWlGdd"
      },
      "execution_count": null,
      "outputs": []
    },
    {
      "cell_type": "code",
      "execution_count": null,
      "metadata": {
        "id": "yufQxMWqkuV_"
      },
      "outputs": [],
      "source": [
        "conda create -n tooncrafter python=3.8.5\n",
        "conda activate tooncrafter\n",
        "pip install -r requirements.txt"
      ]
    },
    {
      "cell_type": "code",
      "source": [
        "download model: https://huggingface.co/Doubiiu/ToonCrafter/blob/main/model.ckpt\n",
        "place: checkpoints/tooncrafter_512_interp_v1/model.ckpt"
      ],
      "metadata": {
        "id": "Opzd9XiAk0CW"
      },
      "execution_count": null,
      "outputs": []
    },
    {
      "cell_type": "code",
      "source": [
        " python gradio_app.py"
      ],
      "metadata": {
        "id": "oh0etzUkk19A"
      },
      "execution_count": null,
      "outputs": []
    }
  ]
}