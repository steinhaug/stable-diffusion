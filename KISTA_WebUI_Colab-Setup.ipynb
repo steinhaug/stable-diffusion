{
  "nbformat": 4,
  "nbformat_minor": 0,
  "metadata": {
    "colab": {
      "provenance": [],
      "authorship_tag": "ABX9TyMqI+puxps6/P9Mn/1wo8IY",
      "include_colab_link": true
    },
    "kernelspec": {
      "name": "python3",
      "display_name": "Python 3"
    },
    "language_info": {
      "name": "python"
    }
  },
  "cells": [
    {
      "cell_type": "markdown",
      "metadata": {
        "id": "view-in-github",
        "colab_type": "text"
      },
      "source": [
        "<a href=\"https://colab.research.google.com/github/steinhaug/stable-diffusion/blob/main/KISTA_WebUI_Colab-Setup.ipynb\" target=\"_parent\"><img src=\"https://colab.research.google.com/assets/colab-badge.svg\" alt=\"Open In Colab\"/></a>"
      ]
    },
    {
      "cell_type": "markdown",
      "source": [
        "# Setup config and download checkpoints\n",
        "\n",
        "Run the different cells below, under checkpoints run the ones you want.\n"
      ],
      "metadata": {
        "id": "X_8dIaSwsDAy"
      }
    },
    {
      "cell_type": "markdown",
      "source": [
        "## Connect to gDrive and stup folders"
      ],
      "metadata": {
        "id": "FHoCVxaas0E0"
      }
    },
    {
      "cell_type": "code",
      "source": [
        "#@markdown **RUN** 1.0 Connect to Google Drive and setup folders\n",
        "import os\n",
        "from pathlib import Path\n",
        "from IPython.display import display, Markdown, clear_output\n",
        "inip = Path(\"/content/drive/MyDrive\")\n",
        "if not inip.is_dir():\n",
        "    from google.colab import drive\n",
        "    drive.mount('/content/drive')\n",
        "else:\n",
        "    print(\"Drive mounted at /content/drive\");\n",
        "\n",
        "os.makedirs('/content/drive/MyDrive/docs', exist_ok=True)\n",
        "os.makedirs('/content/drive/MyDrive/models', exist_ok=True)\n",
        "os.makedirs('/content/drive/MyDrive/models/checkpoints', exist_ok=True)\n",
        "os.makedirs('/content/drive/MyDrive/models/controlnet', exist_ok=True)\n",
        "os.makedirs('/content/drive/MyDrive/models/lora', exist_ok=True)\n",
        "os.makedirs('/content/drive/MyDrive/models/vae', exist_ok=True)\n",
        "os.makedirs('/content/drive/MyDrive/models/textualinversion', exist_ok=True)\n",
        "os.makedirs('/content/drive/MyDrive/outputs', exist_ok=True)\n",
        "\n",
        "path_models = \"/content/drive/MyDrive/models/checkpoints\"\n",
        "path_loras  = \"/content/drive/MyDrive/models/lora\"\n",
        "path_vae  = \"/content/drive/MyDrive/models/vae\"\n",
        "path_textinv  = \"/content/drive/MyDrive/models/textualinversion\"\n",
        "path_controlnet = \"/content/drive/MyDrive/models/controlnet\"\n"
      ],
      "metadata": {
        "cellView": "form",
        "id": "joI68zThkHV-",
        "outputId": "9db41663-fae6-4b2a-fe52-adc8ea20c881",
        "colab": {
          "base_uri": "https://localhost:8080/"
        }
      },
      "execution_count": 25,
      "outputs": [
        {
          "output_type": "stream",
          "name": "stdout",
          "text": [
            "Drive mounted at /content/drive\n"
          ]
        }
      ]
    },
    {
      "cell_type": "markdown",
      "source": [
        "## checkpoints"
      ],
      "metadata": {
        "id": "N66YwCr0sJH5"
      }
    },
    {
      "cell_type": "code",
      "source": [
        "#@markdown 1.1 Download 2GB model > CyberRealistic\n",
        "!wget --content-disposition https://civitai.com/api/download/models/372799?type=Model&format=SafeTensor&size=pruned&fp=fp16 -P {path_models}\n",
        "#!wget --content-disposition https://civitai.com/api/download/models/372799?type=Model&format=SafeTensor&size=pruned&fp=fp32 -P {path_models}\n",
        "#!wget --content-disposition https://civitai.com/api/download/models/410468 -P {path_models}"
      ],
      "metadata": {
        "cellView": "form",
        "id": "kMbgnXIMmvgW"
      },
      "execution_count": null,
      "outputs": []
    },
    {
      "cell_type": "code",
      "source": [
        "#@markdown 1.2 Download 2GB model > AbsoluteReality\n",
        "!wget --content-disposition https://civitai.com/api/download/models/132760 -P {path_models}"
      ],
      "metadata": {
        "cellView": "form",
        "id": "V9XFJzzZmldy"
      },
      "execution_count": null,
      "outputs": []
    },
    {
      "cell_type": "code",
      "source": [
        "#@markdown 1.3 Download 2GB model > epiCRealism, natural sin RC1 VAE\n",
        "!wget --content-disposition https://civitai.com/api/download/models/143906 -P {path_models}"
      ],
      "metadata": {
        "cellView": "form",
        "id": "K7LnCSg-mpC2"
      },
      "execution_count": null,
      "outputs": []
    },
    {
      "cell_type": "code",
      "source": [
        "#@markdown 1.4 Download 2GB model > Realistic Vision V6.0 B1\n",
        "!wget --content-disposition https://civitai.com/api/download/models/245598 -P {path_models}"
      ],
      "metadata": {
        "cellView": "form",
        "id": "KXf5Q0_cmrF8"
      },
      "execution_count": null,
      "outputs": []
    },
    {
      "cell_type": "code",
      "source": [
        "#@markdown 1.5 Download 2GB model > NextPhoto + inpainting model (uncomment to download)\n",
        "!wget --content-disposition https://civitai.com/api/download/models/131530 -P {path_models}\n",
        "#!wget --content-disposition https://civitai.com/api/download/models/132935 -P {path_models}"
      ],
      "metadata": {
        "cellView": "form",
        "id": "kcvri6m_ms7z"
      },
      "execution_count": null,
      "outputs": []
    },
    {
      "cell_type": "code",
      "execution_count": null,
      "metadata": {
        "cellView": "form",
        "id": "TP1Tek3fbdaG"
      },
      "outputs": [],
      "source": [
        "#@markdown 1.6 Download 2GB model > rev animated\n",
        "# rev animated: revAnimated_v2Rebirth.safetensors\n",
        "!wget --content-disposition https://civitai.com/api/download/models/425083?type=Model&format=SafeTensor&size=full&fp=fp16 -P {path_models}"
      ]
    },
    {
      "cell_type": "code",
      "source": [
        "#@markdown 1.7 Download 2GB model > epiCPhotoGasm\n",
        "# epiCPhotoGasm: epicphotogasm_ultimateFidelity.safetensors\n",
        "!wget --content-disposition https://civitai.com/api/download/models/429454 -P {path_models}"
      ],
      "metadata": {
        "cellView": "form",
        "id": "XjiG2Ex2gaT2"
      },
      "execution_count": null,
      "outputs": []
    },
    {
      "cell_type": "code",
      "source": [
        "#@markdown 1.8 Download 2GB model > PicX_real\n",
        "\n",
        "# PicX_real: picxReal_10.safetensors\n",
        "!wget --content-disposition https://civitai.com/api/download/models/272376 -P {path_models}\n",
        "#@markdown <details><summary>picxReal_10.safetensors</summary>This model is less boring-rough and more diverse than the \"ultra-realistic\" models, and less animesh-asian and more realistic than the \"soft-realistic\" models. This makes it more balanced, flexible and gives the characters a softer appearance without losing the realistic part.<br>The flexibility of the model means that a basic understanding of how to write a prompt is required - describe desired main style, main scene, details, effects and artistic techniques, and in response it will show something pleasant. Everything else is traditionally on the preview.<br>It is forbidden to use it for any commercial purposes without my personal approval.</details>\n"
      ],
      "metadata": {
        "cellView": "form",
        "id": "lM2cCeqch5Of"
      },
      "execution_count": null,
      "outputs": []
    },
    {
      "cell_type": "code",
      "source": [
        "#@markdown 1.9 Download 2GB model > Real Dream\n",
        "# Real Dream: realDream_14SD15.safetensors\n",
        "!wget --content-disposition https://civitai.com/api/download/models/433727 -P {path_models}\n",
        "#@markdown <details><summary>realDream_14SD15.safetensors</summary>**Recomendations:**<br>Default SD 1.5: Use the \"DPM++ SDE Karras\" or \"DPM++ 2M Karras\" sampler with only 20 steps for better quality. \"DPM++ SDE Karras\" has better quality but is slow.<br>Default SD 1.5: Use the CFG scale between 5 and 9. CFG scale at 5 is recommended. Stable Diffusion default value is 7.<br>SD 1.5 LCM: Use the \"Euler a\" or \"LCM\" sampler with only 8 steps for better quality.<br>SD 1.5 LCM AND SDXL Lightning: Use the CFG scale between 1 and 2. CFG scale at 2 is recommended.<br>LCM with DPM++ SDE Karras: Sampling steps 8, Hires. Fix enabled, upscaler latent, Hires steps 2, hires. denoise 0.45, upscale by 1.05, cfg scale 1.5.<br>LCM with DPM++ 2M Karras: Sampling steps 8, Hires. Fix enabled, upscaler latent, Hires steps 2, hires. denoise 0.55, upscale by 1.05, cfg scale 1.5.<br><br>SD 1.5: Resolution between 512 and 768 using \"Hires. Fix\" or other form of upscaling. The 600x600 resolution is the one that has worked best.<br>If you use \"Hires. Fix\", use \"Upscale by\" with the value 1.5 with denoising at 0.6.<br><br>**Tips for a better prompt:**<br>Use (word) for larger weight and [word] for smaller weight and word:0.5 to set the weight manually.</details>\n"
      ],
      "metadata": {
        "cellView": "form",
        "id": "gfDGD824jMGC"
      },
      "execution_count": null,
      "outputs": []
    },
    {
      "cell_type": "markdown",
      "source": [
        "## Extra files"
      ],
      "metadata": {
        "id": "2bZAIsYHsMU-"
      }
    },
    {
      "cell_type": "code",
      "source": [
        "#@markdown 2.0 Download VAEs\n",
        "!wget --content-disposition https://huggingface.co/WarriorMama777/OrangeMixs/blob/main/VAEs/orangemix.vae.pt -P {path_vae}\n",
        "!wget --content-disposition https://huggingface.co/hakurei/waifu-diffusion-v1-4/tree/main/vae -P {path_vae}\n",
        "!wget --content-disposition https://huggingface.co/NoCrypt/blessed_vae/blob/main/blessed2.vae.pt -P {path_vae}\n",
        "clear_output();print(f'Done!')"
      ],
      "metadata": {
        "cellView": "form",
        "id": "GoasIMTZd61S",
        "outputId": "878f7d89-9e14-413f-ab46-7da7742e5c13",
        "colab": {
          "base_uri": "https://localhost:8080/"
        }
      },
      "execution_count": 4,
      "outputs": [
        {
          "output_type": "stream",
          "name": "stdout",
          "text": [
            "Done!\n"
          ]
        }
      ]
    },
    {
      "cell_type": "code",
      "source": [
        "#@markdown 3.0 Download textual inversion negative prompts helpers\n",
        "!wget --content-disposition https://huggingface.co/embed/EasyNegative/resolve/main/EasyNegative.safetensors?download=true -P {path_textinv}\n",
        "!wget --content-disposition https://huggingface.co/embed/bad_prompt/resolve/main/bad_prompt_version2.pt?download=true -P {path_textinv}\n",
        "!wget --content-disposition https://huggingface.co/p1atdev/badquality/resolve/main/badquality.pt?download=true -P {path_textinv}\n",
        "!wget --content-disposition https://huggingface.co/nick-x-hacker/bad-artist/resolve/main/bad-artist-anime.pt?download=true -P {path_textinv}\n",
        "!wget --content-disposition https://huggingface.co/nick-x-hacker/bad-artist/resolve/main/bad-artist.pt?download=true -P {path_textinv}\n",
        "!wget --content-disposition https://civitai.com/api/download/models/5637 -P {path_textinv}\n",
        "clear_output();print(f'Done!')"
      ],
      "metadata": {
        "cellView": "form",
        "id": "EfsQ8ZsFeLOu",
        "outputId": "186e64ab-19e2-4fe3-aa96-3093c9bba1c5",
        "colab": {
          "base_uri": "https://localhost:8080/"
        }
      },
      "execution_count": 3,
      "outputs": [
        {
          "output_type": "stream",
          "name": "stdout",
          "text": [
            "Done!\n"
          ]
        }
      ]
    },
    {
      "cell_type": "code",
      "source": [
        "#@markdown 4.0 download loras negative prompts helpers\n",
        "!wget --content-disposition https://civitai.com/models/11772/verybadimagenegative -P {path_loras}\n",
        "!wget --content-disposition https://huggingface.co/cyberdelia/CyberRealistic_Negative/resolve/main/CyberRealistic_Negative.pt?download=true -P {path_loras}\n",
        "!wget --content-disposition https://huggingface.co/cyberdelia/CyberRealistic_Negative/resolve/main/CyberRealistic_Negative_v2.pt?download=true -P {path_loras}\n",
        "!wget --content-disposition https://huggingface.co/cyberdelia/CyberRealistic_Negative/resolve/main/CyberRealistic_Negative_v3.pt?download=true -P {path_loras}\n",
        "!wget --content-disposition https://civitai.com/api/download/models/77169 -P {path_loras}\n",
        "!wget --content-disposition https://civitai.com/api/download/models/77173 -P {path_loras}\n",
        "!wget --content-disposition https://civitai.com/api/download/models/228003 -P {path_loras}\n",
        "clear_output();print(f'Done!')"
      ],
      "metadata": {
        "cellView": "form",
        "id": "PKRniUz-k3uC",
        "outputId": "150bea93-2a47-4eba-8254-be8261da6d7f",
        "colab": {
          "base_uri": "https://localhost:8080/"
        }
      },
      "execution_count": 2,
      "outputs": [
        {
          "output_type": "stream",
          "name": "stdout",
          "text": [
            "Done!\n"
          ]
        }
      ]
    },
    {
      "cell_type": "code",
      "source": [
        "#@markdown 5.0 download output images\n",
        "import zipfile\n",
        "import os\n",
        "\n",
        "def decompress_and_remove_zip(zip_file_path):\n",
        "    # Check if the zip file exists\n",
        "    if not os.path.exists(zip_file_path):\n",
        "        print(f\"Zip file does not exist: {zip_file_path}\")\n",
        "        return\n",
        "\n",
        "    # Extract the contents of the zip file\n",
        "    with zipfile.ZipFile(zip_file_path, 'r') as zip_ref:\n",
        "        # Determine the extraction path based on the zip file's location\n",
        "        extract_path = os.path.dirname(zip_file_path)\n",
        "        zip_ref.extractall(extract_path)\n",
        "        print(f\"Extracted zip file to {extract_path}\")\n",
        "\n",
        "    # Remove the zip file after extraction\n",
        "    os.remove(zip_file_path)\n",
        "    print(f\"Removed zip file: {zip_file_path}\")\n",
        "\n",
        "os.makedirs('/content/drive/MyDrive/outputs/2025-05-01', exist_ok=True)\n",
        "!wget --content-disposition https://drive.usercontent.google.com/u/0/uc?id=1QwPIbqllbrq5uIh5cticW-RumRVCNrF3&export=download -P /content/drive/MyDrive/outputs/2025-05-01\n",
        "decompress_and_remove_zip('/content/drive/MyDrive/outputs/2025-05-01/20240501-realistic.zip')\n",
        "\n",
        "clear_output();print(f'Done!')"
      ],
      "metadata": {
        "cellView": "form",
        "id": "05IhKoOMmBqj"
      },
      "execution_count": null,
      "outputs": []
    },
    {
      "cell_type": "code",
      "source": [
        "#@markdown 6.0 Download controlnet\n",
        "!apt -y install -qq aria2\n",
        "!aria2c --console-log-level=error -c -x 16 -s 16 -k 1M https://huggingface.co/ckpt/ControlNet-v1-1/resolve/main/control_v11e_sd15_ip2p_fp16.safetensors -d {path_controlnet} -o control_v11e_sd15_ip2p_fp16.safetensors\n",
        "!aria2c --console-log-level=error -c -x 16 -s 16 -k 1M https://huggingface.co/ckpt/ControlNet-v1-1/resolve/main/control_v11e_sd15_shuffle_fp16.safetensors -d {path_controlnet} -o control_v11e_sd15_shuffle_fp16.safetensors\n",
        "!aria2c --console-log-level=error -c -x 16 -s 16 -k 1M https://huggingface.co/ckpt/ControlNet-v1-1/resolve/main/control_v11p_sd15_canny_fp16.safetensors -d {path_controlnet} -o control_v11p_sd15_canny_fp16.safetensors\n",
        "!aria2c --console-log-level=error -c -x 16 -s 16 -k 1M https://huggingface.co/ckpt/ControlNet-v1-1/resolve/main/control_v11f1p_sd15_depth_fp16.safetensors -d {path_controlnet} -o control_v11f1p_sd15_depth_fp16.safetensors\n",
        "!aria2c --console-log-level=error -c -x 16 -s 16 -k 1M https://huggingface.co/ckpt/ControlNet-v1-1/resolve/main/control_v11p_sd15_inpaint_fp16.safetensors -d {path_controlnet} -o control_v11p_sd15_inpaint_fp16.safetensors\n",
        "!aria2c --console-log-level=error -c -x 16 -s 16 -k 1M https://huggingface.co/ckpt/ControlNet-v1-1/resolve/main/control_v11p_sd15_lineart_fp16.safetensors -d {path_controlnet} -o control_v11p_sd15_lineart_fp16.safetensors\n",
        "!aria2c --console-log-level=error -c -x 16 -s 16 -k 1M https://huggingface.co/ckpt/ControlNet-v1-1/resolve/main/control_v11p_sd15_mlsd_fp16.safetensors -d {path_controlnet} -o control_v11p_sd15_mlsd_fp16.safetensors\n",
        "!aria2c --console-log-level=error -c -x 16 -s 16 -k 1M https://huggingface.co/ckpt/ControlNet-v1-1/resolve/main/control_v11p_sd15_normalbae_fp16.safetensors -d {path_controlnet} -o control_v11p_sd15_normalbae_fp16.safetensors\n",
        "!aria2c --console-log-level=error -c -x 16 -s 16 -k 1M https://huggingface.co/ckpt/ControlNet-v1-1/resolve/main/control_v11p_sd15_openpose_fp16.safetensors -d {path_controlnet} -o control_v11p_sd15_openpose_fp16.safetensors\n",
        "!aria2c --console-log-level=error -c -x 16 -s 16 -k 1M https://huggingface.co/ckpt/ControlNet-v1-1/resolve/main/control_v11p_sd15_scribble_fp16.safetensors -d {path_controlnet} -o control_v11p_sd15_scribble_fp16.safetensors\n",
        "!aria2c --console-log-level=error -c -x 16 -s 16 -k 1M https://huggingface.co/ckpt/ControlNet-v1-1/resolve/main/control_v11p_sd15_seg_fp16.safetensors -d {path_controlnet} -o control_v11p_sd15_seg_fp16.safetensors\n",
        "!aria2c --console-log-level=error -c -x 16 -s 16 -k 1M https://huggingface.co/ckpt/ControlNet-v1-1/resolve/main/control_v11p_sd15_softedge_fp16.safetensors -d {path_controlnet} -o control_v11p_sd15_softedge_fp16.safetensors\n",
        "!aria2c --console-log-level=error -c -x 16 -s 16 -k 1M https://huggingface.co/ckpt/ControlNet-v1-1/resolve/main/control_v11p_sd15s2_lineart_anime_fp16.safetensors -d {path_controlnet} -o control_v11p_sd15s2_lineart_anime_fp16.safetensors\n",
        "!aria2c --console-log-level=error -c -x 16 -s 16 -k 1M https://huggingface.co/ckpt/ControlNet-v1-1/resolve/main/control_v11f1e_sd15_tile_fp16.safetensors -d {path_controlnet} -o control_v11f1e_sd15_tile_fp16.safetensors\n",
        "!aria2c --console-log-level=error -c -x 16 -s 16 -k 1M https://huggingface.co/ckpt/ControlNet-v1-1/raw/main/control_v11e_sd15_ip2p_fp16.yaml -d {path_controlnet} -o control_v11e_sd15_ip2p_fp16.yaml\n",
        "!aria2c --console-log-level=error -c -x 16 -s 16 -k 1M https://huggingface.co/ckpt/ControlNet-v1-1/raw/main/control_v11e_sd15_shuffle_fp16.yaml -d {path_controlnet} -o control_v11e_sd15_shuffle_fp16.yaml\n",
        "!aria2c --console-log-level=error -c -x 16 -s 16 -k 1M https://huggingface.co/ckpt/ControlNet-v1-1/raw/main/control_v11p_sd15_canny_fp16.yaml -d {path_controlnet} -o control_v11p_sd15_canny_fp16.yaml\n",
        "!aria2c --console-log-level=error -c -x 16 -s 16 -k 1M https://huggingface.co/ckpt/ControlNet-v1-1/raw/main/control_v11f1p_sd15_depth_fp16.yaml -d {path_controlnet} -o control_v11f1p_sd15_depth_fp16.yaml\n",
        "!aria2c --console-log-level=error -c -x 16 -s 16 -k 1M https://huggingface.co/ckpt/ControlNet-v1-1/raw/main/control_v11p_sd15_inpaint_fp16.yaml -d {path_controlnet} -o control_v11p_sd15_inpaint_fp16.yaml\n",
        "!aria2c --console-log-level=error -c -x 16 -s 16 -k 1M https://huggingface.co/ckpt/ControlNet-v1-1/raw/main/control_v11p_sd15_lineart_fp16.yaml -d {path_controlnet} -o control_v11p_sd15_lineart_fp16.yaml\n",
        "!aria2c --console-log-level=error -c -x 16 -s 16 -k 1M https://huggingface.co/ckpt/ControlNet-v1-1/raw/main/control_v11p_sd15_mlsd_fp16.yaml -d {path_controlnet} -o control_v11p_sd15_mlsd_fp16.yaml\n",
        "!aria2c --console-log-level=error -c -x 16 -s 16 -k 1M https://huggingface.co/ckpt/ControlNet-v1-1/raw/main/control_v11p_sd15_normalbae_fp16.yaml -d {path_controlnet} -o control_v11p_sd15_normalbae_fp16.yaml\n",
        "!aria2c --console-log-level=error -c -x 16 -s 16 -k 1M https://huggingface.co/ckpt/ControlNet-v1-1/raw/main/control_v11p_sd15_openpose_fp16.yaml -d {path_controlnet} -o control_v11p_sd15_openpose_fp16.yaml\n",
        "!aria2c --console-log-level=error -c -x 16 -s 16 -k 1M https://huggingface.co/ckpt/ControlNet-v1-1/raw/main/control_v11p_sd15_scribble_fp16.yaml -d {path_controlnet} -o control_v11p_sd15_scribble_fp16.yaml\n",
        "!aria2c --console-log-level=error -c -x 16 -s 16 -k 1M https://huggingface.co/ckpt/ControlNet-v1-1/raw/main/control_v11p_sd15_seg_fp16.yaml -d {path_controlnet} -o control_v11p_sd15_seg_fp16.yaml\n",
        "!aria2c --console-log-level=error -c -x 16 -s 16 -k 1M https://huggingface.co/ckpt/ControlNet-v1-1/raw/main/control_v11p_sd15_softedge_fp16.yaml -d {path_controlnet} -o control_v11p_sd15_softedge_fp16.yaml\n",
        "!aria2c --console-log-level=error -c -x 16 -s 16 -k 1M https://huggingface.co/ckpt/ControlNet-v1-1/raw/main/control_v11p_sd15s2_lineart_anime_fp16.yaml -d {path_controlnet} -o control_v11p_sd15s2_lineart_anime_fp16.yaml\n",
        "!aria2c --console-log-level=error -c -x 16 -s 16 -k 1M https://huggingface.co/ckpt/ControlNet-v1-1/raw/main/control_v11f1e_sd15_tile_fp16.yaml -d {path_controlnet} -o control_v11f1e_sd15_tile_fp16.yaml\n",
        "!aria2c --console-log-level=error -c -x 16 -s 16 -k 1M https://huggingface.co/ckpt/ControlNet-v1-1/resolve/main/t2iadapter_style_sd14v1.pth -d {path_controlnet} -o t2iadapter_style_sd14v1.pth\n",
        "!aria2c --console-log-level=error -c -x 16 -s 16 -k 1M https://huggingface.co/ckpt/ControlNet-v1-1/resolve/main/t2iadapter_sketch_sd14v1.pth -d {path_controlnet} -o t2iadapter_sketch_sd14v1.pth\n",
        "!aria2c --console-log-level=error -c -x 16 -s 16 -k 1M https://huggingface.co/ckpt/ControlNet-v1-1/resolve/main/t2iadapter_seg_sd14v1.pth -d {path_controlnet} -o t2iadapter_seg_sd14v1.pth\n",
        "!aria2c --console-log-level=error -c -x 16 -s 16 -k 1M https://huggingface.co/ckpt/ControlNet-v1-1/resolve/main/t2iadapter_openpose_sd14v1.pth -d {path_controlnet} -o t2iadapter_openpose_sd14v1.pth\n",
        "!aria2c --console-log-level=error -c -x 16 -s 16 -k 1M https://huggingface.co/ckpt/ControlNet-v1-1/resolve/main/t2iadapter_keypose_sd14v1.pth -d {path_controlnet} -o t2iadapter_keypose_sd14v1.pth\n",
        "!aria2c --console-log-level=error -c -x 16 -s 16 -k 1M https://huggingface.co/ckpt/ControlNet-v1-1/resolve/main/t2iadapter_depth_sd14v1.pth -d {path_controlnet} -o t2iadapter_depth_sd14v1.pth\n",
        "!aria2c --console-log-level=error -c -x 16 -s 16 -k 1M https://huggingface.co/ckpt/ControlNet-v1-1/resolve/main/t2iadapter_color_sd14v1.pth -d {path_controlnet} -o t2iadapter_color_sd14v1.pth\n",
        "!aria2c --console-log-level=error -c -x 16 -s 16 -k 1M https://huggingface.co/ckpt/ControlNet-v1-1/resolve/main/t2iadapter_canny_sd14v1.pth -d {path_controlnet} -o t2iadapter_canny_sd14v1.pth\n",
        "!aria2c --console-log-level=error -c -x 16 -s 16 -k 1M https://huggingface.co/ckpt/ControlNet-v1-1/resolve/main/t2iadapter_canny_sd15v2.pth -d {path_controlnet} -o t2iadapter_canny_sd15v2.pth\n",
        "!aria2c --console-log-level=error -c -x 16 -s 16 -k 1M https://huggingface.co/ckpt/ControlNet-v1-1/resolve/main/t2iadapter_depth_sd15v2.pth -d {path_controlnet} -o t2iadapter_depth_sd15v2.pth\n",
        "!aria2c --console-log-level=error -c -x 16 -s 16 -k 1M https://huggingface.co/ckpt/ControlNet-v1-1/resolve/main/t2iadapter_sketch_sd15v2.pth -d {path_controlnet} -o t2iadapter_sketch_sd15v2.pth\n",
        "!aria2c --console-log-level=error -c -x 16 -s 16 -k 1M https://huggingface.co/ckpt/ControlNet-v1-1/resolve/main/t2iadapter_zoedepth_sd15v1.pth -d {path_controlnet} -o t2iadapter_zoedepth_sd15v1.pth\n",
        "clear_output();print(f'Done!')"
      ],
      "metadata": {
        "cellView": "form",
        "id": "lFesW_hat5v7"
      },
      "execution_count": null,
      "outputs": []
    },
    {
      "cell_type": "markdown",
      "source": [
        "## Final setup"
      ],
      "metadata": {
        "id": "LHu_aGUZsSx1"
      }
    },
    {
      "cell_type": "code",
      "source": [
        "#@markdown 7.0 Create the config file\n",
        "KISTA_DRIVE_PATHS = \"/content/drive/MyDrive/docs\"\n",
        "INI_FILE_LOC = f\"{KISTA_DRIVE_PATHS}/config_KISTA_WebUI.ini\"\n",
        "\n",
        "def find_checkpoint_file(directory):\n",
        "    if os.path.isdir(directory):\n",
        "        for filename in os.listdir(directory):\n",
        "            if filename.endswith(\".ckpt\") or filename.endswith(\".safetensors\"):\n",
        "                return os.path.join(directory, filename)\n",
        "    return \"\"\n",
        "\n",
        "from IPython.display import display, Markdown, clear_output\n",
        "from configparser import ConfigParser\n",
        "\n",
        "config_object = ConfigParser()\n",
        "config_object[\"CONF\"] = {\n",
        "    \"ext_bulk_controllnet\": True,\n",
        "    \"ext_bulk_one\": True,\n",
        "    \"ext_bulk_two\": False,\n",
        "    \"ext_bulk_three\": False,\n",
        "    \"ext_inf_img_browsing\": True,\n",
        "    \"task__cache_checkpoints\": True,\n",
        "    \"task__cache_controlnet\": True,\n",
        "    \"path_cpkt\": find_checkpoint_file('/content/drive/MyDrive/models/checkpoints'),\n",
        "    \"dir__models\": '/content/drive/MyDrive/models/checkpoints',\n",
        "    \"dir__controlnet\": '/content/drive/MyDrive/models/controlnet',\n",
        "    \"dir__outdir_samples\": '/content/drive/MyDrive/outputs',\n",
        "    \"dir__outdir_grids\": '/content/drive/MyDrive/outputs',\n",
        "    \"dir__extra_loras_search\": '',\n",
        "    \"hf_read_token\": '',\n",
        "    \"sources__copy_textual_inversion\": '/content/drive/MyDrive/models/textualinversion',\n",
        "    \"sources__copy_lauras\": '/content/drive/MyDrive/models/lora',\n",
        "}\n",
        "with open(INI_FILE_LOC, 'w') as conf:\n",
        "    config_object.write(conf)\n",
        "\n",
        "clear_output();print('Config file created.')"
      ],
      "metadata": {
        "cellView": "form",
        "id": "N4s5cYiIn5Ui"
      },
      "execution_count": null,
      "outputs": []
    },
    {
      "cell_type": "markdown",
      "source": [
        "## End - all done"
      ],
      "metadata": {
        "id": "Uc2a1WMltRH0"
      }
    },
    {
      "cell_type": "code",
      "source": [
        "#@markdown <small>**You can now run the colab for WebUI**</small><br>\n",
        "#@markdown <a href=\"https://colab.research.google.com/github/steinhaug/stable-diffusion/blob/main/KISTA_WebUI_Colab.ipynb?v1.5\" target=\"_blank\"><img alt=\"Open Notebook in Colab\" src=\"https://img.shields.io/badge/Kista%20--%20WebUI-PRO%20Notebook-blue?logo=googlecolab\"></a>\n",
        "#@markdown <a href=\"https://colab.research.google.com/github/steinhaug/stable-diffusion/blob/main/KISTA_Automatic1111_Colab.ipynb?v1.0\" target=\"_blank\"><img alt=\"Open Notebook in Colab\" src=\"https://img.shields.io/badge/Kista%20--%20Automatic1111%20WebUI-PRO%20Notebook-blue?logo=googlecolab\"></a>\n",
        "\n",
        "#@markdown [![Buy me a beer](https://raw.githubusercontent.com/steinhaug/stable-diffusion/main/assets/buy-me-a-beer.png ) ](https://steinhaug.com/donate/)\n"
      ],
      "metadata": {
        "cellView": "form",
        "id": "BuwtJLUzsf0P"
      },
      "execution_count": null,
      "outputs": []
    }
  ]
}
